{
 "cells": [
  {
   "cell_type": "markdown",
   "metadata": {},
   "source": [
    "# Alumno: Gerardo de Miguel González"
   ]
  },
  {
   "cell_type": "markdown",
   "metadata": {},
   "source": [
    "1.- Crea una función que genere dos muestras que se distribuyen según dos gaussianas distintas. La función recibirá como valores de entrada: el número N de puntos a generar para cada categoría, y mu1, sigma1, mu2, sigma2 que son los correspondientes parámetros de las dos gaussianas. Como output devolverá un valor con longitud 2N que contenga la muestra x generada, y otro vector de longitud 2N que contenga 0 o 1 en función de la categoría asociada a ese elemento."
   ]
  },
  {
   "cell_type": "code",
   "execution_count": 1,
   "metadata": {},
   "outputs": [],
   "source": [
    "muestras <- function(n = 10,\n",
    "                     mu_1 = 0,\n",
    "                     sigma_1 = 1, \n",
    "                     mu_2 = 0,\n",
    "                     sigma_2 = 1) {\n",
    "    x_1 <- rnorm(n = n, mean = mu_1, sd = sigma_1)\n",
    "    x_2 <- rnorm(n = n, mean = mu_2, sd = sigma_2)\n",
    "    y_1 <- rep(0,length(x_1))\n",
    "    #::GMG::http://www.cookbook-r.com/Basics/Making_a_vector_filled_with_values/\n",
    "    y_2 <- rep(1, length(x_2))\n",
    "    R <- t(cbind(rbind(x_1,y_1),rbind(x_2,y_2)))\n",
    "    # https://stackoverflow.com/questions/32658793/how-to-remove-column-names-from-a-matrix-in-r\n",
    "    colnames(R) <- NULL\n",
    "    # http://www.cookbook-r.com/Manipulating_data/Randomizing_order/\n",
    "    # http://r.789695.n4.nabble.com/Permuting-rows-of-a-matrix-td3298688.html\n",
    "    return(R[sample(nrow(R)),])\n",
    "}"
   ]
  },
  {
   "cell_type": "code",
   "execution_count": 2,
   "metadata": {},
   "outputs": [
    {
     "data": {
      "text/html": [
       "<ol class=list-inline>\n",
       "\t<li>40</li>\n",
       "\t<li>2</li>\n",
       "</ol>\n"
      ],
      "text/latex": [
       "\\begin{enumerate*}\n",
       "\\item 40\n",
       "\\item 2\n",
       "\\end{enumerate*}\n"
      ],
      "text/markdown": [
       "1. 40\n",
       "2. 2\n",
       "\n",
       "\n"
      ],
      "text/plain": [
       "[1] 40  2"
      ]
     },
     "metadata": {},
     "output_type": "display_data"
    },
    {
     "name": "stdout",
     "output_type": "stream",
     "text": [
      " num [1:40, 1:2] 0.9438 -1.4708 -0.0449 -0.6212 1.1 ...\n",
      " - attr(*, \"dimnames\")=List of 2\n",
      "  ..$ : NULL\n",
      "  ..$ : NULL\n",
      "             [,1] [,2]\n",
      " [1,]  0.94383621    0\n",
      " [2,] -1.47075238    1\n",
      " [3,] -0.04493361    0\n",
      " [4,] -0.62124058    0\n",
      " [5,]  1.10002537    1\n",
      " [6,]  0.73832471    0\n",
      " [7,]  0.61982575    1\n",
      " [8,]  0.32950777    0\n",
      " [9,] -1.37705956    1\n",
      "[10,]  0.38767161    1\n",
      "[11,] -0.10278773    1\n",
      "[12,]  0.18364332    0\n",
      "[13,]  0.76317575    1\n",
      "[14,] -1.98935170    1\n",
      "[15,]  0.91897737    1\n",
      "[16,]  0.59390132    0\n",
      "[17,]  1.51178117    0\n",
      "[18,] -0.30538839    0\n",
      "[19,] -0.41499456    1\n",
      "[20,] -0.39428995    1\n",
      "[21,] -2.21469989    0\n",
      "[22,]  0.48742905    0\n",
      "[23,]  1.35867955    1\n",
      "[24,] -0.01619026    0\n",
      "[25,] -0.15579551    1\n",
      "[26,]  1.59528080    0\n",
      "[27,] -0.47815006    1\n",
      "[28,]  0.82122120    0\n",
      "[29,]  0.38984324    0\n",
      "[30,] -0.05612874    1\n",
      "[31,]  0.07456498    1\n",
      "[32,] -0.05931340    1\n",
      "[33,] -0.83562861    0\n",
      "[34,]  1.12493092    0\n",
      "[35,] -0.62645381    0\n",
      "[36,] -0.82046838    0\n",
      "[37,]  0.41794156    1\n",
      "[38,]  0.78213630    1\n",
      "[39,]  0.57578135    0\n",
      "[40,] -0.05380504    1\n"
     ]
    }
   ],
   "source": [
    "# https://stats.stackexchange.com/questions/86285/random-number-set-seedn-in-r\n",
    "set.seed(1)\n",
    "Z <- muestras(n = 20)\n",
    "dim(Z)\n",
    "str(Z)\n",
    "print(Z)"
   ]
  },
  {
   "cell_type": "markdown",
   "metadata": {},
   "source": [
    "2.- Crea una función que calcule el valor de la sigmoide para un valor de entrada Z. "
   ]
  },
  {
   "cell_type": "markdown",
   "metadata": {},
   "source": [
    "::GMG::https://helloacm.com/quick-r-tutorial-how-to-plot-sigmoid-function-using-r/"
   ]
  },
  {
   "cell_type": "code",
   "execution_count": 3,
   "metadata": {},
   "outputs": [],
   "source": [
    "#::GMG::Función sigmoide\n",
    "sigmoid = function(z) {\n",
    "   1 / (1 + exp(-z))\n",
    "}"
   ]
  },
  {
   "cell_type": "code",
   "execution_count": 4,
   "metadata": {
    "scrolled": true
   },
   "outputs": [],
   "source": [
    "#::GMG::Dibujo la función que he creado (opcional)\n",
    "#z <- seq(-5, 5, 0.01)\n",
    "#plot(z, sigmoid(z), col='red')"
   ]
  },
  {
   "cell_type": "markdown",
   "metadata": {},
   "source": [
    "3.- Crea una función que calcule el valor de la función de Loss y que reciba como entrada “x” e “y” y los parámetros del modelo que vamos a asumir: z = a + b x (es decir, a y b). "
   ]
  },
  {
   "cell_type": "code",
   "execution_count": 5,
   "metadata": {},
   "outputs": [],
   "source": [
    "#::GMG::Función de coste de regresión logística con sigmoid\n",
    "#       siguiendo la notación de loa apuntes, slide 10, Chapter 4\n",
    "#       Ponemos los coeficientes en un vector de alphas\n",
    "#       alpha_0, alpha_1, ..., alpha_p \n",
    "#       alpha_0 + alpha_1 * x_1 + ... + alpha_p * x_p\n",
    "#       x es la matriz de features (1, x_i)\n",
    "loss <- function(x, y, alpha) {\n",
    "    s <- sigmoid(z = x %*% alpha)\n",
    "    return(- sum(y * log(s) + (1-y) * log(1-s)) / nrow(x))\n",
    "}"
   ]
  },
  {
   "cell_type": "markdown",
   "metadata": {},
   "source": [
    "4.- Crea una función que devuelva el gradiente de la función de Loss y que reciba como entrada “x” e “y” y los parámetros (a, b) del modelo que vamos a asumir."
   ]
  },
  {
   "cell_type": "code",
   "execution_count": 6,
   "metadata": {},
   "outputs": [],
   "source": [
    "#::GMG::Gradiente del coste según los apuntes (slide 11, Chapter 4)\n",
    "gradiente <- function(x, y, alpha) {\n",
    "    return((t(t(sigmoid(z = x %*% alpha) - y) %*% x)) / nrow(x))\n",
    "}"
   ]
  },
  {
   "cell_type": "markdown",
   "metadata": {},
   "source": [
    "5.- Generar un par de vectores “x”, “y” con N = 100, mu1 = 2, mu2 = 6, sigma1 = 1 y sigma2 = 1."
   ]
  },
  {
   "cell_type": "code",
   "execution_count": 7,
   "metadata": {},
   "outputs": [],
   "source": [
    "# https://stats.stackexchange.com/questions/86285/random-number-set-seedn-in-r\n",
    "set.seed(123)"
   ]
  },
  {
   "cell_type": "code",
   "execution_count": 8,
   "metadata": {},
   "outputs": [
    {
     "data": {
      "text/html": [
       "<ol class=list-inline>\n",
       "\t<li>200</li>\n",
       "\t<li>2</li>\n",
       "</ol>\n"
      ],
      "text/latex": [
       "\\begin{enumerate*}\n",
       "\\item 200\n",
       "\\item 2\n",
       "\\end{enumerate*}\n"
      ],
      "text/markdown": [
       "1. 200\n",
       "2. 2\n",
       "\n",
       "\n"
      ],
      "text/plain": [
       "[1] 200   2"
      ]
     },
     "metadata": {},
     "output_type": "display_data"
    },
    {
     "name": "stdout",
     "output_type": "stream",
     "text": [
      " num [1:200, 1:2] 4.749 2.153 5.542 5.944 0.779 ...\n",
      " - attr(*, \"dimnames\")=List of 2\n",
      "  ..$ : NULL\n",
      "  ..$ : NULL\n"
     ]
    }
   ],
   "source": [
    "Z <- muestras(n = 100, mu_1 = 2, mu_2 = 6, sigma_1 = 1, sigma_2 = 1)\n",
    "dim(Z)\n",
    "str(Z)"
   ]
  },
  {
   "cell_type": "markdown",
   "metadata": {},
   "source": [
    "6.- Calcular la función de coste y el gradiente para (a = 0, b = 0). Actualizar los valores de a y b de manera que (a, b)_nuevos = (a, b)_viejos + lambda * gradiente. Repite 3 o 4 cuatro veces y observa los valores de la función de coste. Intenta encontrar el mínimo aproximadadamente. Interpreta los resultados."
   ]
  },
  {
   "cell_type": "code",
   "execution_count": 9,
   "metadata": {},
   "outputs": [
    {
     "data": {
      "text/html": [
       "'coste 0.693147180559945'"
      ],
      "text/latex": [
       "'coste 0.693147180559945'"
      ],
      "text/markdown": [
       "'coste 0.693147180559945'"
      ],
      "text/plain": [
       "[1] \"coste 0.693147180559945\""
      ]
     },
     "metadata": {},
     "output_type": "display_data"
    },
    {
     "data": {
      "text/html": [
       "'gradiente del coste ( 0 -0.950511823340071 )'"
      ],
      "text/latex": [
       "'gradiente del coste ( 0 -0.950511823340071 )'"
      ],
      "text/markdown": [
       "'gradiente del coste ( 0 -0.950511823340071 )'"
      ],
      "text/plain": [
       "[1] \"gradiente del coste ( 0 -0.950511823340071 )\""
      ]
     },
     "metadata": {},
     "output_type": "display_data"
    }
   ],
   "source": [
    "#::GMG::Probamos el cálculo para unos valores iniciales de a y b\n",
    "l <- loss(x = cbind(1, Z[,1]), y = Z[,2], alpha = c(0,0))\n",
    "g <- gradiente(x = cbind(1, Z[,1]), y = Z[,2], alpha = c(0,0))\n",
    "paste('coste', l)\n",
    "paste('gradiente del coste', '(', g[1], g[2], ')')"
   ]
  },
  {
   "cell_type": "code",
   "execution_count": 10,
   "metadata": {},
   "outputs": [],
   "source": [
    "#::GMG::Iteramos unas cuantas veces para encontrar un mínimo\n",
    "lambda <- 0.5\n",
    "alpha = c(0,0)\n",
    "l <- c()\n",
    "a_min <- list()\n",
    "for (i in 1:60000) {\n",
    "    l[i] <- loss(x = cbind(1, Z[,1]), y = Z[,2], alpha = alpha)\n",
    "    g <- gradiente(x = cbind(1, Z[,1]), y = Z[,2], alpha = alpha)\n",
    "    a_min[[i]] <- alpha <- alpha - lambda*g\n",
    "}"
   ]
  },
  {
   "cell_type": "code",
   "execution_count": 11,
   "metadata": {},
   "outputs": [
    {
     "data": {
      "text/html": [
       "'Encontré un mínimo en 55314 con coste 0.0243549029707509 y parámetros: (a= -29.7017819571011 , b= 7.18951911964683 )'"
      ],
      "text/latex": [
       "'Encontré un mínimo en 55314 con coste 0.0243549029707509 y parámetros: (a= -29.7017819571011 , b= 7.18951911964683 )'"
      ],
      "text/markdown": [
       "'Encontré un mínimo en 55314 con coste 0.0243549029707509 y parámetros: (a= -29.7017819571011 , b= 7.18951911964683 )'"
      ],
      "text/plain": [
       "[1] \"Encontré un mínimo en 55314 con coste 0.0243549029707509 y parámetros: (a= -29.7017819571011 , b= 7.18951911964683 )\""
      ]
     },
     "metadata": {},
     "output_type": "display_data"
    }
   ],
   "source": [
    "paste('Encontré un mínimo en  la iteración', which.min(l) ,\n",
    "      'con coste',  l[which.min(l)], 'y parámetros: (a=', \n",
    "      a_min[[which.min(l)]][1], ', b=', a_min[[which.min(l)]][2], ')'\n",
    "     )"
   ]
  }
 ],
 "metadata": {
  "kernelspec": {
   "display_name": "R",
   "language": "R",
   "name": "ir"
  },
  "language_info": {
   "codemirror_mode": "r",
   "file_extension": ".r",
   "mimetype": "text/x-r-source",
   "name": "R",
   "pygments_lexer": "r",
   "version": "3.4.4"
  }
 },
 "nbformat": 4,
 "nbformat_minor": 2
}
