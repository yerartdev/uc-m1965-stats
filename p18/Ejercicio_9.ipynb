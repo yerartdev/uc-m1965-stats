{
 "cells": [
  {
   "cell_type": "markdown",
   "metadata": {},
   "source": [
    "# Ejercicio de regularización\n",
    "\n",
    " 1. Escribe una función de R que reciba como input un vector \"x\" con la variable dependiente, un vector de parámetros \"betas\" que contenga los coeficientes de un polinomio y una sigma \"sigma\"; y que devuelva el vector dependiente que siga la ley polinomial dada con PDF gaussiana y sigma dada.  "
   ]
  },
  {
   "cell_type": "code",
   "execution_count": 1,
   "metadata": {},
   "outputs": [],
   "source": [
    "#::GMG::Algoritmo de Horner vectorizado para hallar el valor de un polinomio\n",
    "#       x: variable independiente\n",
    "#       v: vector de coeficientes en x^0, x^1, ..., x^p\n",
    "horner <- function(x, v) {\n",
    "  Reduce(v, right=T, f=function(a, b) {\n",
    "    b * x + a\n",
    "  })\n",
    "}"
   ]
  },
  {
   "cell_type": "code",
   "execution_count": 2,
   "metadata": {},
   "outputs": [],
   "source": [
    "#::GMG::Función que genera el polinomio junto con un ruido distribuido\n",
    "#       N(0,sigma)\n",
    "pol <- function (x,betas,sigma) {\n",
    "    return(horner(x,betas) + rnorm(length(x),0,sigma))\n",
    "}"
   ]
  },
  {
   "cell_type": "markdown",
   "metadata": {},
   "source": [
    " 2. Construye un vector de 40 elementos distribuido uniformemente entre [-3, 3]. Úsalo con la función anterior, el polinomio: $x^3 + 2 x^2 - x - 2$ y $\\sigma = 4$. Representa los datos resultantes."
   ]
  },
  {
   "cell_type": "code",
   "execution_count": 3,
   "metadata": {},
   "outputs": [
    {
     "data": {
      "image/png": "[encoded data removed]",
      "text/plain": [
       "plot without title"
      ]
     },
     "metadata": {},
     "output_type": "display_data"
    }
   ],
   "source": [
    "#::GMG::Nube de puntos del polinonio solicitado con el ruido gaussiano\n",
    "set.seed(1)\n",
    "x <- seq(from = -3, to = 3, by = .1)\n",
    "beta <- c(-2,-1,2,1)\n",
    "sigma <- 2\n",
    "plot(x,pol(x,beta,sigma))"
   ]
  },
  {
   "cell_type": "markdown",
   "metadata": {},
   "source": [
    " 3. Calcula el valor mínimo de la función de coste (_loss_, RSS) para el caso en que hacemos un ajuste con una recta (dos parámetros), una parábola (tres parámetros), 4, 5, 6 y 7 parámetros, usando los primeros 20 puntos. Con los valores que hacen mínimo el RSS para la muestra de entrenamiento, calcula el RSS para los siguientes 20 puntos. Pinta los resultados en función del número de parámetros para ambos casos."
   ]
  },
  {
   "cell_type": "code",
   "execution_count": null,
   "metadata": {},
   "outputs": [],
   "source": [
    "y <- sample()"
   ]
  },
  {
   "cell_type": "markdown",
   "metadata": {},
   "source": [
    " 4. Escribe una función de R que encuentre el mínimo de la función de coste para el caso de regularización L2. El parámetro lambda será pasado como input. Utilízala para estimar las curvas que mejor ajustan para el caso de (4 parámetros, lambda = 0), (7 parámetros, lambda=0) y (7 parámetros, lambda=1000). Pinta todas las curvas juntas y escribe tus conclusiones. "
   ]
  },
  {
   "cell_type": "code",
   "execution_count": null,
   "metadata": {},
   "outputs": [],
   "source": []
  },
  {
   "cell_type": "markdown",
   "metadata": {},
   "source": [
    "5. Utiliza la función anterior para representar el valor de los parámetros del modelo en función de $\\lambda$. Prueba a representar la evolución de los coeficientes de un modelo de 11 parámetros."
   ]
  },
  {
   "cell_type": "code",
   "execution_count": null,
   "metadata": {},
   "outputs": [],
   "source": []
  }
 ],
 "metadata": {
  "kernelspec": {
   "display_name": "R",
   "language": "R",
   "name": "ir"
  },
  "language_info": {
   "codemirror_mode": "r",
   "file_extension": ".r",
   "mimetype": "text/x-r-source",
   "name": "R",
   "pygments_lexer": "r",
   "version": "3.4.4"
  }
 },
 "nbformat": 4,
 "nbformat_minor": 2
}
