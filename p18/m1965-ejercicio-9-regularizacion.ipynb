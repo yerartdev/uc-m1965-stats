{
 "cells": [
  {
   "cell_type": "markdown",
   "metadata": {},
   "source": [
    "# Alumno: Gerardo de Miguel González"
   ]
  },
  {
   "cell_type": "markdown",
   "metadata": {},
   "source": [
    "## Ejercicio de regularización"
   ]
  },
  {
   "cell_type": "markdown",
   "metadata": {},
   "source": [
    "### Horner Gaussiano"
   ]
  },
  {
   "cell_type": "markdown",
   "metadata": {},
   "source": [
    " 1. Escribe una función de R que reciba como input un vector \"x\" con la variable dependiente, un vector de parámetros \"betas\" que contenga los coeficientes de un polinomio y una sigma \"sigma\"; y que devuelva el vector dependiente que siga la ley polinomial dada con PDF gaussiana y sigma dada.  "
   ]
  },
  {
   "cell_type": "code",
   "execution_count": 1,
   "metadata": {},
   "outputs": [],
   "source": [
    "#::GMG::Algoritmo de Horner vectorizado para hallar el valor de un polinomio\n",
    "#       x: variable independiente\n",
    "#       v: vector de coeficientes en x^0, x^1, ..., x^p\n",
    "horner <- function(x, v) {\n",
    "  Reduce(v, right=T, f=function(a, b) {\n",
    "    b * x + a\n",
    "  })\n",
    "}"
   ]
  },
  {
   "cell_type": "code",
   "execution_count": 2,
   "metadata": {},
   "outputs": [],
   "source": [
    "#::GMG::Función que genera el polinomio junto con un ruido distribuido\n",
    "#       N(0,sigma)\n",
    "pol <- function (x,betas,sigma) {\n",
    "    return(horner(x,betas) + rnorm(length(x),0,sigma))\n",
    "}"
   ]
  },
  {
   "cell_type": "markdown",
   "metadata": {},
   "source": [
    " 2. Construye un vector de 40 elementos distribuido uniformemente entre [-3, 3]. Úsalo con la función anterior, el polinomio: $x^3 + 2 x^2 - x - 2$ y $\\sigma = 4$. Representa los datos resultantes."
   ]
  },
  {
   "cell_type": "code",
   "execution_count": 37,
   "metadata": {},
   "outputs": [
    {
     "data": {
      "image/png": "[encoded data removed]",
      "text/plain": [
       "Plot with title “Polinomio grado 3 con ruido Gaussiano”"
      ]
     },
     "metadata": {},
     "output_type": "display_data"
    }
   ],
   "source": [
    "#::GMG::Nube de puntos del polinonio solicitado con el ruido gaussiano\n",
    "set.seed(1)\n",
    "x <- seq(from = -3, to = 3, by = .15)\n",
    "beta <- c(-2,-1,2,1)\n",
    "sigma <- 2\n",
    "y <- pol(x,beta,sigma)\n",
    "plot(x,y, \n",
    "     col=rgb(0.4,0.4,0.8,0.6),\n",
    "     pch=16 ,cex=1.3, \n",
    "     main = 'Polinomio grado 3 con ruido Gaussiano')"
   ]
  },
  {
   "cell_type": "markdown",
   "metadata": {},
   "source": [
    " 3. Calcula el valor mínimo de la función de coste (_loss_, RSS) para el caso en que hacemos un ajuste con una recta (dos parámetros), una parábola (tres parámetros), 4, 5, 6 y 7 parámetros, usando los primeros 20 puntos. Con los valores que hacen mínimo el RSS para la muestra de entrenamiento, calcula el RSS para los siguientes 20 puntos. Pinta los resultados en función del número de parámetros para ambos casos."
   ]
  },
  {
   "cell_type": "markdown",
   "metadata": {},
   "source": [
    "### Función de coste"
   ]
  },
  {
   "cell_type": "code",
   "execution_count": 4,
   "metadata": {},
   "outputs": [],
   "source": [
    "#::GMG::Defino la función de coste (loss, rss)\n",
    "#::nota::beta es el vector de coeficientes de regresión, i.e \n",
    "#        beta_0, beta_1, ... beta_p\n",
    "#        x es la \"matriz de diseño\" (1,x)\n",
    "rss <- function(betas,x,y) {\n",
    "    betas.m <- as.matrix(betas)\n",
    "    y.m <- as.matrix(y)\n",
    "    X <- as.matrix(cbind(1,x))\n",
    "    return (as.numeric(t(y.m - X %*% betas.m) %*% (y.m - X %*% betas.m)))\n",
    "}"
   ]
  },
  {
   "cell_type": "markdown",
   "metadata": {},
   "source": [
    "### Naïve Train/Test"
   ]
  },
  {
   "cell_type": "code",
   "execution_count": 5,
   "metadata": {},
   "outputs": [],
   "source": [
    "#::GMG::Selecciono los \"primeros 20 puntos\" como \"train\"\n",
    "x_train <- x[1:20]\n",
    "y_train <- y[1:20]\n",
    "x_test <- x[21:40]\n",
    "y_test <- y[21:40]"
   ]
  },
  {
   "cell_type": "markdown",
   "metadata": {},
   "source": [
    "### Regresión Matricial Recta (dos parámetros)"
   ]
  },
  {
   "cell_type": "code",
   "execution_count": 6,
   "metadata": {},
   "outputs": [
    {
     "name": "stdout",
     "output_type": "stream",
     "text": [
      "intercept   x_train \n",
      " 1.762206  1.771767 \n"
     ]
    }
   ],
   "source": [
    "#::GMG::Hablamos primero de una regresión lineal con intercept y slope\n",
    "#       La hago primero de forma \"manual\": calculo los dos parámetros\n",
    "#::nota::caso recta, i.e polinomio de grado 1\n",
    "X <- cbind(rep(1,20), x_train)\n",
    "Y <- matrix(y_train, nrow=length(y_train))\n",
    "b_hat <- solve(t(X)%*%X)%*%t(X)%*%Y\n",
    "b_0_hat <- b_hat[1,1]\n",
    "b_1_hat <- b_hat[2,1]\n",
    "p_lm <- c(b_0_hat,b_1_hat)\n",
    "names(p_lm) <- c('intercept','x_train')\n",
    "print(p_lm)"
   ]
  },
  {
   "cell_type": "code",
   "execution_count": 7,
   "metadata": {},
   "outputs": [
    {
     "data": {
      "text/html": [
       "'rss: 141.79'"
      ],
      "text/latex": [
       "'rss: 141.79'"
      ],
      "text/markdown": [
       "'rss: 141.79'"
      ],
      "text/plain": [
       "[1] \"rss: 141.79\""
      ]
     },
     "metadata": {},
     "output_type": "display_data"
    }
   ],
   "source": [
    "paste('rss:', round(rss(betas = p_lm, x = x_train, y = y_train),2))"
   ]
  },
  {
   "cell_type": "markdown",
   "metadata": {},
   "source": [
    "### Regresión Matricial Polinomial (n parámetros)"
   ]
  },
  {
   "cell_type": "code",
   "execution_count": 8,
   "metadata": {},
   "outputs": [],
   "source": [
    "#::GMG::Calculo la función que resuelve 'least squares' las betas de forma matricial\n",
    "betas <- function(x,y) {\n",
    "    X <- cbind(1,x)\n",
    "    Y <- as.matrix(y)\n",
    "    b <- t(solve(t(X) %*% X) %*% t(X) %*% Y)\n",
    "    #colnames(b) <- c('intercept', 'slope')\n",
    "    return (as.numeric(b))\n",
    "}"
   ]
  },
  {
   "cell_type": "code",
   "execution_count": 9,
   "metadata": {},
   "outputs": [
    {
     "name": "stdout",
     "output_type": "stream",
     "text": [
      "[1] 1.76 1.77\n"
     ]
    }
   ],
   "source": [
    "#::GMG::Prueba de funionamiento\n",
    "m <- betas(x = x_train, y = y_train)\n",
    "print(round(m,2))"
   ]
  },
  {
   "cell_type": "code",
   "execution_count": 10,
   "metadata": {},
   "outputs": [],
   "source": [
    "#::GMG::Me hago mi función de regresión lineal\n",
    "mi_lm <- function(x,y) {\n",
    "    coef <- betas(x = x,y = y)\n",
    "    loss <- rss(betas = coef,x = x,y = y)\n",
    "    list(coeficientes = coef, rss = loss)\n",
    "}"
   ]
  },
  {
   "cell_type": "code",
   "execution_count": 11,
   "metadata": {},
   "outputs": [
    {
     "data": {
      "text/html": [
       "<ol class=list-inline>\n",
       "\t<li>1.76</li>\n",
       "\t<li>1.77</li>\n",
       "</ol>\n"
      ],
      "text/latex": [
       "\\begin{enumerate*}\n",
       "\\item 1.76\n",
       "\\item 1.77\n",
       "\\end{enumerate*}\n"
      ],
      "text/markdown": [
       "1. 1.76\n",
       "2. 1.77\n",
       "\n",
       "\n"
      ],
      "text/plain": [
       "[1] 1.76 1.77"
      ]
     },
     "metadata": {},
     "output_type": "display_data"
    },
    {
     "data": {
      "text/html": [
       "'rss: 141.79'"
      ],
      "text/latex": [
       "'rss: 141.79'"
      ],
      "text/markdown": [
       "'rss: 141.79'"
      ],
      "text/plain": [
       "[1] \"rss: 141.79\""
      ]
     },
     "metadata": {},
     "output_type": "display_data"
    }
   ],
   "source": [
    "#::GMG::Prueba de funcionamiento\n",
    "mi_model <- mi_lm(x = x_train, y = y_train)\n",
    "round(mi_model$coeficientes,2)\n",
    "paste('rss:',round(mi_model$rss,2))"
   ]
  },
  {
   "cell_type": "code",
   "execution_count": 12,
   "metadata": {},
   "outputs": [
    {
     "data": {
      "text/html": [
       "<table>\n",
       "<tbody>\n",
       "\t<tr><td>-3.00    </td><td>9.0000   </td><td>-27.00000</td></tr>\n",
       "\t<tr><td>-2.85    </td><td>8.1225   </td><td>-23.14913</td></tr>\n",
       "\t<tr><td>-2.70    </td><td>7.2900   </td><td>-19.68300</td></tr>\n",
       "\t<tr><td>-2.55    </td><td>6.5025   </td><td>-16.58137</td></tr>\n",
       "\t<tr><td>-2.40    </td><td>5.7600   </td><td>-13.82400</td></tr>\n",
       "\t<tr><td>-2.25    </td><td>5.0625   </td><td>-11.39062</td></tr>\n",
       "</tbody>\n",
       "</table>\n"
      ],
      "text/latex": [
       "\\begin{tabular}{lll}\n",
       "\t -3.00     & 9.0000    & -27.00000\\\\\n",
       "\t -2.85     & 8.1225    & -23.14913\\\\\n",
       "\t -2.70     & 7.2900    & -19.68300\\\\\n",
       "\t -2.55     & 6.5025    & -16.58137\\\\\n",
       "\t -2.40     & 5.7600    & -13.82400\\\\\n",
       "\t -2.25     & 5.0625    & -11.39062\\\\\n",
       "\\end{tabular}\n"
      ],
      "text/markdown": [
       "\n",
       "| -3.00     | 9.0000    | -27.00000 | \n",
       "| -2.85     | 8.1225    | -23.14913 | \n",
       "| -2.70     | 7.2900    | -19.68300 | \n",
       "| -2.55     | 6.5025    | -16.58137 | \n",
       "| -2.40     | 5.7600    | -13.82400 | \n",
       "| -2.25     | 5.0625    | -11.39062 | \n",
       "\n",
       "\n"
      ],
      "text/plain": [
       "     [,1]  [,2]   [,3]     \n",
       "[1,] -3.00 9.0000 -27.00000\n",
       "[2,] -2.85 8.1225 -23.14913\n",
       "[3,] -2.70 7.2900 -19.68300\n",
       "[4,] -2.55 6.5025 -16.58137\n",
       "[5,] -2.40 5.7600 -13.82400\n",
       "[6,] -2.25 5.0625 -11.39062"
      ]
     },
     "metadata": {},
     "output_type": "display_data"
    }
   ],
   "source": [
    "#::GMG::Usamos la función poly() para construir los polinomios de regresión\n",
    "#       i.e. x^1, x^2, ..., x^p de la matriz de diseño para los betas\n",
    "# https://www.rdocumentation.org/packages/stats/versions/3.5.1/topics/poly\n",
    "x_3 <- cbind(x_train^1,x_train^2,x_train^3)\n",
    "head(x_3)"
   ]
  },
  {
   "cell_type": "code",
   "execution_count": 13,
   "metadata": {},
   "outputs": [
    {
     "data": {
      "text/html": [
       "'matrix'"
      ],
      "text/latex": [
       "'matrix'"
      ],
      "text/markdown": [
       "'matrix'"
      ],
      "text/plain": [
       "[1] \"matrix\""
      ]
     },
     "metadata": {},
     "output_type": "display_data"
    }
   ],
   "source": [
    "class(x_3)"
   ]
  },
  {
   "cell_type": "code",
   "execution_count": 14,
   "metadata": {},
   "outputs": [
    {
     "data": {
      "text/html": [
       "<table>\n",
       "<thead><tr><th scope=col>1</th><th scope=col>2</th><th scope=col>3</th></tr></thead>\n",
       "<tbody>\n",
       "\t<tr><td>-3.00    </td><td>9.0000   </td><td>-27.00000</td></tr>\n",
       "\t<tr><td>-2.85    </td><td>8.1225   </td><td>-23.14913</td></tr>\n",
       "\t<tr><td>-2.70    </td><td>7.2900   </td><td>-19.68300</td></tr>\n",
       "\t<tr><td>-2.55    </td><td>6.5025   </td><td>-16.58137</td></tr>\n",
       "\t<tr><td>-2.40    </td><td>5.7600   </td><td>-13.82400</td></tr>\n",
       "\t<tr><td>-2.25    </td><td>5.0625   </td><td>-11.39062</td></tr>\n",
       "</tbody>\n",
       "</table>\n"
      ],
      "text/latex": [
       "\\begin{tabular}{lll}\n",
       " 1 & 2 & 3\\\\\n",
       "\\hline\n",
       "\t -3.00     & 9.0000    & -27.00000\\\\\n",
       "\t -2.85     & 8.1225    & -23.14913\\\\\n",
       "\t -2.70     & 7.2900    & -19.68300\\\\\n",
       "\t -2.55     & 6.5025    & -16.58137\\\\\n",
       "\t -2.40     & 5.7600    & -13.82400\\\\\n",
       "\t -2.25     & 5.0625    & -11.39062\\\\\n",
       "\\end{tabular}\n"
      ],
      "text/markdown": [
       "\n",
       "1 | 2 | 3 | \n",
       "|---|---|---|---|---|---|\n",
       "| -3.00     | 9.0000    | -27.00000 | \n",
       "| -2.85     | 8.1225    | -23.14913 | \n",
       "| -2.70     | 7.2900    | -19.68300 | \n",
       "| -2.55     | 6.5025    | -16.58137 | \n",
       "| -2.40     | 5.7600    | -13.82400 | \n",
       "| -2.25     | 5.0625    | -11.39062 | \n",
       "\n",
       "\n"
      ],
      "text/plain": [
       "     1     2      3        \n",
       "[1,] -3.00 9.0000 -27.00000\n",
       "[2,] -2.85 8.1225 -23.14913\n",
       "[3,] -2.70 7.2900 -19.68300\n",
       "[4,] -2.55 6.5025 -16.58137\n",
       "[5,] -2.40 5.7600 -13.82400\n",
       "[6,] -2.25 5.0625 -11.39062"
      ]
     },
     "metadata": {},
     "output_type": "display_data"
    }
   ],
   "source": [
    "x_3_b <- poly(x_train, 3,raw = T)\n",
    "head (x_3_b)"
   ]
  },
  {
   "cell_type": "code",
   "execution_count": 15,
   "metadata": {},
   "outputs": [
    {
     "data": {
      "text/html": [
       "<ol class=list-inline>\n",
       "\t<li>'poly'</li>\n",
       "\t<li>'matrix'</li>\n",
       "</ol>\n"
      ],
      "text/latex": [
       "\\begin{enumerate*}\n",
       "\\item 'poly'\n",
       "\\item 'matrix'\n",
       "\\end{enumerate*}\n"
      ],
      "text/markdown": [
       "1. 'poly'\n",
       "2. 'matrix'\n",
       "\n",
       "\n"
      ],
      "text/plain": [
       "[1] \"poly\"   \"matrix\""
      ]
     },
     "metadata": {},
     "output_type": "display_data"
    }
   ],
   "source": [
    "class(as.matrix(x_3_b))"
   ]
  },
  {
   "cell_type": "code",
   "execution_count": 16,
   "metadata": {},
   "outputs": [],
   "source": [
    "mi_model_2 <- mi_lm(x = poly(x_train, 2,raw = T), y = y_train)"
   ]
  },
  {
   "cell_type": "code",
   "execution_count": 17,
   "metadata": {},
   "outputs": [
    {
     "data": {
      "text/html": [
       "<ol class=list-inline>\n",
       "\t<li>-2.85</li>\n",
       "\t<li>-6.61</li>\n",
       "\t<li>-2.66</li>\n",
       "</ol>\n"
      ],
      "text/latex": [
       "\\begin{enumerate*}\n",
       "\\item -2.85\n",
       "\\item -6.61\n",
       "\\item -2.66\n",
       "\\end{enumerate*}\n"
      ],
      "text/markdown": [
       "1. -2.85\n",
       "2. -6.61\n",
       "3. -2.66\n",
       "\n",
       "\n"
      ],
      "text/plain": [
       "[1] -2.85 -6.61 -2.66"
      ]
     },
     "metadata": {},
     "output_type": "display_data"
    },
    {
     "data": {
      "text/html": [
       "'rss: 78.85'"
      ],
      "text/latex": [
       "'rss: 78.85'"
      ],
      "text/markdown": [
       "'rss: 78.85'"
      ],
      "text/plain": [
       "[1] \"rss: 78.85\""
      ]
     },
     "metadata": {},
     "output_type": "display_data"
    }
   ],
   "source": [
    "round(mi_model_2$coeficientes,2)\n",
    "paste('rss:',round(mi_model_2$rss,2))"
   ]
  },
  {
   "cell_type": "markdown",
   "metadata": {},
   "source": [
    "### Regresión lm(), poly() e I()"
   ]
  },
  {
   "cell_type": "code",
   "execution_count": 18,
   "metadata": {},
   "outputs": [
    {
     "name": "stdout",
     "output_type": "stream",
     "text": [
      "(Intercept)     x_train \n",
      "      1.762       1.772 \n"
     ]
    }
   ],
   "source": [
    "#::GMG::La regresión lineal simple se puede hacer con lm()\n",
    "model_1 <- lm(y_train~x_train)\n",
    "print(round(model_1$coefficients,3))"
   ]
  },
  {
   "cell_type": "code",
   "execution_count": 19,
   "metadata": {},
   "outputs": [
    {
     "data": {
      "text/html": [
       "'rss: 141.79 ( 141.79 )'"
      ],
      "text/latex": [
       "'rss: 141.79 ( 141.79 )'"
      ],
      "text/markdown": [
       "'rss: 141.79 ( 141.79 )'"
      ],
      "text/plain": [
       "[1] \"rss: 141.79 ( 141.79 )\""
      ]
     },
     "metadata": {},
     "output_type": "display_data"
    }
   ],
   "source": [
    "#::GMG:: El valor de loss/rss lo puedo calcular aquí con los 'residuos' \n",
    "#        que proporciona el objeto model_1\n",
    "paste('rss:',round(sum(model_1$residuals^2),2),\n",
    "      '(', round(rss(betas = model_1$coefficients, x = x_train, y = y_train),2), ')')"
   ]
  },
  {
   "cell_type": "code",
   "execution_count": null,
   "metadata": {},
   "outputs": [],
   "source": [
    "#::GMG::Pintamos el resultado \n",
    "#::nota::Este no es el resultado que hay que pintar :)\n",
    "#plot(x_20,y_20, pch = 16, cex = 1.3, col = \"blue\")\n",
    "#abline(model_1, col = 'red')"
   ]
  },
  {
   "cell_type": "code",
   "execution_count": 24,
   "metadata": {},
   "outputs": [
    {
     "name": "stdout",
     "output_type": "stream",
     "text": [
      " (Intercept)      x_train I(x_train^2) \n",
      "       -2.85        -6.61        -2.66 \n"
     ]
    },
    {
     "data": {
      "text/html": [
       "'rss: 78.85 ( 78.85 )'"
      ],
      "text/latex": [
       "'rss: 78.85 ( 78.85 )'"
      ],
      "text/markdown": [
       "'rss: 78.85 ( 78.85 )'"
      ],
      "text/plain": [
       "[1] \"rss: 78.85 ( 78.85 )\""
      ]
     },
     "metadata": {},
     "output_type": "display_data"
    }
   ],
   "source": [
    "#::GMG::para el caso polinomial se puede usar lm() e I()\n",
    "# https://www.rdocumentation.org/packages/base/versions/3.5.1/topics/AsIs\n",
    "model_2 <- lm(y_train~x_train + I(x_train^2))\n",
    "print(round(model_2$coef,2))\n",
    "paste('rss:',round(sum(model_2$residuals^2),2) ,\n",
    "      '(', round(rss(betas = model_2$coefficients, \n",
    "                     x = cbind(x_train, x_train^2), \n",
    "                     y = y_train),2), ')'\n",
    ")"
   ]
  },
  {
   "cell_type": "code",
   "execution_count": 29,
   "metadata": {},
   "outputs": [
    {
     "name": "stdout",
     "output_type": "stream",
     "text": [
      "[1] -2.85 -6.61 -2.66\n"
     ]
    },
    {
     "data": {
      "text/html": [
       "'rss: 78.85 ( 78.85 )'"
      ],
      "text/latex": [
       "'rss: 78.85 ( 78.85 )'"
      ],
      "text/markdown": [
       "'rss: 78.85 ( 78.85 )'"
      ],
      "text/plain": [
       "[1] \"rss: 78.85 ( 78.85 )\""
      ]
     },
     "metadata": {},
     "output_type": "display_data"
    }
   ],
   "source": [
    "#::GMG::Que es equivalente, usando lm() e poly()\n",
    "# https://www.rdocumentation.org/packages/stats/versions/3.5.1/topics/poly\n",
    "model_2_b <- lm(y_train~poly(x_train, 2,raw = T))\n",
    "print(round(as.vector(t(model_2_b$coef)),2))\n",
    "paste('rss:',round(sum(model_2_b$residuals^2),2) ,\n",
    "      '(', round(rss(betas = model_2_b$coefficients, \n",
    "                     x = cbind(x_train, x_train^2), \n",
    "                     y = y_train),2), ')'\n",
    ")"
   ]
  },
  {
   "cell_type": "markdown",
   "metadata": {},
   "source": [
    " 4. Escribe una función de R que encuentre el mínimo de la función de coste para el caso de regularización L2. El parámetro lambda será pasado como input. Utilízala para estimar las curvas que mejor ajustan para el caso de (4 parámetros, lambda = 0), (7 parámetros, lambda=0) y (7 parámetros, lambda=1000). Pinta todas las curvas juntas y escribe tus conclusiones. "
   ]
  },
  {
   "cell_type": "code",
   "execution_count": null,
   "metadata": {},
   "outputs": [],
   "source": []
  },
  {
   "cell_type": "markdown",
   "metadata": {},
   "source": [
    "5. Utiliza la función anterior para representar el valor de los parámetros del modelo en función de $\\lambda$. Prueba a representar la evolución de los coeficientes de un modelo de 11 parámetros."
   ]
  },
  {
   "cell_type": "code",
   "execution_count": null,
   "metadata": {},
   "outputs": [],
   "source": []
  }
 ],
 "metadata": {
  "kernelspec": {
   "display_name": "R",
   "language": "R",
   "name": "ir"
  },
  "language_info": {
   "codemirror_mode": "r",
   "file_extension": ".r",
   "mimetype": "text/x-r-source",
   "name": "R",
   "pygments_lexer": "r",
   "version": "3.4.4"
  }
 },
 "nbformat": 4,
 "nbformat_minor": 2
}
