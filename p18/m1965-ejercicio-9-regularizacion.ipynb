{
 "cells": [
  {
   "cell_type": "markdown",
   "metadata": {},
   "source": [
    "# Alumno: Gerardo de Miguel González"
   ]
  },
  {
   "cell_type": "markdown",
   "metadata": {},
   "source": [
    "## Ejercicio de regularización"
   ]
  },
  {
   "cell_type": "markdown",
   "metadata": {},
   "source": [
    "### Horner Gaussiano"
   ]
  },
  {
   "cell_type": "markdown",
   "metadata": {},
   "source": [
    " 1. Escribe una función de R que reciba como input un vector \"x\" con la variable dependiente, un vector de parámetros \"betas\" que contenga los coeficientes de un polinomio y una sigma \"sigma\"; y que devuelva el vector dependiente que siga la ley polinomial dada con PDF gaussiana y sigma dada.  "
   ]
  },
  {
   "cell_type": "code",
   "execution_count": 1,
   "metadata": {},
   "outputs": [],
   "source": [
    "#::GMG::Algoritmo de Horner vectorizado para hallar el valor de un polinomio\n",
    "#       x: variable independiente\n",
    "#       v: vector de coeficientes en x^0, x^1, ..., x^p\n",
    "horner <- function(x, v) {\n",
    "  Reduce(v, right=T, f=function(a, b) {\n",
    "    b * x + a\n",
    "  })\n",
    "}"
   ]
  },
  {
   "cell_type": "code",
   "execution_count": 2,
   "metadata": {},
   "outputs": [],
   "source": [
    "#::GMG::Función que genera el polinomio junto con un ruido distribuido\n",
    "#       N(0,sigma)\n",
    "pol <- function (x,betas,sigma) {\n",
    "    return(horner(x,betas) + rnorm(length(x),0,sigma))\n",
    "}"
   ]
  },
  {
   "cell_type": "markdown",
   "metadata": {},
   "source": [
    " 2. Construye un vector de 40 elementos distribuido uniformemente entre [-3, 3]. Úsalo con la función anterior, el polinomio: $x^3 + 2 x^2 - x - 2$ y $\\sigma = 4$. Representa los datos resultantes."
   ]
  },
  {
   "cell_type": "markdown",
   "metadata": {},
   "source": [
    "**::GMG::** Los `ISSUE` en los comentarios son el feedback del profesor; las líneas de código comentadas son las que he corregido derivadas de los comentarios recibidos."
   ]
  },
  {
   "cell_type": "code",
   "execution_count": 3,
   "metadata": {},
   "outputs": [],
   "source": [
    "#::GMG::Nube de puntos del polinonio solicitado con el ruido gaussiano\n",
    "#::ISSUE::No has tomado tus abscisas de forma aleatoria, y tampoco tu división\n",
    "#entre train y test lo es. De esta forma, la validación cruzada es muy\n",
    "#artificial. No ya por usar un hold out, sino porque no es aleatorio\n",
    "#::ISSUE::No has cogido los 40 puntos pedidos, sino 41. ¿Por qué usas el número\n",
    "#mágico by=6/40? Prueba el argumento length.out\n",
    "#x <- seq(from = -3, to = 3, by = 6/40)\n",
    "x <- seq(from = -3, to = 3, length.out = 40)"
   ]
  },
  {
   "cell_type": "code",
   "execution_count": 4,
   "metadata": {},
   "outputs": [
    {
     "data": {
      "image/png": "[encoded data removed]",
      "text/plain": [
       "Plot with title “Polinomio grado 3 con ruido Gaussiano”"
      ]
     },
     "metadata": {},
     "output_type": "display_data"
    }
   ],
   "source": [
    "beta <- c(-2,-1,2,1)\n",
    "sigma <- 2\n",
    "set.seed(1)\n",
    "y <- pol(x,beta,sigma)\n",
    "plot(x,y, \n",
    "     col=rgb(0.4,0.4,0.8,0.6),\n",
    "     pch=16 ,cex=1.3, \n",
    "     main = 'Polinomio grado 3 con ruido Gaussiano')"
   ]
  },
  {
   "cell_type": "markdown",
   "metadata": {},
   "source": [
    " 3. Calcula el valor mínimo de la función de coste (_loss_, RSS) para el caso en que hacemos un ajuste con una recta (dos parámetros), una parábola (tres parámetros), 4, 5, 6 y 7 parámetros, usando los primeros 20 puntos. Con los valores que hacen mínimo el RSS para la muestra de entrenamiento, calcula el RSS para los siguientes 20 puntos. Pinta los resultados en función del número de parámetros para ambos casos."
   ]
  },
  {
   "cell_type": "markdown",
   "metadata": {},
   "source": [
    "### Función de coste"
   ]
  },
  {
   "cell_type": "code",
   "execution_count": 5,
   "metadata": {},
   "outputs": [],
   "source": [
    "#::GMG::Defino la función de coste (loss, rss)\n",
    "#::nota::beta es el vector de coeficientes de regresión, i.e \n",
    "#        beta_0, beta_1, ... beta_p de x_0, x_1, ... x_p o x^0, x^1, ..., x^p\n",
    "#        x son las 'features' de la matriz de diseño (1,x)\n",
    "rss <- function(betas,x,y) {\n",
    "    betas.m <- as.matrix(betas)\n",
    "    y.m <- as.matrix(y)\n",
    "    X <- as.matrix(cbind(1,x))\n",
    "    return (as.numeric(t(y.m - X %*% betas.m) %*% (y.m - X %*% betas.m)))\n",
    "}"
   ]
  },
  {
   "cell_type": "markdown",
   "metadata": {},
   "source": [
    "### Train/Test"
   ]
  },
  {
   "cell_type": "code",
   "execution_count": 10,
   "metadata": {},
   "outputs": [],
   "source": [
    "#::GMG::Selecciono los \"primeros 20 puntos\" como \"train\"\n",
    "#::ISSUE::No has tomado tus abscisas de forma aleatoria, y tampoco tu división\n",
    "#entre train y test lo es. De esta forma, la validación cruzada es muy\n",
    "#artificial. No ya por usar un hold out, sino porque no es aleatorio\n",
    "#::ISSUE::La división que proponía al 50% es para no liarnos con el tamaño de\n",
    "#muestra. Por ejemplo, el RSS depende del tamaño de muestra. Cuanto mayor\n",
    "#es la muestra, mayor es en general el RSS ya que no está normalizado.\n",
    "#Tomando mitad y mitad, son comparables los RSS de train y test (prueba a\n",
    "#dibujarlos en la misma gráfica). En una situación más realista, haríamos\n",
    "#un k-fold en lugar de un hold-out.\n",
    "#mitad <- 1:20\n",
    "#x_train <- x[mitad]\n",
    "#y_train <- y[mitad]\n",
    "#x_test <- x[-mitad]\n",
    "#y_test <- y[-mitad]\n",
    "#::nota:: hold-out validation correctly: splitting the dataset into 2 parts \n",
    "#         and using one for training and the other for testing\n",
    "# https://stackoverflow.com/questions/17200114/how-to-split-data-into-training-testing-sets-using-sample-function\n",
    "# https://stat.ethz.ch/R-manual/R-devel/library/base/html/sample.html\n",
    "set.seed(1)\n",
    "#::GMG::hold-out 50%  \n",
    "sample <- sample.int(n = length(x), \n",
    "                     size = floor(0.50*length(x)), \n",
    "                     replace = F)\n",
    "x_train <- x[sample]\n",
    "y_train <- y[sample]\n",
    "x_test  <- x[-sample]\n",
    "y_test  <- y[-sample]"
   ]
  },
  {
   "cell_type": "code",
   "execution_count": 7,
   "metadata": {},
   "outputs": [],
   "source": [
    "#::GMG::Hablamos primero de una regresión lineal con intercept y slope\n",
    "#       La hago primero de forma \"manual\": calculo los dos parámetros\n",
    "#::nota::caso recta, i.e polinomio de grado 1\n",
    "\n",
    "#::ISSUE::Desde el punto de vista, no ya de data scientist profesional, sino de\n",
    "#programación, trata de programar funciones más genéricas. Por ejemplo,\n",
    "#separas el ajuste a una recta del ajuste a un polinomio de grado n. La\n",
    "#recta es un caso particular de éste. Después tendrás que hacer lo mismo\n",
    "#con regularización. Pero el caso sin regularización es también un caso\n",
    "#particular de éste (con lambda=0). El código se simplifica mucho de esta\n",
    "#manera, y se entiende mejor el efecto del orden del polinomio y del\n",
    "#papel de lambda.\n",
    "\n",
    "#X <- cbind(rep(1,20), x_train)\n",
    "#Y <- matrix(y_train, nrow=length(y_train))\n",
    "#b_hat <- solve(t(X)%*%X)%*%t(X)%*%Y\n",
    "#b_0_hat <- b_hat[1,1]\n",
    "#b_1_hat <- b_hat[2,1]\n",
    "#p_lm <- c(b_0_hat,b_1_hat)\n",
    "#names(p_lm) <- c('intercept','x_train')\n",
    "#print(p_lm)\n",
    "#paste('rss:', round(rss(betas = p_lm, x = x_train, y = y_train),2))"
   ]
  },
  {
   "cell_type": "markdown",
   "metadata": {},
   "source": [
    "### Regresión Matricial Polinomial (n parámetros)"
   ]
  },
  {
   "cell_type": "code",
   "execution_count": 8,
   "metadata": {},
   "outputs": [],
   "source": [
    "#::GMG::Calculo la función que resuelve 'least squares' las betas de forma matricial\n",
    "#       en una regresión lineal simple\n",
    "betas <- function(x,y) {\n",
    "    X <- cbind(1,x)\n",
    "    Y <- as.matrix(y)\n",
    "    b <- t(solve(t(X) %*% X) %*% t(X) %*% Y)\n",
    "    #colnames(b) <- c('intercept', 'slope')\n",
    "    return (as.numeric(b))\n",
    "}"
   ]
  },
  {
   "cell_type": "code",
   "execution_count": 9,
   "metadata": {},
   "outputs": [],
   "source": [
    "#::GMG::Prueba de funionamiento\n",
    "#m <- betas(x = x_train, y = y_train)\n",
    "#print(round(m,2))"
   ]
  },
  {
   "cell_type": "code",
   "execution_count": 11,
   "metadata": {},
   "outputs": [],
   "source": [
    "#::GMG::Me hago mi función de regresión lineal con rss() y betas()\n",
    "mi_lm <- function(x,y) {\n",
    "    coef <- betas(x = x,y = y)\n",
    "    loss <- rss(betas = coef,x = x,y = y)\n",
    "    list(coeficientes = coef, rss = loss)\n",
    "}"
   ]
  },
  {
   "cell_type": "code",
   "execution_count": 12,
   "metadata": {},
   "outputs": [
    {
     "data": {
      "text/html": [
       "<ol class=list-inline>\n",
       "\t<li>5.93</li>\n",
       "\t<li>5.07</li>\n",
       "</ol>\n"
      ],
      "text/latex": [
       "\\begin{enumerate*}\n",
       "\\item 5.93\n",
       "\\item 5.07\n",
       "\\end{enumerate*}\n"
      ],
      "text/markdown": [
       "1. 5.93\n",
       "2. 5.07\n",
       "\n",
       "\n"
      ],
      "text/plain": [
       "[1] 5.93 5.07"
      ]
     },
     "metadata": {},
     "output_type": "display_data"
    },
    {
     "data": {
      "text/html": [
       "'rss: 986.47'"
      ],
      "text/latex": [
       "'rss: 986.47'"
      ],
      "text/markdown": [
       "'rss: 986.47'"
      ],
      "text/plain": [
       "[1] \"rss: 986.47\""
      ]
     },
     "metadata": {},
     "output_type": "display_data"
    }
   ],
   "source": [
    "#::GMG::Prueba de funcionamiento\n",
    "#mi_model <- mi_lm(x = x_train, y = y_train)\n",
    "#round(mi_model$coeficientes,2)\n",
    "#paste('rss:',round(mi_model$rss,2))\n",
    "#model <- lm(y_train~x_train)\n",
    "#print(round(model$coefficients,3))\n",
    "#paste('rss:',round(sum(model$residuals^2),2),\n",
    "#      '(', round(rss(betas = model$coefficients, x = x_train, y = y_train),2), ')')"
   ]
  },
  {
   "cell_type": "code",
   "execution_count": 15,
   "metadata": {},
   "outputs": [
    {
     "data": {
      "text/html": [
       "<table>\n",
       "<tbody>\n",
       "\t<tr><td>-1.4615385 </td><td>2.13609467 </td><td>-3.12198452</td></tr>\n",
       "\t<tr><td>-0.8461538 </td><td>0.71597633 </td><td>-0.60582613</td></tr>\n",
       "\t<tr><td> 0.2307692 </td><td>0.05325444 </td><td> 0.01228949</td></tr>\n",
       "\t<tr><td> 2.0769231 </td><td>4.31360947 </td><td> 8.95903505</td></tr>\n",
       "\t<tr><td>-1.9230769 </td><td>3.69822485 </td><td>-7.11197087</td></tr>\n",
       "\t<tr><td> 1.7692308 </td><td>3.13017751 </td><td> 5.53800637</td></tr>\n",
       "</tbody>\n",
       "</table>\n"
      ],
      "text/latex": [
       "\\begin{tabular}{lll}\n",
       "\t -1.4615385  & 2.13609467  & -3.12198452\\\\\n",
       "\t -0.8461538  & 0.71597633  & -0.60582613\\\\\n",
       "\t  0.2307692  & 0.05325444  &  0.01228949\\\\\n",
       "\t  2.0769231  & 4.31360947  &  8.95903505\\\\\n",
       "\t -1.9230769  & 3.69822485  & -7.11197087\\\\\n",
       "\t  1.7692308  & 3.13017751  &  5.53800637\\\\\n",
       "\\end{tabular}\n"
      ],
      "text/markdown": [
       "\n",
       "| -1.4615385  | 2.13609467  | -3.12198452 | \n",
       "| -0.8461538  | 0.71597633  | -0.60582613 | \n",
       "|  0.2307692  | 0.05325444  |  0.01228949 | \n",
       "|  2.0769231  | 4.31360947  |  8.95903505 | \n",
       "| -1.9230769  | 3.69822485  | -7.11197087 | \n",
       "|  1.7692308  | 3.13017751  |  5.53800637 | \n",
       "\n",
       "\n"
      ],
      "text/plain": [
       "     [,1]       [,2]       [,3]       \n",
       "[1,] -1.4615385 2.13609467 -3.12198452\n",
       "[2,] -0.8461538 0.71597633 -0.60582613\n",
       "[3,]  0.2307692 0.05325444  0.01228949\n",
       "[4,]  2.0769231 4.31360947  8.95903505\n",
       "[5,] -1.9230769 3.69822485 -7.11197087\n",
       "[6,]  1.7692308 3.13017751  5.53800637"
      ]
     },
     "metadata": {},
     "output_type": "display_data"
    }
   ],
   "source": [
    "#::GMG::Usamos la función poly() para construir los polinomios de regresión\n",
    "#       i.e. x^1, x^2, ..., x^p de la matriz de diseño para los betas\n",
    "# https://www.rdocumentation.org/packages/stats/versions/3.5.1/topics/poly\n",
    "x_3 <- cbind(x_train^1,x_train^2,x_train^3)\n",
    "head(x_3)"
   ]
  },
  {
   "cell_type": "code",
   "execution_count": 16,
   "metadata": {},
   "outputs": [
    {
     "data": {
      "text/html": [
       "<table>\n",
       "<thead><tr><th scope=col>1</th><th scope=col>2</th><th scope=col>3</th></tr></thead>\n",
       "<tbody>\n",
       "\t<tr><td>-1.4615385 </td><td>2.13609467 </td><td>-3.12198452</td></tr>\n",
       "\t<tr><td>-0.8461538 </td><td>0.71597633 </td><td>-0.60582613</td></tr>\n",
       "\t<tr><td> 0.2307692 </td><td>0.05325444 </td><td> 0.01228949</td></tr>\n",
       "\t<tr><td> 2.0769231 </td><td>4.31360947 </td><td> 8.95903505</td></tr>\n",
       "\t<tr><td>-1.9230769 </td><td>3.69822485 </td><td>-7.11197087</td></tr>\n",
       "\t<tr><td> 1.7692308 </td><td>3.13017751 </td><td> 5.53800637</td></tr>\n",
       "</tbody>\n",
       "</table>\n"
      ],
      "text/latex": [
       "\\begin{tabular}{lll}\n",
       " 1 & 2 & 3\\\\\n",
       "\\hline\n",
       "\t -1.4615385  & 2.13609467  & -3.12198452\\\\\n",
       "\t -0.8461538  & 0.71597633  & -0.60582613\\\\\n",
       "\t  0.2307692  & 0.05325444  &  0.01228949\\\\\n",
       "\t  2.0769231  & 4.31360947  &  8.95903505\\\\\n",
       "\t -1.9230769  & 3.69822485  & -7.11197087\\\\\n",
       "\t  1.7692308  & 3.13017751  &  5.53800637\\\\\n",
       "\\end{tabular}\n"
      ],
      "text/markdown": [
       "\n",
       "1 | 2 | 3 | \n",
       "|---|---|---|---|---|---|\n",
       "| -1.4615385  | 2.13609467  | -3.12198452 | \n",
       "| -0.8461538  | 0.71597633  | -0.60582613 | \n",
       "|  0.2307692  | 0.05325444  |  0.01228949 | \n",
       "|  2.0769231  | 4.31360947  |  8.95903505 | \n",
       "| -1.9230769  | 3.69822485  | -7.11197087 | \n",
       "|  1.7692308  | 3.13017751  |  5.53800637 | \n",
       "\n",
       "\n"
      ],
      "text/plain": [
       "     1          2          3          \n",
       "[1,] -1.4615385 2.13609467 -3.12198452\n",
       "[2,] -0.8461538 0.71597633 -0.60582613\n",
       "[3,]  0.2307692 0.05325444  0.01228949\n",
       "[4,]  2.0769231 4.31360947  8.95903505\n",
       "[5,] -1.9230769 3.69822485 -7.11197087\n",
       "[6,]  1.7692308 3.13017751  5.53800637"
      ]
     },
     "metadata": {},
     "output_type": "display_data"
    }
   ],
   "source": [
    "x_3_b <- poly(x_train, 3,raw = T)\n",
    "head (x_3_b)"
   ]
  },
  {
   "cell_type": "code",
   "execution_count": 18,
   "metadata": {},
   "outputs": [
    {
     "data": {
      "text/html": [
       "<ol class=list-inline>\n",
       "\t<li>5.93</li>\n",
       "\t<li>5.07</li>\n",
       "</ol>\n"
      ],
      "text/latex": [
       "\\begin{enumerate*}\n",
       "\\item 5.93\n",
       "\\item 5.07\n",
       "\\end{enumerate*}\n"
      ],
      "text/markdown": [
       "1. 5.93\n",
       "2. 5.07\n",
       "\n",
       "\n"
      ],
      "text/plain": [
       "[1] 5.93 5.07"
      ]
     },
     "metadata": {},
     "output_type": "display_data"
    },
    {
     "data": {
      "text/html": [
       "'rss: 986.47'"
      ],
      "text/latex": [
       "'rss: 986.47'"
      ],
      "text/markdown": [
       "'rss: 986.47'"
      ],
      "text/plain": [
       "[1] \"rss: 986.47\""
      ]
     },
     "metadata": {},
     "output_type": "display_data"
    }
   ],
   "source": [
    "#::GMG::Prueba de funcionamiento\n",
    "mi_model <- mi_lm(x = poly(x_train, 1,raw = T), y = y_train)\n",
    "round(mi_model$coeficientes,2)\n",
    "paste('rss:',round(mi_model$rss,2))"
   ]
  },
  {
   "cell_type": "code",
   "execution_count": null,
   "metadata": {},
   "outputs": [],
   "source": [
    "#::GMG::La regresión lineal simple se puede hacer con lm()\n",
    "#::ISSUE::este problema lo planteaba para hacerlo\n",
    "#sin lm(). Hasta el momento te ha servido, pero lm() no tiene\n",
    "#implementada la regularización que viene a continuación.\n",
    "#model_1 <- lm(y_train~x_train)\n",
    "#print(round(model_1$coefficients,3))\n",
    "\n",
    "#::GMG:: El valor de loss/rss lo puedo calcular aquí con los 'residuos' \n",
    "#        que proporciona el objeto model_1\n",
    "#paste('rss:',round(sum(model_1$residuals^2),2),\n",
    "#      '(', round(rss(betas = model_1$coefficients, x = x_train, y = y_train),2), ')')"
   ]
  },
  {
   "cell_type": "code",
   "execution_count": null,
   "metadata": {},
   "outputs": [],
   "source": [
    "#::GMG::para el caso polinomial se puede usar lm() e I()\n",
    "# https://www.rdocumentation.org/packages/base/versions/3.5.1/topics/AsIs\n",
    "#model_2 <- lm(y_train~x_train + I(x_train^2))\n",
    "#print(round(model_2$coef,2))\n",
    "#paste('rss:',round(sum(model_2$residuals^2),2) ,\n",
    "#      '(', round(rss(betas = model_2$coefficients, \n",
    "#                     x = cbind(x_train, x_train^2), \n",
    "#                     y = y_train),2), ')'\n",
    "#)"
   ]
  },
  {
   "cell_type": "code",
   "execution_count": null,
   "metadata": {},
   "outputs": [],
   "source": [
    "#::GMG::Que es equivalente, usando lm() e poly()\n",
    "# https://www.rdocumentation.org/packages/stats/versions/3.5.1/topics/poly\n",
    "#model_2_b <- lm(y_train~poly(x_train, 2,raw = T))\n",
    "#print(round(as.vector(t(model_2_b$coef)),2))\n",
    "#paste('rss:',round(sum(model_2_b$residuals^2),2) ,\n",
    "#      '(', round(rss(betas = model_2_b$coefficients, \n",
    "#                     x = cbind(x_train, x_train^2), \n",
    "#                     y = y_train),2), ')'\n",
    "#)"
   ]
  },
  {
   "cell_type": "markdown",
   "metadata": {},
   "source": [
    "### Resultados"
   ]
  },
  {
   "cell_type": "code",
   "execution_count": null,
   "metadata": {},
   "outputs": [],
   "source": [
    "#::GMG::Usando lm(), poly() y residuals calculo y pinto los rss\n",
    "#       con polinomios de grado 2 a 7 para los 20 puntos de train\n",
    "\n",
    "#::ISSUE::este problema lo planteaba para hacerlo\n",
    "#sin lm(). Hasta el momento te ha servido, pero lm() no tiene\n",
    "#implementada la regularización que viene a continuación.\n",
    "\n",
    "# https://stackoverflow.com/questions/13444524/populating-a-list-with-lm-objects\n",
    "#model <- list()\n",
    "#loss <- c()\n",
    "##for (i in 1:7) {\n",
    "##    model[[i]] <- lm(y_train~poly(x_train, i,raw = T)) \n",
    "##    loss[i] <- sum(model[[i]]$residuals^2)\n",
    "##}\n",
    "#for (i in 1:7) {\n",
    "#    model[[i]] <- lm(y_train~poly(x_train, i,raw = T)) \n",
    "#    loss[i] <- rss(betas = model[[i]]$coefficients, \n",
    "#                   x = poly(x = x_train,degree = i, raw = T), \n",
    "#                   y = y_train)\n",
    "#}\n",
    "#model[[1]]\n",
    "#loss"
   ]
  },
  {
   "cell_type": "code",
   "execution_count": null,
   "metadata": {},
   "outputs": [],
   "source": [
    "# ::GMG::Pintamos los diferentes modelos que hemos obtenido en train \n",
    "#plot(x_train,y_train, pch = 16, cex = 1.3, col = \"blue\")\n",
    "#for (i in 1:7) {\n",
    "#  points(x_train, fitted(model[[i]]), col=i+1, pch=20, type='b')\n",
    "#}"
   ]
  },
  {
   "cell_type": "code",
   "execution_count": null,
   "metadata": {},
   "outputs": [],
   "source": [
    "#::GMG::Hago la predicción para los puntos de test\n",
    "#loss_pred <- c()\n",
    "#pred <- list()\n",
    "#for (i in 1:7) {\n",
    "#    pred[[i]] <- predict(model[[i]], newdata = data.frame(x_test,y_test))\n",
    "#    loss_pred[i] <- rss(betas = model[[i]]$coefficients, \n",
    "#                        x = poly(x = x_test,degree = i, raw = T), \n",
    "#                        y = y_test)\n",
    "#}"
   ]
  },
  {
   "cell_type": "code",
   "execution_count": null,
   "metadata": {},
   "outputs": [],
   "source": [
    "# https://stackoverflow.com/questions/47890742/logarithmic-scale-plot-in-r\n",
    "#log10Tck <- function(side, type){\n",
    "#   lim <- switch(side, \n",
    "#     x = par('usr')[1:2],\n",
    "#     y = par('usr')[3:4],\n",
    "#     stop(\"side argument must be 'x' or 'y'\"))\n",
    "#   at <- floor(lim[1]) : ceiling(lim[2])\n",
    "#   return(switch(type, \n",
    "#     minor = outer(1:9, 10^(min(at):max(at))),\n",
    "#     major = 10^at,\n",
    "#     stop(\"type argument must be 'major' or 'minor'\")\n",
    "#   ))\n",
    "#}"
   ]
  },
  {
   "cell_type": "code",
   "execution_count": null,
   "metadata": {},
   "outputs": [],
   "source": [
    "#::GMG::Dibujo la evolución de rss en función del grado para el test\n",
    "# https://stackoverflow.com/questions/47890742/logarithmic-scale-plot-in-r\n",
    "# http://www.sthda.com/english/wiki/axis-scale-in-r-software-minimum-maximum-and-log-scale\n",
    "# https://stat.ethz.ch/pipermail/r-help/2010-March/232593.html\n",
    "#plot(1:7,loss_pred, log='y', axes = F,\n",
    "#     type = 'b', col = 'red', \n",
    "#     xlab = 'grado', ylab = 'log(loss/rss) Test',\n",
    "#     panel.first=abline(v=c(1,2,3,4,5,6,7),\n",
    "#                        h=c(1e+04,1e+05,1e+06,1e+07,1e+08,1e+09), \n",
    "#                        lty=3,\n",
    "#                        col=\"gray\"),\n",
    "#     main = 'RSS/Loss Test regresión lineal polinomial')\n",
    "#axis(1) # normal x axis\n",
    "#axis(2, at=log10Tck('y','major'), tcl= 0.2)\n",
    "#axis(2, at=log10Tck('y','minor'), tcl= 0.1, labels=NA)"
   ]
  },
  {
   "cell_type": "code",
   "execution_count": null,
   "metadata": {},
   "outputs": [],
   "source": [
    "#::GMG::Pinto los modelos obtenidos para el test \n",
    "#plot(x_test,y_test, pch = 16, cex = 1.3, col = \"blue\")\n",
    "#for (i in 1:7) {\n",
    "#  points(x_test, pred[[i]], col=i+1, type = 'b')\n",
    "#}"
   ]
  },
  {
   "cell_type": "code",
   "execution_count": 22,
   "metadata": {},
   "outputs": [],
   "source": [
    "#::GMG::calculo y pinto los rss para el train com mi_lm() hasta grado 7\n",
    "model <- list()\n",
    "loss <- c()\n",
    "for (i in 1:7) {\n",
    "    model[[i]] <- mi_lm(x = poly(x_train, i,raw = T), y = y_train) \n",
    "    loss[i] <- model[[i]]$rss\n",
    "}"
   ]
  },
  {
   "cell_type": "code",
   "execution_count": 23,
   "metadata": {},
   "outputs": [
    {
     "data": {
      "image/png": "[encoded data removed]",
      "text/plain": [
       "Plot with title “RSS/Loss Train regresión lineal polinomial”"
      ]
     },
     "metadata": {},
     "output_type": "display_data"
    }
   ],
   "source": [
    "#::GMG::Dibujo la evolución de rss en función del grado\n",
    "plot(1:7,loss, type = 'b', col = 'blue', \n",
    "     xlab = 'grado', ylab = 'loss/rss Train', \n",
    "     main = 'RSS/Loss Train regresión lineal polinomial')"
   ]
  },
  {
   "cell_type": "code",
   "execution_count": 61,
   "metadata": {},
   "outputs": [],
   "source": [
    "#::GMG::Hago mi función predict con horner() y rss()\n",
    "mi_predict <- function (model,x,y) {\n",
    "    coef <- model$coeficientes\n",
    "    y_p <- horner(x = x, v = coef)\n",
    "    loss <- sum((y - y_p)^2)\n",
    "    #::nota::no me funciona (?)\n",
    "    #loss <- rss(betas = coef,x = x,y = y)\n",
    "    list(y_pred = y_p, rss = loss)\n",
    "}"
   ]
  },
  {
   "cell_type": "code",
   "execution_count": 65,
   "metadata": {},
   "outputs": [],
   "source": [
    "#::GMG::Hago la predicción en el conjunto de test para los modelos\n",
    "p <- list()\n",
    "loss <- c()\n",
    "for (i in 1:7) {\n",
    "    p[[i]] <- mi_predict(model = model[[i]],x_test, y_test)\n",
    "    loss[i] <- p[[i]]$rss\n",
    "}"
   ]
  },
  {
   "cell_type": "code",
   "execution_count": 67,
   "metadata": {},
   "outputs": [
    {
     "data": {
      "image/png": "[encoded data removed]",
      "text/plain": [
       "Plot with title “RSS/Loss Test regresión lineal polinomial”"
      ]
     },
     "metadata": {},
     "output_type": "display_data"
    }
   ],
   "source": [
    "#::GMG::Dibujo la evolución de rss en función del grado\n",
    "plot(1:7,loss, type = 'b', col = 'red', \n",
    "     xlab = 'grado', ylab = 'loss/rss Train', \n",
    "     main = 'RSS/Loss Test regresión lineal polinomial')"
   ]
  },
  {
   "cell_type": "markdown",
   "metadata": {},
   "source": [
    " 4. Escribe una función de R que encuentre el mínimo de la función de coste para el caso de regularización L2. El parámetro lambda será pasado como input. Utilízala para estimar las curvas que mejor ajustan para el caso de (4 parámetros, lambda = 0), (7 parámetros, lambda=0) y (7 parámetros, lambda=1000). Pinta todas las curvas juntas y escribe tus conclusiones. "
   ]
  },
  {
   "cell_type": "code",
   "execution_count": null,
   "metadata": {},
   "outputs": [],
   "source": []
  },
  {
   "cell_type": "markdown",
   "metadata": {},
   "source": [
    "5. Utiliza la función anterior para representar el valor de los parámetros del modelo en función de $\\lambda$. Prueba a representar la evolución de los coeficientes de un modelo de 11 parámetros."
   ]
  },
  {
   "cell_type": "code",
   "execution_count": null,
   "metadata": {},
   "outputs": [],
   "source": []
  }
 ],
 "metadata": {
  "kernelspec": {
   "display_name": "R",
   "language": "R",
   "name": "ir"
  },
  "language_info": {
   "codemirror_mode": "r",
   "file_extension": ".r",
   "mimetype": "text/x-r-source",
   "name": "R",
   "pygments_lexer": "r",
   "version": "3.4.4"
  }
 },
 "nbformat": 4,
 "nbformat_minor": 2
}
