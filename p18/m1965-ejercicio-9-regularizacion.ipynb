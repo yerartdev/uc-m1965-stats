{
 "cells": [
  {
   "cell_type": "markdown",
   "metadata": {},
   "source": [
    "# Alumno: Gerardo de Miguel González"
   ]
  },
  {
   "cell_type": "markdown",
   "metadata": {},
   "source": [
    "## Ejercicio de regularización"
   ]
  },
  {
   "cell_type": "markdown",
   "metadata": {},
   "source": [
    " 1. Escribe una función de R que reciba como input un vector \"x\" con la variable dependiente, un vector de parámetros \"betas\" que contenga los coeficientes de un polinomio y una sigma \"sigma\"; y que devuelva el vector dependiente que siga la ley polinomial dada con PDF gaussiana y sigma dada.  "
   ]
  },
  {
   "cell_type": "code",
   "execution_count": 1,
   "metadata": {},
   "outputs": [],
   "source": [
    "#::GMG::Algoritmo de Horner vectorizado para hallar el valor de un polinomio\n",
    "#       x: variable independiente\n",
    "#       v: vector de coeficientes en x^0, x^1, ..., x^p\n",
    "horner <- function(x, v) {\n",
    "  Reduce(v, right=T, f=function(a, b) {\n",
    "    b * x + a\n",
    "  })\n",
    "}"
   ]
  },
  {
   "cell_type": "code",
   "execution_count": 2,
   "metadata": {},
   "outputs": [],
   "source": [
    "#::GMG::Función que genera el polinomio junto con un ruido distribuido\n",
    "#       N(0,sigma)\n",
    "pol <- function (x,betas,sigma) {\n",
    "    return(horner(x,betas) + rnorm(length(x),0,sigma))\n",
    "}"
   ]
  },
  {
   "cell_type": "markdown",
   "metadata": {},
   "source": [
    " 2. Construye un vector de 40 elementos distribuido uniformemente entre [-3, 3]. Úsalo con la función anterior, el polinomio: $x^3 + 2 x^2 - x - 2$ y $\\sigma = 4$. Representa los datos resultantes."
   ]
  },
  {
   "cell_type": "code",
   "execution_count": 6,
   "metadata": {},
   "outputs": [
    {
     "data": {
      "image/png": "[encoded data removed]",
      "text/plain": [
       "plot without title"
      ]
     },
     "metadata": {},
     "output_type": "display_data"
    }
   ],
   "source": [
    "#::GMG::Nube de puntos del polinonio solicitado con el ruido gaussiano\n",
    "set.seed(1)\n",
    "x <- seq(from = -3, to = 3, by = .15)\n",
    "beta <- c(-2,-1,2,1)\n",
    "sigma <- 2\n",
    "y <- pol(x,beta,sigma)\n",
    "plot(x,y)"
   ]
  },
  {
   "cell_type": "markdown",
   "metadata": {},
   "source": [
    " 3. Calcula el valor mínimo de la función de coste (_loss_, RSS) para el caso en que hacemos un ajuste con una recta (dos parámetros), una parábola (tres parámetros), 4, 5, 6 y 7 parámetros, usando los primeros 20 puntos. Con los valores que hacen mínimo el RSS para la muestra de entrenamiento, calcula el RSS para los siguientes 20 puntos. Pinta los resultados en función del número de parámetros para ambos casos."
   ]
  },
  {
   "cell_type": "markdown",
   "metadata": {},
   "source": [
    "### Función de coste"
   ]
  },
  {
   "cell_type": "code",
   "execution_count": 42,
   "metadata": {},
   "outputs": [],
   "source": [
    "#::GMG::Primero definimos la función de coste (sse)\n",
    "#::nota::beta es el vector de coeficientes de regresión, i.e \n",
    "#        beta_0, beta_1, ... beta_p\n",
    "#        x es la \"matriz de diseño\"\n",
    "sse <- function(beta,x,y) {\n",
    "    beta.m <- as.matrix(beta)\n",
    "    y.m <- as.matrix(y)\n",
    "    X <- as.matrix(cbind(1,x))\n",
    "    return (t(y.m - X %*% beta.m) %*% (y.m - X %*% beta.m))\n",
    "}"
   ]
  },
  {
   "cell_type": "markdown",
   "metadata": {},
   "source": [
    "### Train"
   ]
  },
  {
   "cell_type": "code",
   "execution_count": 13,
   "metadata": {},
   "outputs": [],
   "source": [
    "#::GMG::Selecciono los \"primeros 20 puntos\" como \"train\"\n",
    "x_20 <- x[1:20]\n",
    "y_20 <- y[1:20]"
   ]
  },
  {
   "cell_type": "markdown",
   "metadata": {},
   "source": [
    "#### Recta (dos parámetros)"
   ]
  },
  {
   "cell_type": "code",
   "execution_count": 16,
   "metadata": {},
   "outputs": [
    {
     "name": "stdout",
     "output_type": "stream",
     "text": [
      "intercept      x_20 \n",
      " 1.762206  1.771767 \n"
     ]
    }
   ],
   "source": [
    "#::GMG::Hablamos primero de una regresión lineal con intercept y slope\n",
    "#       La hago primero de forma \"manual\": calculo los dos parámetros\n",
    "#::nota::caso recta, i.e polinomio de grado 1\n",
    "X <- cbind(rep(1,20), x_20)\n",
    "Y <- matrix(y_20, nrow=20)\n",
    "b_hat <- solve(t(X)%*%X)%*%t(X)%*%Y\n",
    "b_0_hat <- b_hat[1,1]\n",
    "b_1_hat <- b_hat[2,1]\n",
    "p_lm <- c(b_0_hat,b_1_hat)\n",
    "names(p_lm) <- c('intercept','x_20')\n",
    "print(p_lm)"
   ]
  },
  {
   "cell_type": "code",
   "execution_count": 46,
   "metadata": {},
   "outputs": [
    {
     "data": {
      "text/html": [
       "'sse mínimo: 141.79'"
      ],
      "text/latex": [
       "'sse mínimo: 141.79'"
      ],
      "text/markdown": [
       "'sse mínimo: 141.79'"
      ],
      "text/plain": [
       "[1] \"sse mínimo: 141.79\""
      ]
     },
     "metadata": {},
     "output_type": "display_data"
    }
   ],
   "source": [
    "paste('sse mínimo:', \n",
    "      round(sse(beta = p_lm, x = x_20, y = y_20),2))"
   ]
  },
  {
   "cell_type": "code",
   "execution_count": 47,
   "metadata": {},
   "outputs": [
    {
     "data": {
      "text/html": [
       "'mse: 7.88'"
      ],
      "text/latex": [
       "'mse: 7.88'"
      ],
      "text/markdown": [
       "'mse: 7.88'"
      ],
      "text/plain": [
       "[1] \"mse: 7.88\""
      ]
     },
     "metadata": {},
     "output_type": "display_data"
    }
   ],
   "source": [
    "#::GMG::El error se reporta como MSE = SSE/(n - p)\n",
    "paste('mse:', \n",
    "      round(sse(beta = p_lm, x = x_20, y = y_20)/(length(x_20) - length(p_lm)),2))"
   ]
  },
  {
   "cell_type": "code",
   "execution_count": 32,
   "metadata": {},
   "outputs": [
    {
     "data": {
      "text/html": [
       "<dl class=dl-horizontal>\n",
       "\t<dt>(Intercept)</dt>\n",
       "\t\t<dd>1.76220619251292</dd>\n",
       "\t<dt>x_20</dt>\n",
       "\t\t<dd>1.77176726361884</dd>\n",
       "</dl>\n"
      ],
      "text/latex": [
       "\\begin{description*}\n",
       "\\item[(Intercept)] 1.76220619251292\n",
       "\\item[x\\textbackslash{}\\_20] 1.77176726361884\n",
       "\\end{description*}\n"
      ],
      "text/markdown": [
       "(Intercept)\n",
       ":   1.76220619251292x_20\n",
       ":   1.77176726361884\n",
       "\n"
      ],
      "text/plain": [
       "(Intercept)        x_20 \n",
       "   1.762206    1.771767 "
      ]
     },
     "metadata": {},
     "output_type": "display_data"
    }
   ],
   "source": [
    "#::GMG::Esto se puede hacer también con R lm()\n",
    "model_1 <- lm(y_20~x_20)\n",
    "model_1$coefficients"
   ]
  },
  {
   "cell_type": "code",
   "execution_count": 49,
   "metadata": {},
   "outputs": [
    {
     "data": {
      "text/html": [
       "'mse: 7.88'"
      ],
      "text/latex": [
       "'mse: 7.88'"
      ],
      "text/markdown": [
       "'mse: 7.88'"
      ],
      "text/plain": [
       "[1] \"mse: 7.88\""
      ]
     },
     "metadata": {},
     "output_type": "display_data"
    }
   ],
   "source": [
    "#::GMG:: El error al utilizar least squares es de nuevo MSE =SSE/(n-p)\n",
    "#::nota:: se puede sacar también con summary(model)$sigma^2\n",
    "paste('mse:',\n",
    "    round(\n",
    "        sum(model_1$residuals^2)/(length(model_1$residuals)- length(model_1$coefficients)),2\n",
    "    )\n",
    ")"
   ]
  },
  {
   "cell_type": "code",
   "execution_count": 33,
   "metadata": {},
   "outputs": [
    {
     "data": {
      "image/png": "[encoded data removed]",
      "text/plain": [
       "plot without title"
      ]
     },
     "metadata": {},
     "output_type": "display_data"
    }
   ],
   "source": [
    "#::GMG::Pintamos el resultado\n",
    "plot(x_20,y_20, pch = 16, cex = 1.3, col = \"blue\")\n",
    "#abline(model_1, col = 'red')\n",
    "abline(pol())"
   ]
  },
  {
   "cell_type": "code",
   "execution_count": 57,
   "metadata": {},
   "outputs": [
    {
     "data": {
      "text/html": [
       "<table>\n",
       "<tbody>\n",
       "\t<tr><td>-3.00    </td><td>9.0000   </td><td>-27.00000</td></tr>\n",
       "\t<tr><td>-2.85    </td><td>8.1225   </td><td>-23.14913</td></tr>\n",
       "\t<tr><td>-2.70    </td><td>7.2900   </td><td>-19.68300</td></tr>\n",
       "\t<tr><td>-2.55    </td><td>6.5025   </td><td>-16.58137</td></tr>\n",
       "\t<tr><td>-2.40    </td><td>5.7600   </td><td>-13.82400</td></tr>\n",
       "\t<tr><td>-2.25    </td><td>5.0625   </td><td>-11.39062</td></tr>\n",
       "</tbody>\n",
       "</table>\n"
      ],
      "text/latex": [
       "\\begin{tabular}{lll}\n",
       "\t -3.00     & 9.0000    & -27.00000\\\\\n",
       "\t -2.85     & 8.1225    & -23.14913\\\\\n",
       "\t -2.70     & 7.2900    & -19.68300\\\\\n",
       "\t -2.55     & 6.5025    & -16.58137\\\\\n",
       "\t -2.40     & 5.7600    & -13.82400\\\\\n",
       "\t -2.25     & 5.0625    & -11.39062\\\\\n",
       "\\end{tabular}\n"
      ],
      "text/markdown": [
       "\n",
       "| -3.00     | 9.0000    | -27.00000 | \n",
       "| -2.85     | 8.1225    | -23.14913 | \n",
       "| -2.70     | 7.2900    | -19.68300 | \n",
       "| -2.55     | 6.5025    | -16.58137 | \n",
       "| -2.40     | 5.7600    | -13.82400 | \n",
       "| -2.25     | 5.0625    | -11.39062 | \n",
       "\n",
       "\n"
      ],
      "text/plain": [
       "     [,1]  [,2]   [,3]     \n",
       "[1,] -3.00 9.0000 -27.00000\n",
       "[2,] -2.85 8.1225 -23.14913\n",
       "[3,] -2.70 7.2900 -19.68300\n",
       "[4,] -2.55 6.5025 -16.58137\n",
       "[5,] -2.40 5.7600 -13.82400\n",
       "[6,] -2.25 5.0625 -11.39062"
      ]
     },
     "metadata": {},
     "output_type": "display_data"
    }
   ],
   "source": [
    "i <- 3\n",
    "x_3 <- cbind(x_20^1,x_20^2,x_20^3)\n",
    "head(x_3)"
   ]
  },
  {
   "cell_type": "code",
   "execution_count": 75,
   "metadata": {},
   "outputs": [
    {
     "data": {
      "text/html": [
       "<table>\n",
       "<thead><tr><th scope=col></th><th scope=col>1</th><th scope=col>2</th><th scope=col>3</th></tr></thead>\n",
       "<tbody>\n",
       "\t<tr><td>1         </td><td>-3.00     </td><td>9.0000    </td><td>-27.000000</td></tr>\n",
       "\t<tr><td>1         </td><td>-2.85     </td><td>8.1225    </td><td>-23.149125</td></tr>\n",
       "\t<tr><td>1         </td><td>-2.70     </td><td>7.2900    </td><td>-19.683000</td></tr>\n",
       "\t<tr><td>1         </td><td>-2.55     </td><td>6.5025    </td><td>-16.581375</td></tr>\n",
       "\t<tr><td>1         </td><td>-2.40     </td><td>5.7600    </td><td>-13.824000</td></tr>\n",
       "\t<tr><td>1         </td><td>-2.25     </td><td>5.0625    </td><td>-11.390625</td></tr>\n",
       "\t<tr><td>1         </td><td>-2.10     </td><td>4.4100    </td><td> -9.261000</td></tr>\n",
       "\t<tr><td>1         </td><td>-1.95     </td><td>3.8025    </td><td> -7.414875</td></tr>\n",
       "\t<tr><td>1         </td><td>-1.80     </td><td>3.2400    </td><td> -5.832000</td></tr>\n",
       "\t<tr><td>1         </td><td>-1.65     </td><td>2.7225    </td><td> -4.492125</td></tr>\n",
       "\t<tr><td>1         </td><td>-1.50     </td><td>2.2500    </td><td> -3.375000</td></tr>\n",
       "\t<tr><td>1         </td><td>-1.35     </td><td>1.8225    </td><td> -2.460375</td></tr>\n",
       "\t<tr><td>1         </td><td>-1.20     </td><td>1.4400    </td><td> -1.728000</td></tr>\n",
       "\t<tr><td>1         </td><td>-1.05     </td><td>1.1025    </td><td> -1.157625</td></tr>\n",
       "\t<tr><td>1         </td><td>-0.90     </td><td>0.8100    </td><td> -0.729000</td></tr>\n",
       "\t<tr><td>1         </td><td>-0.75     </td><td>0.5625    </td><td> -0.421875</td></tr>\n",
       "\t<tr><td>1         </td><td>-0.60     </td><td>0.3600    </td><td> -0.216000</td></tr>\n",
       "\t<tr><td>1         </td><td>-0.45     </td><td>0.2025    </td><td> -0.091125</td></tr>\n",
       "\t<tr><td>1         </td><td>-0.30     </td><td>0.0900    </td><td> -0.027000</td></tr>\n",
       "\t<tr><td>1         </td><td>-0.15     </td><td>0.0225    </td><td> -0.003375</td></tr>\n",
       "</tbody>\n",
       "</table>\n"
      ],
      "text/latex": [
       "\\begin{tabular}{llll}\n",
       "  & 1 & 2 & 3\\\\\n",
       "\\hline\n",
       "\t 1          & -3.00      & 9.0000     & -27.000000\\\\\n",
       "\t 1          & -2.85      & 8.1225     & -23.149125\\\\\n",
       "\t 1          & -2.70      & 7.2900     & -19.683000\\\\\n",
       "\t 1          & -2.55      & 6.5025     & -16.581375\\\\\n",
       "\t 1          & -2.40      & 5.7600     & -13.824000\\\\\n",
       "\t 1          & -2.25      & 5.0625     & -11.390625\\\\\n",
       "\t 1          & -2.10      & 4.4100     &  -9.261000\\\\\n",
       "\t 1          & -1.95      & 3.8025     &  -7.414875\\\\\n",
       "\t 1          & -1.80      & 3.2400     &  -5.832000\\\\\n",
       "\t 1          & -1.65      & 2.7225     &  -4.492125\\\\\n",
       "\t 1          & -1.50      & 2.2500     &  -3.375000\\\\\n",
       "\t 1          & -1.35      & 1.8225     &  -2.460375\\\\\n",
       "\t 1          & -1.20      & 1.4400     &  -1.728000\\\\\n",
       "\t 1          & -1.05      & 1.1025     &  -1.157625\\\\\n",
       "\t 1          & -0.90      & 0.8100     &  -0.729000\\\\\n",
       "\t 1          & -0.75      & 0.5625     &  -0.421875\\\\\n",
       "\t 1          & -0.60      & 0.3600     &  -0.216000\\\\\n",
       "\t 1          & -0.45      & 0.2025     &  -0.091125\\\\\n",
       "\t 1          & -0.30      & 0.0900     &  -0.027000\\\\\n",
       "\t 1          & -0.15      & 0.0225     &  -0.003375\\\\\n",
       "\\end{tabular}\n"
      ],
      "text/markdown": [
       "\n",
       " | 1 | 2 | 3 | \n",
       "|---|---|---|---|---|---|---|---|---|---|---|---|---|---|---|---|---|---|---|---|\n",
       "| 1          | -3.00      | 9.0000     | -27.000000 | \n",
       "| 1          | -2.85      | 8.1225     | -23.149125 | \n",
       "| 1          | -2.70      | 7.2900     | -19.683000 | \n",
       "| 1          | -2.55      | 6.5025     | -16.581375 | \n",
       "| 1          | -2.40      | 5.7600     | -13.824000 | \n",
       "| 1          | -2.25      | 5.0625     | -11.390625 | \n",
       "| 1          | -2.10      | 4.4100     |  -9.261000 | \n",
       "| 1          | -1.95      | 3.8025     |  -7.414875 | \n",
       "| 1          | -1.80      | 3.2400     |  -5.832000 | \n",
       "| 1          | -1.65      | 2.7225     |  -4.492125 | \n",
       "| 1          | -1.50      | 2.2500     |  -3.375000 | \n",
       "| 1          | -1.35      | 1.8225     |  -2.460375 | \n",
       "| 1          | -1.20      | 1.4400     |  -1.728000 | \n",
       "| 1          | -1.05      | 1.1025     |  -1.157625 | \n",
       "| 1          | -0.90      | 0.8100     |  -0.729000 | \n",
       "| 1          | -0.75      | 0.5625     |  -0.421875 | \n",
       "| 1          | -0.60      | 0.3600     |  -0.216000 | \n",
       "| 1          | -0.45      | 0.2025     |  -0.091125 | \n",
       "| 1          | -0.30      | 0.0900     |  -0.027000 | \n",
       "| 1          | -0.15      | 0.0225     |  -0.003375 | \n",
       "\n",
       "\n"
      ],
      "text/plain": [
       "        1     2      3         \n",
       " [1,] 1 -3.00 9.0000 -27.000000\n",
       " [2,] 1 -2.85 8.1225 -23.149125\n",
       " [3,] 1 -2.70 7.2900 -19.683000\n",
       " [4,] 1 -2.55 6.5025 -16.581375\n",
       " [5,] 1 -2.40 5.7600 -13.824000\n",
       " [6,] 1 -2.25 5.0625 -11.390625\n",
       " [7,] 1 -2.10 4.4100  -9.261000\n",
       " [8,] 1 -1.95 3.8025  -7.414875\n",
       " [9,] 1 -1.80 3.2400  -5.832000\n",
       "[10,] 1 -1.65 2.7225  -4.492125\n",
       "[11,] 1 -1.50 2.2500  -3.375000\n",
       "[12,] 1 -1.35 1.8225  -2.460375\n",
       "[13,] 1 -1.20 1.4400  -1.728000\n",
       "[14,] 1 -1.05 1.1025  -1.157625\n",
       "[15,] 1 -0.90 0.8100  -0.729000\n",
       "[16,] 1 -0.75 0.5625  -0.421875\n",
       "[17,] 1 -0.60 0.3600  -0.216000\n",
       "[18,] 1 -0.45 0.2025  -0.091125\n",
       "[19,] 1 -0.30 0.0900  -0.027000\n",
       "[20,] 1 -0.15 0.0225  -0.003375"
      ]
     },
     "metadata": {},
     "output_type": "display_data"
    }
   ],
   "source": [
    "cbind(1, poly(x_20, 3,raw = T))"
   ]
  },
  {
   "cell_type": "code",
   "execution_count": 35,
   "metadata": {},
   "outputs": [
    {
     "name": "stderr",
     "output_type": "stream",
     "text": [
      "Warning message in model[i] <- glm(y_20 ~ poly(x = x_20, degree = i)):\n",
      "“number of items to replace is not a multiple of replacement length”Warning message in model[i] <- glm(y_20 ~ poly(x = x_20, degree = i)):\n",
      "“number of items to replace is not a multiple of replacement length”Warning message in model[i] <- glm(y_20 ~ poly(x = x_20, degree = i)):\n",
      "“number of items to replace is not a multiple of replacement length”Warning message in model[i] <- glm(y_20 ~ poly(x = x_20, degree = i)):\n",
      "“number of items to replace is not a multiple of replacement length”Warning message in model[i] <- glm(y_20 ~ poly(x = x_20, degree = i)):\n",
      "“number of items to replace is not a multiple of replacement length”Warning message in model[i] <- glm(y_20 ~ poly(x = x_20, degree = i)):\n",
      "“number of items to replace is not a multiple of replacement length”Warning message in model[i] <- glm(y_20 ~ poly(x = x_20, degree = i)):\n",
      "“number of items to replace is not a multiple of replacement length”"
     ]
    }
   ],
   "source": [
    "#::GMG::Para el caso de modelos de más parámetros usamos glm()\n",
    "#::nota::Esto lo vimos en la práctica de clasificación lineal de Daniel\n",
    "# https://www.statmethods.net/advstats/glm.html\n",
    "# https://www.rdocumentation.org/packages/stats/versions/3.5.1/topics/glm\n",
    "model <- c()\n",
    "mse <- c()\n",
    "for (i in 1:7) {\n",
    "    model[i] <- glm(y_20~poly(x = x_20,degree = i))\n",
    "    mse[i] <- sum(model[i]$residuals^2)/(\n",
    "                     length(model[i]$residuals) - length(model[i]$coefficients)\n",
    "                     )\n",
    "}"
   ]
  },
  {
   "cell_type": "code",
   "execution_count": 36,
   "metadata": {},
   "outputs": [
    {
     "data": {
      "text/html": [
       "NaN"
      ],
      "text/latex": [
       "NaN"
      ],
      "text/markdown": [
       "NaN"
      ],
      "text/plain": [
       "[1] NaN"
      ]
     },
     "metadata": {},
     "output_type": "display_data"
    }
   ],
   "source": [
    "mse[1]"
   ]
  },
  {
   "cell_type": "code",
   "execution_count": 31,
   "metadata": {},
   "outputs": [
    {
     "data": {
      "text/html": [
       "<span style=white-space:pre-wrap>'4.638  -  3.456'</span>"
      ],
      "text/latex": [
       "'4.638  -  3.456'"
      ],
      "text/markdown": [
       "<span style=white-space:pre-wrap>'4.638  -  3.456'</span>"
      ],
      "text/plain": [
       "[1] \"4.638  -  3.456\""
      ]
     },
     "metadata": {},
     "output_type": "display_data"
    }
   ],
   "source": [
    "paste('',\n",
    "    round(\n",
    "        sum(model_2$residuals^2)/(length(model_2$residuals)- length(model_2$coefficients)),3\n",
    "    ), ' - ',\n",
    "    round(\n",
    "        sum(model_3$residuals^2)/(length(model_3$residuals)- length(model_3$coefficients)),3\n",
    "    )\n",
    ")"
   ]
  },
  {
   "cell_type": "markdown",
   "metadata": {},
   "source": [
    " 4. Escribe una función de R que encuentre el mínimo de la función de coste para el caso de regularización L2. El parámetro lambda será pasado como input. Utilízala para estimar las curvas que mejor ajustan para el caso de (4 parámetros, lambda = 0), (7 parámetros, lambda=0) y (7 parámetros, lambda=1000). Pinta todas las curvas juntas y escribe tus conclusiones. "
   ]
  },
  {
   "cell_type": "code",
   "execution_count": null,
   "metadata": {},
   "outputs": [],
   "source": []
  },
  {
   "cell_type": "markdown",
   "metadata": {},
   "source": [
    "5. Utiliza la función anterior para representar el valor de los parámetros del modelo en función de $\\lambda$. Prueba a representar la evolución de los coeficientes de un modelo de 11 parámetros."
   ]
  },
  {
   "cell_type": "code",
   "execution_count": null,
   "metadata": {},
   "outputs": [],
   "source": []
  }
 ],
 "metadata": {
  "kernelspec": {
   "display_name": "R",
   "language": "R",
   "name": "ir"
  },
  "language_info": {
   "codemirror_mode": "r",
   "file_extension": ".r",
   "mimetype": "text/x-r-source",
   "name": "R",
   "pygments_lexer": "r",
   "version": "3.4.4"
  }
 },
 "nbformat": 4,
 "nbformat_minor": 2
}
