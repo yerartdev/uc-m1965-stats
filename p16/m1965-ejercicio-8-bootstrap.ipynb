{
 "cells": [
  {
   "cell_type": "raw",
   "metadata": {},
   "source": [
    "Escribe una función de R que reciba un vector de números x (la muestra), y genere una muestra bootstrap de ese vector."
   ]
  },
  {
   "cell_type": "code",
   "execution_count": null,
   "metadata": {},
   "outputs": [],
   "source": []
  },
  {
   "cell_type": "raw",
   "metadata": {},
   "source": [
    "Utilizando la función anterior, escribe una función que reciba un vector de números x (la muestra original) y un número natural N, y que genere una matrix que tenga N columnas, siendo cada una una de las muestras de bootstrap."
   ]
  },
  {
   "cell_type": "code",
   "execution_count": null,
   "metadata": {},
   "outputs": [],
   "source": []
  },
  {
   "cell_type": "raw",
   "metadata": {},
   "source": [
    "Escribe una función de R que reciba un vector de números x (la muestra) y genere una matriz que contenta TODAS las muestras jacknife con el mismo formato del ejercicio anterior."
   ]
  },
  {
   "cell_type": "code",
   "execution_count": null,
   "metadata": {},
   "outputs": [],
   "source": []
  },
  {
   "cell_type": "raw",
   "metadata": {},
   "source": [
    "Utilizando las funciones anteriores considera la desviación estándar de la media muestral para una muestra de N=10000 que se distribuya como en el ejercicio 1 (gaussiana centrada en 1.70m y sigma=1.7). Compara la desviación estándar obtenida, con la obtenida con bootstrap."
   ]
  },
  {
   "cell_type": "code",
   "execution_count": null,
   "metadata": {},
   "outputs": [],
   "source": []
  },
  {
   "cell_type": "raw",
   "metadata": {},
   "source": [
    "Repite el ejercicio anterior utilizando la técnica jackknife. ¿Cuál da mejor resultado?   "
   ]
  },
  {
   "cell_type": "code",
   "execution_count": null,
   "metadata": {},
   "outputs": [],
   "source": []
  }
 ],
 "metadata": {
  "kernelspec": {
   "display_name": "R",
   "language": "R",
   "name": "ir"
  },
  "language_info": {
   "codemirror_mode": "r",
   "file_extension": ".r",
   "mimetype": "text/x-r-source",
   "name": "R",
   "pygments_lexer": "r",
   "version": "3.4.4"
  }
 },
 "nbformat": 4,
 "nbformat_minor": 2
}
