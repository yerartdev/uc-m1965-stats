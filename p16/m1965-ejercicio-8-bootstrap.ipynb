{
 "cells": [
  {
   "cell_type": "markdown",
   "metadata": {},
   "source": [
    "## Alumno: Gerardo de Miguel González"
   ]
  },
  {
   "cell_type": "markdown",
   "metadata": {},
   "source": [
    "### A. Funciones"
   ]
  },
  {
   "cell_type": "markdown",
   "metadata": {},
   "source": [
    "1. Escribe una función de R que reciba un vector de números x (la muestra), y genere una muestra bootstrap de ese vector."
   ]
  },
  {
   "cell_type": "code",
   "execution_count": 17,
   "metadata": {},
   "outputs": [],
   "source": [
    "set.seed(1)"
   ]
  },
  {
   "cell_type": "code",
   "execution_count": 18,
   "metadata": {},
   "outputs": [],
   "source": [
    "#::GMG::Mi función con replicate() y sample()\n",
    "#::nota::implementación ineficiente\n",
    "#mi.bootstrap <- function (v) {\n",
    "#    return (replicate(n = length(v), expr = sample(x = v, size = 1, replace = TRUE)))\n",
    "#}\n",
    "# https://www.rdocumentation.org/packages/base/versions/3.5.2/topics/sample\n",
    "mi.bootstrap <- function (v) {\n",
    "    return(sample(v, replace = TRUE))\n",
    "}"
   ]
  },
  {
   "cell_type": "code",
   "execution_count": 19,
   "metadata": {},
   "outputs": [
    {
     "data": {
      "text/html": [
       "<ol class=list-inline>\n",
       "\t<li>3</li>\n",
       "\t<li>1</li>\n",
       "\t<li>7</li>\n",
       "\t<li>2</li>\n",
       "\t<li>3</li>\n",
       "\t<li>2</li>\n",
       "</ol>\n"
      ],
      "text/latex": [
       "\\begin{enumerate*}\n",
       "\\item 3\n",
       "\\item 1\n",
       "\\item 7\n",
       "\\item 2\n",
       "\\item 3\n",
       "\\item 2\n",
       "\\end{enumerate*}\n"
      ],
      "text/markdown": [
       "1. 3\n",
       "2. 1\n",
       "3. 7\n",
       "4. 2\n",
       "5. 3\n",
       "6. 2\n",
       "\n",
       "\n"
      ],
      "text/plain": [
       "[1] 3 1 7 2 3 2"
      ]
     },
     "metadata": {},
     "output_type": "display_data"
    }
   ],
   "source": [
    "#::GMG::Ejemplo\n",
    "x <- c(5,3,1,7,9,2)\n",
    "mi.bootstrap(x)"
   ]
  },
  {
   "cell_type": "markdown",
   "metadata": {},
   "source": [
    "2. Utilizando la función anterior, escribe una función que reciba un vector de números x (la muestra original) y un número natural N, y que genere una matrix que tenga N columnas, siendo cada una una de las muestras de bootstrap."
   ]
  },
  {
   "cell_type": "code",
   "execution_count": 20,
   "metadata": {},
   "outputs": [],
   "source": [
    "#::GMG::Mi función, de nuevo con replicate(), ahora genero una matriz de length(v)xN\n",
    "genera.bootstrap <- function(v, N = 10000) {\n",
    "    return(replicate(n = N,expr = mi.bootstrap(v)))\n",
    "}"
   ]
  },
  {
   "cell_type": "code",
   "execution_count": 21,
   "metadata": {},
   "outputs": [
    {
     "data": {
      "text/html": [
       "<ol class=list-inline>\n",
       "\t<li>6</li>\n",
       "\t<li>10</li>\n",
       "</ol>\n"
      ],
      "text/latex": [
       "\\begin{enumerate*}\n",
       "\\item 6\n",
       "\\item 10\n",
       "\\end{enumerate*}\n"
      ],
      "text/markdown": [
       "1. 6\n",
       "2. 10\n",
       "\n",
       "\n"
      ],
      "text/plain": [
       "[1]  6 10"
      ]
     },
     "metadata": {},
     "output_type": "display_data"
    },
    {
     "name": "stdout",
     "output_type": "stream",
     "text": [
      "     [,1] [,2] [,3] [,4] [,5] [,6] [,7] [,8] [,9] [,10]\n",
      "[1,]    2    9    1    3    1    9    9    9    5     2\n",
      "[2,]    7    1    9    1    7    5    7    9    5     3\n",
      "[3,]    7    9    2    5    1    9    7    1    3     1\n",
      "[4,]    5    1    3    1    3    1    9    2    7     3\n",
      "[5,]    3    9    7    2    9    9    5    1    7     7\n",
      "[6,]    3    2    5    1    9    7    1    3    1     3\n"
     ]
    }
   ],
   "source": [
    "#::GMG::Ejemplo\n",
    "matriz.bootstraps <- genera.bootstrap(x,10)\n",
    "dim(matriz.bootstraps)\n",
    "print(matriz.bootstraps)"
   ]
  },
  {
   "cell_type": "markdown",
   "metadata": {},
   "source": [
    "3. Escribe una función de R que reciba un vector de números x (la muestra) y genere una matriz que contenta TODAS las muestras jacknife con el mismo formato del ejercicio anterior."
   ]
  },
  {
   "cell_type": "code",
   "execution_count": 22,
   "metadata": {},
   "outputs": [],
   "source": [
    "#::GMG::Implemento mi función que genera jackknife \"N-1\"\n",
    "genera.jackknife <- function(v) {\n",
    "    M <- matrix(nrow = length(v)-1, ncol = length(v))\n",
    "    for (i in 1:length(v)) {\n",
    "        M[,i] <- v[-i]\n",
    "    }\n",
    "    return(M)\n",
    "}"
   ]
  },
  {
   "cell_type": "code",
   "execution_count": 24,
   "metadata": {},
   "outputs": [
    {
     "data": {
      "text/html": [
       "<ol class=list-inline>\n",
       "\t<li>5</li>\n",
       "\t<li>6</li>\n",
       "</ol>\n"
      ],
      "text/latex": [
       "\\begin{enumerate*}\n",
       "\\item 5\n",
       "\\item 6\n",
       "\\end{enumerate*}\n"
      ],
      "text/markdown": [
       "1. 5\n",
       "2. 6\n",
       "\n",
       "\n"
      ],
      "text/plain": [
       "[1] 5 6"
      ]
     },
     "metadata": {},
     "output_type": "display_data"
    },
    {
     "name": "stdout",
     "output_type": "stream",
     "text": [
      "     [,1] [,2] [,3] [,4] [,5] [,6]\n",
      "[1,]    3    5    5    5    5    5\n",
      "[2,]    1    1    3    3    3    3\n",
      "[3,]    7    7    7    1    1    1\n",
      "[4,]    9    9    9    9    7    7\n",
      "[5,]    2    2    2    2    2    9\n"
     ]
    }
   ],
   "source": [
    "#::GMG::Ejemplo\n",
    "matriz.jackknife <-genera.jackknife(x)\n",
    "dim(matriz.jackknife)\n",
    "print(matriz.jackknife)"
   ]
  },
  {
   "cell_type": "markdown",
   "metadata": {},
   "source": [
    "### B. Bootstrap"
   ]
  },
  {
   "cell_type": "markdown",
   "metadata": {},
   "source": [
    "4. Utilizando las funciones anteriores considera la desviación estándar de la media muestral para una muestra de N=10000 que se distribuya como en el ejercicio 1 (gaussiana centrada en 1.78m y sigma=0.1m). Compara la desviación estándar obtenida, con la obtenida con bootstrap."
   ]
  },
  {
   "cell_type": "markdown",
   "metadata": {},
   "source": [
    "**::GMG::** Aquí conocemos la variable aleatoria X, su pdf, $X \\sim \\mathcal{N}\\left(\\mu_X, {\\sigma_X}\\right)$, su media poblacional $\\mu_X$ y su desviación tipica poblacional $\\sigma_X$ (y por lo tanto su varianza poblacional $\\sigma_X^2$)"
   ]
  },
  {
   "cell_type": "code",
   "execution_count": 25,
   "metadata": {},
   "outputs": [],
   "source": [
    "#::GMG::Genero la muestra de tamaño 10000 con distribución normal que me piden\n",
    "set.seed(1)\n",
    "mu <- 1.78\n",
    "sigma <- 0.1\n",
    "muestra <- rnorm(n = 10000,mean = 1.78,sd =0.1)"
   ]
  },
  {
   "cell_type": "code",
   "execution_count": 26,
   "metadata": {},
   "outputs": [
    {
     "data": {
      "text/html": [
       "'Una muestra de tamaño 10000 con media muestral 1.77935 y varianza muestral 0.01025 y desviación estándar muestral 0.10124'"
      ],
      "text/latex": [
       "'Una muestra de tamaño 10000 con media muestral 1.77935 y varianza muestral 0.01025 y desviación estándar muestral 0.10124'"
      ],
      "text/markdown": [
       "'Una muestra de tamaño 10000 con media muestral 1.77935 y varianza muestral 0.01025 y desviación estándar muestral 0.10124'"
      ],
      "text/plain": [
       "[1] \"Una muestra de tamaño 10000 con media muestral 1.77935 y varianza muestral 0.01025 y desviación estándar muestral 0.10124\""
      ]
     },
     "metadata": {},
     "output_type": "display_data"
    },
    {
     "data": {
      "text/html": [
       "'La media de la población es 1.78 la varianza de la población 0.01 y finalmente, la desviación estándar 0.1'"
      ],
      "text/latex": [
       "'La media de la población es 1.78 la varianza de la población 0.01 y finalmente, la desviación estándar 0.1'"
      ],
      "text/markdown": [
       "'La media de la población es 1.78 la varianza de la población 0.01 y finalmente, la desviación estándar 0.1'"
      ],
      "text/plain": [
       "[1] \"La media de la población es 1.78 la varianza de la población 0.01 y finalmente, la desviación estándar 0.1\""
      ]
     },
     "metadata": {},
     "output_type": "display_data"
    }
   ],
   "source": [
    "paste('Una muestra de tamaño',length(muestra),\n",
    "      'con media muestral', round(mean(muestra),5),\n",
    "      'y varianza muestral',round(var(muestra),5),\n",
    "      'y desviación estándar muestral',round(sd(muestra),5))\n",
    "paste('La media de la población es',mu,\n",
    "      'la varianza de la población',sigma^2,\n",
    "      'y finalmente, la desviación estándar',sigma)"
   ]
  },
  {
   "cell_type": "markdown",
   "metadata": {},
   "source": [
    "**::GMG::** Tenemos una muestra de tamaño n = 10000 sacada de la población con distribución $X \\sim \\mathcal{N}\\left(\\mu_X, {\\sigma_X}\\right)$. Hemos calculado tres estadísticos: la media muestral $\\mu_{\\bar x}$, la varianza muestral $\\sigma_{\\bar x}^2$ y la desviación estándar muestral $\\sigma_{\\bar x}$."
   ]
  },
  {
   "cell_type": "code",
   "execution_count": 27,
   "metadata": {},
   "outputs": [
    {
     "data": {
      "text/html": [
       "'La distribución muestral de las medias muestrales de TODAS las posibles muestras de tamaño 10000 de la población, se aproximará a una distribución normal con media 1.78 varianza 1e-06 y desviación estandar 0.001'"
      ],
      "text/latex": [
       "'La distribución muestral de las medias muestrales de TODAS las posibles muestras de tamaño 10000 de la población, se aproximará a una distribución normal con media 1.78 varianza 1e-06 y desviación estandar 0.001'"
      ],
      "text/markdown": [
       "'La distribución muestral de las medias muestrales de TODAS las posibles muestras de tamaño 10000 de la población, se aproximará a una distribución normal con media 1.78 varianza 1e-06 y desviación estandar 0.001'"
      ],
      "text/plain": [
       "[1] \"La distribución muestral de las medias muestrales de TODAS las posibles muestras de tamaño 10000 de la población, se aproximará a una distribución normal con media 1.78 varianza 1e-06 y desviación estandar 0.001\""
      ]
     },
     "metadata": {},
     "output_type": "display_data"
    }
   ],
   "source": [
    "paste('La distribución muestral de las medias muestrales de TODAS las posibles muestras de tamaño', \n",
    "      length(muestra),\n",
    "      'de la población, se aproximará a una distribución normal con media', \n",
    "      mu, \n",
    "      'varianza', \n",
    "      sigma^2/length(muestra),\n",
    "      'y desviación estandar',\n",
    "      sigma/sqrt(length(muestra))\n",
    "     )"
   ]
  },
  {
   "cell_type": "markdown",
   "metadata": {},
   "source": [
    "**::GMG::** Es decir, que todas las posibles muestras de tamaño n de la población con distribución $X \\sim \\mathcal{N}\\left(\\mu_X, {\\sigma_X}\\right)$ van a tener un estadístico media muestral $\\bar X$, también variable aleatoria, que se va a distribuir también de forma normal $\\bar X \\sim \\mathcal{N}\\left(\\mu_{\\bar x}, \\sigma_{\\bar x}\\right)$ con $\\sigma_{\\bar x} = \\frac {\\sigma_X}{\\sqrt n}$. Con el Bootstrap no vamos a tener las infinitas muestras de tamaño n pero si un gran número de muestras (1000)."
   ]
  },
  {
   "cell_type": "code",
   "execution_count": 28,
   "metadata": {},
   "outputs": [],
   "source": [
    "#::GMG::Hacemos un Bootstrap con 1000 replicas (que no son TODAS las posibles, evidentemente)\n",
    "set.seed(1)\n",
    "matriz.replicas.bs <- genera.bootstrap(v = muestra, N = 1000)"
   ]
  },
  {
   "cell_type": "code",
   "execution_count": 29,
   "metadata": {},
   "outputs": [
    {
     "data": {
      "text/html": [
       "<ol class=list-inline>\n",
       "\t<li>10000</li>\n",
       "\t<li>1000</li>\n",
       "</ol>\n"
      ],
      "text/latex": [
       "\\begin{enumerate*}\n",
       "\\item 10000\n",
       "\\item 1000\n",
       "\\end{enumerate*}\n"
      ],
      "text/markdown": [
       "1. 10000\n",
       "2. 1000\n",
       "\n",
       "\n"
      ],
      "text/plain": [
       "[1] 10000  1000"
      ]
     },
     "metadata": {},
     "output_type": "display_data"
    }
   ],
   "source": [
    "dim(matriz.replicas.bs)"
   ]
  },
  {
   "cell_type": "code",
   "execution_count": 30,
   "metadata": {},
   "outputs": [
    {
     "name": "stdout",
     "output_type": "stream",
     "text": [
      " num [1:1000] 1.78 1.78 1.78 1.78 1.78 ...\n"
     ]
    }
   ],
   "source": [
    "#::GMG::Calculamos los valores de las medias muestrales de cada réplica\n",
    "medias.bootstrap <- apply(X = matriz.replicas.bs,MARGIN = 2,FUN = mean)\n",
    "str(medias.bootstrap)"
   ]
  },
  {
   "cell_type": "code",
   "execution_count": 31,
   "metadata": {},
   "outputs": [
    {
     "data": {
      "text/html": [
       "'Estimación de la media del bootstrap: 1.77935'"
      ],
      "text/latex": [
       "'Estimación de la media del bootstrap: 1.77935'"
      ],
      "text/markdown": [
       "'Estimación de la media del bootstrap: 1.77935'"
      ],
      "text/plain": [
       "[1] \"Estimación de la media del bootstrap: 1.77935\""
      ]
     },
     "metadata": {},
     "output_type": "display_data"
    }
   ],
   "source": [
    "#::GMG::Calculamos la media de las medias de Bootstrap\n",
    "media.bootstrap <- mean(medias.bootstrap)\n",
    "paste('Estimación de la media del bootstrap:', round(media.bootstrap,5))"
   ]
  },
  {
   "cell_type": "code",
   "execution_count": 32,
   "metadata": {},
   "outputs": [
    {
     "data": {
      "text/html": [
       "'Estimación de la desviación estándar del bootstrap: 0.00105'"
      ],
      "text/latex": [
       "'Estimación de la desviación estándar del bootstrap: 0.00105'"
      ],
      "text/markdown": [
       "'Estimación de la desviación estándar del bootstrap: 0.00105'"
      ],
      "text/plain": [
       "[1] \"Estimación de la desviación estándar del bootstrap: 0.00105\""
      ]
     },
     "metadata": {},
     "output_type": "display_data"
    }
   ],
   "source": [
    "#::GMG::Estimo la desviación estándar de los valores medios (medias) del bootstrap\n",
    "sigma.bootstrap <- sd(medias.bootstrap)\n",
    "paste('Estimación de la desviación estándar del bootstrap:', round(sigma.bootstrap,5))"
   ]
  },
  {
   "cell_type": "markdown",
   "metadata": {},
   "source": [
    "**::GMG::** La desviación estándar obtenida en una sola muestra de tamaño 10000 es $\\sigma_{\\bar x}$ `0.10124`  y en el bootstrap $\\sigma_B$ `0.00105` del orden de *100 veces menor* que es la $\\sqrt{10000}$. Es lo que esperábamos. "
   ]
  },
  {
   "cell_type": "markdown",
   "metadata": {},
   "source": [
    "### C. Jackknife"
   ]
  },
  {
   "cell_type": "markdown",
   "metadata": {},
   "source": [
    "5. Repite el ejercicio anterior utilizando la técnica jackknife. ¿Cuál da mejor resultado?   "
   ]
  },
  {
   "cell_type": "code",
   "execution_count": 33,
   "metadata": {},
   "outputs": [
    {
     "name": "stdout",
     "output_type": "stream",
     "text": [
      " num [1:9999, 1:10000] 1.8 1.7 1.94 1.81 1.7 ...\n",
      " num [1:10000] 1.78 1.78 1.78 1.78 1.78 ...\n"
     ]
    }
   ],
   "source": [
    "#::GMG::repito el proceso con Jackknife\n",
    "matriz.replicas.jk <- genera.jackknife(v = muestra)\n",
    "medias.jk <- apply(X = matriz.replicas.jk,MARGIN = 2,FUN = mean)\n",
    "str(matriz.replicas.jk)\n",
    "str(medias.jk)"
   ]
  },
  {
   "cell_type": "code",
   "execution_count": 34,
   "metadata": {},
   "outputs": [
    {
     "data": {
      "text/html": [
       "'Estimación de la media muestral del jackknife: 1.77935'"
      ],
      "text/latex": [
       "'Estimación de la media muestral del jackknife: 1.77935'"
      ],
      "text/markdown": [
       "'Estimación de la media muestral del jackknife: 1.77935'"
      ],
      "text/plain": [
       "[1] \"Estimación de la media muestral del jackknife: 1.77935\""
      ]
     },
     "metadata": {},
     "output_type": "display_data"
    },
    {
     "data": {
      "text/html": [
       "'Estimación de la desviación estándar del jackknife 0.00101'"
      ],
      "text/latex": [
       "'Estimación de la desviación estándar del jackknife 0.00101'"
      ],
      "text/markdown": [
       "'Estimación de la desviación estándar del jackknife 0.00101'"
      ],
      "text/plain": [
       "[1] \"Estimación de la desviación estándar del jackknife 0.00101\""
      ]
     },
     "metadata": {},
     "output_type": "display_data"
    }
   ],
   "source": [
    "#::GMG::En el cálculo de la sd del jackknife hay que hacer una \"corrección\"\n",
    "# https://en.wikipedia.org/wiki/Jackknife_resampling#Estimation\n",
    "media.jk <- mean(medias.jk)\n",
    "paste('Estimación de la media muestral del jackknife:', round(media.jk,5))\n",
    "sigma.jk <- sqrt((length(medias.jk) - 1)*mean((medias.jk - media.jk)^2))\n",
    "paste('Estimación de la desviación estándar del jackknife',round(sigma.jk,5))"
   ]
  },
  {
   "cell_type": "markdown",
   "metadata": {},
   "source": [
    "### D. Comparación Bootstrap vs Jackknife"
   ]
  },
  {
   "cell_type": "markdown",
   "metadata": {},
   "source": [
    "**::GMG::** ¿Cuál es el mejor? **::PENDIENTE::**\n",
    "\n",
    "**::DUDA**:: Para eso necesitamos conocer métricas de los estimadores *puntuales* que hemos obtenido con las técnicas de *resampling* que hemos usado.\n",
    "\n",
    "1. ¿Cuál es la varianza y el sesgo de los etimadores?\n",
    "2. ¿Cuál la *eficiencia relativa* de los estimadores?"
   ]
  }
 ],
 "metadata": {
  "kernelspec": {
   "display_name": "R",
   "language": "R",
   "name": "ir"
  },
  "language_info": {
   "codemirror_mode": "r",
   "file_extension": ".r",
   "mimetype": "text/x-r-source",
   "name": "R",
   "pygments_lexer": "r",
   "version": "3.4.4"
  }
 },
 "nbformat": 4,
 "nbformat_minor": 2
}
