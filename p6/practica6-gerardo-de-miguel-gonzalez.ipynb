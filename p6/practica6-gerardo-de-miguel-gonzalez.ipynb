{
 "cells": [
  {
   "cell_type": "markdown",
   "metadata": {},
   "source": [
    "# Gerardo de Miguel González\n",
    "\n",
    "## Práctica 6 de Estadística para Data Science"
   ]
  },
  {
   "cell_type": "markdown",
   "metadata": {},
   "source": [
    "### Problema 1 \n",
    "\n",
    "*El tiempo de curación medio de un resfriado común es de 6.7 días. Un determinado producto homeopático pretende reducir el tiempo de curación del resfriado común. Se administra el medicamento a 20 personas y se anotan los tiempos de curación que figuran en el archivo days.txt.*\n",
    "\n",
    "**::GMG::** Apuntes básicos de estadística (pdf) *Capítulo 6 Test de hipótesis*, pp. 39-41"
   ]
  },
  {
   "cell_type": "code",
   "execution_count": 1,
   "metadata": {},
   "outputs": [
    {
     "name": "stdout",
     "output_type": "stream",
     "text": [
      "'data.frame':\t20 obs. of  1 variable:\n",
      " $ V1: num  4.2 8 9.4 5.7 5.8 3.6 6.4 5.3 8.2 6.5 ...\n"
     ]
    }
   ],
   "source": [
    "#::GMG::Leemos el dataset\n",
    "tiempos <- read.csv('days.txt', header=F)\n",
    "str(tiempos)"
   ]
  },
  {
   "cell_type": "code",
   "execution_count": 2,
   "metadata": {},
   "outputs": [
    {
     "name": "stdout",
     "output_type": "stream",
     "text": [
      "'data.frame':\t20 obs. of  1 variable:\n",
      " $ días: num  4.2 8 9.4 5.7 5.8 3.6 6.4 5.3 8.2 6.5 ...\n"
     ]
    }
   ],
   "source": [
    "colnames(tiempos) <- c('días')\n",
    "str(tiempos)"
   ]
  },
  {
   "cell_type": "markdown",
   "metadata": {},
   "source": [
    "i) Representa los datos y el valor de referencia.\n",
    "\n",
    "**::GMG::** Apuntes de estadística básica (pdf) *2.2. Representación gráfica*, pp. 8-9"
   ]
  },
  {
   "cell_type": "code",
   "execution_count": 25,
   "metadata": {},
   "outputs": [
    {
     "data": {
      "image/png": "[encoded data removed]",
      "text/plain": [
       "plot without title"
      ]
     },
     "metadata": {},
     "output_type": "display_data"
    }
   ],
   "source": [
    "#::GMG::Creo que lo mejor en un boxplot con una línea que represente la media poblacional\n",
    "#       y otra la media de la muestra\n",
    "mu <- 6.7\n",
    "boxplot(x = tiempos)\n",
    "abline(h = mu, col = 'red', lty = 2)\n",
    "abline(h = mean(tiempos$días), col = 'blue', lty = 2)"
   ]
  },
  {
   "cell_type": "code",
   "execution_count": 28,
   "metadata": {},
   "outputs": [
    {
     "data": {
      "image/png": "[encoded data removed]",
      "text/plain": [
       "plot without title"
      ]
     },
     "metadata": {},
     "output_type": "display_data"
    }
   ],
   "source": [
    "#::GMG::Puedo combinarlo con un stripchart\n",
    "#par(fig=c(0,0.8,0,0.8))\n",
    "#boxplot(x = tiempos, horizontal = TRUE, axes = FALSE)\n",
    "#par(fig=c(0,0.8,0.55,1))\n",
    "stripchart(x = tiempos, \n",
    "           xlab = 'días',\n",
    "           xlim = c(min(tiempos$días),max(tiempos$días)),\n",
    "           pch = 1, cex=2)\n",
    "abline(v = mu, col = 'red', lty = 2)\n",
    "abline(v = mean(tiempos$días), col = 'blue', lty = 2)"
   ]
  },
  {
   "cell_type": "markdown",
   "metadata": {},
   "source": [
    "ii) Realiza un test de hipótesis para determinar si el producto es efectivo o no."
   ]
  },
  {
   "cell_type": "markdown",
   "metadata": {},
   "source": [
    "**::GMG::** Apuntes de estadística, 6.3 Contrastes de hipótesis, pp. 39-41"
   ]
  },
  {
   "cell_type": "markdown",
   "metadata": {},
   "source": [
    "Test de hipótesis:\n",
    "\n",
    " 1. Definimos: \n",
    "    - $\\alpha$ = 0.05\n",
    "    - $H_0$: $\\mu$ = 6.7 (el tratamiento es efectivo)\n",
    "    - $H_1$: $\\mu \\neq 6.7$ (el tratmiento no es efectivo)\n",
    "\n",
    " 2. Calculamos el p-valor con los datos que tiempos.\n",
    " 3. Comparamos $\\alpha$ con el p.-valor"
   ]
  },
  {
   "cell_type": "code",
   "execution_count": 34,
   "metadata": {},
   "outputs": [
    {
     "data": {
      "text/plain": [
       "\n",
       "\tOne Sample t-test\n",
       "\n",
       "data:  tiempos$días\n",
       "t = -0.984, df = 19, p-value = 0.3375\n",
       "alternative hypothesis: true mean is not equal to 6.7\n",
       "95 percent confidence interval:\n",
       " 5.636802 7.083198\n",
       "sample estimates:\n",
       "mean of x \n",
       "     6.36 \n"
      ]
     },
     "metadata": {},
     "output_type": "display_data"
    }
   ],
   "source": [
    "#::GMG::Hacemos el t-test\n",
    "# https://stat.ethz.ch/R-manual/R-devel/library/stats/html/t.test.html\n",
    "test <- t.test(x = tiempos$días, mu = mu, alternative = 'two.sided')\n",
    "test"
   ]
  },
  {
   "cell_type": "code",
   "execution_count": null,
   "metadata": {},
   "outputs": [],
   "source": [
    "paste('Como el p-vaue es',test$p.value,'> 0.05, ')"
   ]
  },
  {
   "cell_type": "markdown",
   "metadata": {},
   "source": [
    "### Problema 2 \n",
    "\n",
    "Se quiere estudiar el efecto del consumo prolongado de cannabis sobre el cerebro humano (ver [Yucel et al. 2008](https://www.ncbi.nlm.nih.gov/pubmed/18519827) ([+](https://www.google.com/search?client=firefox-b-ab&q=Yucel+et+al.+2008))). Para ello se reclutaron 15 fumadores de más de 10 años de antigüedad con un consumo igual o superior a 5 porros por día. Para el grupo control, se seleccionaron 16 no fumadores de edad y educación similar. Los datos del volumen de los hipocampos izquierdo y derecho medido en milímetros cúbicos para ambos grupos, figuran respectivamente en los archivos con cannabis.txt y sin cannabis.txt.\n",
    "\n",
    "**::GMG::** Apuntes básicos de estadística (pdf) *Capítulo 7 Comparación de medias entre dos grupos* pp. 43-47 \n",
    "\n",
    "**::GMG::** Leer con detenimiento el paper y ver sus representaciones gráficas"
   ]
  },
  {
   "cell_type": "markdown",
   "metadata": {},
   "source": [
    "i) Representa gráficamente los datos.\n",
    "\n",
    "**::GMG::** Apuntes de estadística básica (pdf) *2.2. Representación gráfica*, pp. 8-9"
   ]
  },
  {
   "cell_type": "markdown",
   "metadata": {},
   "source": [
    "ii) Realiza un test de hipótesis para determinar si el consumo prolongado de cannabis afecta al volumen del hipocampo."
   ]
  }
 ],
 "metadata": {
  "kernelspec": {
   "display_name": "R",
   "language": "R",
   "name": "ir"
  },
  "language_info": {
   "codemirror_mode": "r",
   "file_extension": ".r",
   "mimetype": "text/x-r-source",
   "name": "R",
   "pygments_lexer": "r",
   "version": "3.4.4"
  }
 },
 "nbformat": 4,
 "nbformat_minor": 2
}
