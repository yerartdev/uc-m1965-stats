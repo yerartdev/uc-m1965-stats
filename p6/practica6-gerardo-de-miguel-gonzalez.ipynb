{
 "cells": [
  {
   "cell_type": "markdown",
   "metadata": {},
   "source": [
    "# Gerardo de Miguel González\n",
    "\n",
    "## Práctica 6 de Estadística para Data Science"
   ]
  },
  {
   "cell_type": "markdown",
   "metadata": {},
   "source": [
    "### Problema 1 \n",
    "\n",
    "*El tiempo de curación medio de un resfriado común es de 6.7 días. Un determinado producto homeopático pretende reducir el tiempo de curación del resfriado común. Se administra el medicamento a 20 personas y se anotan los tiempos de curación que figuran en el archivo days.txt.*\n",
    "\n",
    "**::GMG::** Apuntes básicos de estadística (pdf) *Capítulo 6 Test de hipótesis*, pp. 39-41"
   ]
  },
  {
   "cell_type": "markdown",
   "metadata": {},
   "source": [
    "i) Representa los datos y el valor de referencia.\n",
    "\n",
    "**::GMG::** Apuntes de estadística básica (pdf) *2.2. Representación gráfica*, pp. 8-9"
   ]
  },
  {
   "cell_type": "markdown",
   "metadata": {},
   "source": [
    "ii) Realiza un test de hipótesis para determinar si el producto es efectivo o no."
   ]
  },
  {
   "cell_type": "markdown",
   "metadata": {},
   "source": [
    "### Problema 2 \n",
    "\n",
    "Se quiere estudiar el efecto del consumo prolongado de cannabis sobre el cerebro humano (ver [Yucel et al. 2008](https://www.ncbi.nlm.nih.gov/pubmed/18519827) ([+](https://www.google.com/search?client=firefox-b-ab&q=Yucel+et+al.+2008))). Para ello se reclutaron 15 fumadores de más de 10 años de antigüedad con un consumo igual o superior a 5 porros por día. Para el grupo control, se seleccionaron 16 no fumadores de edad y educación similar. Los datos del volumen de los hipocampos izquierdo y derecho medido en milímetros cúbicos para ambos grupos, figuran respectivamente en los archivos con cannabis.txt y sin cannabis.txt.\n",
    "\n",
    "**::GMG::** Apuntes básicos de estadística (pdf) *Capítulo 7 Comparación de medias entre dos grupos* pp. 43-47 \n",
    "\n",
    "**::GMG::** Leer con detenimiento el paper y ver sus representaciones gráficas"
   ]
  },
  {
   "cell_type": "markdown",
   "metadata": {},
   "source": [
    "i) Representa gráficamente los datos.\n",
    "\n",
    "**::GMG::** Apuntes de estadística básica (pdf) *2.2. Representación gráfica*, pp. 8-9"
   ]
  },
  {
   "cell_type": "markdown",
   "metadata": {},
   "source": [
    "ii) Realiza un test de hipótesis para determinar si el consumo prolongado de cannabis afecta al volumen del hipocampo."
   ]
  }
 ],
 "metadata": {
  "kernelspec": {
   "display_name": "R",
   "language": "R",
   "name": "ir"
  },
  "language_info": {
   "codemirror_mode": "r",
   "file_extension": ".r",
   "mimetype": "text/x-r-source",
   "name": "R",
   "pygments_lexer": "r",
   "version": "3.4.4"
  }
 },
 "nbformat": 4,
 "nbformat_minor": 2
}
