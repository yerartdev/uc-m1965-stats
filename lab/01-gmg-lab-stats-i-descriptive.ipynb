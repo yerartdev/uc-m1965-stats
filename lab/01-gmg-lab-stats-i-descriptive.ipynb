{
 "cells": [
  {
   "cell_type": "code",
   "execution_count": 1,
   "metadata": {},
   "outputs": [],
   "source": [
    "#::GMG::Previo: matrices\n",
    "m<-matrix(c(2,8,5,4,6,2),nrow=3,ncol=2,byrow=TRUE)"
   ]
  },
  {
   "cell_type": "code",
   "execution_count": 2,
   "metadata": {},
   "outputs": [
    {
     "data": {
      "text/html": [
       "<table>\n",
       "<tbody>\n",
       "\t<tr><td>2</td><td>8</td></tr>\n",
       "\t<tr><td>5</td><td>4</td></tr>\n",
       "\t<tr><td>6</td><td>2</td></tr>\n",
       "</tbody>\n",
       "</table>\n"
      ],
      "text/latex": [
       "\\begin{tabular}{ll}\n",
       "\t 2 & 8\\\\\n",
       "\t 5 & 4\\\\\n",
       "\t 6 & 2\\\\\n",
       "\\end{tabular}\n"
      ],
      "text/markdown": [
       "\n",
       "| 2 | 8 | \n",
       "| 5 | 4 | \n",
       "| 6 | 2 | \n",
       "\n",
       "\n"
      ],
      "text/plain": [
       "     [,1] [,2]\n",
       "[1,] 2    8   \n",
       "[2,] 5    4   \n",
       "[3,] 6    2   "
      ]
     },
     "metadata": {},
     "output_type": "display_data"
    }
   ],
   "source": [
    "m"
   ]
  },
  {
   "cell_type": "code",
   "execution_count": 3,
   "metadata": {},
   "outputs": [
    {
     "name": "stdout",
     "output_type": "stream",
     "text": [
      " num [1:3, 1:2] 2 5 6 8 4 2\n"
     ]
    }
   ],
   "source": [
    "str(m)"
   ]
  },
  {
   "cell_type": "code",
   "execution_count": 6,
   "metadata": {},
   "outputs": [
    {
     "data": {
      "text/html": [
       "8"
      ],
      "text/latex": [
       "8"
      ],
      "text/markdown": [
       "8"
      ],
      "text/plain": [
       "[1] 8"
      ]
     },
     "metadata": {},
     "output_type": "display_data"
    }
   ],
   "source": [
    "m[1,2]"
   ]
  },
  {
   "cell_type": "code",
   "execution_count": 7,
   "metadata": {},
   "outputs": [
    {
     "data": {
      "text/html": [
       "<ol class=list-inline>\n",
       "\t<li>2</li>\n",
       "\t<li>5</li>\n",
       "\t<li>6</li>\n",
       "</ol>\n"
      ],
      "text/latex": [
       "\\begin{enumerate*}\n",
       "\\item 2\n",
       "\\item 5\n",
       "\\item 6\n",
       "\\end{enumerate*}\n"
      ],
      "text/markdown": [
       "1. 2\n",
       "2. 5\n",
       "3. 6\n",
       "\n",
       "\n"
      ],
      "text/plain": [
       "[1] 2 5 6"
      ]
     },
     "metadata": {},
     "output_type": "display_data"
    }
   ],
   "source": [
    "m[,1]"
   ]
  },
  {
   "cell_type": "code",
   "execution_count": 8,
   "metadata": {},
   "outputs": [
    {
     "data": {
      "text/html": [
       "<ol class=list-inline>\n",
       "\t<li>5</li>\n",
       "\t<li>4</li>\n",
       "</ol>\n"
      ],
      "text/latex": [
       "\\begin{enumerate*}\n",
       "\\item 5\n",
       "\\item 4\n",
       "\\end{enumerate*}\n"
      ],
      "text/markdown": [
       "1. 5\n",
       "2. 4\n",
       "\n",
       "\n"
      ],
      "text/plain": [
       "[1] 5 4"
      ]
     },
     "metadata": {},
     "output_type": "display_data"
    }
   ],
   "source": [
    "m[2,]"
   ]
  },
  {
   "cell_type": "code",
   "execution_count": 9,
   "metadata": {},
   "outputs": [
    {
     "data": {
      "text/html": [
       "<ol class=list-inline>\n",
       "\t<li>5</li>\n",
       "\t<li>4</li>\n",
       "</ol>\n"
      ],
      "text/latex": [
       "\\begin{enumerate*}\n",
       "\\item 5\n",
       "\\item 4\n",
       "\\end{enumerate*}\n"
      ],
      "text/markdown": [
       "1. 5\n",
       "2. 4\n",
       "\n",
       "\n"
      ],
      "text/plain": [
       "[1] 5 4"
      ]
     },
     "metadata": {},
     "output_type": "display_data"
    }
   ],
   "source": [
    "m[2,1:2]"
   ]
  },
  {
   "cell_type": "code",
   "execution_count": 10,
   "metadata": {},
   "outputs": [
    {
     "data": {
      "text/html": [
       "<ol class=list-inline>\n",
       "\t<li>2</li>\n",
       "\t<li>5</li>\n",
       "</ol>\n"
      ],
      "text/latex": [
       "\\begin{enumerate*}\n",
       "\\item 2\n",
       "\\item 5\n",
       "\\end{enumerate*}\n"
      ],
      "text/markdown": [
       "1. 2\n",
       "2. 5\n",
       "\n",
       "\n"
      ],
      "text/plain": [
       "[1] 2 5"
      ]
     },
     "metadata": {},
     "output_type": "display_data"
    }
   ],
   "source": [
    "m[1:2,1]"
   ]
  },
  {
   "cell_type": "code",
   "execution_count": 11,
   "metadata": {},
   "outputs": [],
   "source": [
    "a<-c(2,4,5,1,2,10)\n",
    "b<-c(9,3,4,1,5,2)"
   ]
  },
  {
   "cell_type": "code",
   "execution_count": 12,
   "metadata": {},
   "outputs": [],
   "source": [
    "ab <- c(a,b)"
   ]
  },
  {
   "cell_type": "code",
   "execution_count": 13,
   "metadata": {},
   "outputs": [
    {
     "data": {
      "text/html": [
       "<ol class=list-inline>\n",
       "\t<li>2</li>\n",
       "\t<li>4</li>\n",
       "\t<li>5</li>\n",
       "\t<li>1</li>\n",
       "\t<li>2</li>\n",
       "\t<li>10</li>\n",
       "\t<li>9</li>\n",
       "\t<li>3</li>\n",
       "\t<li>4</li>\n",
       "\t<li>1</li>\n",
       "\t<li>5</li>\n",
       "\t<li>2</li>\n",
       "</ol>\n"
      ],
      "text/latex": [
       "\\begin{enumerate*}\n",
       "\\item 2\n",
       "\\item 4\n",
       "\\item 5\n",
       "\\item 1\n",
       "\\item 2\n",
       "\\item 10\n",
       "\\item 9\n",
       "\\item 3\n",
       "\\item 4\n",
       "\\item 1\n",
       "\\item 5\n",
       "\\item 2\n",
       "\\end{enumerate*}\n"
      ],
      "text/markdown": [
       "1. 2\n",
       "2. 4\n",
       "3. 5\n",
       "4. 1\n",
       "5. 2\n",
       "6. 10\n",
       "7. 9\n",
       "8. 3\n",
       "9. 4\n",
       "10. 1\n",
       "11. 5\n",
       "12. 2\n",
       "\n",
       "\n"
      ],
      "text/plain": [
       " [1]  2  4  5  1  2 10  9  3  4  1  5  2"
      ]
     },
     "metadata": {},
     "output_type": "display_data"
    }
   ],
   "source": [
    "ab"
   ]
  },
  {
   "cell_type": "code",
   "execution_count": 14,
   "metadata": {},
   "outputs": [
    {
     "data": {
      "text/html": [
       "<table>\n",
       "<tbody>\n",
       "\t<tr><th scope=row>a</th><td>2 </td><td>4 </td><td>5 </td><td>1 </td><td>2 </td><td>10</td></tr>\n",
       "\t<tr><th scope=row>b</th><td>9 </td><td>3 </td><td>4 </td><td>1 </td><td>5 </td><td> 2</td></tr>\n",
       "</tbody>\n",
       "</table>\n"
      ],
      "text/latex": [
       "\\begin{tabular}{r|llllll}\n",
       "\ta & 2  & 4  & 5  & 1  & 2  & 10\\\\\n",
       "\tb & 9  & 3  & 4  & 1  & 5  &  2\\\\\n",
       "\\end{tabular}\n"
      ],
      "text/markdown": [
       "\n",
       "| a | 2  | 4  | 5  | 1  | 2  | 10 | \n",
       "| b | 9  | 3  | 4  | 1  | 5  |  2 | \n",
       "\n",
       "\n"
      ],
      "text/plain": [
       "  [,1] [,2] [,3] [,4] [,5] [,6]\n",
       "a 2    4    5    1    2    10  \n",
       "b 9    3    4    1    5     2  "
      ]
     },
     "metadata": {},
     "output_type": "display_data"
    }
   ],
   "source": [
    "c <- rbind(a,b)\n",
    "c"
   ]
  },
  {
   "cell_type": "code",
   "execution_count": 17,
   "metadata": {},
   "outputs": [
    {
     "data": {
      "text/html": [
       "<ol class=list-inline>\n",
       "\t<li>2</li>\n",
       "\t<li>6</li>\n",
       "</ol>\n"
      ],
      "text/latex": [
       "\\begin{enumerate*}\n",
       "\\item 2\n",
       "\\item 6\n",
       "\\end{enumerate*}\n"
      ],
      "text/markdown": [
       "1. 2\n",
       "2. 6\n",
       "\n",
       "\n"
      ],
      "text/plain": [
       "[1] 2 6"
      ]
     },
     "metadata": {},
     "output_type": "display_data"
    }
   ],
   "source": [
    "dim(c)"
   ]
  },
  {
   "cell_type": "code",
   "execution_count": 15,
   "metadata": {},
   "outputs": [
    {
     "data": {
      "text/html": [
       "<table>\n",
       "<thead><tr><th scope=col>a</th><th scope=col>b</th></tr></thead>\n",
       "<tbody>\n",
       "\t<tr><td> 2</td><td>9 </td></tr>\n",
       "\t<tr><td> 4</td><td>3 </td></tr>\n",
       "\t<tr><td> 5</td><td>4 </td></tr>\n",
       "\t<tr><td> 1</td><td>1 </td></tr>\n",
       "\t<tr><td> 2</td><td>5 </td></tr>\n",
       "\t<tr><td>10</td><td>2 </td></tr>\n",
       "</tbody>\n",
       "</table>\n"
      ],
      "text/latex": [
       "\\begin{tabular}{ll}\n",
       " a & b\\\\\n",
       "\\hline\n",
       "\t  2 & 9 \\\\\n",
       "\t  4 & 3 \\\\\n",
       "\t  5 & 4 \\\\\n",
       "\t  1 & 1 \\\\\n",
       "\t  2 & 5 \\\\\n",
       "\t 10 & 2 \\\\\n",
       "\\end{tabular}\n"
      ],
      "text/markdown": [
       "\n",
       "a | b | \n",
       "|---|---|---|---|---|---|\n",
       "|  2 | 9  | \n",
       "|  4 | 3  | \n",
       "|  5 | 4  | \n",
       "|  1 | 1  | \n",
       "|  2 | 5  | \n",
       "| 10 | 2  | \n",
       "\n",
       "\n"
      ],
      "text/plain": [
       "     a  b\n",
       "[1,]  2 9\n",
       "[2,]  4 3\n",
       "[3,]  5 4\n",
       "[4,]  1 1\n",
       "[5,]  2 5\n",
       "[6,] 10 2"
      ]
     },
     "metadata": {},
     "output_type": "display_data"
    }
   ],
   "source": [
    "d <- cbind(a,b)\n",
    "d"
   ]
  },
  {
   "cell_type": "code",
   "execution_count": 21,
   "metadata": {},
   "outputs": [
    {
     "data": {
      "text/html": [
       "<table>\n",
       "<tbody>\n",
       "\t<tr><th scope=row>a</th><td>2 </td><td>4 </td><td>5 </td><td>1 </td><td>2 </td><td>10</td></tr>\n",
       "\t<tr><th scope=row>b</th><td>9 </td><td>3 </td><td>4 </td><td>1 </td><td>5 </td><td> 2</td></tr>\n",
       "</tbody>\n",
       "</table>\n"
      ],
      "text/latex": [
       "\\begin{tabular}{r|llllll}\n",
       "\ta & 2  & 4  & 5  & 1  & 2  & 10\\\\\n",
       "\tb & 9  & 3  & 4  & 1  & 5  &  2\\\\\n",
       "\\end{tabular}\n"
      ],
      "text/markdown": [
       "\n",
       "| a | 2  | 4  | 5  | 1  | 2  | 10 | \n",
       "| b | 9  | 3  | 4  | 1  | 5  |  2 | \n",
       "\n",
       "\n"
      ],
      "text/plain": [
       "  [,1] [,2] [,3] [,4] [,5] [,6]\n",
       "a 2    4    5    1    2    10  \n",
       "b 9    3    4    1    5     2  "
      ]
     },
     "metadata": {},
     "output_type": "display_data"
    }
   ],
   "source": [
    "t(d)"
   ]
  },
  {
   "cell_type": "code",
   "execution_count": 18,
   "metadata": {},
   "outputs": [
    {
     "data": {
      "text/html": [
       "<ol class=list-inline>\n",
       "\t<li>6</li>\n",
       "\t<li>2</li>\n",
       "</ol>\n"
      ],
      "text/latex": [
       "\\begin{enumerate*}\n",
       "\\item 6\n",
       "\\item 2\n",
       "\\end{enumerate*}\n"
      ],
      "text/markdown": [
       "1. 6\n",
       "2. 2\n",
       "\n",
       "\n"
      ],
      "text/plain": [
       "[1] 6 2"
      ]
     },
     "metadata": {},
     "output_type": "display_data"
    }
   ],
   "source": [
    "dim(d)"
   ]
  },
  {
   "cell_type": "code",
   "execution_count": 16,
   "metadata": {},
   "outputs": [
    {
     "data": {
      "text/html": [
       "<table>\n",
       "<thead><tr><th></th><th scope=col>a</th><th scope=col>b</th></tr></thead>\n",
       "<tbody>\n",
       "\t<tr><th scope=row>a</th><td>150</td><td> 81</td></tr>\n",
       "\t<tr><th scope=row>b</th><td> 81</td><td>136</td></tr>\n",
       "</tbody>\n",
       "</table>\n"
      ],
      "text/latex": [
       "\\begin{tabular}{r|ll}\n",
       "  & a & b\\\\\n",
       "\\hline\n",
       "\ta & 150 &  81\\\\\n",
       "\tb &  81 & 136\\\\\n",
       "\\end{tabular}\n"
      ],
      "text/markdown": [
       "\n",
       "| <!--/--> | a | b | \n",
       "|---|---|\n",
       "| a | 150 |  81 | \n",
       "| b |  81 | 136 | \n",
       "\n",
       "\n"
      ],
      "text/plain": [
       "  a   b  \n",
       "a 150  81\n",
       "b  81 136"
      ]
     },
     "metadata": {},
     "output_type": "display_data"
    }
   ],
   "source": [
    "c%*%d"
   ]
  },
  {
   "cell_type": "code",
   "execution_count": 20,
   "metadata": {},
   "outputs": [
    {
     "data": {
      "text/html": [
       "<table>\n",
       "<tbody>\n",
       "\t<tr><th scope=row>a</th><td> 4 </td><td>16 </td><td>25 </td><td>1  </td><td> 4 </td><td>100</td></tr>\n",
       "\t<tr><th scope=row>b</th><td>81 </td><td> 9 </td><td>16 </td><td>1  </td><td>25 </td><td>  4</td></tr>\n",
       "</tbody>\n",
       "</table>\n"
      ],
      "text/latex": [
       "\\begin{tabular}{r|llllll}\n",
       "\ta &  4  & 16  & 25  & 1   &  4  & 100\\\\\n",
       "\tb & 81  &  9  & 16  & 1   & 25  &   4\\\\\n",
       "\\end{tabular}\n"
      ],
      "text/markdown": [
       "\n",
       "| a |  4  | 16  | 25  | 1   |  4  | 100 | \n",
       "| b | 81  |  9  | 16  | 1   | 25  |   4 | \n",
       "\n",
       "\n"
      ],
      "text/plain": [
       "  [,1] [,2] [,3] [,4] [,5] [,6]\n",
       "a  4   16   25   1     4   100 \n",
       "b 81    9   16   1    25     4 "
      ]
     },
     "metadata": {},
     "output_type": "display_data"
    }
   ],
   "source": [
    "c*t(d)"
   ]
  },
  {
   "cell_type": "code",
   "execution_count": 22,
   "metadata": {},
   "outputs": [
    {
     "data": {
      "text/plain": [
       "colores\n",
       "Azul Rojo \n",
       "   4    2 "
      ]
     },
     "metadata": {},
     "output_type": "display_data"
    }
   ],
   "source": [
    "colores<-c(\"Azul\",\"Azul\",\"Rojo\",\"Azul\",\"Rojo\",\"Azul\")\n",
    "table(colores)"
   ]
  },
  {
   "cell_type": "code",
   "execution_count": 23,
   "metadata": {},
   "outputs": [
    {
     "data": {
      "text/plain": [
       "        colores\n",
       "defectos Azul Rojo\n",
       "      No    1    1\n",
       "      Si    3    1"
      ]
     },
     "metadata": {},
     "output_type": "display_data"
    }
   ],
   "source": [
    "colores<-c(\"Azul\",\"Azul\",\"Rojo\",\"Azul\",\"Rojo\",\"Azul\")\n",
    "defectos <-c(\"No\", \"Si\", \"Si\", \"Si\", \"No\", \"Si\")\n",
    "table(defectos,colores)"
   ]
  },
  {
   "cell_type": "code",
   "execution_count": 24,
   "metadata": {},
   "outputs": [
    {
     "data": {
      "text/html": [
       "<table>\n",
       "<thead><tr><th scope=col>Altura</th><th scope=col>Peso</th><th scope=col>Sexo</th></tr></thead>\n",
       "<tbody>\n",
       "\t<tr><td>175</td><td> 77</td><td>M  </td></tr>\n",
       "\t<tr><td>192</td><td>100</td><td>V  </td></tr>\n",
       "\t<tr><td>168</td><td> 78</td><td>V  </td></tr>\n",
       "\t<tr><td>155</td><td> 60</td><td>M  </td></tr>\n",
       "\t<tr><td>164</td><td> 72</td><td>M  </td></tr>\n",
       "\t<tr><td>179</td><td> 88</td><td>V  </td></tr>\n",
       "</tbody>\n",
       "</table>\n"
      ],
      "text/latex": [
       "\\begin{tabular}{r|lll}\n",
       " Altura & Peso & Sexo\\\\\n",
       "\\hline\n",
       "\t 175 &  77 & M  \\\\\n",
       "\t 192 & 100 & V  \\\\\n",
       "\t 168 &  78 & V  \\\\\n",
       "\t 155 &  60 & M  \\\\\n",
       "\t 164 &  72 & M  \\\\\n",
       "\t 179 &  88 & V  \\\\\n",
       "\\end{tabular}\n"
      ],
      "text/markdown": [
       "\n",
       "Altura | Peso | Sexo | \n",
       "|---|---|---|---|---|---|\n",
       "| 175 |  77 | M   | \n",
       "| 192 | 100 | V   | \n",
       "| 168 |  78 | V   | \n",
       "| 155 |  60 | M   | \n",
       "| 164 |  72 | M   | \n",
       "| 179 |  88 | V   | \n",
       "\n",
       "\n"
      ],
      "text/plain": [
       "  Altura Peso Sexo\n",
       "1 175     77  M   \n",
       "2 192    100  V   \n",
       "3 168     78  V   \n",
       "4 155     60  M   \n",
       "5 164     72  M   \n",
       "6 179     88  V   "
      ]
     },
     "metadata": {},
     "output_type": "display_data"
    }
   ],
   "source": [
    "Altura<-c(175,192,168,155,164,179)\n",
    "Peso<-c(77,100,78,60,72,88)\n",
    "Sexo<-c(\"M\",\"V\",\"V\",\"M\",\"M\",\"V\")\n",
    "\n",
    "datos<-data.frame(Altura,Peso,Sexo)\n",
    "datos"
   ]
  },
  {
   "cell_type": "code",
   "execution_count": 28,
   "metadata": {},
   "outputs": [
    {
     "data": {
      "text/html": [
       "<ol class=list-inline>\n",
       "\t<li>1</li>\n",
       "\t<li>2</li>\n",
       "\t<li>3</li>\n",
       "\t<li>4</li>\n",
       "\t<li>5</li>\n",
       "\t<li>6</li>\n",
       "</ol>\n"
      ],
      "text/latex": [
       "\\begin{enumerate*}\n",
       "\\item 1\n",
       "\\item 2\n",
       "\\item 3\n",
       "\\item 4\n",
       "\\item 5\n",
       "\\item 6\n",
       "\\end{enumerate*}\n"
      ],
      "text/markdown": [
       "1. 1\n",
       "2. 2\n",
       "3. 3\n",
       "4. 4\n",
       "5. 5\n",
       "6. 6\n",
       "\n",
       "\n"
      ],
      "text/plain": [
       "[1] 1 2 3 4 5 6"
      ]
     },
     "metadata": {},
     "output_type": "display_data"
    }
   ],
   "source": [
    "as.numeric(rownames(datos))"
   ]
  },
  {
   "cell_type": "code",
   "execution_count": 29,
   "metadata": {},
   "outputs": [
    {
     "data": {
      "text/html": [
       "<ol class=list-inline>\n",
       "\t<li>'Altura'</li>\n",
       "\t<li>'Peso'</li>\n",
       "\t<li>'Sexo'</li>\n",
       "</ol>\n"
      ],
      "text/latex": [
       "\\begin{enumerate*}\n",
       "\\item 'Altura'\n",
       "\\item 'Peso'\n",
       "\\item 'Sexo'\n",
       "\\end{enumerate*}\n"
      ],
      "text/markdown": [
       "1. 'Altura'\n",
       "2. 'Peso'\n",
       "3. 'Sexo'\n",
       "\n",
       "\n"
      ],
      "text/plain": [
       "[1] \"Altura\" \"Peso\"   \"Sexo\"  "
      ]
     },
     "metadata": {},
     "output_type": "display_data"
    }
   ],
   "source": [
    "colnames(datos)"
   ]
  },
  {
   "cell_type": "code",
   "execution_count": 34,
   "metadata": {},
   "outputs": [
    {
     "data": {
      "text/html": [
       "<ol class=list-inline>\n",
       "\t<li>FALSE</li>\n",
       "\t<li>FALSE</li>\n",
       "\t<li>TRUE</li>\n",
       "\t<li>TRUE</li>\n",
       "\t<li>TRUE</li>\n",
       "\t<li>FALSE</li>\n",
       "</ol>\n"
      ],
      "text/latex": [
       "\\begin{enumerate*}\n",
       "\\item FALSE\n",
       "\\item FALSE\n",
       "\\item TRUE\n",
       "\\item TRUE\n",
       "\\item TRUE\n",
       "\\item FALSE\n",
       "\\end{enumerate*}\n"
      ],
      "text/markdown": [
       "1. FALSE\n",
       "2. FALSE\n",
       "3. TRUE\n",
       "4. TRUE\n",
       "5. TRUE\n",
       "6. FALSE\n",
       "\n",
       "\n"
      ],
      "text/plain": [
       "[1] FALSE FALSE  TRUE  TRUE  TRUE FALSE"
      ]
     },
     "metadata": {},
     "output_type": "display_data"
    },
    {
     "data": {
      "text/html": [
       "<ol class=list-inline>\n",
       "\t<li>168</li>\n",
       "\t<li>155</li>\n",
       "\t<li>164</li>\n",
       "</ol>\n"
      ],
      "text/latex": [
       "\\begin{enumerate*}\n",
       "\\item 168\n",
       "\\item 155\n",
       "\\item 164\n",
       "\\end{enumerate*}\n"
      ],
      "text/markdown": [
       "1. 168\n",
       "2. 155\n",
       "3. 164\n",
       "\n",
       "\n"
      ],
      "text/plain": [
       "[1] 168 155 164"
      ]
     },
     "metadata": {},
     "output_type": "display_data"
    }
   ],
   "source": [
    "with(datos, Altura<170)\n",
    "with(datos, Altura[Altura<170])"
   ]
  },
  {
   "cell_type": "code",
   "execution_count": 35,
   "metadata": {},
   "outputs": [],
   "source": [
    "headers = read.csv(file = url(\n",
    "  \"ftp://sidads.colorado.edu/DATASETS/NOAA/G02135/north/daily/data/N_seaice_extent_daily_v3.0.csv\"\n",
    "                   ), \n",
    "                   skip = 0, \n",
    "                   header = FALSE, \n",
    "                   nrows = 1, \n",
    "                   as.is = TRUE,\n",
    "                   strip.white = TRUE)"
   ]
  },
  {
   "cell_type": "code",
   "execution_count": 36,
   "metadata": {},
   "outputs": [],
   "source": [
    "noaa.sea.ice <- read.csv(\n",
    "  file = url(\n",
    "    \"ftp://sidads.colorado.edu/DATASETS/NOAA/G02135/north/daily/data/N_seaice_extent_daily_v3.0.csv\"\n",
    "  ),\n",
    "  skip = 2, \n",
    "  header = FALSE)"
   ]
  },
  {
   "cell_type": "code",
   "execution_count": 37,
   "metadata": {},
   "outputs": [
    {
     "name": "stdout",
     "output_type": "stream",
     "text": [
      "'data.frame':\t13017 obs. of  6 variables:\n",
      " $ Year       : int  1978 1978 1978 1978 1978 1978 1978 1978 1978 1978 ...\n",
      " $ Month      : int  10 10 10 11 11 11 11 11 11 11 ...\n",
      " $ Day        : int  26 28 30 1 3 5 7 9 11 13 ...\n",
      " $ Extent     : num  10.2 10.4 10.6 10.7 10.8 ...\n",
      " $ Missing    : num  0 0 0 0 0 0 0 0 0 0 ...\n",
      " $ Source Data: Factor w/ 13017 levels \" ['ftp://sidads.colorado.edu/pub/DATASETS/nsidc0051_gsfc_nasateam_seaice/final-gsfc/north/daily/1978/nt_1978102\"| __truncated__,..: 1 2 3 4 5 6 7 8 9 10 ...\n"
     ]
    }
   ],
   "source": [
    "colnames(noaa.sea.ice)= headers\n",
    "str(noaa.sea.ice)"
   ]
  },
  {
   "cell_type": "code",
   "execution_count": 38,
   "metadata": {},
   "outputs": [
    {
     "data": {
      "text/html": [
       "<table>\n",
       "<thead><tr><th scope=col>Month</th><th scope=col>Extent</th></tr></thead>\n",
       "<tbody>\n",
       "\t<tr><td> 1     </td><td>14.2185</td></tr>\n",
       "\t<tr><td> 2     </td><td>15.1730</td></tr>\n",
       "\t<tr><td> 3     </td><td>15.2830</td></tr>\n",
       "\t<tr><td> 4     </td><td>14.5130</td></tr>\n",
       "\t<tr><td> 5     </td><td>13.0920</td></tr>\n",
       "\t<tr><td> 6     </td><td>11.6300</td></tr>\n",
       "\t<tr><td> 7     </td><td> 9.1100</td></tr>\n",
       "\t<tr><td> 8     </td><td> 6.8725</td></tr>\n",
       "\t<tr><td> 9     </td><td> 6.1035</td></tr>\n",
       "\t<tr><td>10     </td><td> 8.1490</td></tr>\n",
       "\t<tr><td>11     </td><td>10.4480</td></tr>\n",
       "\t<tr><td>12     </td><td>12.6810</td></tr>\n",
       "</tbody>\n",
       "</table>\n"
      ],
      "text/latex": [
       "\\begin{tabular}{r|ll}\n",
       " Month & Extent\\\\\n",
       "\\hline\n",
       "\t  1      & 14.2185\\\\\n",
       "\t  2      & 15.1730\\\\\n",
       "\t  3      & 15.2830\\\\\n",
       "\t  4      & 14.5130\\\\\n",
       "\t  5      & 13.0920\\\\\n",
       "\t  6      & 11.6300\\\\\n",
       "\t  7      &  9.1100\\\\\n",
       "\t  8      &  6.8725\\\\\n",
       "\t  9      &  6.1035\\\\\n",
       "\t 10      &  8.1490\\\\\n",
       "\t 11      & 10.4480\\\\\n",
       "\t 12      & 12.6810\\\\\n",
       "\\end{tabular}\n"
      ],
      "text/markdown": [
       "\n",
       "Month | Extent | \n",
       "|---|---|---|---|---|---|---|---|---|---|---|---|\n",
       "|  1      | 14.2185 | \n",
       "|  2      | 15.1730 | \n",
       "|  3      | 15.2830 | \n",
       "|  4      | 14.5130 | \n",
       "|  5      | 13.0920 | \n",
       "|  6      | 11.6300 | \n",
       "|  7      |  9.1100 | \n",
       "|  8      |  6.8725 | \n",
       "|  9      |  6.1035 | \n",
       "| 10      |  8.1490 | \n",
       "| 11      | 10.4480 | \n",
       "| 12      | 12.6810 | \n",
       "\n",
       "\n"
      ],
      "text/plain": [
       "   Month Extent \n",
       "1   1    14.2185\n",
       "2   2    15.1730\n",
       "3   3    15.2830\n",
       "4   4    14.5130\n",
       "5   5    13.0920\n",
       "6   6    11.6300\n",
       "7   7     9.1100\n",
       "8   8     6.8725\n",
       "9   9     6.1035\n",
       "10 10     8.1490\n",
       "11 11    10.4480\n",
       "12 12    12.6810"
      ]
     },
     "metadata": {},
     "output_type": "display_data"
    }
   ],
   "source": [
    "ext.median <- aggregate(Extent~Month, data=noaa.sea.ice, median)\n",
    "ext.median"
   ]
  },
  {
   "cell_type": "code",
   "execution_count": 64,
   "metadata": {},
   "outputs": [
    {
     "name": "stdout",
     "output_type": "stream",
     "text": [
      "'data.frame':\t12 obs. of  2 variables:\n",
      " $ Month : int  1 2 3 4 5 6 7 8 9 10 ...\n",
      " $ Extent: num  14.2 15.2 15.3 14.5 13.1 ...\n"
     ]
    }
   ],
   "source": [
    "str(ext.median)"
   ]
  },
  {
   "cell_type": "code",
   "execution_count": 67,
   "metadata": {},
   "outputs": [],
   "source": [
    "# https://www.statmethods.net/stats/withby.html\n",
    "ext.median.alt <- by(noaa.sea.ice$Extent, noaa.sea.ice$Month, function(x) median(x))"
   ]
  },
  {
   "cell_type": "code",
   "execution_count": 68,
   "metadata": {},
   "outputs": [
    {
     "name": "stdout",
     "output_type": "stream",
     "text": [
      " by [1:12(1d)] 14.2 15.2 15.3 14.5 13.1 ...\n",
      " - attr(*, \"dimnames\")=List of 1\n",
      "  ..$ noaa.sea.ice$Month: chr [1:12] \"1\" \"2\" \"3\" \"4\" ...\n",
      " - attr(*, \"call\")= language by.default(data = noaa.sea.ice$Extent, INDICES = noaa.sea.ice$Month, FUN = function(x) median(x))\n"
     ]
    }
   ],
   "source": [
    "str(ext.median.alt)"
   ]
  },
  {
   "cell_type": "code",
   "execution_count": 55,
   "metadata": {},
   "outputs": [
    {
     "data": {
      "text/html": [
       "<ol class=list-inline>\n",
       "\t<li>13017</li>\n",
       "\t<li>6</li>\n",
       "</ol>\n"
      ],
      "text/latex": [
       "\\begin{enumerate*}\n",
       "\\item 13017\n",
       "\\item 6\n",
       "\\end{enumerate*}\n"
      ],
      "text/markdown": [
       "1. 13017\n",
       "2. 6\n",
       "\n",
       "\n"
      ],
      "text/plain": [
       "[1] 13017     6"
      ]
     },
     "metadata": {},
     "output_type": "display_data"
    }
   ],
   "source": [
    "dim(noaa.sea.ice)"
   ]
  },
  {
   "cell_type": "code",
   "execution_count": 65,
   "metadata": {},
   "outputs": [
    {
     "data": {
      "text/html": [
       "<dl class=dl-horizontal>\n",
       "\t<dt>1</dt>\n",
       "\t\t<dd>14.2185</dd>\n",
       "\t<dt>2</dt>\n",
       "\t\t<dd>15.173</dd>\n",
       "\t<dt>3</dt>\n",
       "\t\t<dd>15.283</dd>\n",
       "\t<dt>4</dt>\n",
       "\t\t<dd>14.513</dd>\n",
       "\t<dt>5</dt>\n",
       "\t\t<dd>13.092</dd>\n",
       "\t<dt>6</dt>\n",
       "\t\t<dd>11.63</dd>\n",
       "\t<dt>7</dt>\n",
       "\t\t<dd>9.11</dd>\n",
       "\t<dt>8</dt>\n",
       "\t\t<dd>6.8725</dd>\n",
       "\t<dt>9</dt>\n",
       "\t\t<dd>6.1035</dd>\n",
       "\t<dt>10</dt>\n",
       "\t\t<dd>8.149</dd>\n",
       "\t<dt>11</dt>\n",
       "\t\t<dd>10.448</dd>\n",
       "\t<dt>12</dt>\n",
       "\t\t<dd>12.681</dd>\n",
       "</dl>\n"
      ],
      "text/latex": [
       "\\begin{description*}\n",
       "\\item[1] 14.2185\n",
       "\\item[2] 15.173\n",
       "\\item[3] 15.283\n",
       "\\item[4] 14.513\n",
       "\\item[5] 13.092\n",
       "\\item[6] 11.63\n",
       "\\item[7] 9.11\n",
       "\\item[8] 6.8725\n",
       "\\item[9] 6.1035\n",
       "\\item[10] 8.149\n",
       "\\item[11] 10.448\n",
       "\\item[12] 12.681\n",
       "\\end{description*}\n"
      ],
      "text/markdown": [
       "1\n",
       ":   14.21852\n",
       ":   15.1733\n",
       ":   15.2834\n",
       ":   14.5135\n",
       ":   13.0926\n",
       ":   11.637\n",
       ":   9.118\n",
       ":   6.87259\n",
       ":   6.103510\n",
       ":   8.14911\n",
       ":   10.44812\n",
       ":   12.681\n",
       "\n"
      ],
      "text/plain": [
       "      1       2       3       4       5       6       7       8       9      10 \n",
       "14.2185 15.1730 15.2830 14.5130 13.0920 11.6300  9.1100  6.8725  6.1035  8.1490 \n",
       "     11      12 \n",
       "10.4480 12.6810 "
      ]
     },
     "metadata": {},
     "output_type": "display_data"
    }
   ],
   "source": [
    "# https://stackoverflow.com/questions/18503177/r-apply-function-on-specific-dataframe-columns\n",
    "# https://websites.pmc.ucsc.edu/~mclapham/Rtips/apply_sapply.htm\n",
    "ext.median.alt.2 <- sapply(split(noaa.sea.ice$Extent,noaa.sea.ice$Month),median)\n",
    "ext.median.alt.2"
   ]
  },
  {
   "cell_type": "code",
   "execution_count": 66,
   "metadata": {},
   "outputs": [
    {
     "name": "stdout",
     "output_type": "stream",
     "text": [
      " Named num [1:12] 14.2 15.2 15.3 14.5 13.1 ...\n",
      " - attr(*, \"names\")= chr [1:12] \"1\" \"2\" \"3\" \"4\" ...\n"
     ]
    }
   ],
   "source": [
    "str(ext.median.alt.2)"
   ]
  },
  {
   "cell_type": "code",
   "execution_count": 73,
   "metadata": {},
   "outputs": [
    {
     "data": {
      "text/html": [
       "<table>\n",
       "<thead><tr><th scope=col>ext.median.alt.2</th></tr></thead>\n",
       "<tbody>\n",
       "\t<tr><td>14.2185</td></tr>\n",
       "\t<tr><td>15.1730</td></tr>\n",
       "\t<tr><td>15.2830</td></tr>\n",
       "\t<tr><td>14.5130</td></tr>\n",
       "\t<tr><td>13.0920</td></tr>\n",
       "\t<tr><td>11.6300</td></tr>\n",
       "\t<tr><td> 9.1100</td></tr>\n",
       "\t<tr><td> 6.8725</td></tr>\n",
       "\t<tr><td> 6.1035</td></tr>\n",
       "\t<tr><td> 8.1490</td></tr>\n",
       "\t<tr><td>10.4480</td></tr>\n",
       "\t<tr><td>12.6810</td></tr>\n",
       "</tbody>\n",
       "</table>\n"
      ],
      "text/latex": [
       "\\begin{tabular}{r|l}\n",
       " ext.median.alt.2\\\\\n",
       "\\hline\n",
       "\t 14.2185\\\\\n",
       "\t 15.1730\\\\\n",
       "\t 15.2830\\\\\n",
       "\t 14.5130\\\\\n",
       "\t 13.0920\\\\\n",
       "\t 11.6300\\\\\n",
       "\t  9.1100\\\\\n",
       "\t  6.8725\\\\\n",
       "\t  6.1035\\\\\n",
       "\t  8.1490\\\\\n",
       "\t 10.4480\\\\\n",
       "\t 12.6810\\\\\n",
       "\\end{tabular}\n"
      ],
      "text/markdown": [
       "\n",
       "ext.median.alt.2 | \n",
       "|---|---|---|---|---|---|---|---|---|---|---|---|\n",
       "| 14.2185 | \n",
       "| 15.1730 | \n",
       "| 15.2830 | \n",
       "| 14.5130 | \n",
       "| 13.0920 | \n",
       "| 11.6300 | \n",
       "|  9.1100 | \n",
       "|  6.8725 | \n",
       "|  6.1035 | \n",
       "|  8.1490 | \n",
       "| 10.4480 | \n",
       "| 12.6810 | \n",
       "\n",
       "\n"
      ],
      "text/plain": [
       "   ext.median.alt.2\n",
       "1  14.2185         \n",
       "2  15.1730         \n",
       "3  15.2830         \n",
       "4  14.5130         \n",
       "5  13.0920         \n",
       "6  11.6300         \n",
       "7   9.1100         \n",
       "8   6.8725         \n",
       "9   6.1035         \n",
       "10  8.1490         \n",
       "11 10.4480         \n",
       "12 12.6810         "
      ]
     },
     "metadata": {},
     "output_type": "display_data"
    }
   ],
   "source": [
    "as.data.frame(ext.median.alt.2)"
   ]
  },
  {
   "cell_type": "code",
   "execution_count": 74,
   "metadata": {},
   "outputs": [],
   "source": [
    "# https://datacarpentry.org/R-genomics/04-dplyr.html (?)"
   ]
  },
  {
   "cell_type": "code",
   "execution_count": 75,
   "metadata": {},
   "outputs": [
    {
     "data": {
      "text/html": [
       "<ol class=list-inline>\n",
       "\t<li>FALSE</li>\n",
       "\t<li>FALSE</li>\n",
       "\t<li>FALSE</li>\n",
       "\t<li>FALSE</li>\n",
       "\t<li>TRUE</li>\n",
       "</ol>\n"
      ],
      "text/latex": [
       "\\begin{enumerate*}\n",
       "\\item FALSE\n",
       "\\item FALSE\n",
       "\\item FALSE\n",
       "\\item FALSE\n",
       "\\item TRUE\n",
       "\\end{enumerate*}\n"
      ],
      "text/markdown": [
       "1. FALSE\n",
       "2. FALSE\n",
       "3. FALSE\n",
       "4. FALSE\n",
       "5. TRUE\n",
       "\n",
       "\n"
      ],
      "text/plain": [
       "[1] FALSE FALSE FALSE FALSE  TRUE"
      ]
     },
     "metadata": {},
     "output_type": "display_data"
    },
    {
     "data": {
      "text/html": [
       "<ol class=list-inline>\n",
       "\t<li>TRUE</li>\n",
       "\t<li>TRUE</li>\n",
       "\t<li>TRUE</li>\n",
       "\t<li>TRUE</li>\n",
       "\t<li>FALSE</li>\n",
       "</ol>\n"
      ],
      "text/latex": [
       "\\begin{enumerate*}\n",
       "\\item TRUE\n",
       "\\item TRUE\n",
       "\\item TRUE\n",
       "\\item TRUE\n",
       "\\item FALSE\n",
       "\\end{enumerate*}\n"
      ],
      "text/markdown": [
       "1. TRUE\n",
       "2. TRUE\n",
       "3. TRUE\n",
       "4. TRUE\n",
       "5. FALSE\n",
       "\n",
       "\n"
      ],
      "text/plain": [
       "[1]  TRUE  TRUE  TRUE  TRUE FALSE"
      ]
     },
     "metadata": {},
     "output_type": "display_data"
    }
   ],
   "source": [
    "x<-c(1,6,9,2,NA)\n",
    "is.na(x)\n",
    "!is.na(x)\n",
    "y<-x[!is.na(x)]"
   ]
  },
  {
   "cell_type": "code",
   "execution_count": 76,
   "metadata": {},
   "outputs": [],
   "source": [
    "x<-c( 1.11,  1.71, -0.98, -0.83, -0.13,  0.61)"
   ]
  },
  {
   "cell_type": "code",
   "execution_count": 77,
   "metadata": {},
   "outputs": [
    {
     "data": {
      "text/html": [
       "1.49"
      ],
      "text/latex": [
       "1.49"
      ],
      "text/markdown": [
       "1.49"
      ],
      "text/plain": [
       "[1] 1.49"
      ]
     },
     "metadata": {},
     "output_type": "display_data"
    }
   ],
   "source": [
    "sum(x)"
   ]
  },
  {
   "cell_type": "code",
   "execution_count": 78,
   "metadata": {},
   "outputs": [
    {
     "data": {
      "text/html": [
       "'1.71 -0.98'"
      ],
      "text/latex": [
       "'1.71 -0.98'"
      ],
      "text/markdown": [
       "'1.71 -0.98'"
      ],
      "text/plain": [
       "[1] \"1.71 -0.98\""
      ]
     },
     "metadata": {},
     "output_type": "display_data"
    }
   ],
   "source": [
    "paste(max(x), min(x))"
   ]
  },
  {
   "cell_type": "code",
   "execution_count": 79,
   "metadata": {},
   "outputs": [
    {
     "data": {
      "text/html": [
       "6"
      ],
      "text/latex": [
       "6"
      ],
      "text/markdown": [
       "6"
      ],
      "text/plain": [
       "[1] 6"
      ]
     },
     "metadata": {},
     "output_type": "display_data"
    }
   ],
   "source": [
    "length(x)"
   ]
  },
  {
   "cell_type": "code",
   "execution_count": 80,
   "metadata": {},
   "outputs": [
    {
     "data": {
      "text/html": [
       "<ol class=list-inline>\n",
       "\t<li>-0.98</li>\n",
       "\t<li>-0.83</li>\n",
       "\t<li>-0.13</li>\n",
       "\t<li>0.61</li>\n",
       "\t<li>1.11</li>\n",
       "\t<li>1.71</li>\n",
       "</ol>\n"
      ],
      "text/latex": [
       "\\begin{enumerate*}\n",
       "\\item -0.98\n",
       "\\item -0.83\n",
       "\\item -0.13\n",
       "\\item 0.61\n",
       "\\item 1.11\n",
       "\\item 1.71\n",
       "\\end{enumerate*}\n"
      ],
      "text/markdown": [
       "1. -0.98\n",
       "2. -0.83\n",
       "3. -0.13\n",
       "4. 0.61\n",
       "5. 1.11\n",
       "6. 1.71\n",
       "\n",
       "\n"
      ],
      "text/plain": [
       "[1] -0.98 -0.83 -0.13  0.61  1.11  1.71"
      ]
     },
     "metadata": {},
     "output_type": "display_data"
    }
   ],
   "source": [
    "sort(x)"
   ]
  },
  {
   "cell_type": "code",
   "execution_count": 81,
   "metadata": {},
   "outputs": [
    {
     "data": {
      "text/html": [
       "'0.248333333333333 0.24'"
      ],
      "text/latex": [
       "'0.248333333333333 0.24'"
      ],
      "text/markdown": [
       "'0.248333333333333 0.24'"
      ],
      "text/plain": [
       "[1] \"0.248333333333333 0.24\""
      ]
     },
     "metadata": {},
     "output_type": "display_data"
    }
   ],
   "source": [
    "paste(mean(x), median(x))"
   ]
  },
  {
   "cell_type": "code",
   "execution_count": 82,
   "metadata": {},
   "outputs": [
    {
     "data": {
      "text/html": [
       "2"
      ],
      "text/latex": [
       "2"
      ],
      "text/markdown": [
       "2"
      ],
      "text/plain": [
       "[1] 2"
      ]
     },
     "metadata": {},
     "output_type": "display_data"
    },
    {
     "data": {
      "text/html": [
       "<ol class=list-inline>\n",
       "\t<li>1</li>\n",
       "\t<li>3</li>\n",
       "\t<li>4</li>\n",
       "\t<li>5</li>\n",
       "\t<li>6</li>\n",
       "</ol>\n"
      ],
      "text/latex": [
       "\\begin{enumerate*}\n",
       "\\item 1\n",
       "\\item 3\n",
       "\\item 4\n",
       "\\item 5\n",
       "\\item 6\n",
       "\\end{enumerate*}\n"
      ],
      "text/markdown": [
       "1. 1\n",
       "2. 3\n",
       "3. 4\n",
       "4. 5\n",
       "5. 6\n",
       "\n",
       "\n"
      ],
      "text/plain": [
       "[1] 1 3 4 5 6"
      ]
     },
     "metadata": {},
     "output_type": "display_data"
    },
    {
     "data": {
      "text/html": [
       "<ol class=list-inline>\n",
       "\t<li>1</li>\n",
       "\t<li>2</li>\n",
       "\t<li>6</li>\n",
       "</ol>\n"
      ],
      "text/latex": [
       "\\begin{enumerate*}\n",
       "\\item 1\n",
       "\\item 2\n",
       "\\item 6\n",
       "\\end{enumerate*}\n"
      ],
      "text/markdown": [
       "1. 1\n",
       "2. 2\n",
       "3. 6\n",
       "\n",
       "\n"
      ],
      "text/plain": [
       "[1] 1 2 6"
      ]
     },
     "metadata": {},
     "output_type": "display_data"
    },
    {
     "data": {
      "text/html": [
       "<ol class=list-inline>\n",
       "\t<li>1</li>\n",
       "\t<li>2</li>\n",
       "\t<li>3</li>\n",
       "\t<li>6</li>\n",
       "</ol>\n"
      ],
      "text/latex": [
       "\\begin{enumerate*}\n",
       "\\item 1\n",
       "\\item 2\n",
       "\\item 3\n",
       "\\item 6\n",
       "\\end{enumerate*}\n"
      ],
      "text/markdown": [
       "1. 1\n",
       "2. 2\n",
       "3. 3\n",
       "4. 6\n",
       "\n",
       "\n"
      ],
      "text/plain": [
       "[1] 1 2 3 6"
      ]
     },
     "metadata": {},
     "output_type": "display_data"
    },
    {
     "data": {
      "text/html": [
       "<ol class=list-inline>\n",
       "\t<li>1</li>\n",
       "\t<li>6</li>\n",
       "</ol>\n"
      ],
      "text/latex": [
       "\\begin{enumerate*}\n",
       "\\item 1\n",
       "\\item 6\n",
       "\\end{enumerate*}\n"
      ],
      "text/markdown": [
       "1. 1\n",
       "2. 6\n",
       "\n",
       "\n"
      ],
      "text/plain": [
       "[1] 1 6"
      ]
     },
     "metadata": {},
     "output_type": "display_data"
    }
   ],
   "source": [
    "which(x==1.71)\n",
    "which(x!=1.71)\n",
    "which(x>0.2)\n",
    "which(x>0.2 | x==-0.98)\n",
    "which(x>0.2 & x<1.5)"
   ]
  },
  {
   "cell_type": "code",
   "execution_count": 83,
   "metadata": {},
   "outputs": [
    {
     "data": {
      "text/html": [
       "'1.16489666666667 1.07930378794233'"
      ],
      "text/latex": [
       "'1.16489666666667 1.07930378794233'"
      ],
      "text/markdown": [
       "'1.16489666666667 1.07930378794233'"
      ],
      "text/plain": [
       "[1] \"1.16489666666667 1.07930378794233\""
      ]
     },
     "metadata": {},
     "output_type": "display_data"
    }
   ],
   "source": [
    "paste(var(x), sd(x))"
   ]
  },
  {
   "cell_type": "code",
   "execution_count": 85,
   "metadata": {},
   "outputs": [
    {
     "data": {
      "text/html": [
       "1.64"
      ],
      "text/latex": [
       "1.64"
      ],
      "text/markdown": [
       "1.64"
      ],
      "text/plain": [
       "[1] 1.64"
      ]
     },
     "metadata": {},
     "output_type": "display_data"
    }
   ],
   "source": [
    "IQR(x)"
   ]
  },
  {
   "cell_type": "code",
   "execution_count": 86,
   "metadata": {},
   "outputs": [
    {
     "data": {
      "text/html": [
       "<dl class=dl-horizontal>\n",
       "\t<dt>0%</dt>\n",
       "\t\t<dd>-0.98</dd>\n",
       "\t<dt>25%</dt>\n",
       "\t\t<dd>-0.655</dd>\n",
       "\t<dt>50%</dt>\n",
       "\t\t<dd>0.24</dd>\n",
       "\t<dt>75%</dt>\n",
       "\t\t<dd>0.985</dd>\n",
       "\t<dt>100%</dt>\n",
       "\t\t<dd>1.71</dd>\n",
       "</dl>\n"
      ],
      "text/latex": [
       "\\begin{description*}\n",
       "\\item[0\\textbackslash{}\\%] -0.98\n",
       "\\item[25\\textbackslash{}\\%] -0.655\n",
       "\\item[50\\textbackslash{}\\%] 0.24\n",
       "\\item[75\\textbackslash{}\\%] 0.985\n",
       "\\item[100\\textbackslash{}\\%] 1.71\n",
       "\\end{description*}\n"
      ],
      "text/markdown": [
       "0%\n",
       ":   -0.9825%\n",
       ":   -0.65550%\n",
       ":   0.2475%\n",
       ":   0.985100%\n",
       ":   1.71\n",
       "\n"
      ],
      "text/plain": [
       "    0%    25%    50%    75%   100% \n",
       "-0.980 -0.655  0.240  0.985  1.710 "
      ]
     },
     "metadata": {},
     "output_type": "display_data"
    }
   ],
   "source": [
    "quantile(x)"
   ]
  },
  {
   "cell_type": "code",
   "execution_count": 87,
   "metadata": {},
   "outputs": [
    {
     "data": {
      "text/html": [
       "'0.24 0.24'"
      ],
      "text/latex": [
       "'0.24 0.24'"
      ],
      "text/markdown": [
       "'0.24 0.24'"
      ],
      "text/plain": [
       "[1] \"0.24 0.24\""
      ]
     },
     "metadata": {},
     "output_type": "display_data"
    }
   ],
   "source": [
    "paste(median(x),quantile(x,0.5))"
   ]
  },
  {
   "cell_type": "code",
   "execution_count": 88,
   "metadata": {},
   "outputs": [
    {
     "data": {
      "text/html": [
       "<strong>25%:</strong> -0.655"
      ],
      "text/latex": [
       "\\textbf{25\\textbackslash{}\\%:} -0.655"
      ],
      "text/markdown": [
       "**25%:** -0.655"
      ],
      "text/plain": [
       "   25% \n",
       "-0.655 "
      ]
     },
     "metadata": {},
     "output_type": "display_data"
    }
   ],
   "source": [
    "quantile(x,0.25)"
   ]
  },
  {
   "cell_type": "code",
   "execution_count": 89,
   "metadata": {},
   "outputs": [
    {
     "data": {
      "text/html": [
       "<strong>0%:</strong> -0.98"
      ],
      "text/latex": [
       "\\textbf{0\\textbackslash{}\\%:} -0.98"
      ],
      "text/markdown": [
       "**0%:** -0.98"
      ],
      "text/plain": [
       "   0% \n",
       "-0.98 "
      ]
     },
     "metadata": {},
     "output_type": "display_data"
    }
   ],
   "source": [
    "quantile(x,0)"
   ]
  },
  {
   "cell_type": "code",
   "execution_count": 90,
   "metadata": {},
   "outputs": [
    {
     "data": {
      "text/html": [
       "<strong>95%:</strong> 1.56"
      ],
      "text/latex": [
       "\\textbf{95\\textbackslash{}\\%:} 1.56"
      ],
      "text/markdown": [
       "**95%:** 1.56"
      ],
      "text/plain": [
       " 95% \n",
       "1.56 "
      ]
     },
     "metadata": {},
     "output_type": "display_data"
    }
   ],
   "source": [
    "quantile(x,0.95)"
   ]
  },
  {
   "cell_type": "code",
   "execution_count": 91,
   "metadata": {},
   "outputs": [
    {
     "data": {
      "text/html": [
       "7"
      ],
      "text/latex": [
       "7"
      ],
      "text/markdown": [
       "7"
      ],
      "text/plain": [
       "[1] 7"
      ]
     },
     "metadata": {},
     "output_type": "display_data"
    }
   ],
   "source": [
    "suma <- function(a, b){\n",
    " a+b \n",
    "}\n",
    "suma(2,5)"
   ]
  },
  {
   "cell_type": "code",
   "execution_count": 92,
   "metadata": {},
   "outputs": [],
   "source": [
    "datos<-c(\"A\",\"A\",\"A\",\"A\",\"B\",\"B\",\"B\",\"AB\",\"0\",\"0\",\"0\",\"0\",\"0\",\"0\")"
   ]
  },
  {
   "cell_type": "code",
   "execution_count": 93,
   "metadata": {},
   "outputs": [
    {
     "name": "stdout",
     "output_type": "stream",
     "text": [
      " chr [1:14] \"A\" \"A\" \"A\" \"A\" \"B\" \"B\" \"B\" \"AB\" \"0\" \"0\" \"0\" \"0\" \"0\" \"0\"\n"
     ]
    }
   ],
   "source": [
    "str(datos)"
   ]
  },
  {
   "cell_type": "code",
   "execution_count": 94,
   "metadata": {},
   "outputs": [
    {
     "data": {
      "text/html": [
       "'character'"
      ],
      "text/latex": [
       "'character'"
      ],
      "text/markdown": [
       "'character'"
      ],
      "text/plain": [
       "[1] \"character\""
      ]
     },
     "metadata": {},
     "output_type": "display_data"
    }
   ],
   "source": [
    "typeof(datos)"
   ]
  },
  {
   "cell_type": "code",
   "execution_count": 95,
   "metadata": {},
   "outputs": [
    {
     "data": {
      "text/plain": [
       "datos\n",
       " 0  A AB  B \n",
       " 6  4  1  3 "
      ]
     },
     "metadata": {},
     "output_type": "display_data"
    }
   ],
   "source": [
    "table(datos)"
   ]
  },
  {
   "cell_type": "code",
   "execution_count": 96,
   "metadata": {},
   "outputs": [
    {
     "data": {
      "image/png": "[encoded data removed]",
      "text/plain": [
       "plot without title"
      ]
     },
     "metadata": {},
     "output_type": "display_data"
    }
   ],
   "source": [
    "#Diagrama de barras   (Datos cuantitativos discretos y datos cualitativos)\n",
    "barplot(table(datos),\n",
    "        xlab=\"grupos sanguineos\", \n",
    "        ylab=\"frecuencia absoluta\")"
   ]
  },
  {
   "cell_type": "code",
   "execution_count": 97,
   "metadata": {},
   "outputs": [],
   "source": [
    "valores_variable<-c(\"A\",\"B\",\"AB\",\"0\")\n",
    "frecuencia_absoluta<-c(40,15,5,45)"
   ]
  },
  {
   "cell_type": "code",
   "execution_count": 99,
   "metadata": {},
   "outputs": [
    {
     "data": {
      "image/png": "[encoded data removed]",
      "text/plain": [
       "plot without title"
      ]
     },
     "metadata": {},
     "output_type": "display_data"
    }
   ],
   "source": [
    "barplot(height = frecuencia_absoluta,\n",
    "        names.arg=valores_variable,\n",
    "        xlab=\"grupos sanguineos\", \n",
    "        ylab=\"frecuencia absoluta\")"
   ]
  },
  {
   "cell_type": "code",
   "execution_count": 100,
   "metadata": {},
   "outputs": [
    {
     "data": {
      "image/png": "[encoded data removed]",
      "text/plain": [
       "plot without title"
      ]
     },
     "metadata": {},
     "output_type": "display_data"
    }
   ],
   "source": [
    "#Diagrama de sectores (Datos cuantitativos discretos y datos cualitativos)\n",
    "pie(frecuencia_absoluta,labels=valores_variable)"
   ]
  },
  {
   "cell_type": "code",
   "execution_count": 101,
   "metadata": {},
   "outputs": [
    {
     "data": {
      "image/png": "[encoded data removed]",
      "text/plain": [
       "Plot with title “Histogram of datos”"
      ]
     },
     "metadata": {},
     "output_type": "display_data"
    }
   ],
   "source": [
    "#Histograma  (Datos cuantitativos continuos)\n",
    "datos<-rnorm(100,175,10)\n",
    "hist(datos,xlab=\"altura, cm\",ylab=\"frecuencia absoluta\")"
   ]
  },
  {
   "cell_type": "code",
   "execution_count": 102,
   "metadata": {},
   "outputs": [
    {
     "data": {
      "image/png": "[encoded data removed]",
      "text/plain": [
       "plot without title"
      ]
     },
     "metadata": {},
     "output_type": "display_data"
    }
   ],
   "source": [
    "#Diagrama de cajas  (Comparación de datos continuos)\n",
    "A<-c(120.43, 224.19, 203.90, 157.36, 216.45, 196.84, 232.99, 239.55, 190.58, 284.15)\n",
    "B<-c(290.15, 254.39, 280.03, 277.90, 315.90, 234.90, 305.56, 374.15, 384.64, 335.67)\n",
    "boxplot(A,B,ylab=\"y\",names=c(\"A\",\"B\"))"
   ]
  },
  {
   "cell_type": "code",
   "execution_count": 103,
   "metadata": {},
   "outputs": [
    {
     "data": {
      "image/png": "[encoded data removed]",
      "text/plain": [
       "plot without title"
      ]
     },
     "metadata": {},
     "output_type": "display_data"
    }
   ],
   "source": [
    "#DIAGRAMA DE DISPERSION  (Relacionar dos variables cuantitativas)\n",
    "datos_Altura<-rnorm(100,175,10)\n",
    "datos_Peso<-rnorm(100,70,7)\n",
    "\n",
    "plot(datos_Peso,datos_Altura,xlab=\"Peso, kg\", ylab=\"Altura, cm\")"
   ]
  },
  {
   "cell_type": "code",
   "execution_count": 104,
   "metadata": {},
   "outputs": [
    {
     "data": {
      "image/png": "[encoded data removed]",
      "text/plain": [
       "plot without title"
      ]
     },
     "metadata": {},
     "output_type": "display_data"
    }
   ],
   "source": [
    "#DIAGRAMA DE LINEAS  (Relacionar dos variables cuantitativas)\n",
    "year <- c(1987, 1993, 1997, 2001, 2007)\n",
    "y_M <- c(7.1, 9.3, 12.0, 12.1, 15.1)\n",
    "\n",
    "plot(year,y_M,xlab=\"Year\",ylab=\"Obesity Men, %\", type=\"l\",lwd=1.5)"
   ]
  },
  {
   "cell_type": "code",
   "execution_count": 105,
   "metadata": {},
   "outputs": [
    {
     "data": {
      "image/png": "[encoded data removed]",
      "text/plain": [
       "Plot with title “Relación Peso-Altura”"
      ]
     },
     "metadata": {},
     "output_type": "display_data"
    }
   ],
   "source": [
    "plot(datos_Peso,\n",
    "     datos_Altura,\n",
    "     xlab=\"Peso, kg\", ylab=\"Altura, cm\",\n",
    "     col = 'Red',\n",
    "     main=\"Relación Peso-Altura\",\n",
    "     col.main='Blue')"
   ]
  },
  {
   "cell_type": "code",
   "execution_count": 106,
   "metadata": {},
   "outputs": [
    {
     "data": {
      "image/png": "[encoded data removed]",
      "text/plain": [
       "plot without title"
      ]
     },
     "metadata": {},
     "output_type": "display_data"
    }
   ],
   "source": [
    "plot(datos_Peso,datos_Altura,xlab=\"Peso, kg\", ylab=\"Altura, cm\",pch=2)"
   ]
  },
  {
   "cell_type": "code",
   "execution_count": 107,
   "metadata": {},
   "outputs": [
    {
     "data": {
      "image/png": "[encoded data removed]",
      "text/plain": [
       "plot without title"
      ]
     },
     "metadata": {},
     "output_type": "display_data"
    }
   ],
   "source": [
    "year <- c(1987, 1993, 1997, 2001, 2007)\n",
    "y_M <- c(7.1, 9.3, 12.0, 12.1, 15.1)\n",
    "y_W<- c(8.9, 9.6, 13.1, 13.6, 14.3)\n",
    "\n",
    "plot(year,y_M,xlab=\"Year\",ylab=\"Obesity Men, %\",type=\"l\",lty=2)"
   ]
  },
  {
   "cell_type": "code",
   "execution_count": 108,
   "metadata": {},
   "outputs": [
    {
     "data": {
      "image/png": "[encoded data removed]",
      "text/plain": [
       "plot without title"
      ]
     },
     "metadata": {},
     "output_type": "display_data"
    }
   ],
   "source": [
    "plot(year,y_M,xlab=\"Year\",ylab=\"Obesity Men, %\",pch=2,cex=4)"
   ]
  },
  {
   "cell_type": "code",
   "execution_count": 110,
   "metadata": {},
   "outputs": [
    {
     "data": {
      "image/png": "[encoded data removed]",
      "text/plain": [
       "plot without title"
      ]
     },
     "metadata": {},
     "output_type": "display_data"
    }
   ],
   "source": [
    "plot(year,\n",
    "     y_M,\n",
    "     xlab=\"Year\",ylab=\"Obesity Men, %\",\n",
    "     type=\"l\",\n",
    "     xlim=c(1980, 2010), ylim=c(0,20)\n",
    "    )"
   ]
  },
  {
   "cell_type": "code",
   "execution_count": 113,
   "metadata": {},
   "outputs": [
    {
     "data": {
      "image/png": "[encoded data removed]",
      "text/plain": [
       "plot without title"
      ]
     },
     "metadata": {},
     "output_type": "display_data"
    }
   ],
   "source": [
    "plot(year,y_M,xlab=\"Year\",ylab=\"Obesity, %\",type=\"l\")\n",
    "lines(year,y_W,xlab=\"Year\",ylab=\"Obesity, %\",lty=4)\n",
    "legend(\"topleft\",lty=c(1,4),c(\"Obesity Men\",\"Obesity Women\"))"
   ]
  },
  {
   "cell_type": "code",
   "execution_count": 114,
   "metadata": {},
   "outputs": [
    {
     "data": {
      "image/png": "[encoded data removed]",
      "text/plain": [
       "plot without title"
      ]
     },
     "metadata": {},
     "output_type": "display_data"
    }
   ],
   "source": [
    "plot(year,y_M,xlab=\"Year\",ylab=\"Obesity, %\",pch=2)\n",
    "points(year,y_W,xlab=\"Year\",ylab=\"Obesity, %\",pch=3)"
   ]
  },
  {
   "cell_type": "code",
   "execution_count": 119,
   "metadata": {},
   "outputs": [
    {
     "data": {
      "image/png": "[encoded data removed]",
      "text/plain": [
       "plot without title"
      ]
     },
     "metadata": {},
     "output_type": "display_data"
    }
   ],
   "source": [
    "par(mfrow=c(2,1)) \n",
    "plot(year,y_M,xlab=\"Year\",ylab=\"Obesity Men, %\",pch=2)\n",
    "plot(year,y_W,xlab=\"Year\",ylab=\"Obesity Women, %\",pch=3)\n",
    "#Margenes exteriores\n",
    "par(omi=c(0,0,0,0))\n",
    "#Margenes interiores\n",
    "par(mai=c(1.02,0.82,0.82,0.42))"
   ]
  },
  {
   "cell_type": "code",
   "execution_count": 120,
   "metadata": {},
   "outputs": [
    {
     "data": {
      "image/png": "[encoded data removed]",
      "text/plain": [
       "Plot with title “Frecuencia Grupos Sanguineos”"
      ]
     },
     "metadata": {},
     "output_type": "display_data"
    }
   ],
   "source": [
    "barplot(frecuencia_absoluta,\n",
    "        names.arg=valores_variable,\n",
    "        ylab=\"frecuencia absoluta\",\n",
    "        col=c(1,2,3,4),\n",
    "        ylim=c(0,50),\n",
    "        main=\"Frecuencia Grupos Sanguineos\")"
   ]
  },
  {
   "cell_type": "code",
   "execution_count": 121,
   "metadata": {},
   "outputs": [
    {
     "data": {
      "image/png": "[encoded data removed]",
      "text/plain": [
       "Plot with title “Frecuencia Grupos Sanguineos”"
      ]
     },
     "metadata": {},
     "output_type": "display_data"
    }
   ],
   "source": [
    "#Añadimos color y titulo\n",
    "\n",
    "pie(frecuencia_absoluta,labels=valores_variable,col=c(1,2,3,4),main=\"Frecuencia Grupos Sanguineos\")"
   ]
  },
  {
   "cell_type": "code",
   "execution_count": 122,
   "metadata": {},
   "outputs": [
    {
     "data": {
      "image/png": "[encoded data removed]",
      "text/plain": [
       "Plot with title “Alturas de 55 Mujeres”"
      ]
     },
     "metadata": {},
     "output_type": "display_data"
    }
   ],
   "source": [
    "hist(datos_Altura,\n",
    "     xlab=\"altura, cm\",ylab=\"frecuencia absoluta\",\n",
    "     main=\"Alturas de 55 Mujeres\",\n",
    "     col=\"green\",\n",
    "     xlim=c(140,190),ylim=c(0,20)\n",
    "    )"
   ]
  },
  {
   "cell_type": "code",
   "execution_count": 124,
   "metadata": {},
   "outputs": [
    {
     "data": {
      "image/png": "[encoded data removed]",
      "text/plain": [
       "plot without title"
      ]
     },
     "metadata": {},
     "output_type": "display_data"
    }
   ],
   "source": [
    "A<-c(120.43, 224.19, 203.90, 157.36, 216.45, 196.84, 232.99, 239.55, 190.58, 284.15)\n",
    "B<-c(290.15, 254.39, 280.03, 277.90, 315.90, 234.90, 305.56, 374.15, 384.64, 335.67)\n",
    "\n",
    "plot(1:2,\n",
    "     c(mean(A),mean(B)),\n",
    "     xlab=\"\",ylab=\"Altura, cm\",\n",
    "     xlim=c(0,3),ylim=c(0,400), \n",
    "     xaxt='n',\n",
    "     bty=\"n\", \n",
    "     type='b',\n",
    "     col=\"red\",\n",
    "     lwd=1.2)\n",
    "stripchart(A,vertical=T, \n",
    "           method = 'jitter', jitter = 0.1, \n",
    "           cex = 0.8, pch = 16, \n",
    "           col = \"darkgrey\",add=T,at=1)\n",
    "stripchart(B,vertical=T, \n",
    "           method = 'jitter', jitter = 0.1, \n",
    "           cex = 0.8,pch = 16, \n",
    "           col = \"darkgrey\",add=T,at=2)\n",
    "axis(1, at=1:2, labels=c(\"A\",\"B\"),line=2.4)"
   ]
  },
  {
   "cell_type": "code",
   "execution_count": 125,
   "metadata": {},
   "outputs": [
    {
     "data": {
      "image/png": "[encoded data removed]",
      "text/plain": [
       "plot without title"
      ]
     },
     "metadata": {},
     "output_type": "display_data"
    }
   ],
   "source": [
    "x <- 1:10\n",
    "y.low <- c(120.43, 224.19, 203.90, 157.36, 216.45, 196.84, 232.99, 239.55, 190.58, 284.15)\n",
    "y.high <- c(290.15, 254.39, 280.03, 277.90, 315.90, 234.90, 305.56, 374.15, 384.64, 335.67)\n",
    "\n",
    "plot(x,y.high,type = 'n', ylim = c(100, 400), ylab = \"Y\", xlab = \"X\")\n",
    "lines(x, y.low, col = \"black\")\n",
    "lines(x, y.high, col = \"black\")\n",
    "\n",
    "polygon(c(x, rev(x)), c(y.high, rev(y.low)), col = \"grey80\", border = NA)"
   ]
  },
  {
   "cell_type": "code",
   "execution_count": null,
   "metadata": {},
   "outputs": [],
   "source": []
  }
 ],
 "metadata": {
  "kernelspec": {
   "display_name": "R",
   "language": "R",
   "name": "ir"
  },
  "language_info": {
   "codemirror_mode": "r",
   "file_extension": ".r",
   "mimetype": "text/x-r-source",
   "name": "R",
   "pygments_lexer": "r",
   "version": "3.4.4"
  }
 },
 "nbformat": 4,
 "nbformat_minor": 2
}
