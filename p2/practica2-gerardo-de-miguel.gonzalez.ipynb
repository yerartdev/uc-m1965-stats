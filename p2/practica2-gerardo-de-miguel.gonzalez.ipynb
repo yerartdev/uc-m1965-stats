{
 "cells": [
  {
   "cell_type": "markdown",
   "metadata": {},
   "source": [
    "# Gerardo de Miguel González\n",
    "\n",
    "## Práctica 2 de Estadística para Data Science"
   ]
  },
  {
   "cell_type": "markdown",
   "metadata": {},
   "source": [
    "### Problema 1 \n",
    "\n",
    "*Considera un examen de 10 preguntas con 5 posibles respuestas para cada pregunta en el que se responde al azar. Considera la variable aleatoria X =número de preguntas acertadas en el examen.*"
   ]
  },
  {
   "cell_type": "markdown",
   "metadata": {},
   "source": [
    "**::GMG::** El problema que se plantea es un problema en el que se *una persona* realiza **10 experimentos** (responder cada una de las preguntas del examen) en *cada uno* de los cuales puede tener éxito (acertar la pregunta) o no (fallar).\n",
    "\n",
    "La **variable aleatoria discreta** que se asigna para modelar el resultado global es el *número de preguntas acertadas* (número de éxitos). Individualmente cada pregunta tiene **5 posibles respuestas**, *una de las cuales* es la correcta por lo que la probabilidad de acertar (éxito) una pregunta es: \n",
    "\n",
    "$p = 1/5$\n",
    "\n",
    "Dentro del marco de la *teoría de probabilidad* y las *variables aleatorias discretas* cada pregunta del examen es un **experimento de Bernoulli** con probabilidad de éxito `p` que es repetido *10 veces* de forma *independiente* y en el que modelamos el número de sucesos (preguntas acertadas) durante los 10 experimentos como una variable aleatoria `X` que es un **experimento binomial**.\n",
    "\n",
    "Por lo tanto vamos a usar una **distribución binomial** para modelar y hacer los cálculos.\n",
    "\n",
    "**::GMG::** Referencias\n",
    "\n",
    "- 4.3. Distribución de Bernoulli y 4.4. Distribución binomial en apuntes de estadística (pdf) pp. 27-28\n",
    "- distribuciones.R (script)\n",
    "- [Comandos de R](https://stat.ethz.ch/R-manual/R-devel/library/stats/html/Binomial.html): dbinom (pmf), pbinom (cdf), qbinom ($cdf^{-1}$)"
   ]
  },
  {
   "cell_type": "markdown",
   "metadata": {},
   "source": [
    "i) ¿Cuánto valen E(X) y SD(X)?\n",
    "\n",
    "**::GMG::** Lo tenemos ya calculado en los apuntes pp. 28\n",
    "\n",
    "$$E(X) = np$$\n",
    "\n",
    "$$Var(X) = np(1 - p)$$\n",
    "\n",
    "y por definición pp. 21:\n",
    "\n",
    "$$E \\left( X \\right) = \\sum_{k=1}^\\infty x_i p \\left( x_i \\right)$$\n",
    "\n",
    "$$Var \\left( X \\right) =  E \\left( X^2 \\right) - \\left( E \\left( X \\right) \\right)^2$$\n",
    "\n",
    "$$SD \\left( X \\right) = \\sqrt {Var \\left( X \\right)}$$"
   ]
  },
  {
   "cell_type": "code",
   "execution_count": 1,
   "metadata": {},
   "outputs": [
    {
     "data": {
      "text/html": [
       "'E(X)= 2'"
      ],
      "text/latex": [
       "'E(X)= 2'"
      ],
      "text/markdown": [
       "'E(X)= 2'"
      ],
      "text/plain": [
       "[1] \"E(X)= 2\""
      ]
     },
     "metadata": {},
     "output_type": "display_data"
    },
    {
     "data": {
      "text/html": [
       "'SD(X)= 1.265'"
      ],
      "text/latex": [
       "'SD(X)= 1.265'"
      ],
      "text/markdown": [
       "'SD(X)= 1.265'"
      ],
      "text/plain": [
       "[1] \"SD(X)= 1.265\""
      ]
     },
     "metadata": {},
     "output_type": "display_data"
    }
   ],
   "source": [
    "#::GMG::Directamente con las fórmulas de los apuntes\n",
    "# número de experimentos de Bernoulli\n",
    "n <- 10\n",
    "# Probabilidad de éxito por pregunta\n",
    "p <- 1/5\n",
    "# E(X)\n",
    "E.X <-  n * p\n",
    "# Var(X)\n",
    "Var.X <- n * p * (1-p)\n",
    "SD.X = sqrt(Var.X)\n",
    "paste('E(X)=', E.X)\n",
    "paste('SD(X)=',round(SD.X,3))"
   ]
  },
  {
   "cell_type": "code",
   "execution_count": 2,
   "metadata": {},
   "outputs": [
    {
     "data": {
      "text/html": [
       "'E(X)= 2'"
      ],
      "text/latex": [
       "'E(X)= 2'"
      ],
      "text/markdown": [
       "'E(X)= 2'"
      ],
      "text/plain": [
       "[1] \"E(X)= 2\""
      ]
     },
     "metadata": {},
     "output_type": "display_data"
    },
    {
     "data": {
      "text/html": [
       "'SD(X)= 1.265'"
      ],
      "text/latex": [
       "'SD(X)= 1.265'"
      ],
      "text/markdown": [
       "'SD(X)= 1.265'"
      ],
      "text/plain": [
       "[1] \"SD(X)= 1.265\""
      ]
     },
     "metadata": {},
     "output_type": "display_data"
    }
   ],
   "source": [
    "#::GMG::Si aplicamos la definición de E(X) y SD(X) también se puede calular con R porque es\n",
    "#       un sumatorio, i.e. sum() y tenemos la pmf p(x) que es dbinom()\n",
    "exitos <- 0:10\n",
    "E.X.2 <- sum(exitos*dbinom(x = exitos,size = n,prob = p))\n",
    "paste('E(X)=', E.X.2)\n",
    "Var.X.2 <- sum(exitos^2*dbinom(x = exitos,size = n,prob = p)) -\n",
    "           E.X.2^2\n",
    "paste('SD(X)=',round(sqrt(Var.X.2),3))"
   ]
  },
  {
   "cell_type": "markdown",
   "metadata": {},
   "source": [
    "ii) Calcula la probabilidad de acertar 0, 1, 2, ..., 10 preguntas. ¿Cuánto vale la suma de las\n",
    "once probabilidades que acabas de calcular?\n",
    "\n",
    "**::GMG::** Conceptualmente en una distribución discreta como la binomial se puede calcular la probabilidad de un evento discreto con la `pmf`:\n",
    "\n",
    "$$P \\left(X = x_i \\right) = dbinom \\left( x =  x_i, size = 10, prob = 1/5 \\right)$$ \n",
    "\n",
    "y la suma de probabilidades hasta un evento dado es la probabilidad de que todos los eventos hasta ese incluido se haya producido y se puede calcular con la `cdf`:\n",
    "\n",
    "$$P \\left(X \\leq x_i \\right) = pbinom \\left( x = x_i, size = 10, prob = 1/5 \\right)$$\n",
    "\n",
    "La suma de las probabilidades de *todos* los eventos $x_i = \\{0,1,2,...10\\}$ tiene que dar **1**. Si se hace con `pmf` y `sum()` o `cdf` tiene dar *lo mismo*."
   ]
  },
  {
   "cell_type": "code",
   "execution_count": 3,
   "metadata": {},
   "outputs": [],
   "source": [
    "#::GMG::calculamos las probabilidades de eventos individuales\n",
    "probabilidades <- dbinom(x = exitos,size = n,prob = p)"
   ]
  },
  {
   "cell_type": "code",
   "execution_count": 4,
   "metadata": {},
   "outputs": [
    {
     "name": "stdout",
     "output_type": "stream",
     "text": [
      " [1] \"p(x = 0 ): 0.1073741824\"         \"p(x = 1 ): 0.268435456\"         \n",
      " [3] \"p(x = 2 ): 0.301989888\"          \"p(x = 3 ): 0.201326592\"         \n",
      " [5] \"p(x = 4 ): 0.088080384\"          \"p(x = 5 ): 0.0264241152\"        \n",
      " [7] \"p(x = 6 ): 0.005505024\"          \"p(x = 7 ): 0.000786432\"         \n",
      " [9] \"p(x = 8 ): 7.37280000000002e-05\" \"p(x = 9 ): 4.09599999999999e-06\"\n",
      "[11] \"p(x = 10 ): 1.024e-07\"          \n"
     ]
    }
   ],
   "source": [
    "# https://stackoverflow.com/questions/4071586/printing-newlines-with-print-in-r\n",
    "print(paste('p(x =',exitos,'):',probabilidades))"
   ]
  },
  {
   "cell_type": "code",
   "execution_count": 5,
   "metadata": {},
   "outputs": [
    {
     "data": {
      "text/html": [
       "'La suma p(x_i) es: 1'"
      ],
      "text/latex": [
       "'La suma p(x\\_i) es: 1'"
      ],
      "text/markdown": [
       "'La suma p(x_i) es: 1'"
      ],
      "text/plain": [
       "[1] \"La suma p(x_i) es: 1\""
      ]
     },
     "metadata": {},
     "output_type": "display_data"
    }
   ],
   "source": [
    "#::GMG::La suma de las probabilidades de todos los eventos es 1\n",
    "suma <- sum(probabilidades)\n",
    "paste('La suma p(x_i) es:', suma)"
   ]
  },
  {
   "cell_type": "code",
   "execution_count": 6,
   "metadata": {},
   "outputs": [
    {
     "data": {
      "text/html": [
       "'La probabilidad p(X &lt;= 10) es: 1'"
      ],
      "text/latex": [
       "'La probabilidad p(X <= 10) es: 1'"
      ],
      "text/markdown": [
       "'La probabilidad p(X &lt;= 10) es: 1'"
      ],
      "text/plain": [
       "[1] \"La probabilidad p(X <= 10) es: 1\""
      ]
     },
     "metadata": {},
     "output_type": "display_data"
    }
   ],
   "source": [
    "#::GMG::Cálculo directo con la cdf\n",
    "probabilidad <- pbinom(q = 10,size = n,prob = p)\n",
    "paste('La probabilidad p(X <= 10) es:', probabilidad)"
   ]
  },
  {
   "cell_type": "markdown",
   "metadata": {},
   "source": [
    "iii) Calcula las probabilidades acumuladas, es decir la probabilidad de obtener 0 aciertos o\n",
    "menos, 1 acierto o menos, 2 aciertos o menos ... 10 aciertos o menos."
   ]
  },
  {
   "cell_type": "code",
   "execution_count": 7,
   "metadata": {},
   "outputs": [
    {
     "name": "stdout",
     "output_type": "stream",
     "text": [
      " [1] \"p(x <= 0 ): 0.1073741824\" \"p(x <= 1 ): 0.3758096384\"\n",
      " [3] \"p(x <= 2 ): 0.6777995264\" \"p(x <= 3 ): 0.8791261184\"\n",
      " [5] \"p(x <= 4 ): 0.9672065024\" \"p(x <= 5 ): 0.9936306176\"\n",
      " [7] \"p(x <= 6 ): 0.9991356416\" \"p(x <= 7 ): 0.9999220736\"\n",
      " [9] \"p(x <= 8 ): 0.9999958016\" \"p(x <= 9 ): 0.9999998976\"\n",
      "[11] \"p(x <= 10 ): 1\"          \n"
     ]
    }
   ],
   "source": [
    "#::GMG:: uso la cdf aquí para todos los eventos\n",
    "p.acumuladas <- pbinom(q = exitos,size = n,prob = p)\n",
    "print(paste('p(x <=',exitos,'):',p.acumuladas))"
   ]
  },
  {
   "cell_type": "markdown",
   "metadata": {},
   "source": [
    "iv) Representa las probabilidades de los apartados anteriores en una gráfica con dos paneles. Guarda la figura en un archivo. ¿Cuál es el número de aciertos más probable?\n",
    "\n",
    "**::GMG::** El número de aciertos más probable es **2** que coincide con $E \\left( X \\right)$"
   ]
  },
  {
   "cell_type": "code",
   "execution_count": 8,
   "metadata": {},
   "outputs": [
    {
     "data": {
      "image/png": "[encoded data removed]",
      "text/plain": [
       "Plot with title “Binomial cdf”"
      ]
     },
     "metadata": {},
     "output_type": "display_data"
    }
   ],
   "source": [
    "#::GMG::Hemos aprendido en clase que para representar valores discretos de forma gráfica\n",
    "#       tenemos barplot\n",
    "# https://stackoverflow.com/questions/17759540/r-graph-of-binomial-distribution\n",
    "par(mfrow=c(1,2))\n",
    "barplot(probabilidades, names.arg = exitos, \n",
    "        xlab = \"Aciertos\", \n",
    "        ylab = \"P (X = aciertos)\", \n",
    "        main = \"Binomial pmf\")\n",
    "barplot(p.acumuladas, names.arg = exitos, \n",
    "        xlab = \"Aciertos\", \n",
    "        ylab = \"P(X <= aciertos)\", \n",
    "        main = \"Binomial cdf\")"
   ]
  },
  {
   "cell_type": "code",
   "execution_count": 10,
   "metadata": {},
   "outputs": [
    {
     "data": {
      "image/png": "[encoded data removed]",
      "text/plain": [
       "Plot with title “cdf”"
      ]
     },
     "metadata": {},
     "output_type": "display_data"
    }
   ],
   "source": [
    "#::GMG::No obstante he visto también que se hacen gráficos de líneas con plot() lines()\n",
    "#       y segment()\n",
    "# Por ejemplo en pp. 118\n",
    "# https://books.google.es/books/about/Probability_and_Statistics_with_R.html?id=4acZAQAAIAAJ&source=kp_book_description&redir_esc=y\n",
    "par(mfrow = c(1,2), pty = 's')\n",
    "plot(exitos,dbinom(x = exitos,size = n,prob = p), type = 'h', \n",
    "     xlab = 'aciertos', ylab = 'P(X = x)',\n",
    "     xlim = c(-1,length(exitos)),\n",
    "     main = 'pdf (pmf)'\n",
    "    )\n",
    "plot(exitos,pbinom(q = exitos,size = n,prob = p), type = 'n',\n",
    "     xlab = 'aciertos', ylab = 'F(x) ~ P (X <= x)',\n",
    "     xlim = c(-1,length(exitos)), ylim = c(0,1),\n",
    "     main = 'cdf'\n",
    "    )\n",
    "segments(-1,0,0,0)\n",
    "segments(exitos, pbinom(q = exitos,size = n,prob = p),\n",
    "         exitos + 1, pbinom(q = exitos,size = n,prob = p))\n",
    "lines(exitos[-length(exitos)], \n",
    "      pbinom(q = exitos[-length(exitos)],size = n,prob = p),\n",
    "      type = 'p', pch = 16)\n",
    "segments(-1,1,length(exitos),1, lty = 2)"
   ]
  },
  {
   "cell_type": "markdown",
   "metadata": {},
   "source": [
    "## Problema 2 \n",
    "\n",
    "*En el archivo GOT.txt figura el número de muertes por cada uno de los 67 primeros capítulos de la serie Juego de Tronos.*"
   ]
  },
  {
   "cell_type": "code",
   "execution_count": 2,
   "metadata": {},
   "outputs": [],
   "source": [
    "#::GMG::Cargo el dataset para trabajar con él\n",
    "headers = read.csv(file = 'GOT.txt',  skip = 0, header = FALSE, \n",
    "                   nrows = 1, as.is = TRUE, strip.white = TRUE, \n",
    "                   sep = ' ')\n",
    "got <- read.csv(file = 'GOT.txt', skip = 1, header = FALSE, sep = ' ')\n",
    "colnames(got)= headers"
   ]
  },
  {
   "cell_type": "code",
   "execution_count": 3,
   "metadata": {},
   "outputs": [
    {
     "name": "stdout",
     "output_type": "stream",
     "text": [
      "[1] \"data.frame with 3 columns and 67 rows.\"\n",
      "[1] \"Description:\"\n",
      "'data.frame':\t67 obs. of  3 variables:\n",
      " $ Season   : int  1 1 1 1 1 1 1 1 1 1 ...\n",
      " $ Episode  : int  1 2 3 4 5 6 7 8 9 10 ...\n",
      " $ NumDeaths: int  4 3 0 1 5 4 2 7 2 3 ...\n"
     ]
    }
   ],
   "source": [
    "print(paste(class(got),'with',ncol(got),'columns and',nrow(got),'rows.'))\n",
    "print('Description:')\n",
    "str(got)"
   ]
  },
  {
   "cell_type": "markdown",
   "metadata": {},
   "source": [
    "i) Razona qué distribución usarías para calcular probabilidades asociadas a esta variable. Representa gráficamente los datos correspondientes al número de muertes de forma que te ayude a decidir qué distribución usar."
   ]
  },
  {
   "cell_type": "markdown",
   "metadata": {},
   "source": [
    "**::GMG::** Razonamiento \n",
    "\n",
    "La serie tiene unos personajes que evolucionan según una trama que es contada en periodos de tiempo llamados *episodios* (`Episode`), agrupados a su vez en periodos de tiempo mayores llamados *temporadas* (`Season`). Un *personaje* puede estar vivo o muerto. Podemos pensar en la *muerte* de un personaje de la serie como un *evento* que podemos **contar** dentro de un periodo especificado (`Episode`,`Season`). Tenemos la cuenta por episodio en el dataset (`numDeaths`) y podemos derivar también la cuenta por temporada. \n",
    "\n",
    "La *cuenta* se puede modelar como una *variable discreta* con su correspondiente *pmf* y *cdf*. Si quiero asignar (*fit*) una *pmf* (*cdf*) determinada tendré que hacer una serie de asunciones (*assunptions*) sobre el *proceso* que genera los datos del dataset. Esas asunciones tendrían que ser *validadas* de alguna manera.\n",
    "\n",
    "**::DUDAS::** ¿Qué maneras hay de validar unas asunciones sobre el proceso/distribución de la variable(s) aleatoria(s) con la(s) que se modela un dataset?\n",
    "\n",
    "El capítulo (*episode*) es un *periodo de tiempo* en el que se puede producir el evento, i.e la muerte de un personaje. El evento puede ocurrir con una cadencia media *constante* y *independiente* del tiempo transcurrido desde el último evento (muerte de otro personaje) en el periodo considerado. Es decir, que la muerte de un personaje no debe afectar al tiempo que transcurra hasta que se produzca la muerte de otro personaje. \n",
    "\n",
    "En los apuntes (pp-28-29) se dice que:\n",
    "\n",
    "> Una variable aleatoria de Poisson, X, expresa la probabilidad que un determinado número de eventos ocurran en un determinado intervalo de tiempo (o de espacio), dada una frecuencia media conocida e independientemente del tiempo discurrido (o espacio recorrido) desde el último evento. Es importante recalcar que los sucesos han de ser independientes par que podamos aplicar la distribución de Poisson correctamente.\n",
    "\n",
    "Con ese razonamiento podemos elegir como distribución de la variable aleatoria discreta \"muertes por episodio\" una (*pmf*) **distribución de Poisson**.\n",
    "\n",
    "[Comandos de R](https://stat.ethz.ch/R-manual/R-devel/library/stats/html/Poisson.html): `dpois`, `ppois`, `qpois`"
   ]
  },
  {
   "cell_type": "code",
   "execution_count": 5,
   "metadata": {},
   "outputs": [
    {
     "data": {
      "text/plain": [
       "\n",
       " 0  1  2  3  4  5  6  7  8 10 11 \n",
       " 5 12 13  9 13  7  2  2  2  1  1 "
      ]
     },
     "metadata": {},
     "output_type": "display_data"
    }
   ],
   "source": [
    "muertes.observadas <- table(got$NumDeaths)\n",
    "muertes.observadas"
   ]
  },
  {
   "cell_type": "code",
   "execution_count": 16,
   "metadata": {},
   "outputs": [
    {
     "data": {
      "text/plain": [
       "\n",
       "    0     1     2     3     4     5     6     7     8    10    11 \n",
       "0.075 0.179 0.194 0.134 0.194 0.104 0.030 0.030 0.030 0.015 0.015 "
      ]
     },
     "metadata": {},
     "output_type": "display_data"
    }
   ],
   "source": [
    "frecuencias.relativas <- round(muertes.observadas/sum(muertes.observadas),3)\n",
    "frecuencias.relativas"
   ]
  },
  {
   "cell_type": "code",
   "execution_count": 6,
   "metadata": {},
   "outputs": [
    {
     "data": {
      "image/png": "[encoded data removed]",
      "text/plain": [
       "plot without title"
      ]
     },
     "metadata": {},
     "output_type": "display_data"
    }
   ],
   "source": [
    "#::GMG::La representación gráfica es la de una variable discreta por lo que lo correcto es\n",
    "#       utilizar un barplot en el que cada barra represente una cuenta de los episodios en los que\n",
    "#       se produce un número determinado de muertes\n",
    "barplot(height = muertes.observadas, xlab = 'Muertes')"
   ]
  },
  {
   "cell_type": "markdown",
   "metadata": {},
   "source": [
    "**::DUDAS::** Se supone que la gráfica anterior debería *ayudar* a decidir qué distribución usar. No entiendo cómo se puede usar esa gráfica para tomar esa decisión. He visto en bibliografía ([Ugarte et.al](http://www.unavarra.es/personal/lugarte/libros.htm), pp. 121-126; pp.447-451) que se pueden expesar las asunciones sobre el proceso de poisson (*poisson process*) y hacer comprobaciones y test de hipótesis. He intentado reproducir la comprobación de alguna asunción aquí, pero no las sabría interpretar ahora ... "
   ]
  },
  {
   "cell_type": "code",
   "execution_count": 8,
   "metadata": {},
   "outputs": [
    {
     "data": {
      "text/html": [
       "<table>\n",
       "<tbody>\n",
       "\t<tr><td> 1.000</td><td> 0.133</td><td>-0.134</td><td>-0.240</td><td>-0.016</td></tr>\n",
       "\t<tr><td> 0.133</td><td> 1.000</td><td> 0.140</td><td>-0.126</td><td>-0.219</td></tr>\n",
       "\t<tr><td>-0.134</td><td> 0.140</td><td> 1.000</td><td> 0.141</td><td>-0.119</td></tr>\n",
       "\t<tr><td>-0.240</td><td>-0.126</td><td> 0.141</td><td> 1.000</td><td> 0.123</td></tr>\n",
       "\t<tr><td>-0.016</td><td>-0.219</td><td>-0.119</td><td> 0.123</td><td> 1.000</td></tr>\n",
       "</tbody>\n",
       "</table>\n"
      ],
      "text/latex": [
       "\\begin{tabular}{lllll}\n",
       "\t  1.000 &  0.133 & -0.134 & -0.240 & -0.016\\\\\n",
       "\t  0.133 &  1.000 &  0.140 & -0.126 & -0.219\\\\\n",
       "\t -0.134 &  0.140 &  1.000 &  0.141 & -0.119\\\\\n",
       "\t -0.240 & -0.126 &  0.141 &  1.000 &  0.123\\\\\n",
       "\t -0.016 & -0.219 & -0.119 &  0.123 &  1.000\\\\\n",
       "\\end{tabular}\n"
      ],
      "text/markdown": [
       "\n",
       "|  1.000 |  0.133 | -0.134 | -0.240 | -0.016 | \n",
       "|  0.133 |  1.000 |  0.140 | -0.126 | -0.219 | \n",
       "| -0.134 |  0.140 |  1.000 |  0.141 | -0.119 | \n",
       "| -0.240 | -0.126 |  0.141 |  1.000 |  0.123 | \n",
       "| -0.016 | -0.219 | -0.119 |  0.123 |  1.000 | \n",
       "\n",
       "\n"
      ],
      "text/plain": [
       "     [,1]   [,2]   [,3]   [,4]   [,5]  \n",
       "[1,]  1.000  0.133 -0.134 -0.240 -0.016\n",
       "[2,]  0.133  1.000  0.140 -0.126 -0.219\n",
       "[3,] -0.134  0.140  1.000  0.141 -0.119\n",
       "[4,] -0.240 -0.126  0.141  1.000  0.123\n",
       "[5,] -0.016 -0.219 -0.119  0.123  1.000"
      ]
     },
     "metadata": {},
     "output_type": "display_data"
    }
   ],
   "source": [
    "#::GMG::test 1: the number of aoutcomes in non-overlapping intervals are independent\n",
    "#       five lag correlation matrix by episode\n",
    "#::nota::\n",
    "LAG <- sapply(X = 1:5,FUN = function(x) {got$NumDeaths[x:(x+62)]})\n",
    "round(cor(LAG),3)"
   ]
  },
  {
   "cell_type": "code",
   "execution_count": 8,
   "metadata": {},
   "outputs": [
    {
     "data": {
      "text/html": [
       "<span style=white-space:pre-wrap>'Media: 3.2089552238806  Varianza: 5.41022161917684'</span>"
      ],
      "text/latex": [
       "'Media: 3.2089552238806  Varianza: 5.41022161917684'"
      ],
      "text/markdown": [
       "<span style=white-space:pre-wrap>'Media: 3.2089552238806  Varianza: 5.41022161917684'</span>"
      ],
      "text/plain": [
       "[1] \"Media: 3.2089552238806  Varianza: 5.41022161917684\""
      ]
     },
     "metadata": {},
     "output_type": "display_data"
    }
   ],
   "source": [
    "#::GMG::No se cumple de forma empírica que la media y varianza sean similares como cabría esperar\n",
    "#       en una muestra que fuera tomada de un proceso de poisson ...\n",
    "media.muestral <- mean(got$NumDeaths)\n",
    "varianza.muestral <- var(got$NumDeaths)\n",
    "paste('Media:', media.muestral,' Varianza:',varianza.muestral)"
   ]
  },
  {
   "cell_type": "code",
   "execution_count": 19,
   "metadata": {},
   "outputs": [],
   "source": [
    "#::GMG::Aquí intentaba probar algo parecido a lo que explican aquí en el apatrado 8\n",
    "# http://www.stats.ox.ac.uk/~marchini/teaching/L5/L5.notes.pdf\n",
    "# y en pp. 123 de Ugarte et al. pero en su ejemplo la media y la varianza son parecidas (!)\n",
    "#probabilidad.teorica <- round(dpois(x = 0:(length(muertes.observadas) -1),\n",
    "#                                    lambda = media.muestral),3)\n",
    "#valores.esperados <- round(probabilidad.teorica*67,0)\n",
    "#tabla <- cbind(muertes.observadas, valores.esperados,\n",
    "#               frecuencias.relativas, probabilidad.teorica)\n",
    "#tabla"
   ]
  },
  {
   "cell_type": "markdown",
   "metadata": {},
   "source": [
    "ii) Estima la probabilidad de que en el siguiente capítulo haya más de 5 muertes. Explica qué suposiciones has hecho. ¿Podría fallar alguna de las suposiciones?"
   ]
  },
  {
   "cell_type": "code",
   "execution_count": 9,
   "metadata": {},
   "outputs": [
    {
     "data": {
      "text/html": [
       "'Probabilidad de más de 5 muertes por episodio: 0.106'"
      ],
      "text/latex": [
       "'Probabilidad de más de 5 muertes por episodio: 0.106'"
      ],
      "text/markdown": [
       "'Probabilidad de más de 5 muertes por episodio: 0.106'"
      ],
      "text/plain": [
       "[1] \"Probabilidad de más de 5 muertes por episodio: 0.106\""
      ]
     },
     "metadata": {},
     "output_type": "display_data"
    }
   ],
   "source": [
    "#::GMG:: Estimamos con una distribución de posson con lambda = media muestral\n",
    "# https://stat.ethz.ch/R-manual/R-devel/library/stats/html/Poisson.html\n",
    "# P(x > 5) = 1 - P(x<=5) = 1 - ppois(5,lambda = media muestral)\n",
    "mas.de.5 <- 1 - ppois(q = 5, lambda = media.muestral)\n",
    "paste('Probabilidad de más de 5 muertes por episodio:', round(mas.de.5,3))"
   ]
  },
  {
   "cell_type": "markdown",
   "metadata": {},
   "source": [
    "**::GMG::** Las suposiciones y asunciones las he expresado en el aprtado i). Yo creo que la suposición de la independencia de las muertes no se sostiene. Al ser unas muertes causadas en batallas por enfrentamientos entre clanes y enfrentamientos personales entre personajes planificados dentro de una trama escrita por temporada o episodio, las muertes tienen una *dependencia*. "
   ]
  },
  {
   "cell_type": "markdown",
   "metadata": {},
   "source": [
    "iii) Calcula la probabilidad de que en el siguiente capítulo haya exactamente 0, 1, 2, ..., 10 muertes. Representa las probabilidades en una gráfica."
   ]
  },
  {
   "cell_type": "code",
   "execution_count": 16,
   "metadata": {},
   "outputs": [
    {
     "data": {
      "image/png": "[encoded data removed]",
      "text/plain": [
       "Plot with title “CDF de X ~ Pois(lambda)”"
      ]
     },
     "metadata": {},
     "output_type": "display_data"
    }
   ],
   "source": [
    "#::GMG:: Dibujamos las pmf y CDF de X ~ Pois(media.muestral)\n",
    "#        Ugarte et al. pp. 123\n",
    "par(mfrow = c(1,2), pty = 's')\n",
    "plot(0:11, \n",
    "     dpois(0:11,media.muestral), \n",
    "     type = 'h', \n",
    "     xlab = 'muertes', \n",
    "     ylab = 'p(X = x)',\n",
    "     xlim = c(-1,12),\n",
    "     main = 'pmf de X ~ Pois(lambda)')\n",
    "plot(0:11, \n",
    "     ppois(0:11,media.muestral), \n",
    "     type = 'h', \n",
    "     xlab = 'muertes', \n",
    "     ylab = 'P(X <= x)',\n",
    "     xlim = c(-1,12),\n",
    "     main = 'CDF de X ~ Pois(lambda)')\n",
    "segments(-1,0,0,0)\n",
    "segments(0:11,ppois(0:11,media.muestral), 1:12, ppois(0:11,media.muestral))\n",
    "lines(0:10,ppois(0:10, media.muestral), type = 'p', pch=16)\n",
    "segments(-1,1,12,1, lty=2)"
   ]
  },
  {
   "cell_type": "code",
   "execution_count": 23,
   "metadata": {},
   "outputs": [
    {
     "data": {
      "image/png": "[encoded data removed]",
      "text/plain": [
       "Plot with title “ecdf muertes observadas”"
      ]
     },
     "metadata": {},
     "output_type": "display_data"
    }
   ],
   "source": [
    "#::GMG:: Lo hago directamente de la muestra, osea la pmf \"empírica\" (?)\n",
    "par(mfrow = c(1,2), pty = 's')\n",
    "plot(seq(1,12,1), \n",
    "     as.vector(muertes.observadas[c(seq(1:9),12,10,11)]/sum(muertes.observadas)),\n",
    "     type = 'p',\n",
    "     xlab = 'muertes', ylab = 'probabilidad', xaxt='n',\n",
    "     pch = 16)\n",
    "axis(1,at=seq(1,12,1),labels=seq(0,11,1), col.axis=\"red\", las=2)\n",
    "lines(seq(1,12,1), \n",
    "      as.vector(muertes.observadas[c(seq(1:9),12,10,11)]/sum(muertes.observadas)),\n",
    "      type = 'h')\n",
    "title('epmf muertes observadas')\n",
    "# https://cran.r-project.org/web/packages/IPSUR/vignettes/IPSUR.pdf\n",
    "# 5.5 The Empirical Distribution\n",
    "plot(ecdf(x = got$NumDeaths),\n",
    "          xlab = 'muertes', ylab = 'probabilidad acumulada', \n",
    "          xaxt='n',\n",
    "          main = 'ecdf muertes observadas')\n",
    "#axis(1,at=seq(1,11,1),labels=c(0:8,10,11), col.axis=\"red\", las=2)\n",
    "axis(1,at=seq(1,12,1),labels=seq(0,11,1), col.axis=\"red\", las=2)\n",
    "title('ecdf muertes observadas')"
   ]
  },
  {
   "cell_type": "markdown",
   "metadata": {},
   "source": [
    "¿Cuál es el número de muertes más probable?\n",
    "\n",
    "**::GMG::** El número de muertes más probable según la pmf de poisson es **3**, que coincide con $\\lambda$ el número de muertes medio por episodio. \n",
    "\n",
    "**::nota::** Veo que en la epmf no se puede decir que haya una más probable sino que hay dos (?) **::DUDAS::**"
   ]
  },
  {
   "cell_type": "markdown",
   "metadata": {},
   "source": [
    "¿Cuánto vale la suma de las once probabilidades? ¿Por qué?"
   ]
  },
  {
   "cell_type": "code",
   "execution_count": 26,
   "metadata": {},
   "outputs": [
    {
     "data": {
      "text/html": [
       "<span style=white-space:pre-wrap>'Suma de las 11 probabilidades es:  0.999867419791024'</span>"
      ],
      "text/latex": [
       "'Suma de las 11 probabilidades es:  0.999867419791024'"
      ],
      "text/markdown": [
       "<span style=white-space:pre-wrap>'Suma de las 11 probabilidades es:  0.999867419791024'</span>"
      ],
      "text/plain": [
       "[1] \"Suma de las 11 probabilidades es:  0.999867419791024\""
      ]
     },
     "metadata": {},
     "output_type": "display_data"
    }
   ],
   "source": [
    "paste('Suma de las 11 probabilidades es: ', sum(dpois(0:11,media.muestral)))"
   ]
  },
  {
   "cell_type": "markdown",
   "metadata": {},
   "source": [
    "**::GMG::** Es la probabilidad P(X<=11)"
   ]
  },
  {
   "cell_type": "code",
   "execution_count": null,
   "metadata": {},
   "outputs": [],
   "source": [
    "ppois(11,media.muestral)"
   ]
  },
  {
   "cell_type": "markdown",
   "metadata": {},
   "source": [
    "iv) ¿Cuánto valen E(X) y SD(X)? Explica su significado en este contexto."
   ]
  },
  {
   "cell_type": "code",
   "execution_count": 10,
   "metadata": {},
   "outputs": [
    {
     "data": {
      "text/html": [
       "'E(X)= 3.209 SD(X)= 1.791'"
      ],
      "text/latex": [
       "'E(X)= 3.209 SD(X)= 1.791'"
      ],
      "text/markdown": [
       "'E(X)= 3.209 SD(X)= 1.791'"
      ],
      "text/plain": [
       "[1] \"E(X)= 3.209 SD(X)= 1.791\""
      ]
     },
     "metadata": {},
     "output_type": "display_data"
    }
   ],
   "source": [
    "#::GMG:: Según la página 29 de los apuntes E(X) = Var(X) = lambda y por lo tanto\n",
    "#        SD(X) = sqrt(lambda)\n",
    "paste('E(X)=', round(media.muestral,3),'SD(X)=', round(sqrt(media.muestral),3))"
   ]
  },
  {
   "cell_type": "markdown",
   "metadata": {},
   "source": [
    "**::GMG::** Explicación de significado ... PENDIENTE (no lo tengo muy claro) **::DUDAS**::**"
   ]
  },
  {
   "cell_type": "markdown",
   "metadata": {},
   "source": [
    "### Problema 3 \n",
    "\n",
    "*Estamos esperando un tren que tiene programada su llegada en breves minutos. Definimos la variable aleatoria X como el tiempo de espera en minutos. La variable aleatoria X tiene función densidad de probabilidad:* \n",
    "\n",
    "$$f \\left(x \\right) = \\begin{cases} \n",
    "      hx & 0\\leq x < 1 \\\\\n",
    "      h & 1\\leq x < 5 \\\\\n",
    "      h \\left(6 -x \\right) & 5\\leq x < 6 \\\\\n",
    "      0 & otherwise \\\\\n",
    "   \\end{cases}$$"
   ]
  },
  {
   "cell_type": "markdown",
   "metadata": {},
   "source": [
    "i) Representa gráficamente f(x) y calcula la constante h.\n",
    "\n",
    "**::GMG::** Veamos, por ser $f \\left( x \\right)$ una pdf:\n",
    "\n",
    "$\\int_{-\\infty}^{\\infty} f(x) dx = 1$\n",
    "\n",
    "$h \\int_{0}^{0.999...} x dx + h \\int_{1}^{4.999...} dx + h \\int_{5}^{5.999...} \\left(6 - x \\right) dx = 1$\n",
    "\n",
    "$h \\frac {x^2}{2}|_{0}^{0.999...} + h x|_{1}^{4.999...} + 6 h x |_{5}^{5.999...} - h \\frac {x^2}{2}||_{5}^{5.999...} = 1$\n",
    "\n",
    "$h \\left( \\frac {x^2}{2}|_{0}^{0.999...} + x|_{1}^{4.999...} + 6 x |_{5}^{5.999...} - \\frac {x^2}{2}|_{5}^{5.999...} \\right) = 1 $\n",
    "\n",
    "$h \\left( 0.4999005 + 3.999 + 5.994 - 5.4490005 \\right) \\approx 1 $\n",
    "\n",
    "$h \\approx \\frac {1}{4.9989} $"
   ]
  },
  {
   "cell_type": "code",
   "execution_count": 1,
   "metadata": {},
   "outputs": [],
   "source": [
    "#::GMG::Defino la función\n",
    "pdf.X <- function (h, x) {\n",
    "    ifelse(x >= 0  & x < 1, h*x,\n",
    "      ifelse(x >= 1 & x < 5,h,\n",
    "        ifelse(x >= 5 & x < 6, h*(6 - x),0)\n",
    "      )\n",
    "    )\n",
    "}"
   ]
  },
  {
   "cell_type": "code",
   "execution_count": 18,
   "metadata": {},
   "outputs": [
    {
     "data": {
      "text/plain": [
       "1.00022 with absolute error < 9e-05"
      ]
     },
     "metadata": {},
     "output_type": "display_data"
    }
   ],
   "source": [
    "#::GMG::Compruebo que es una pdf\n",
    "integrate(f = pdf.X,lower = 0, upper = 6, h = 1/4.9989)"
   ]
  },
  {
   "cell_type": "code",
   "execution_count": 39,
   "metadata": {},
   "outputs": [
    {
     "data": {
      "image/png": "[encoded data removed]",
      "text/plain": [
       "Plot with title “Función densidad de probabilidad”"
      ]
     },
     "metadata": {},
     "output_type": "display_data"
    }
   ],
   "source": [
    "#::GMG::Dibujo la pdf\n",
    "curve(expr = pdf.X(1/4.9989,x),\n",
    "      from = -1, to = 7,\n",
    "      xlab = 'x', ylab = 'pdf(x)')\n",
    "title('Función densidad de probabilidad')"
   ]
  },
  {
   "cell_type": "code",
   "execution_count": 60,
   "metadata": {},
   "outputs": [
    {
     "data": {
      "image/png": "[encoded data removed]",
      "text/plain": [
       "Plot with title “Función densidad de probabilidad”"
      ]
     },
     "metadata": {},
     "output_type": "display_data"
    }
   ],
   "source": [
    "#::GMG::Alternativa más difícil con plot (hay que poner bien la escala en el eje X)\n",
    "# https://stat.ethz.ch/R-manual/R-devel/library/graphics/html/axis.html\n",
    "x <- seq(-1,7)\n",
    "plot(pdf.X(1/4.9989,x), type = 'l',\n",
    "     xlab = 'x', ylab = 'pdf(x)', xaxt='n',\n",
    "     main = 'Función densidad de probabilidad')\n",
    "axis(1,at=seq(1,9),labels=c(-1:7), col.axis=\"red\", las=2,)"
   ]
  },
  {
   "cell_type": "markdown",
   "metadata": {},
   "source": [
    "ii) Calcula P (X < 1), P (X ≤ 1), P (0 < X ≤ 3)\n",
    "\n",
    "**::GMG::** Para X rv continua:\n",
    "\n",
    "$P\\left(X \\leq a\\right) = P\\left(X < a\\right)$\n",
    "\n",
    "Los cálculos que hay que hacer con la pdf (área bajo la curva) son los siguientes:\n",
    "\n",
    "$ P \\left( X < 1 \\right) = P \\left( X \\leq 1 \\right) = P \\left( -\\infty < X < 1 \\right) = \\int_{0}^{1} f(x) dx$\n",
    "\n",
    "$ P \\left( 0 < X \\leq 3 \\right) = P \\left( 0 \\leq X \\leq 3 \\right) = \\int_{0}^{3} f(x) dx$\n",
    "\n",
    "\n",
    "**Referencia** Apuntes de estadística, capítulo 3, apartado 3.9. Función densidad de probabilidad, pp. 20"
   ]
  },
  {
   "cell_type": "code",
   "execution_count": 63,
   "metadata": {},
   "outputs": [
    {
     "data": {
      "text/html": [
       "'𝑃(𝑋 &lt; 1) = 𝑃(𝑋 ≤ 1)= 0.10002 y 𝑃(0 &lt; 𝑋 ≤ 3) = 𝑃(0 ≤ 𝑋 ≤ 3)= 0.50011'"
      ],
      "text/latex": [
       "'𝑃(𝑋 < 1) = 𝑃(𝑋 ≤ 1)= 0.10002 y 𝑃(0 < 𝑋 ≤ 3) = 𝑃(0 ≤ 𝑋 ≤ 3)= 0.50011'"
      ],
      "text/markdown": [
       "'𝑃(𝑋 &lt; 1) = 𝑃(𝑋 ≤ 1)= 0.10002 y 𝑃(0 &lt; 𝑋 ≤ 3) = 𝑃(0 ≤ 𝑋 ≤ 3)= 0.50011'"
      ],
      "text/plain": [
       "[1] \"𝑃(𝑋 < 1) = 𝑃(𝑋 ≤ 1)= 0.10002 y 𝑃(0 < 𝑋 ≤ 3) = 𝑃(0 ≤ 𝑋 ≤ 3)= 0.50011\""
      ]
     },
     "metadata": {},
     "output_type": "display_data"
    }
   ],
   "source": [
    "#::GMG::Asumimos que X es rv continua y usamos la pdf\n",
    "paste('𝑃(𝑋 < 1) = 𝑃(𝑋 ≤ 1)=', \n",
    "      round(integrate(f = pdf.X,lower = 0, upper = 1, h = 1/4.9989)$value, 5),\n",
    "       'y 𝑃(0 < 𝑋 ≤ 3) = 𝑃(0 ≤ 𝑋 ≤ 3)=', \n",
    "      round(integrate(f = pdf.X,lower = 0, upper = 3, h = 1/4.9989)$value,5))"
   ]
  },
  {
   "cell_type": "markdown",
   "metadata": {},
   "source": [
    "iii) ¿Cuánto vale E(X)?\n",
    "\n",
    "**::GMG::** Apuntes Estadística (pdf), Capítulo 3, apartado 3.10 Media o esperanza matemática de una variable aleatoria\n",
    "\n",
    "$E\\left( X \\right) = \\int_{-\\infty}^{\\infty} x f(x) dx = \\int_{0}^{6} x f(x) dx$"
   ]
  },
  {
   "cell_type": "code",
   "execution_count": 66,
   "metadata": {},
   "outputs": [
    {
     "data": {
      "text/html": [
       "'E(X)= 3.00066'"
      ],
      "text/latex": [
       "'E(X)= 3.00066'"
      ],
      "text/markdown": [
       "'E(X)= 3.00066'"
      ],
      "text/plain": [
       "[1] \"E(X)= 3.00066\""
      ]
     },
     "metadata": {},
     "output_type": "display_data"
    }
   ],
   "source": [
    "#::GMG::Ponemos por separado el integrando\n",
    "integrando <- function(x) {\n",
    "    x*pdf.X(1/4.9989,x)\n",
    "}\n",
    "paste('E(X)=', round(integrate(f = integrando, lower = 0, upper = 6)$value, 5))"
   ]
  },
  {
   "cell_type": "markdown",
   "metadata": {},
   "source": [
    "### Problema 4 \n",
    "\n",
    "*El colesterol se mide en una población con media 180 mg/dL y desviacón típica 25 mg/dL.*\n",
    "\n",
    "**::GMG::** Asumo distribución normal, con $\\mu = 180 mg/dL$ y $\\sigma = 25 mg/dL$: \n",
    "\n",
    "$$X \\sim {\\sf Normal}(\\mu, \\sigma)$$\n",
    "\n",
    "**::GMG::** Referencia, apuntes de estadística Capítulo 4, apartado 4.6, pp. 30-31\n",
    "\n",
    "Comandos de R: `dnorm` (pdf), `pnorm` (cdf), `qnorm` (inversa cdf), `rnorm` (sim)"
   ]
  },
  {
   "cell_type": "code",
   "execution_count": 1,
   "metadata": {},
   "outputs": [],
   "source": [
    "mu <- 180 # mg/dL\n",
    "sigma <- 25 # mg/dL"
   ]
  },
  {
   "cell_type": "markdown",
   "metadata": {},
   "source": [
    "i)  Calcula la probabilidad de que una persona tenga más de 225 mg/dL de colesterol en sangre."
   ]
  },
  {
   "cell_type": "code",
   "execution_count": 5,
   "metadata": {},
   "outputs": [
    {
     "data": {
      "text/html": [
       "<span style=white-space:pre-wrap>'Probabilidad de que una persona tenga más de 225 mg/dL:  0.036'</span>"
      ],
      "text/latex": [
       "'Probabilidad de que una persona tenga más de 225 mg/dL:  0.036'"
      ],
      "text/markdown": [
       "<span style=white-space:pre-wrap>'Probabilidad de que una persona tenga más de 225 mg/dL:  0.036'</span>"
      ],
      "text/plain": [
       "[1] \"Probabilidad de que una persona tenga más de 225 mg/dL:  0.036\""
      ]
     },
     "metadata": {},
     "output_type": "display_data"
    }
   ],
   "source": [
    "p_mas_de <- 1 - pnorm(q = 225, mean = mu, sd = sigma)\n",
    "paste(\"Probabilidad de que una persona tenga más de 225 mg/dL: \", \n",
    "            round(p_mas_de,3)\n",
    "     )"
   ]
  },
  {
   "cell_type": "markdown",
   "metadata": {},
   "source": [
    "ii)  Calcula el percentil del 95% de colesterol en sangre en dicha población."
   ]
  },
  {
   "cell_type": "code",
   "execution_count": 8,
   "metadata": {},
   "outputs": [
    {
     "data": {
      "text/html": [
       "'El percentil 0.95 de colesterol en sangre de la población es: 221.121'"
      ],
      "text/latex": [
       "'El percentil 0.95 de colesterol en sangre de la población es: 221.121'"
      ],
      "text/markdown": [
       "'El percentil 0.95 de colesterol en sangre de la población es: 221.121'"
      ],
      "text/plain": [
       "[1] \"El percentil 0.95 de colesterol en sangre de la población es: 221.121\""
      ]
     },
     "metadata": {},
     "output_type": "display_data"
    }
   ],
   "source": [
    "percentil <- 0.95\n",
    "paste('El percentil 0.95 de colesterol en sangre de la población es:',\n",
    "     round(qnorm(p = percentil,mean = mu,sd = sigma),3))"
   ]
  },
  {
   "cell_type": "markdown",
   "metadata": {},
   "source": [
    "iii) Representa la función de densidad y la función de distribución en una gráfica con dos paneles."
   ]
  },
  {
   "cell_type": "code",
   "execution_count": 9,
   "metadata": {},
   "outputs": [],
   "source": [
    "xseq <- seq(0,12*sigma,.5)\n",
    "dens <- dnorm(x = xseq,mean = mu,sd = sigma)\n",
    "dist <- pnorm(q = xseq,mean = mu,sd = sigma)"
   ]
  },
  {
   "cell_type": "code",
   "execution_count": 10,
   "metadata": {},
   "outputs": [
    {
     "data": {
      "image/png": "[encoded data removed]",
      "text/plain": [
       "Plot with title “FDP colesterol (Normal)”"
      ]
     },
     "metadata": {},
     "output_type": "display_data"
    }
   ],
   "source": [
    "par(mfrow=c(1,2), mar=c(3,4,4,2))\n",
    "plot(xseq, dens, col=\"darkgreen\",\n",
    "     xlab=\"\", ylab=\"fdp\", \n",
    "     type=\"l\",lwd=2, cex=2, \n",
    "     main=\"fdp colesterol (Normal)\", cex.axis=.8)\n",
    "plot(xseq, dist, col=\"darkorange\", \n",
    "     xlab=\"\", ylab=\"FDP\",\n",
    "     type=\"l\",lwd=2, cex=2, \n",
    "     main=\"FDP colesterol (Normal)\", cex.axis=.8)"
   ]
  },
  {
   "cell_type": "markdown",
   "metadata": {},
   "source": [
    "iv) ¿Cuánto valen E(X) y SD(X)?"
   ]
  },
  {
   "cell_type": "code",
   "execution_count": 12,
   "metadata": {},
   "outputs": [
    {
     "data": {
      "text/html": [
       "'E(X) = 180 mg/dL y SD(X) = 25 mg/dL'"
      ],
      "text/latex": [
       "'E(X) = 180 mg/dL y SD(X) = 25 mg/dL'"
      ],
      "text/markdown": [
       "'E(X) = 180 mg/dL y SD(X) = 25 mg/dL'"
      ],
      "text/plain": [
       "[1] \"E(X) = 180 mg/dL y SD(X) = 25 mg/dL\""
      ]
     },
     "metadata": {},
     "output_type": "display_data"
    }
   ],
   "source": [
    "#::GMG::Según la teoría E(X) es la media poblacional \n",
    "#       y SD(X) es la desviación típica poblacional, y ambos parámetros nos han sido dados\n",
    "#       como datos iniciales del problema:\n",
    "paste('E(X) =', mu, 'mg/dL y SD(X) =', sigma, 'mg/dL')"
   ]
  }
 ],
 "metadata": {
  "kernelspec": {
   "display_name": "R",
   "language": "R",
   "name": "ir"
  },
  "language_info": {
   "codemirror_mode": "r",
   "file_extension": ".r",
   "mimetype": "text/x-r-source",
   "name": "R",
   "pygments_lexer": "r",
   "version": "3.4.4"
  }
 },
 "nbformat": 4,
 "nbformat_minor": 2
}
