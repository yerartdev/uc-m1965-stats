{
 "cells": [
  {
   "cell_type": "markdown",
   "metadata": {},
   "source": [
    "# Gerardo de Miguel González\n",
    "\n",
    "## Práctica 2 de Estadística para Data Science"
   ]
  },
  {
   "cell_type": "markdown",
   "metadata": {},
   "source": [
    "### Problema 1 \n",
    "\n",
    "*Considera un examen de 10 preguntas con 5 posibles respuestas para cada pregunta en el que se responde al azar. Considera la variable aleatoria X =número de preguntas acertadas en el examen.*"
   ]
  },
  {
   "cell_type": "markdown",
   "metadata": {},
   "source": [
    "**::GMG::** El problema que se plantea es un problema en el que se *una persona* realiza **10 experimentos** (responder cada una de las preguntas del examen) en *cada uno* de los cuales puede tener éxito (acertar la pregunta) o no (fallar).\n",
    "\n",
    "La **variable aleatoria discreta** que se asigna para modelar el resultado global es el *número de preguntas acertadas* (número de éxitos). Individualmente cada pregunta tiene **5 posibles respuestas**, *una de las cuales* es la correcta por lo que la probabilidad de acertar (éxito) una pregunta es: \n",
    "\n",
    "$p = 1/5$\n",
    "\n",
    "Dentro del marco de la *teoría de probabilidad* y las *variables aleatorias discretas* cada pregunta del examen es un **experimento de Bernoulli** con probabilidad de éxito `p` que es repetido *10 veces* de forma *independiente* y en el que modelamos el número de sucesos (preguntas acertadas) durante los 10 experimentos como una variable aleatoria `X` que es un **experimento binomial**.\n",
    "\n",
    "Por lo tanto vamos a usar una **distribución binomial** para modelar y hacer los cálculos.\n",
    "\n",
    "**::GMG::** Referencias\n",
    "\n",
    "- 4.3. Distribución de Bernoulli y 4.4. Distribución binomial en apuntes de estadística (pdf) pp. 27-28\n",
    "- distribuciones.R (script)\n",
    "- [Comandos de R](https://stat.ethz.ch/R-manual/R-devel/library/stats/html/Binomial.html): dbinom (pmf), pbinom (cdf), qbinom ($cdf^{-1}$)"
   ]
  },
  {
   "cell_type": "markdown",
   "metadata": {},
   "source": [
    "i) ¿Cuánto valen E(X) y SD(X)?\n",
    "\n",
    "**::GMG::** Lo tenemos ya calculado en los apuntes pp. 28\n",
    "\n",
    "$$E(X) = np$$\n",
    "\n",
    "$$Var(X) = np(1 - p)$$\n",
    "\n",
    "y por definición pp. 21:\n",
    "\n",
    "$$E \\left( X \\right) = \\sum_{k=1}^\\infty x_i p \\left( x_i \\right)$$\n",
    "\n",
    "$$Var \\left( X \\right) =  E \\left( X^2 \\right) - \\left( E \\left( X \\right) \\right)^2$$\n",
    "\n",
    "$$SD \\left( X \\right) = \\sqrt {Var \\left( X \\right)}$$"
   ]
  },
  {
   "cell_type": "code",
   "execution_count": 1,
   "metadata": {},
   "outputs": [
    {
     "data": {
      "text/html": [
       "'E(X)= 2'"
      ],
      "text/latex": [
       "'E(X)= 2'"
      ],
      "text/markdown": [
       "'E(X)= 2'"
      ],
      "text/plain": [
       "[1] \"E(X)= 2\""
      ]
     },
     "metadata": {},
     "output_type": "display_data"
    },
    {
     "data": {
      "text/html": [
       "'SD(X)= 1.265'"
      ],
      "text/latex": [
       "'SD(X)= 1.265'"
      ],
      "text/markdown": [
       "'SD(X)= 1.265'"
      ],
      "text/plain": [
       "[1] \"SD(X)= 1.265\""
      ]
     },
     "metadata": {},
     "output_type": "display_data"
    }
   ],
   "source": [
    "#::GMG::Directamente con las fórmulas de los apuntes\n",
    "# número de experimentos de Bernoulli\n",
    "n <- 10\n",
    "# Probabilidad de éxito por pregunta\n",
    "p <- 1/5\n",
    "# E(X)\n",
    "E.X <-  n * p\n",
    "# Var(X)\n",
    "Var.X <- n * p * (1-p)\n",
    "SD.X = sqrt(Var.X)\n",
    "paste('E(X)=', E.X)\n",
    "paste('SD(X)=',round(SD.X,3))"
   ]
  },
  {
   "cell_type": "code",
   "execution_count": 2,
   "metadata": {},
   "outputs": [
    {
     "data": {
      "text/html": [
       "'E(X)= 2'"
      ],
      "text/latex": [
       "'E(X)= 2'"
      ],
      "text/markdown": [
       "'E(X)= 2'"
      ],
      "text/plain": [
       "[1] \"E(X)= 2\""
      ]
     },
     "metadata": {},
     "output_type": "display_data"
    },
    {
     "data": {
      "text/html": [
       "'SD(X)= 1.265'"
      ],
      "text/latex": [
       "'SD(X)= 1.265'"
      ],
      "text/markdown": [
       "'SD(X)= 1.265'"
      ],
      "text/plain": [
       "[1] \"SD(X)= 1.265\""
      ]
     },
     "metadata": {},
     "output_type": "display_data"
    }
   ],
   "source": [
    "#::GMG::Si aplicamos la definición de E(X) y SD(X) también se puede calular con R porque es\n",
    "#       un sumatorio, i.e. sum() y tenemos la pmf p(x) que es dbinom()\n",
    "exitos <- 0:10\n",
    "E.X.2 <- sum(exitos*dbinom(x = exitos,size = n,prob = p))\n",
    "paste('E(X)=', E.X.2)\n",
    "Var.X.2 <- sum(exitos^2*dbinom(x = exitos,size = n,prob = p)) -\n",
    "           E.X.2^2\n",
    "paste('SD(X)=',round(sqrt(Var.X.2),3))"
   ]
  },
  {
   "cell_type": "markdown",
   "metadata": {},
   "source": [
    "ii) Calcula la probabilidad de acertar 0, 1, 2, ..., 10 preguntas. ¿Cuánto vale la suma de las\n",
    "once probabilidades que acabas de calcular?\n",
    "\n",
    "**::GMG::** Conceptualmente en una distribución discreta como la binomial se puede calcular la probabilidad de un evento discreto con la `pmf`:\n",
    "\n",
    "$$P \\left(X = x_i \\right) = dbinom \\left( x =  x_i, size = 10, prob = 1/5 \\right)$$ \n",
    "\n",
    "y la suma de probabilidades hasta un evento dado es la probabilidad de que todos los eventos hasta ese incluido se haya producido y se puede calcular con la `cdf`:\n",
    "\n",
    "$$P \\left(X \\leq x_i \\right) = pbinom \\left( x = x_i, size = 10, prob = 1/5 \\right)$$\n",
    "\n",
    "La suma de las probabilidades de *todos* los eventos $x_i = \\{0,1,2,...10\\}$ tiene que dar **1**. Si se hace con `pmf` y `sum()` o `cdf` tiene dar *lo mismo*."
   ]
  },
  {
   "cell_type": "code",
   "execution_count": 3,
   "metadata": {},
   "outputs": [],
   "source": [
    "#::GMG::calculamos las probabilidades de eventos individuales\n",
    "probabilidades <- dbinom(x = exitos,size = n,prob = p)"
   ]
  },
  {
   "cell_type": "code",
   "execution_count": 4,
   "metadata": {},
   "outputs": [
    {
     "name": "stdout",
     "output_type": "stream",
     "text": [
      " [1] \"p(x = 0 ): 0.1073741824\"         \"p(x = 1 ): 0.268435456\"         \n",
      " [3] \"p(x = 2 ): 0.301989888\"          \"p(x = 3 ): 0.201326592\"         \n",
      " [5] \"p(x = 4 ): 0.088080384\"          \"p(x = 5 ): 0.0264241152\"        \n",
      " [7] \"p(x = 6 ): 0.005505024\"          \"p(x = 7 ): 0.000786432\"         \n",
      " [9] \"p(x = 8 ): 7.37280000000002e-05\" \"p(x = 9 ): 4.09599999999999e-06\"\n",
      "[11] \"p(x = 10 ): 1.024e-07\"          \n"
     ]
    }
   ],
   "source": [
    "# https://stackoverflow.com/questions/4071586/printing-newlines-with-print-in-r\n",
    "print(paste('p(x =',exitos,'):',probabilidades))"
   ]
  },
  {
   "cell_type": "code",
   "execution_count": 5,
   "metadata": {},
   "outputs": [
    {
     "data": {
      "text/html": [
       "'La suma p(x_i) es: 1'"
      ],
      "text/latex": [
       "'La suma p(x\\_i) es: 1'"
      ],
      "text/markdown": [
       "'La suma p(x_i) es: 1'"
      ],
      "text/plain": [
       "[1] \"La suma p(x_i) es: 1\""
      ]
     },
     "metadata": {},
     "output_type": "display_data"
    }
   ],
   "source": [
    "#::GMG::La suma de las probabilidades de todos los eventos es 1\n",
    "suma <- sum(probabilidades)\n",
    "paste('La suma p(x_i) es:', suma)"
   ]
  },
  {
   "cell_type": "code",
   "execution_count": 6,
   "metadata": {},
   "outputs": [
    {
     "data": {
      "text/html": [
       "'La probabilidad p(X &lt;= 10) es: 1'"
      ],
      "text/latex": [
       "'La probabilidad p(X <= 10) es: 1'"
      ],
      "text/markdown": [
       "'La probabilidad p(X &lt;= 10) es: 1'"
      ],
      "text/plain": [
       "[1] \"La probabilidad p(X <= 10) es: 1\""
      ]
     },
     "metadata": {},
     "output_type": "display_data"
    }
   ],
   "source": [
    "#::GMG::Cálculo directo con la cdf\n",
    "probabilidad <- pbinom(q = 10,size = n,prob = p)\n",
    "paste('La probabilidad p(X <= 10) es:', probabilidad)"
   ]
  },
  {
   "cell_type": "markdown",
   "metadata": {},
   "source": [
    "iii) Calcula las probabilidades acumuladas, es decir la probabilidad de obtener 0 aciertos o\n",
    "menos, 1 acierto o menos, 2 aciertos o menos ... 10 aciertos o menos."
   ]
  },
  {
   "cell_type": "code",
   "execution_count": 7,
   "metadata": {},
   "outputs": [
    {
     "name": "stdout",
     "output_type": "stream",
     "text": [
      " [1] \"p(x <= 0 ): 0.1073741824\" \"p(x <= 1 ): 0.3758096384\"\n",
      " [3] \"p(x <= 2 ): 0.6777995264\" \"p(x <= 3 ): 0.8791261184\"\n",
      " [5] \"p(x <= 4 ): 0.9672065024\" \"p(x <= 5 ): 0.9936306176\"\n",
      " [7] \"p(x <= 6 ): 0.9991356416\" \"p(x <= 7 ): 0.9999220736\"\n",
      " [9] \"p(x <= 8 ): 0.9999958016\" \"p(x <= 9 ): 0.9999998976\"\n",
      "[11] \"p(x <= 10 ): 1\"          \n"
     ]
    }
   ],
   "source": [
    "#::GMG:: uso la cdf aquí para todos los eventos\n",
    "p.acumuladas <- pbinom(q = exitos,size = n,prob = p)\n",
    "print(paste('p(x <=',exitos,'):',p.acumuladas))"
   ]
  },
  {
   "cell_type": "markdown",
   "metadata": {},
   "source": [
    "iv) Representa las probabilidades de los apartados anteriores en una gráfica con dos paneles. Guarda la figura en un archivo. ¿Cuál es el número de aciertos más probable?\n",
    "\n",
    "**::GMG::** El número de aciertos más probable es **2** que coincide con $E \\left( X \\right)$"
   ]
  },
  {
   "cell_type": "code",
   "execution_count": 8,
   "metadata": {},
   "outputs": [
    {
     "data": {
      "image/png": "[encoded data removed]",
      "text/plain": [
       "Plot with title “Binomial cdf”"
      ]
     },
     "metadata": {},
     "output_type": "display_data"
    }
   ],
   "source": [
    "#::GMG::Hemos aprendido en clase que para representar valores discretos de forma gráfica\n",
    "#       tenemos barplot\n",
    "# https://stackoverflow.com/questions/17759540/r-graph-of-binomial-distribution\n",
    "par(mfrow=c(1,2))\n",
    "barplot(probabilidades, names.arg = exitos, \n",
    "        xlab = \"Aciertos\", \n",
    "        ylab = \"P (X = aciertos)\", \n",
    "        main = \"Binomial pmf\")\n",
    "barplot(p.acumuladas, names.arg = exitos, \n",
    "        xlab = \"Aciertos\", \n",
    "        ylab = \"P(X <= aciertos)\", \n",
    "        main = \"Binomial cdf\")"
   ]
  },
  {
   "cell_type": "code",
   "execution_count": 10,
   "metadata": {},
   "outputs": [
    {
     "data": {
      "image/png": "[encoded data removed]",
      "text/plain": [
       "Plot with title “cdf”"
      ]
     },
     "metadata": {},
     "output_type": "display_data"
    }
   ],
   "source": [
    "#::GMG::No obstante he visto también que se hacen gráficos de líneas con plot() lines()\n",
    "#       y segment()\n",
    "# Por ejemplo en pp. 118\n",
    "# https://books.google.es/books/about/Probability_and_Statistics_with_R.html?id=4acZAQAAIAAJ&source=kp_book_description&redir_esc=y\n",
    "par(mfrow = c(1,2), pty = 's')\n",
    "plot(exitos,dbinom(x = exitos,size = n,prob = p), type = 'h', \n",
    "     xlab = 'aciertos', ylab = 'P(X = x)',\n",
    "     xlim = c(-1,length(exitos)),\n",
    "     main = 'pdf (pmf)'\n",
    "    )\n",
    "plot(exitos,pbinom(q = exitos,size = n,prob = p), type = 'n',\n",
    "     xlab = 'aciertos', ylab = 'F(x) ~ P (X <= x)',\n",
    "     xlim = c(-1,length(exitos)), ylim = c(0,1),\n",
    "     main = 'cdf'\n",
    "    )\n",
    "segments(-1,0,0,0)\n",
    "segments(exitos, pbinom(q = exitos,size = n,prob = p),\n",
    "         exitos + 1, pbinom(q = exitos,size = n,prob = p))\n",
    "lines(exitos[-length(exitos)], \n",
    "      pbinom(q = exitos[-length(exitos)],size = n,prob = p),\n",
    "      type = 'p', pch = 16)\n",
    "segments(-1,1,length(exitos),1, lty = 2)"
   ]
  },
  {
   "cell_type": "markdown",
   "metadata": {},
   "source": [
    "## Problema 2 \n",
    "\n",
    "*En el archivo GOT.txt figura el número de muertes por cada uno de los 67 primeros capítulos de la serie Juego de Tronos.*"
   ]
  },
  {
   "cell_type": "code",
   "execution_count": 1,
   "metadata": {},
   "outputs": [],
   "source": [
    "#::GMG::Cargo el dataset para trabajar con él\n",
    "headers = read.csv(file = 'GOT.txt',  skip = 0, header = FALSE, \n",
    "                   nrows = 1, as.is = TRUE, strip.white = TRUE, \n",
    "                   sep = ' ')\n",
    "got <- read.csv(file = 'GOT.txt', skip = 1, header = FALSE, sep = ' ')\n",
    "colnames(got)= headers"
   ]
  },
  {
   "cell_type": "code",
   "execution_count": 2,
   "metadata": {},
   "outputs": [
    {
     "name": "stdout",
     "output_type": "stream",
     "text": [
      "[1] \"data.frame with 3 columns and 67 rows.\"\n",
      "[1] \"Description:\"\n",
      "'data.frame':\t67 obs. of  3 variables:\n",
      " $ Season   : int  1 1 1 1 1 1 1 1 1 1 ...\n",
      " $ Episode  : int  1 2 3 4 5 6 7 8 9 10 ...\n",
      " $ NumDeaths: int  4 3 0 1 5 4 2 7 2 3 ...\n"
     ]
    }
   ],
   "source": [
    "print(paste(class(got),'with',ncol(got),'columns and',nrow(got),'rows.'))\n",
    "print('Description:')\n",
    "str(got)"
   ]
  },
  {
   "cell_type": "markdown",
   "metadata": {},
   "source": [
    "i) Razona qué distribución usarías para calcular probabilidades asociadas a esta variable. Representa gráficamente los datos correspondientes al número de muertes de forma que te ayude a decidir qué distribución usar."
   ]
  },
  {
   "cell_type": "code",
   "execution_count": 13,
   "metadata": {},
   "outputs": [
    {
     "data": {
      "image/png": "[encoded data removed]",
      "text/plain": [
       "plot without title"
      ]
     },
     "metadata": {},
     "output_type": "display_data"
    }
   ],
   "source": [
    "#::GMG::La representación gráfica es la de una variable discreta por lo que lo correcto es\n",
    "#       utilizar un barplot en el que cada barra represente una cuenta de los episodios en los que\n",
    "#       se produce un número determinado de muertes\n",
    "barplot(height = muertes.observadas, xlab = 'Muertes')"
   ]
  },
  {
   "cell_type": "code",
   "execution_count": 8,
   "metadata": {},
   "outputs": [
    {
     "data": {
      "text/html": [
       "<table>\n",
       "<tbody>\n",
       "\t<tr><td> 1.000</td><td> 0.133</td><td>-0.134</td><td>-0.240</td><td>-0.016</td></tr>\n",
       "\t<tr><td> 0.133</td><td> 1.000</td><td> 0.140</td><td>-0.126</td><td>-0.219</td></tr>\n",
       "\t<tr><td>-0.134</td><td> 0.140</td><td> 1.000</td><td> 0.141</td><td>-0.119</td></tr>\n",
       "\t<tr><td>-0.240</td><td>-0.126</td><td> 0.141</td><td> 1.000</td><td> 0.123</td></tr>\n",
       "\t<tr><td>-0.016</td><td>-0.219</td><td>-0.119</td><td> 0.123</td><td> 1.000</td></tr>\n",
       "</tbody>\n",
       "</table>\n"
      ],
      "text/latex": [
       "\\begin{tabular}{lllll}\n",
       "\t  1.000 &  0.133 & -0.134 & -0.240 & -0.016\\\\\n",
       "\t  0.133 &  1.000 &  0.140 & -0.126 & -0.219\\\\\n",
       "\t -0.134 &  0.140 &  1.000 &  0.141 & -0.119\\\\\n",
       "\t -0.240 & -0.126 &  0.141 &  1.000 &  0.123\\\\\n",
       "\t -0.016 & -0.219 & -0.119 &  0.123 &  1.000\\\\\n",
       "\\end{tabular}\n"
      ],
      "text/markdown": [
       "\n",
       "|  1.000 |  0.133 | -0.134 | -0.240 | -0.016 | \n",
       "|  0.133 |  1.000 |  0.140 | -0.126 | -0.219 | \n",
       "| -0.134 |  0.140 |  1.000 |  0.141 | -0.119 | \n",
       "| -0.240 | -0.126 |  0.141 |  1.000 |  0.123 | \n",
       "| -0.016 | -0.219 | -0.119 |  0.123 |  1.000 | \n",
       "\n",
       "\n"
      ],
      "text/plain": [
       "     [,1]   [,2]   [,3]   [,4]   [,5]  \n",
       "[1,]  1.000  0.133 -0.134 -0.240 -0.016\n",
       "[2,]  0.133  1.000  0.140 -0.126 -0.219\n",
       "[3,] -0.134  0.140  1.000  0.141 -0.119\n",
       "[4,] -0.240 -0.126  0.141  1.000  0.123\n",
       "[5,] -0.016 -0.219 -0.119  0.123  1.000"
      ]
     },
     "metadata": {},
     "output_type": "display_data"
    }
   ],
   "source": [
    "#::GMG::test 1: the number of aoutcomes in non-overlapping intervals are independent\n",
    "#       five lag correlation matrix by episode\n",
    "LAG <- sapply(X = 1:5,FUN = function(x) {got$NumDeaths[x:(x+62)]})\n",
    "round(cor(LAG),3)"
   ]
  },
  {
   "cell_type": "code",
   "execution_count": 11,
   "metadata": {},
   "outputs": [
    {
     "data": {
      "text/plain": [
       "\n",
       " 0  1  2  3  4  5  6  7  8 10 11 \n",
       " 5 12 13  9 13  7  2  2  2  1  1 "
      ]
     },
     "metadata": {},
     "output_type": "display_data"
    }
   ],
   "source": [
    "muertes.observadas <- table(got$NumDeaths)\n",
    "muertes.observadas"
   ]
  },
  {
   "cell_type": "code",
   "execution_count": 16,
   "metadata": {},
   "outputs": [
    {
     "data": {
      "text/plain": [
       "\n",
       "    0     1     2     3     4     5     6     7     8    10    11 \n",
       "0.075 0.179 0.194 0.134 0.194 0.104 0.030 0.030 0.030 0.015 0.015 "
      ]
     },
     "metadata": {},
     "output_type": "display_data"
    }
   ],
   "source": [
    "frecuencias.relativas <- round(muertes.observadas/sum(muertes.observadas),3)\n",
    "frecuencias.relativas"
   ]
  },
  {
   "cell_type": "code",
   "execution_count": 15,
   "metadata": {},
   "outputs": [
    {
     "data": {
      "text/html": [
       "<span style=white-space:pre-wrap>'Media: 3.2089552238806  Varianza: 5.41022161917684'</span>"
      ],
      "text/latex": [
       "'Media: 3.2089552238806  Varianza: 5.41022161917684'"
      ],
      "text/markdown": [
       "<span style=white-space:pre-wrap>'Media: 3.2089552238806  Varianza: 5.41022161917684'</span>"
      ],
      "text/plain": [
       "[1] \"Media: 3.2089552238806  Varianza: 5.41022161917684\""
      ]
     },
     "metadata": {},
     "output_type": "display_data"
    }
   ],
   "source": [
    "#::GMG::No se cumple de forma empírica que la media y varianza sean similares (!!)\n",
    "media.muestral <- mean(got$NumDeaths)\n",
    "varianza.muestral <- var(got$NumDeaths)\n",
    "paste('Media:', media.muestral,' Varianza:',varianza.muestral)"
   ]
  },
  {
   "cell_type": "code",
   "execution_count": 19,
   "metadata": {},
   "outputs": [],
   "source": [
    "probabilidad.teorica <- round(dpois(x = 0:(length(muertes.observadas) -1),\n",
    "                                    lambda = media.muestral),3)\n",
    "valores.esperados <- round(probabilidad.teorica*67,0)\n",
    "tabla <- cbind(muertes.observadas, valores.esperados,\n",
    "               frecuencias.relativas, probabilidad.teorica)"
   ]
  },
  {
   "cell_type": "code",
   "execution_count": 20,
   "metadata": {},
   "outputs": [
    {
     "data": {
      "text/html": [
       "<table>\n",
       "<thead><tr><th></th><th scope=col>muertes.observadas</th><th scope=col>valores.esperados</th><th scope=col>frecuencias.relativas</th><th scope=col>probabilidad.teorica</th></tr></thead>\n",
       "<tbody>\n",
       "\t<tr><th scope=row>0</th><td> 5   </td><td> 3   </td><td>0.075</td><td>0.040</td></tr>\n",
       "\t<tr><th scope=row>1</th><td>12   </td><td> 9   </td><td>0.179</td><td>0.130</td></tr>\n",
       "\t<tr><th scope=row>2</th><td>13   </td><td>14   </td><td>0.194</td><td>0.208</td></tr>\n",
       "\t<tr><th scope=row>3</th><td> 9   </td><td>15   </td><td>0.134</td><td>0.222</td></tr>\n",
       "\t<tr><th scope=row>4</th><td>13   </td><td>12   </td><td>0.194</td><td>0.178</td></tr>\n",
       "\t<tr><th scope=row>5</th><td> 7   </td><td> 8   </td><td>0.104</td><td>0.115</td></tr>\n",
       "\t<tr><th scope=row>6</th><td> 2   </td><td> 4   </td><td>0.030</td><td>0.061</td></tr>\n",
       "\t<tr><th scope=row>7</th><td> 2   </td><td> 2   </td><td>0.030</td><td>0.028</td></tr>\n",
       "\t<tr><th scope=row>8</th><td> 2   </td><td> 1   </td><td>0.030</td><td>0.011</td></tr>\n",
       "\t<tr><th scope=row>10</th><td> 1   </td><td> 0   </td><td>0.015</td><td>0.004</td></tr>\n",
       "\t<tr><th scope=row>11</th><td> 1   </td><td> 0   </td><td>0.015</td><td>0.001</td></tr>\n",
       "</tbody>\n",
       "</table>\n"
      ],
      "text/latex": [
       "\\begin{tabular}{r|llll}\n",
       "  & muertes.observadas & valores.esperados & frecuencias.relativas & probabilidad.teorica\\\\\n",
       "\\hline\n",
       "\t0 &  5    &  3    & 0.075 & 0.040\\\\\n",
       "\t1 & 12    &  9    & 0.179 & 0.130\\\\\n",
       "\t2 & 13    & 14    & 0.194 & 0.208\\\\\n",
       "\t3 &  9    & 15    & 0.134 & 0.222\\\\\n",
       "\t4 & 13    & 12    & 0.194 & 0.178\\\\\n",
       "\t5 &  7    &  8    & 0.104 & 0.115\\\\\n",
       "\t6 &  2    &  4    & 0.030 & 0.061\\\\\n",
       "\t7 &  2    &  2    & 0.030 & 0.028\\\\\n",
       "\t8 &  2    &  1    & 0.030 & 0.011\\\\\n",
       "\t10 &  1    &  0    & 0.015 & 0.004\\\\\n",
       "\t11 &  1    &  0    & 0.015 & 0.001\\\\\n",
       "\\end{tabular}\n"
      ],
      "text/markdown": [
       "\n",
       "| <!--/--> | muertes.observadas | valores.esperados | frecuencias.relativas | probabilidad.teorica | \n",
       "|---|---|---|---|---|---|---|---|---|---|---|\n",
       "| 0 |  5    |  3    | 0.075 | 0.040 | \n",
       "| 1 | 12    |  9    | 0.179 | 0.130 | \n",
       "| 2 | 13    | 14    | 0.194 | 0.208 | \n",
       "| 3 |  9    | 15    | 0.134 | 0.222 | \n",
       "| 4 | 13    | 12    | 0.194 | 0.178 | \n",
       "| 5 |  7    |  8    | 0.104 | 0.115 | \n",
       "| 6 |  2    |  4    | 0.030 | 0.061 | \n",
       "| 7 |  2    |  2    | 0.030 | 0.028 | \n",
       "| 8 |  2    |  1    | 0.030 | 0.011 | \n",
       "| 10 |  1    |  0    | 0.015 | 0.004 | \n",
       "| 11 |  1    |  0    | 0.015 | 0.001 | \n",
       "\n",
       "\n"
      ],
      "text/plain": [
       "   muertes.observadas valores.esperados frecuencias.relativas\n",
       "0   5                  3                0.075                \n",
       "1  12                  9                0.179                \n",
       "2  13                 14                0.194                \n",
       "3   9                 15                0.134                \n",
       "4  13                 12                0.194                \n",
       "5   7                  8                0.104                \n",
       "6   2                  4                0.030                \n",
       "7   2                  2                0.030                \n",
       "8   2                  1                0.030                \n",
       "10  1                  0                0.015                \n",
       "11  1                  0                0.015                \n",
       "   probabilidad.teorica\n",
       "0  0.040               \n",
       "1  0.130               \n",
       "2  0.208               \n",
       "3  0.222               \n",
       "4  0.178               \n",
       "5  0.115               \n",
       "6  0.061               \n",
       "7  0.028               \n",
       "8  0.011               \n",
       "10 0.004               \n",
       "11 0.001               "
      ]
     },
     "metadata": {},
     "output_type": "display_data"
    }
   ],
   "source": [
    "tabla"
   ]
  },
  {
   "cell_type": "markdown",
   "metadata": {},
   "source": [
    "**::GMG::** Razonamiento \n",
    "\n",
    "La serie consta de una serie de personajes que evolucionan según una trama que es contada en periodos de tiempo llamados *episodios* (`Episode`), agrupados a su vez en periodos de tiempo mayores llamados *temporadas* (`Season`). Un *personaje* puede estar vivo o muerto. Podemos pensar en la *muerte* de un personaje de la serie como un *evento* que podemos **contar** dentro de un periodo especificado (`Episode`,`Season`). Tenemos la cuenta por episodio en el dataset (`numDeaths`) y podemos derivar también la cuenta por temporada. \n",
    "\n",
    "y que se puede modelar como una *variable discreta*. El capítulo es un *periodo de tiempo* en el que se puede producir el evento. El evento (muerte de un personaje) tiene que ocurrir con una cadencia media constante y *independiente* del tiempo transcurrido desde el último evento (muerte de otro personaje) en el periodo considerado. Es decir, que la muerte de un personaje no debe afectar al tiempo que transcurra hasta que se produzca la muerte de otro personaje. "
   ]
  },
  {
   "cell_type": "markdown",
   "metadata": {},
   "source": [
    "ii) Estima la probabilidad de que en el siguiente capítulo haya más de 5 muertes. Explica qué suposiciones has hecho. ¿Podría fallar alguna de las suposiciones?"
   ]
  },
  {
   "cell_type": "markdown",
   "metadata": {},
   "source": [
    "iii) Calcula la probabilidad de que en el siguiente capítulo haya exactamente 0, 1, 2, ..., 10 muertes. Representa las probabilidades en una gráfica. ¿Cuál es el número de muertes más probable? ¿Cuánto vale la suma de las once probabilidades? ¿Por qué?"
   ]
  },
  {
   "cell_type": "markdown",
   "metadata": {},
   "source": [
    "iv) ¿Cu ́anto valen E(X) y SD(X)? Explica su significado en este contexto."
   ]
  },
  {
   "cell_type": "markdown",
   "metadata": {},
   "source": [
    "### Problema 3 \n",
    "\n",
    "*Estamos esperando un tren que tiene programada su llegada en breves minutos. Definimos la variable aleatoria X como el tiempo de espera en minutos. La variable aleatoria X tiene función densidad de probabilidad:* \n",
    "\n",
    "f(x) = hx si x ∈ [0, 1), f(x) = h si x ∈ [1, 5),\n",
    "f(x) = h (6 − x) si x ∈ [5, 6], y f(x) = 0 en los demás casos."
   ]
  },
  {
   "cell_type": "markdown",
   "metadata": {},
   "source": [
    "i) Representa gráficamente f(x) y calcula la constante h."
   ]
  },
  {
   "cell_type": "markdown",
   "metadata": {},
   "source": [
    "ii) Calcula P (X < 1), P (X ≤ 1), P (0 < X ≤ 3)"
   ]
  },
  {
   "cell_type": "markdown",
   "metadata": {},
   "source": [
    "iii) ¿Cuánto vale E(X)?"
   ]
  },
  {
   "cell_type": "markdown",
   "metadata": {},
   "source": [
    "### Problema 4 \n",
    "\n",
    "*El colesterol se mide en una población con media 180 mg/dL y desviacón típica 25 mg/dL.*\n",
    "\n",
    "**::GMG::** Asumo distribución normal con media = mu y desviacion tipica = sigma"
   ]
  },
  {
   "cell_type": "code",
   "execution_count": null,
   "metadata": {},
   "outputs": [],
   "source": [
    "mu <- 180 # mg/dL\n",
    "sigma <- 25 # mg/dL"
   ]
  },
  {
   "cell_type": "markdown",
   "metadata": {},
   "source": [
    "i)  Calcula la probabilidad de que una persona tenga más de 225 mg/dL de colesterol en sangre."
   ]
  },
  {
   "cell_type": "code",
   "execution_count": null,
   "metadata": {},
   "outputs": [],
   "source": [
    "p_mas_de <- 1 - pnorm(q = 225, mean = mu, sd = sigma)\n",
    "print(paste(\"Probabilidad de que una persona tenga más de 225 mg/dL: \", p_mas_de))"
   ]
  },
  {
   "cell_type": "markdown",
   "metadata": {},
   "source": [
    "ii)  Calcula el percentil del 95% de colesterol en sangre en dicha población."
   ]
  },
  {
   "cell_type": "code",
   "execution_count": null,
   "metadata": {},
   "outputs": [],
   "source": [
    "percentil <- 0.95\n",
    "qnorm(p = percentil,mean = mu,sd = sigma)"
   ]
  },
  {
   "cell_type": "markdown",
   "metadata": {},
   "source": [
    "iii) Representa la función de densidad y la función de distribución en una gráfica con dos paneles."
   ]
  },
  {
   "cell_type": "code",
   "execution_count": null,
   "metadata": {},
   "outputs": [],
   "source": [
    "xseq <- seq(0,12*sigma,.5)\n",
    "dens <- dnorm(x = xseq,mean = mu,sd = sigma)\n",
    "dist <- pnorm(q = xseq,mean = mu,sd = sigma)"
   ]
  },
  {
   "cell_type": "code",
   "execution_count": null,
   "metadata": {},
   "outputs": [],
   "source": [
    "par(mfrow=c(1,2), mar=c(3,4,4,2))\n",
    "plot(xseq, dens, col=\"darkgreen\",\n",
    "     xlab=\"\", ylab=\"fdp\", \n",
    "     type=\"l\",lwd=2, cex=2, \n",
    "     main=\"fdp colesterol (Normal)\", cex.axis=.8)\n",
    "plot(xseq, dist, col=\"darkorange\", \n",
    "     xlab=\"\", ylab=\"FDP\",\n",
    "     type=\"l\",lwd=2, cex=2, \n",
    "     main=\"FDP colesterol (Normal)\", cex.axis=.8)"
   ]
  },
  {
   "cell_type": "markdown",
   "metadata": {},
   "source": [
    "iv) ¿Cuánto valen E(X) y SD(X)?"
   ]
  }
 ],
 "metadata": {
  "kernelspec": {
   "display_name": "R",
   "language": "R",
   "name": "ir"
  },
  "language_info": {
   "codemirror_mode": "r",
   "file_extension": ".r",
   "mimetype": "text/x-r-source",
   "name": "R",
   "pygments_lexer": "r",
   "version": "3.4.4"
  }
 },
 "nbformat": 4,
 "nbformat_minor": 2
}
