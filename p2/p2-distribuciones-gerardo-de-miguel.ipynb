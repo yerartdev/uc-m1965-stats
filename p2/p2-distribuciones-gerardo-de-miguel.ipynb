{
 "cells": [
  {
   "cell_type": "markdown",
   "metadata": {},
   "source": [
    "Gerardo de Miguel González\n",
    "\n",
    "Práctica 2\n",
    "\n",
    "Problema 4 El colesterol se mide en una población con media 180 mg/dL y desviacón típica 25 mg/dL\n",
    "\n",
    "::GMG:: Asumo distribución normal con media = mu y desviacion tipica = sigma"
   ]
  },
  {
   "cell_type": "code",
   "execution_count": 4,
   "metadata": {},
   "outputs": [],
   "source": [
    "mu <- 18 # mg/dL\n",
    "sigma <- 25 # mg/dL"
   ]
  },
  {
   "cell_type": "markdown",
   "metadata": {},
   "source": [
    "i)  Calcula la probabilidad de que una persona tenga más de 225 mg/dL de colesterol en sangre."
   ]
  },
  {
   "cell_type": "code",
   "execution_count": 6,
   "metadata": {},
   "outputs": [
    {
     "name": "stdout",
     "output_type": "stream",
     "text": [
      "[1] \"Probabilidad de que una persona tenga más de 225 mg/dL:  1.11022302462516e-16\"\n"
     ]
    }
   ],
   "source": [
    "p_mas_de <- 1 - pnorm(q = 225, mean = mu, sd = sigma)\n",
    "print(paste(\"Probabilidad de que una persona tenga más de 225 mg/dL: \", p_mas_de))"
   ]
  },
  {
   "cell_type": "markdown",
   "metadata": {},
   "source": [
    "ii)  Calcula el percentil del 95% de colesterol en sangre en dicha población."
   ]
  },
  {
   "cell_type": "code",
   "execution_count": 8,
   "metadata": {},
   "outputs": [
    {
     "data": {
      "text/html": [
       "59.1213406737868"
      ],
      "text/latex": [
       "59.1213406737868"
      ],
      "text/markdown": [
       "59.1213406737868"
      ],
      "text/plain": [
       "[1] 59.12134"
      ]
     },
     "metadata": {},
     "output_type": "display_data"
    }
   ],
   "source": [
    "percentil <- 0.95\n",
    "qnorm(p = percentil,mean = mu,sd = sigma)"
   ]
  }
 ],
 "metadata": {
  "kernelspec": {
   "display_name": "R",
   "language": "R",
   "name": "ir"
  },
  "language_info": {
   "codemirror_mode": "r",
   "file_extension": ".r",
   "mimetype": "text/x-r-source",
   "name": "R",
   "pygments_lexer": "r",
   "version": "3.4.4"
  }
 },
 "nbformat": 4,
 "nbformat_minor": 2
}
