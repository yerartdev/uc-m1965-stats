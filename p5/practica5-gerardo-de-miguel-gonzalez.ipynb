{
 "cells": [
  {
   "cell_type": "markdown",
   "metadata": {
    "collapsed": true
   },
   "source": [
    "# Gerardo de Miguel González\n",
    "\n",
    "## Práctica 5 de Estadística para Data Science"
   ]
  },
  {
   "cell_type": "markdown",
   "metadata": {},
   "source": [
    "### Problema 1 \n",
    "\n",
    "*Realiza las siguientes tareas*:"
   ]
  },
  {
   "cell_type": "markdown",
   "metadata": {},
   "source": [
    "i) Simula 50 tiradas de un dado."
   ]
  },
  {
   "cell_type": "markdown",
   "metadata": {},
   "source": [
    "::GMG::Reference\n",
    "\n",
    " - [R Documentation: sample](https://www.rdocumentation.org/packages/base/versions/3.5.1/topics/sample)\n",
    " - [Chapter 7: Sampling and Replication: 4 the_sample_function](https://ademos.people.uic.edu/Chapter7.html#4_the_sample_function)\n",
    " - [Stackoverflow:Elegant solution to count rolling two dice?](https://stackoverflow.com/questions/38176831/elegant-solution-to-count-rolling-two-dice)"
   ]
  },
  {
   "cell_type": "code",
   "execution_count": 1,
   "metadata": {},
   "outputs": [
    {
     "name": "stdout",
     "output_type": "stream",
     "text": [
      "[1] 2\n",
      "[1] 5 2\n"
     ]
    }
   ],
   "source": [
    "#::GMG::Podemos simular una tirada de N dados con sample() que implementa\n",
    "#       simple random sampling, https://en.wikipedia.org/wiki/Simple_random_sample\n",
    "tirada<-function (dado, n_dados) {\n",
    "        return (sample(dado,n_dados,replace=TRUE))\n",
    "      }\n",
    "\n",
    "dado<-1:6\n",
    "n_dados<-1\n",
    "#::GMG::Una tirada de UN dado\n",
    "print(tirada(dado,n_dados))\n",
    "#::GMG::Una tirada de DOS dados\n",
    "print(tirada(dado,n_dados+1))"
   ]
  },
  {
   "cell_type": "code",
   "execution_count": 2,
   "metadata": {},
   "outputs": [
    {
     "name": "stdout",
     "output_type": "stream",
     "text": [
      " [1] 2 3 4 6 2 6 6 4 4 1 2 2 5 3 5 3 5 6 3 5 6 2 4 1 2 3 1 3 6 3 3 4 3 2 5 5 5 1\n",
      "[39] 5 3 5 4 5 4 4 5 1 3 5 5\n",
      " [1] 3 6 3 2 1 1 2 4 4 3 6 2 3 2 4 2 3 5 1 6 3 6 3 3 3 6 6 3 5 6 3 5 3 2 5 2 5 1\n",
      "[39] 2 1 2 1 4 6 5 5 3 3 5 4\n"
     ]
    }
   ],
   "source": [
    "#::GMG::50 tiradas de 1 dado\n",
    "#  (o) Una manera es repetir 50 veces la tirada de 1 dado con sample() (bootstraping)\n",
    "#::nota::Fijamos el experimento con una semilla\n",
    "set.seed(1)\n",
    "n_tiradas<-50\n",
    "tiradas<-replicate(n_tiradas, tirada(dado, n_dados))\n",
    "print(tiradas)\n",
    "#  (o) Otra es interpretar cada muestreo con reemplazo como una tirada\n",
    "tiradas2<-sample(x = dado,size = n_tiradas,replace=TRUE)\n",
    "print(tiradas2)"
   ]
  },
  {
   "cell_type": "markdown",
   "metadata": {},
   "source": [
    "ii) Considera la variable aleatoria, X, definida como el número que sale al tirar el dado.\n",
    "¿Cuánto valen $\\bar{X}, S^2, E(X), Var(X), E(\\bar{X})$ y $Var(\\bar{X})$?\n",
    "\n",
    "**::GMG::** Referencia para poner expresiones de estadística en Markdown (enunciado) \n",
    "\n",
    " - [R Markdown](http://pages.stat.wisc.edu/~jgillett/371/RStudio/RMarkdown.pdf)\n",
    "\n",
    "y referencias de apuntes de la asignatura:\n",
    " \n",
    " - Distribución uniforme discreta, apartado 4.1 pp. 25-26\n",
    " - Capítulo 5, apartados 5.1 a 5.7, pp. 33-35 (Muestreo)"
   ]
  },
  {
   "cell_type": "code",
   "execution_count": 3,
   "metadata": {},
   "outputs": [
    {
     "data": {
      "text/html": [
       "<span style=white-space:pre-wrap>'::GMG::Media muestral:  3.7'</span>"
      ],
      "text/latex": [
       "'::GMG::Media muestral:  3.7'"
      ],
      "text/markdown": [
       "<span style=white-space:pre-wrap>'::GMG::Media muestral:  3.7'</span>"
      ],
      "text/plain": [
       "[1] \"::GMG::Media muestral:  3.7\""
      ]
     },
     "metadata": {},
     "output_type": "display_data"
    },
    {
     "data": {
      "text/html": [
       "<span style=white-space:pre-wrap>'::GMG::Varianza muestral:  2.378'</span>"
      ],
      "text/latex": [
       "'::GMG::Varianza muestral:  2.378'"
      ],
      "text/markdown": [
       "<span style=white-space:pre-wrap>'::GMG::Varianza muestral:  2.378'</span>"
      ],
      "text/plain": [
       "[1] \"::GMG::Varianza muestral:  2.378\""
      ]
     },
     "metadata": {},
     "output_type": "display_data"
    }
   ],
   "source": [
    "#::GMG::Media y varianza muestrales\n",
    "paste('::GMG::Media muestral: ',mean(tiradas))\n",
    "paste('::GMG::Varianza muestral: ',signif(var(tiradas),4))"
   ]
  },
  {
   "cell_type": "code",
   "execution_count": 4,
   "metadata": {},
   "outputs": [
    {
     "data": {
      "text/html": [
       "'::GMG::Esperanza matemática/Media poblacional de Uniforme Discreta: 3.5 = 3.5'"
      ],
      "text/latex": [
       "'::GMG::Esperanza matemática/Media poblacional de Uniforme Discreta: 3.5 = 3.5'"
      ],
      "text/markdown": [
       "'::GMG::Esperanza matemática/Media poblacional de Uniforme Discreta: 3.5 = 3.5'"
      ],
      "text/plain": [
       "[1] \"::GMG::Esperanza matemática/Media poblacional de Uniforme Discreta: 3.5 = 3.5\""
      ]
     },
     "metadata": {},
     "output_type": "display_data"
    },
    {
     "data": {
      "text/html": [
       "'::GMG::Varianza poblacional de Uniforme Discreta: 2.917 = 2.917'"
      ],
      "text/latex": [
       "'::GMG::Varianza poblacional de Uniforme Discreta: 2.917 = 2.917'"
      ],
      "text/markdown": [
       "'::GMG::Varianza poblacional de Uniforme Discreta: 2.917 = 2.917'"
      ],
      "text/plain": [
       "[1] \"::GMG::Varianza poblacional de Uniforme Discreta: 2.917 = 2.917\""
      ]
     },
     "metadata": {},
     "output_type": "display_data"
    }
   ],
   "source": [
    "#::GMG::X número que sale al tirar un dado de seis caras x(i) ={1,2,3,4,5,6}\n",
    "#       Distribución uniforme discreta, ref. 4.1 pp. 25-26 Apuntes Estadística M1965\n",
    "#       p(x(i)) = 1/6, i = {1,2,3,4,5,6}\n",
    "p_x_i = 1/length(dado)\n",
    "paste('::GMG::Esperanza matemática/Media poblacional de Uniforme Discreta:',\n",
    "      (dado[6] + dado[1])/2,'=', sum(p_x_i*dado)\n",
    "     )\n",
    "paste('::GMG::Varianza poblacional de Uniforme Discreta:',\n",
    "      signif((length(dado)^2 - 1)/12,4),'=',\n",
    "      signif((sum(p_x_i*dado^2) - sum(p_x_i*dado)^2),4))"
   ]
  },
  {
   "cell_type": "code",
   "execution_count": 5,
   "metadata": {},
   "outputs": [
    {
     "data": {
      "text/html": [
       "'::GMG::Esperanza de la media muestral como variable aleatoria: 3.7'"
      ],
      "text/latex": [
       "'::GMG::Esperanza de la media muestral como variable aleatoria: 3.7'"
      ],
      "text/markdown": [
       "'::GMG::Esperanza de la media muestral como variable aleatoria: 3.7'"
      ],
      "text/plain": [
       "[1] \"::GMG::Esperanza de la media muestral como variable aleatoria: 3.7\""
      ]
     },
     "metadata": {},
     "output_type": "display_data"
    },
    {
     "data": {
      "text/html": [
       "'::GMG::Varianza de la media muestral como variable aleatoria: 2.33'"
      ],
      "text/latex": [
       "'::GMG::Varianza de la media muestral como variable aleatoria: 2.33'"
      ],
      "text/markdown": [
       "'::GMG::Varianza de la media muestral como variable aleatoria: 2.33'"
      ],
      "text/plain": [
       "[1] \"::GMG::Varianza de la media muestral como variable aleatoria: 2.33\""
      ]
     },
     "metadata": {},
     "output_type": "display_data"
    }
   ],
   "source": [
    "#::GMG::Esperanza y varianza de la media muestral, que es una variable aleatoria\n",
    "# Capítulo 5, apartados 5.1 a 5.7, pp. 33-35 (Muestreo)\n",
    "paste('::GMG::Esperanza de la media muestral como variable aleatoria:',\n",
    "      sum(tiradas)/n_tiradas)\n",
    "paste('::GMG::Varianza de la media muestral como variable aleatoria:',\n",
    "      signif((sum(tiradas^2)/n_tiradas - (sum(tiradas)/n_tiradas)^2),4))"
   ]
  },
  {
   "cell_type": "markdown",
   "metadata": {},
   "source": [
    "### Problema 2 \n",
    "\n",
    "*Realiza las siguientes tareas:*"
   ]
  },
  {
   "cell_type": "markdown",
   "metadata": {},
   "source": [
    "i) Simula 50 tiradas de dos dados."
   ]
  },
  {
   "cell_type": "code",
   "execution_count": 6,
   "metadata": {},
   "outputs": [
    {
     "name": "stdout",
     "output_type": "stream",
     "text": [
      "[1] 2 3\n"
     ]
    }
   ],
   "source": [
    "#::GMG::Tirada de 2 dados\n",
    "set.seed(1)\n",
    "n_dados <- 2\n",
    "tira2dados <- sample(dado,n_dados,replace=TRUE)\n",
    "print(tira2dados)"
   ]
  },
  {
   "cell_type": "code",
   "execution_count": 7,
   "metadata": {},
   "outputs": [
    {
     "name": "stdout",
     "output_type": "stream",
     "text": [
      "     [,1] [,2] [,3] [,4] [,5] [,6] [,7] [,8] [,9] [,10] [,11] [,12] [,13] [,14]\n",
      "[1,]    2    4    2    6    4    2    5    5    5     3     6     4     2     1\n",
      "[2,]    3    6    6    4    1    2    3    3    6     5     2     1     3     3\n",
      "     [,15] [,16] [,17] [,18] [,19] [,20] [,21] [,22] [,23] [,24] [,25] [,26]\n",
      "[1,]     6     3     3     5     5     5     5     5     4     1     5     3\n",
      "[2,]     3     4     2     5     1     3     4     4     5     3     5     6\n",
      "     [,27] [,28] [,29] [,30] [,31] [,32] [,33] [,34] [,35] [,36] [,37] [,38]\n",
      "[1,]     3     1     2     4     6     3     4     3     1     3     3     3\n",
      "[2,]     2     1     4     3     2     2     2     5     6     6     3     6\n",
      "     [,39] [,40] [,41] [,42] [,43] [,44] [,45] [,46] [,47] [,48] [,49] [,50]\n",
      "[1,]     6     5     3     3     5     5     2     2     4     5     3     5\n",
      "[2,]     3     6     5     2     2     1     1     1     6     5     3     4\n"
     ]
    }
   ],
   "source": [
    "#::GMG::50 tiradas de 2 dados en una matriz de 2x50, una tirada por columna (!)\n",
    "set.seed(1)\n",
    "print(replicate(n_tiradas, sample(dado, n_dados, replace = TRUE)))"
   ]
  },
  {
   "cell_type": "markdown",
   "metadata": {},
   "source": [
    "ii) Considera la variable aleatoria, X, definida como la suma de los números que salen al\n",
    "tirar dos dados. ¿Cuánto valen $\\bar{X}, S^2, E(X), Var(X), E(\\bar{X})$ y $Var(\\bar{X})$?"
   ]
  },
  {
   "cell_type": "code",
   "execution_count": 8,
   "metadata": {},
   "outputs": [],
   "source": [
    "#::GMG::Defino la variable aleatoria de la suma de la tirada de dos dados\n",
    "suma.dados.rv <- function(caras = 6, n_dados = 2){\n",
    "  tirada <- sample(1:caras, size = n_dados, replace = TRUE)\n",
    "  return(sum(tirada))\n",
    "}"
   ]
  },
  {
   "cell_type": "code",
   "execution_count": 9,
   "metadata": {},
   "outputs": [
    {
     "name": "stdout",
     "output_type": "stream",
     "text": [
      " int [1:50] 5 10 8 10 5 4 8 8 11 8 ...\n"
     ]
    }
   ],
   "source": [
    "#::GMG::Realizamos el experimento de las 50 tiradas obteniendo la suma de los números que salen\n",
    "set.seed(1)\n",
    "tiradas.50 <- replicate(n = n_tiradas,expr = suma.dados.rv())\n",
    "str(tiradas.50)"
   ]
  },
  {
   "cell_type": "code",
   "execution_count": 10,
   "metadata": {},
   "outputs": [
    {
     "data": {
      "text/html": [
       "<span style=white-space:pre-wrap>'::GMG::Media muestral:  7.18'</span>"
      ],
      "text/latex": [
       "'::GMG::Media muestral:  7.18'"
      ],
      "text/markdown": [
       "<span style=white-space:pre-wrap>'::GMG::Media muestral:  7.18'</span>"
      ],
      "text/plain": [
       "[1] \"::GMG::Media muestral:  7.18\""
      ]
     },
     "metadata": {},
     "output_type": "display_data"
    },
    {
     "data": {
      "text/html": [
       "<span style=white-space:pre-wrap>'::GMG::Varianza muestral:  5.13'</span>"
      ],
      "text/latex": [
       "'::GMG::Varianza muestral:  5.13'"
      ],
      "text/markdown": [
       "<span style=white-space:pre-wrap>'::GMG::Varianza muestral:  5.13'</span>"
      ],
      "text/plain": [
       "[1] \"::GMG::Varianza muestral:  5.13\""
      ]
     },
     "metadata": {},
     "output_type": "display_data"
    }
   ],
   "source": [
    "#::GMG::Hacemos los cálculos muestrales\n",
    "paste('::GMG::Media muestral: ',mean(tiradas.50))\n",
    "paste('::GMG::Varianza muestral: ',signif(var(tiradas.50),4))"
   ]
  },
  {
   "cell_type": "code",
   "execution_count": 12,
   "metadata": {},
   "outputs": [
    {
     "data": {
      "text/html": [
       "<span style=white-space:pre-wrap>'::GMG::E(X)= E(X_1) +  E(X_2) = 7'</span>"
      ],
      "text/latex": [
       "'::GMG::E(X)= E(X\\_1) +  E(X\\_2) = 7'"
      ],
      "text/markdown": [
       "<span style=white-space:pre-wrap>'::GMG::E(X)= E(X_1) +  E(X_2) = 7'</span>"
      ],
      "text/plain": [
       "[1] \"::GMG::E(X)= E(X_1) +  E(X_2) = 7\""
      ]
     },
     "metadata": {},
     "output_type": "display_data"
    },
    {
     "data": {
      "text/html": [
       "'::GMG::Var(X) = Var(X_1) + Var(X_2): 5.834'"
      ],
      "text/latex": [
       "'::GMG::Var(X) = Var(X\\_1) + Var(X\\_2): 5.834'"
      ],
      "text/markdown": [
       "'::GMG::Var(X) = Var(X_1) + Var(X_2): 5.834'"
      ],
      "text/plain": [
       "[1] \"::GMG::Var(X) = Var(X_1) + Var(X_2): 5.834\""
      ]
     },
     "metadata": {},
     "output_type": "display_data"
    }
   ],
   "source": [
    "#::GMG::X suma de los números que salen al tirar dos dados\n",
    "# ::Q:: ¿Cuál es la distribución (pmf, cdf) de X? \n",
    "# ::A:: X es la suma de dos variables aleatorias discretas X_1 y X_2, una por dado\n",
    "#::Ref::Apuntes de estadísica 3.11, pp.21 y 3.14, 3.15 pp. 23 y 3.16 pp.24(?)\n",
    "p_x_i = 1/length(dado)\n",
    "paste('::GMG::E(X)= E(X_1) +  E(X_2) =',\n",
    "      (dado[6] + dado[1])/2 + (dado[6] + dado[1])/2)\n",
    "paste('::GMG::Var(X) = Var(X_1) + Var(X_2):',\n",
    "      signif((length(dado)^2 - 1)/12,4) + signif((length(dado)^2 - 1)/12,4))"
   ]
  },
  {
   "cell_type": "code",
   "execution_count": 13,
   "metadata": {},
   "outputs": [
    {
     "data": {
      "text/html": [
       "'::GMG::Esperanza de la media muestral como variable aleatoria: 7.18'"
      ],
      "text/latex": [
       "'::GMG::Esperanza de la media muestral como variable aleatoria: 7.18'"
      ],
      "text/markdown": [
       "'::GMG::Esperanza de la media muestral como variable aleatoria: 7.18'"
      ],
      "text/plain": [
       "[1] \"::GMG::Esperanza de la media muestral como variable aleatoria: 7.18\""
      ]
     },
     "metadata": {},
     "output_type": "display_data"
    },
    {
     "data": {
      "text/html": [
       "'::GMG::Varianza de la media muestral como variable aleatoria: 5.028'"
      ],
      "text/latex": [
       "'::GMG::Varianza de la media muestral como variable aleatoria: 5.028'"
      ],
      "text/markdown": [
       "'::GMG::Varianza de la media muestral como variable aleatoria: 5.028'"
      ],
      "text/plain": [
       "[1] \"::GMG::Varianza de la media muestral como variable aleatoria: 5.028\""
      ]
     },
     "metadata": {},
     "output_type": "display_data"
    }
   ],
   "source": [
    "#::GMG::Esperanza y varianza de la media muestral, que es una variable aleatoria\n",
    "# Capítulo 5, apartados 5.1 a 5.7, pp. 33-35 (Muestreo)\n",
    "paste('::GMG::Esperanza de la media muestral como variable aleatoria:',\n",
    "      sum(tiradas.50)/n_tiradas)\n",
    "paste('::GMG::Varianza de la media muestral como variable aleatoria:',\n",
    "      signif((sum(tiradas.50^2)/n_tiradas - (sum(tiradas.50)/n_tiradas)^2),4))"
   ]
  },
  {
   "cell_type": "markdown",
   "metadata": {},
   "source": [
    "### Problema 3 \n",
    "\n",
    "*Realiza las siguientes tareas:*"
   ]
  },
  {
   "cell_type": "markdown",
   "metadata": {},
   "source": [
    "i) Simula alturas de 50 personas de una poblaci ́on de altura media 176 y desviación típica 11\n",
    "centímetros."
   ]
  },
  {
   "cell_type": "markdown",
   "metadata": {},
   "source": [
    "ii) Considera la variable aleatoria, X, definida como la altura de una persona de la población\n",
    "descrita anteriormente. ¿Cuánto valen $\\bar{X}, S^2, E(X), Var(X), E(\\bar{X})$ y $Var(\\bar{X})$?"
   ]
  },
  {
   "cell_type": "markdown",
   "metadata": {},
   "source": [
    "### Problema 4 \n",
    "\n",
    "*Realiza las siguientes tareas:*"
   ]
  },
  {
   "cell_type": "markdown",
   "metadata": {},
   "source": [
    "i) Simula el número de goles marcados en 10 partidos siendo el promedio de goles por partido en la liga 2.8."
   ]
  },
  {
   "cell_type": "markdown",
   "metadata": {},
   "source": [
    "ii) Considera la variable aleatoria, X, definida como el número de goles en un partido de la liga anteriormente mencionada. ¿Cuánto valen $\\bar{X}, S^2, E(X), Var(X), E(\\bar{X})$ y $Var(\\bar{X})$?"
   ]
  },
  {
   "cell_type": "markdown",
   "metadata": {},
   "source": [
    "### Problema 5 \n",
    "\n",
    "Simula las posiciones de 32 fichas colocadas al azar en un tablero de 8 por 8 casillas, teniendo en cuenta que solo puede haber una ficha por casilla."
   ]
  },
  {
   "cell_type": "markdown",
   "metadata": {},
   "source": [
    "### Problema 6 \n",
    "\n",
    "Representa gráficamente cada una de las muestras simuladas y guarda las gráficas en archivo."
   ]
  }
 ],
 "metadata": {
  "kernelspec": {
   "display_name": "R",
   "language": "R",
   "name": "ir"
  },
  "language_info": {
   "codemirror_mode": "r",
   "file_extension": ".r",
   "mimetype": "text/x-r-source",
   "name": "R",
   "pygments_lexer": "r",
   "version": "3.4.4"
  }
 },
 "nbformat": 4,
 "nbformat_minor": 2
}
