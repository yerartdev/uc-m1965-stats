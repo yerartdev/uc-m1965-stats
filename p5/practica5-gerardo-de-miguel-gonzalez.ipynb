{
  "cells": [
    {
      "metadata": {
        "collapsed": true
      },
      "cell_type": "markdown",
      "source": "# Gerardo de Miguel González\n\n## M1965 Estadística para Data Science\n\n### Práctica 5"
    },
    {
      "metadata": {},
      "cell_type": "markdown",
      "source": "#### Problema 1 Realiza las siguientes tareas:\n\n*i) Simula 50 tiradas de un dado.*"
    },
    {
      "metadata": {},
      "cell_type": "markdown",
      "source": "::GMG::Reference\n\n - [R Documentation: sample](https://www.rdocumentation.org/packages/base/versions/3.5.1/topics/sample)\n - [Chapter 7: Sampling and Replication: 4 the_sample_function](https://ademos.people.uic.edu/Chapter7.html#4_the_sample_function)\n - [Stackoverflow:Elegant solution to count rolling two dice?](https://stackoverflow.com/questions/38176831/elegant-solution-to-count-rolling-two-dice)"
    },
    {
      "metadata": {
        "trusted": true
      },
      "cell_type": "code",
      "source": "#::GMG::Podemos simular una tirada de N dados con sample() que implementa\n#       simple random sampling, https://en.wikipedia.org/wiki/Simple_random_sample\nroll<-function (dado, n_dados) {\n        return (sample(dado,n_dados,replace=TRUE))\n      }\n\ndado<-1:6\nn_dados<-1\nprint(roll(dado,n_dados))\nprint(roll(dado,n_dados+1))",
      "execution_count": 11,
      "outputs": [
        {
          "output_type": "stream",
          "text": "[1] 6\n[1] 4 4\n",
          "name": "stdout"
        }
      ]
    },
    {
      "metadata": {
        "trusted": true
      },
      "cell_type": "code",
      "source": "#::GMG::50 tiradas de 1 dado\n#  (o) Una manera es repetir 50 veces la tirada de 1 dado con sample() (bootstraping)\nn_tiradas<-50\ntiradas<-replicate(n_tiradas, roll(dado, n_dados))\nprint(tiradas)\n#  (o) Otra es interpretar cada sampling con replacement como una tirada\ntiradas2<-sample(x = dado,size = n_tiradas,replace=TRUE)\nprint(tiradas2)",
      "execution_count": 12,
      "outputs": [
        {
          "output_type": "stream",
          "text": " [1] 1 2 5 6 5 5 3 4 5 1 1 5 4 1 6 3 5 5 3 3 4 1 5 2 5 1 4 4 6 4 6 2 2 5 4 1 5 6\n[39] 5 6 3 2 3 3 5 4 6 3 2 3\n [1] 5 3 1 4 2 4 1 4 5 6 4 6 5 3 3 6 5 5 4 4 4 4 6 1 1 2 4 1 3 1 6 1 2 1 1 1 6 2\n[39] 4 3 4 4 5 3 3 4 2 3 6 5\n",
          "name": "stdout"
        }
      ]
    },
    {
      "metadata": {},
      "cell_type": "markdown",
      "source": "*ii) Considera la variable aleatoria, X, definida como el número que sale al tirar el dado.\n¿Cuánto valen $\\bar{X}, S^2, E(X), Var(X), E(\\bar{X}) y Var(\\bar{X})$?*\n\n::GMG::Referencia \n\n - [R Markdown](http://pages.stat.wisc.edu/~jgillett/371/RStudio/RMarkdown.pdf)"
    },
    {
      "metadata": {
        "trusted": true
      },
      "cell_type": "code",
      "source": "#::GMG::Media y varianza muestrales\npaste('::GMG::Media muestral: ',mean(tiradas))\npaste('::GMG::Varianza muestral: ',signif(var(tiradas),4))\n#::GMG::X número que sale al tirar un dado de seis caras x(i) ={1,2,3,4,5,6}\n#       Distribución uniforme discreta, ref. 4.1 pp. 25-26 Apuntes Estadística M1965\n#       p(x(i)) = 1/6, i = {1,2,3,4,5,6}\np_x_i = 1/length(dado)\npaste('::GMG::Esperanza matemática/Media poblacional de Uniforme Discreta:',\n      (dado[6] + dado[1])/2,'=',\n      sum(p_x_i*dado))\npaste('::GMG::Varianza poblacional de Uniforme Discreta:',\n      signif((length(dado)^2 - 1)/12,4),'=',\n      signif((sum(p_x_i*dado^2) - sum(p_x_i*dado)^2),4))\n#::GMG::Esperanza y varianza de la media muestral\npaste('::GMG::Esperanza de la media muestral como variable aleatoria:',\n      sum(tiradas)/n_tiradas)\npaste('::GMG::Varianza de la media muestral como variable aleatoria:',\n      signif((sum(tiradas^2)/n_tiradas - (sum(tiradas)/n_tiradas)^2),4))",
      "execution_count": 38,
      "outputs": [
        {
          "output_type": "display_data",
          "data": {
            "text/plain": "[1] \"::GMG::Media muestral:  3.7\"",
            "text/latex": "'::GMG::Media muestral:  3.7'",
            "text/markdown": "<span style=white-space:pre-wrap>'::GMG::Media muestral:  3.7'</span>",
            "text/html": "<span style=white-space:pre-wrap>'::GMG::Media muestral:  3.7'</span>"
          },
          "metadata": {}
        },
        {
          "output_type": "display_data",
          "data": {
            "text/plain": "[1] \"::GMG::Varianza muestral:  2.704\"",
            "text/latex": "'::GMG::Varianza muestral:  2.704'",
            "text/markdown": "<span style=white-space:pre-wrap>'::GMG::Varianza muestral:  2.704'</span>",
            "text/html": "<span style=white-space:pre-wrap>'::GMG::Varianza muestral:  2.704'</span>"
          },
          "metadata": {}
        },
        {
          "output_type": "display_data",
          "data": {
            "text/plain": "[1] \"::GMG::Esperanza matemática/Media poblacional de Uniforme Discreta: 3.5 = 3.5\"",
            "text/latex": "'::GMG::Esperanza matemática/Media poblacional de Uniforme Discreta: 3.5 = 3.5'",
            "text/markdown": "'::GMG::Esperanza matemática/Media poblacional de Uniforme Discreta: 3.5 = 3.5'",
            "text/html": "'::GMG::Esperanza matemática/Media poblacional de Uniforme Discreta: 3.5 = 3.5'"
          },
          "metadata": {}
        },
        {
          "output_type": "display_data",
          "data": {
            "text/plain": "[1] \"::GMG::Varianza poblacional de Uniforme Discreta: 2.917 = 2.917\"",
            "text/latex": "'::GMG::Varianza poblacional de Uniforme Discreta: 2.917 = 2.917'",
            "text/markdown": "'::GMG::Varianza poblacional de Uniforme Discreta: 2.917 = 2.917'",
            "text/html": "'::GMG::Varianza poblacional de Uniforme Discreta: 2.917 = 2.917'"
          },
          "metadata": {}
        },
        {
          "output_type": "display_data",
          "data": {
            "text/plain": "[1] \"::GMG::Esperanza de la media muestral como variable aleatoria: 3.7\"",
            "text/latex": "'::GMG::Esperanza de la media muestral como variable aleatoria: 3.7'",
            "text/markdown": "'::GMG::Esperanza de la media muestral como variable aleatoria: 3.7'",
            "text/html": "'::GMG::Esperanza de la media muestral como variable aleatoria: 3.7'"
          },
          "metadata": {}
        },
        {
          "output_type": "display_data",
          "data": {
            "text/plain": "[1] \"::GMG::Varianza de la media muestral como variable aleatoria: 2.65\"",
            "text/latex": "'::GMG::Varianza de la media muestral como variable aleatoria: 2.65'",
            "text/markdown": "'::GMG::Varianza de la media muestral como variable aleatoria: 2.65'",
            "text/html": "'::GMG::Varianza de la media muestral como variable aleatoria: 2.65'"
          },
          "metadata": {}
        }
      ]
    },
    {
      "metadata": {
        "trusted": true
      },
      "cell_type": "code",
      "source": "#::GMG::Tirada de 2 dados\nn_dados<-2\nroll2dice<-sample(dado,n_dados,replace=TRUE)\nprint(roll2dice)",
      "execution_count": 9,
      "outputs": [
        {
          "output_type": "stream",
          "text": "[1] 5 5\n",
          "name": "stdout"
        }
      ]
    }
  ],
  "metadata": {
    "kernelspec": {
      "name": "r",
      "display_name": "R",
      "language": "R"
    },
    "language_info": {
      "mimetype": "text/x-r-source",
      "name": "R",
      "pygments_lexer": "r",
      "version": "3.4.1",
      "file_extension": ".r",
      "codemirror_mode": "r"
    }
  },
  "nbformat": 4,
  "nbformat_minor": 2
}