{
 "cells": [
  {
   "cell_type": "markdown",
   "metadata": {},
   "source": [
    "# Alumno: Gerardo de Miguel González"
   ]
  },
  {
   "cell_type": "markdown",
   "metadata": {},
   "source": [
    "##  Práctica Remuestreo"
   ]
  },
  {
   "cell_type": "markdown",
   "metadata": {},
   "source": [
    "### A. Carga y limpieza de los datos"
   ]
  },
  {
   "cell_type": "code",
   "execution_count": 1,
   "metadata": {},
   "outputs": [],
   "source": [
    "#::GMG::Cargamos los datos\n",
    "data <- read.csv(file = 'm1965-stats-ii-datos-practica-remuestreo.csv',header = TRUE,sep = ',')"
   ]
  },
  {
   "cell_type": "code",
   "execution_count": 2,
   "metadata": {},
   "outputs": [],
   "source": [
    "#::GMG::La columna de de fechas (date) está en un formato no compatible con el tipo de fecha\n",
    "#       DD/MM/YYYY adecuado para una indexación posterior que vamos a necesitar para la selección\n",
    "#       de los parámetros AVG.Cond. (Conductividad) y AVG.Salinity. (Salinidad) de 2014 ...\n",
    "#       Ajustamos las fechas\n",
    "data$date <- as.Date(x = data$date, format='%d/%m/%Y %H:%M')"
   ]
  },
  {
   "cell_type": "code",
   "execution_count": 3,
   "metadata": {},
   "outputs": [
    {
     "data": {
      "text/html": [
       "<table>\n",
       "<thead><tr><th scope=col>date</th><th scope=col>AVG.Temp.</th></tr></thead>\n",
       "<tbody>\n",
       "\t<tr><td>2014-01-01</td><td>3.997746  </td></tr>\n",
       "\t<tr><td>2014-01-02</td><td>4.057667  </td></tr>\n",
       "\t<tr><td>2014-01-03</td><td>4.133612  </td></tr>\n",
       "\t<tr><td>2014-01-04</td><td>4.188685  </td></tr>\n",
       "\t<tr><td>2014-01-05</td><td>4.346172  </td></tr>\n",
       "\t<tr><td>2014-01-06</td><td>4.392661  </td></tr>\n",
       "</tbody>\n",
       "</table>\n"
      ],
      "text/latex": [
       "\\begin{tabular}{r|ll}\n",
       " date & AVG.Temp.\\\\\n",
       "\\hline\n",
       "\t 2014-01-01 & 3.997746  \\\\\n",
       "\t 2014-01-02 & 4.057667  \\\\\n",
       "\t 2014-01-03 & 4.133612  \\\\\n",
       "\t 2014-01-04 & 4.188685  \\\\\n",
       "\t 2014-01-05 & 4.346172  \\\\\n",
       "\t 2014-01-06 & 4.392661  \\\\\n",
       "\\end{tabular}\n"
      ],
      "text/markdown": [
       "\n",
       "date | AVG.Temp. | \n",
       "|---|---|---|---|---|---|\n",
       "| 2014-01-01 | 3.997746   | \n",
       "| 2014-01-02 | 4.057667   | \n",
       "| 2014-01-03 | 4.133612   | \n",
       "| 2014-01-04 | 4.188685   | \n",
       "| 2014-01-05 | 4.346172   | \n",
       "| 2014-01-06 | 4.392661   | \n",
       "\n",
       "\n"
      ],
      "text/plain": [
       "  date       AVG.Temp.\n",
       "1 2014-01-01 3.997746 \n",
       "2 2014-01-02 4.057667 \n",
       "3 2014-01-03 4.133612 \n",
       "4 2014-01-04 4.188685 \n",
       "5 2014-01-05 4.346172 \n",
       "6 2014-01-06 4.392661 "
      ]
     },
     "metadata": {},
     "output_type": "display_data"
    }
   ],
   "source": [
    "#::GMG::Vamos a extraer los datos que necesitamos para el remuestreo\n",
    "myvars <- names(data) %in% c(\"date\", \"AVG.Temp.\")\n",
    "data.processed <- data[myvars]\n",
    "head(data.processed)"
   ]
  },
  {
   "cell_type": "code",
   "execution_count": 4,
   "metadata": {},
   "outputs": [
    {
     "data": {
      "text/html": [
       "<table>\n",
       "<thead><tr><th></th><th scope=col>date</th><th scope=col>AVG.Temp.</th></tr></thead>\n",
       "<tbody>\n",
       "\t<tr><th scope=row>182</th><td>2014-07-01</td><td>15.41396  </td></tr>\n",
       "\t<tr><th scope=row>183</th><td>2014-07-02</td><td>14.70326  </td></tr>\n",
       "\t<tr><th scope=row>184</th><td>2014-07-03</td><td>14.76020  </td></tr>\n",
       "\t<tr><th scope=row>185</th><td>2014-07-04</td><td>15.12685  </td></tr>\n",
       "\t<tr><th scope=row>186</th><td>2014-07-05</td><td>15.19523  </td></tr>\n",
       "\t<tr><th scope=row>187</th><td>2014-07-06</td><td>15.24690  </td></tr>\n",
       "</tbody>\n",
       "</table>\n"
      ],
      "text/latex": [
       "\\begin{tabular}{r|ll}\n",
       "  & date & AVG.Temp.\\\\\n",
       "\\hline\n",
       "\t182 & 2014-07-01 & 15.41396  \\\\\n",
       "\t183 & 2014-07-02 & 14.70326  \\\\\n",
       "\t184 & 2014-07-03 & 14.76020  \\\\\n",
       "\t185 & 2014-07-04 & 15.12685  \\\\\n",
       "\t186 & 2014-07-05 & 15.19523  \\\\\n",
       "\t187 & 2014-07-06 & 15.24690  \\\\\n",
       "\\end{tabular}\n"
      ],
      "text/markdown": [
       "\n",
       "| <!--/--> | date | AVG.Temp. | \n",
       "|---|---|---|---|---|---|\n",
       "| 182 | 2014-07-01 | 15.41396   | \n",
       "| 183 | 2014-07-02 | 14.70326   | \n",
       "| 184 | 2014-07-03 | 14.76020   | \n",
       "| 185 | 2014-07-04 | 15.12685   | \n",
       "| 186 | 2014-07-05 | 15.19523   | \n",
       "| 187 | 2014-07-06 | 15.24690   | \n",
       "\n",
       "\n"
      ],
      "text/plain": [
       "    date       AVG.Temp.\n",
       "182 2014-07-01 15.41396 \n",
       "183 2014-07-02 14.70326 \n",
       "184 2014-07-03 14.76020 \n",
       "185 2014-07-04 15.12685 \n",
       "186 2014-07-05 15.19523 \n",
       "187 2014-07-06 15.24690 "
      ]
     },
     "metadata": {},
     "output_type": "display_data"
    }
   ],
   "source": [
    "#::GMG::Ahora vamos a separar los datos de \"verano\" de 2014 y 2015\n",
    "# https://stackoverflow.com/questions/9407622/subsetting-a-dataframe-for-a-specified-month-and-year\n",
    "data.processed.verano <- subset(\n",
    "           x = data.processed, \n",
    "           #data.processed$date >= as.Date('2014-07-01') & \n",
    "           #data.processed$date <= as.Date('2014-09-31')\n",
    "           format.Date(data.processed$date, '%m') >= '07' &\n",
    "           format.Date(data.processed$date, '%m') <= '09'\n",
    "           )\n",
    "head(data.processed.verano)"
   ]
  },
  {
   "cell_type": "code",
   "execution_count": 5,
   "metadata": {},
   "outputs": [
    {
     "data": {
      "text/html": [
       "'Tamaño de la muestra: 182'"
      ],
      "text/latex": [
       "'Tamaño de la muestra: 182'"
      ],
      "text/markdown": [
       "'Tamaño de la muestra: 182'"
      ],
      "text/plain": [
       "[1] \"Tamaño de la muestra: 182\""
      ]
     },
     "metadata": {},
     "output_type": "display_data"
    }
   ],
   "source": [
    "#::GMG::Ahora selecciono y limpio el vector (muestra) de temperatura de 2014 y 2015\n",
    "#       Hay que limpiar los NaNs con na.omit()\n",
    "# https://www.statmethods.net/input/missingdata.html\n",
    "x.verano <- na.omit(data.processed.verano$AVG.Temp.)\n",
    "paste('Tamaño de la muestra:',length(x.verano))"
   ]
  },
  {
   "cell_type": "markdown",
   "metadata": {},
   "source": [
    "### B. Media y desviación muestral"
   ]
  },
  {
   "cell_type": "markdown",
   "metadata": {},
   "source": [
    "**::GMG::** Cálculo de la media y deviación estándar muestral (estadísticos/estimadores)"
   ]
  },
  {
   "cell_type": "code",
   "execution_count": 6,
   "metadata": {},
   "outputs": [
    {
     "data": {
      "text/html": [
       "'Media muestral: 18.066'"
      ],
      "text/latex": [
       "'Media muestral: 18.066'"
      ],
      "text/markdown": [
       "'Media muestral: 18.066'"
      ],
      "text/plain": [
       "[1] \"Media muestral: 18.066\""
      ]
     },
     "metadata": {},
     "output_type": "display_data"
    },
    {
     "data": {
      "text/html": [
       "'Desv. Estándar muestral: 1.971'"
      ],
      "text/latex": [
       "'Desv. Estándar muestral: 1.971'"
      ],
      "text/markdown": [
       "'Desv. Estándar muestral: 1.971'"
      ],
      "text/plain": [
       "[1] \"Desv. Estándar muestral: 1.971\""
      ]
     },
     "metadata": {},
     "output_type": "display_data"
    }
   ],
   "source": [
    "#::GMG::Usamos las funciones que nos proporciona R\n",
    "media.x.verano <- mean(x.verano)\n",
    "sd.x.verano <- sd(x.verano)\n",
    "paste('Media muestral:',round(media.x.verano,3))\n",
    "paste('Desv. Estándar muestral:', round(sd.x.verano,3))"
   ]
  },
  {
   "cell_type": "code",
   "execution_count": 7,
   "metadata": {},
   "outputs": [
    {
     "data": {
      "text/html": [
       "'Varianza muestral: 3.884'"
      ],
      "text/latex": [
       "'Varianza muestral: 3.884'"
      ],
      "text/markdown": [
       "'Varianza muestral: 3.884'"
      ],
      "text/plain": [
       "[1] \"Varianza muestral: 3.884\""
      ]
     },
     "metadata": {},
     "output_type": "display_data"
    }
   ],
   "source": [
    "#::GMG::Yo por completar también calculo la varianza  muestral\n",
    "paste('Varianza muestral:', round(var(x.verano),3))"
   ]
  },
  {
   "cell_type": "markdown",
   "metadata": {},
   "source": [
    "### C. Bootstrap"
   ]
  },
  {
   "cell_type": "markdown",
   "metadata": {},
   "source": [
    "#### Algoritmo"
   ]
  },
  {
   "cell_type": "markdown",
   "metadata": {},
   "source": [
    "Crea una función que reciba un vector de números ‘x’ (la muestra original) y un número\n",
    "natural N, que genere una matriz que tenga N columnas siendo cada una de estas, una de las\n",
    "muestras de bootstrap."
   ]
  },
  {
   "cell_type": "markdown",
   "metadata": {},
   "source": [
    "**::GMG::** El algoritmo de Bootstrap lo implenté en el **Ejercicio 8** de clase con Pablo Ruiz (referencia a *transparencia 7*, presentación `chapter 8` de clase)"
   ]
  },
  {
   "cell_type": "code",
   "execution_count": 8,
   "metadata": {},
   "outputs": [],
   "source": [
    "#::GMG::Hago el experimento replicable\n",
    "set.seed(1)"
   ]
  },
  {
   "cell_type": "code",
   "execution_count": 9,
   "metadata": {},
   "outputs": [],
   "source": [
    "#::GMG::Mi función, con replicate() y sample(), genero una matriz de length(v)xN\n",
    "# https://www.rdocumentation.org/packages/base/versions/3.5.2/topics/lapply\n",
    "# replicate() is a wrapper for the common use of sapply() for repeated evaluation of \n",
    "# an expression (which will usually involve random number generation).\n",
    "bootstrap <- function(v, N) {\n",
    "    return (\n",
    "             replicate(n = N, expr = sample(x = v, replace = TRUE))\n",
    "           )\n",
    "}"
   ]
  },
  {
   "cell_type": "code",
   "execution_count": 10,
   "metadata": {},
   "outputs": [
    {
     "data": {
      "text/html": [
       "<table>\n",
       "<tbody>\n",
       "\t<tr><td>3</td><td>2</td><td>9</td><td>1</td><td>3</td><td>1</td><td>9</td><td>9</td><td>9</td><td>5</td></tr>\n",
       "\t<tr><td>1</td><td>7</td><td>1</td><td>9</td><td>1</td><td>7</td><td>5</td><td>7</td><td>9</td><td>5</td></tr>\n",
       "\t<tr><td>7</td><td>7</td><td>9</td><td>2</td><td>5</td><td>1</td><td>9</td><td>7</td><td>1</td><td>3</td></tr>\n",
       "\t<tr><td>2</td><td>5</td><td>1</td><td>3</td><td>1</td><td>3</td><td>1</td><td>9</td><td>2</td><td>7</td></tr>\n",
       "\t<tr><td>3</td><td>3</td><td>9</td><td>7</td><td>2</td><td>9</td><td>9</td><td>5</td><td>1</td><td>7</td></tr>\n",
       "\t<tr><td>2</td><td>3</td><td>2</td><td>5</td><td>1</td><td>9</td><td>7</td><td>1</td><td>3</td><td>1</td></tr>\n",
       "</tbody>\n",
       "</table>\n"
      ],
      "text/latex": [
       "\\begin{tabular}{llllllllll}\n",
       "\t 3 & 2 & 9 & 1 & 3 & 1 & 9 & 9 & 9 & 5\\\\\n",
       "\t 1 & 7 & 1 & 9 & 1 & 7 & 5 & 7 & 9 & 5\\\\\n",
       "\t 7 & 7 & 9 & 2 & 5 & 1 & 9 & 7 & 1 & 3\\\\\n",
       "\t 2 & 5 & 1 & 3 & 1 & 3 & 1 & 9 & 2 & 7\\\\\n",
       "\t 3 & 3 & 9 & 7 & 2 & 9 & 9 & 5 & 1 & 7\\\\\n",
       "\t 2 & 3 & 2 & 5 & 1 & 9 & 7 & 1 & 3 & 1\\\\\n",
       "\\end{tabular}\n"
      ],
      "text/markdown": [
       "\n",
       "| 3 | 2 | 9 | 1 | 3 | 1 | 9 | 9 | 9 | 5 | \n",
       "| 1 | 7 | 1 | 9 | 1 | 7 | 5 | 7 | 9 | 5 | \n",
       "| 7 | 7 | 9 | 2 | 5 | 1 | 9 | 7 | 1 | 3 | \n",
       "| 2 | 5 | 1 | 3 | 1 | 3 | 1 | 9 | 2 | 7 | \n",
       "| 3 | 3 | 9 | 7 | 2 | 9 | 9 | 5 | 1 | 7 | \n",
       "| 2 | 3 | 2 | 5 | 1 | 9 | 7 | 1 | 3 | 1 | \n",
       "\n",
       "\n"
      ],
      "text/plain": [
       "     [,1] [,2] [,3] [,4] [,5] [,6] [,7] [,8] [,9] [,10]\n",
       "[1,] 3    2    9    1    3    1    9    9    9    5    \n",
       "[2,] 1    7    1    9    1    7    5    7    9    5    \n",
       "[3,] 7    7    9    2    5    1    9    7    1    3    \n",
       "[4,] 2    5    1    3    1    3    1    9    2    7    \n",
       "[5,] 3    3    9    7    2    9    9    5    1    7    \n",
       "[6,] 2    3    2    5    1    9    7    1    3    1    "
      ]
     },
     "metadata": {},
     "output_type": "display_data"
    }
   ],
   "source": [
    "#::GMG::Prueba de concepto\n",
    "x <- c(5,3,1,7,9,2)\n",
    "bootstrap(x,10)"
   ]
  },
  {
   "cell_type": "code",
   "execution_count": 11,
   "metadata": {},
   "outputs": [],
   "source": [
    "#::GMG::Como dicen en rdocumentation, replicate() es un wrapper de sapply()\n",
    "bootstrap_2 <- function(v, N) {\n",
    "    return (sapply(1:N, function(i) sample(v, replace=T)))\n",
    "}"
   ]
  },
  {
   "cell_type": "code",
   "execution_count": 12,
   "metadata": {},
   "outputs": [
    {
     "data": {
      "text/html": [
       "<table>\n",
       "<tbody>\n",
       "\t<tr><td>2</td><td>1</td><td>1</td><td>9</td><td>9</td><td>3</td><td>1</td><td>3</td><td>2</td><td>5</td></tr>\n",
       "\t<tr><td>3</td><td>9</td><td>1</td><td>2</td><td>3</td><td>5</td><td>1</td><td>2</td><td>7</td><td>5</td></tr>\n",
       "\t<tr><td>1</td><td>5</td><td>1</td><td>1</td><td>9</td><td>7</td><td>9</td><td>7</td><td>2</td><td>9</td></tr>\n",
       "\t<tr><td>3</td><td>2</td><td>2</td><td>9</td><td>5</td><td>2</td><td>7</td><td>3</td><td>9</td><td>5</td></tr>\n",
       "\t<tr><td>7</td><td>1</td><td>2</td><td>1</td><td>3</td><td>9</td><td>7</td><td>5</td><td>1</td><td>1</td></tr>\n",
       "\t<tr><td>3</td><td>2</td><td>1</td><td>3</td><td>5</td><td>9</td><td>1</td><td>1</td><td>1</td><td>7</td></tr>\n",
       "</tbody>\n",
       "</table>\n"
      ],
      "text/latex": [
       "\\begin{tabular}{llllllllll}\n",
       "\t 2 & 1 & 1 & 9 & 9 & 3 & 1 & 3 & 2 & 5\\\\\n",
       "\t 3 & 9 & 1 & 2 & 3 & 5 & 1 & 2 & 7 & 5\\\\\n",
       "\t 1 & 5 & 1 & 1 & 9 & 7 & 9 & 7 & 2 & 9\\\\\n",
       "\t 3 & 2 & 2 & 9 & 5 & 2 & 7 & 3 & 9 & 5\\\\\n",
       "\t 7 & 1 & 2 & 1 & 3 & 9 & 7 & 5 & 1 & 1\\\\\n",
       "\t 3 & 2 & 1 & 3 & 5 & 9 & 1 & 1 & 1 & 7\\\\\n",
       "\\end{tabular}\n"
      ],
      "text/markdown": [
       "\n",
       "| 2 | 1 | 1 | 9 | 9 | 3 | 1 | 3 | 2 | 5 | \n",
       "| 3 | 9 | 1 | 2 | 3 | 5 | 1 | 2 | 7 | 5 | \n",
       "| 1 | 5 | 1 | 1 | 9 | 7 | 9 | 7 | 2 | 9 | \n",
       "| 3 | 2 | 2 | 9 | 5 | 2 | 7 | 3 | 9 | 5 | \n",
       "| 7 | 1 | 2 | 1 | 3 | 9 | 7 | 5 | 1 | 1 | \n",
       "| 3 | 2 | 1 | 3 | 5 | 9 | 1 | 1 | 1 | 7 | \n",
       "\n",
       "\n"
      ],
      "text/plain": [
       "     [,1] [,2] [,3] [,4] [,5] [,6] [,7] [,8] [,9] [,10]\n",
       "[1,] 2    1    1    9    9    3    1    3    2    5    \n",
       "[2,] 3    9    1    2    3    5    1    2    7    5    \n",
       "[3,] 1    5    1    1    9    7    9    7    2    9    \n",
       "[4,] 3    2    2    9    5    2    7    3    9    5    \n",
       "[5,] 7    1    2    1    3    9    7    5    1    1    \n",
       "[6,] 3    2    1    3    5    9    1    1    1    7    "
      ]
     },
     "metadata": {},
     "output_type": "display_data"
    }
   ],
   "source": [
    "#::GMG::Prueba de concepto\n",
    "bootstrap_2(x,10)"
   ]
  },
  {
   "cell_type": "markdown",
   "metadata": {},
   "source": [
    "#### Aplicación a la media de temperaturas del ambalse"
   ]
  },
  {
   "cell_type": "markdown",
   "metadata": {},
   "source": [
    "**Tarea 1**: Obtener, siguiendo el algoritmo Bootstrap, una matriz de 1000 muestras por columna:  "
   ]
  },
  {
   "cell_type": "code",
   "execution_count": 13,
   "metadata": {},
   "outputs": [],
   "source": [
    "#::GMG::Hago el experimento replicable\n",
    "set.seed(2)"
   ]
  },
  {
   "cell_type": "code",
   "execution_count": 14,
   "metadata": {},
   "outputs": [
    {
     "data": {
      "text/html": [
       "<ol class=list-inline>\n",
       "\t<li>182</li>\n",
       "\t<li>1000</li>\n",
       "</ol>\n"
      ],
      "text/latex": [
       "\\begin{enumerate*}\n",
       "\\item 182\n",
       "\\item 1000\n",
       "\\end{enumerate*}\n"
      ],
      "text/markdown": [
       "1. 182\n",
       "2. 1000\n",
       "\n",
       "\n"
      ],
      "text/plain": [
       "[1]  182 1000"
      ]
     },
     "metadata": {},
     "output_type": "display_data"
    }
   ],
   "source": [
    "#::GMG::Una matriz con los 1000 samples Boostrap de la muestra de tamaño 182 seleccionada del dataset\n",
    "theta.B.M <- bootstrap(v = x.verano, N = 1000)\n",
    "dim(theta.B.M)"
   ]
  },
  {
   "cell_type": "markdown",
   "metadata": {},
   "source": [
    "**Tarea 2:** Calcular con el resampling anterior:\n",
    "\n",
    "- La media y la desviación estándar de la media y compararlas con las obtenidas anteriormente.\n",
    "\n",
    "$SD = \\sqrt {\\frac {1}{M} \\sum \\limits_{i=1}^M \\left( \\bar {\\Theta^{B}_{i}} - \\bar \\Theta \\right)^2}$ "
   ]
  },
  {
   "cell_type": "markdown",
   "metadata": {},
   "source": [
    "**::GMG::** Entiendo que lo que pide en esta *tarea 2* es comparar los valores de media de medias de Bootstrap y desviación estándar de medias de Bootstrap (usando la fórmula SD), con la media muestral y desviación estándar muestral obtenidas en el *aparatado B*. \n",
    "\n",
    "**::nota::** SD se puede considerar como una estimación del error estándar que cometen los estadísticos calculados en el apartado B (deducido de los apuntes de Pablo Ruiz en clase), aunque la notación es diferente:\n",
    "\n",
    "$SD = \\sqrt {\\frac {1}{N-1} \\sum \\limits_{i=1}^N \\left( \\bar {\\Theta^B_{i}} - \\bar \\Theta \\right)^2}$"
   ]
  },
  {
   "cell_type": "markdown",
   "metadata": {},
   "source": [
    "**::DUDAS::** \n",
    "\n",
    "- No entiendo la primera parte de la frase. La *media de la medias* del Bootstrap entiendo que se calcula de la siguiente manera para un Bootstrap de tamaño M:\n",
    "\n",
    "(1) $\\bar \\theta^{B} = \\frac {1}{M} \\sum \\limits_{i=1}^M \\bar \\theta_{i}^{B}$\n",
    "\n",
    "**::nota::** esto es lo que Pablo Ruiz llama $\\bar {\\bar \\Theta}$ en la transparencia 6 donde se explica la técnica del Bootstrap.\n",
    "\n",
    "y la *desviación estándar de la media de medias* del Bootstrap creo que se calcula (estima) de la siguiente manera:\n",
    "\n",
    "(2) $\\sigma_{\\bar \\theta^{B}} = \\sqrt {\\frac {1}{M} \\sum \\limits_{i=1}^M \\left( \\bar \\theta_{i}^{B} - \\bar \\theta^{B} \\right)^2}$\n",
    "\n",
    "o si se quiere de forma insesgada:\n",
    "\n",
    "(3) $\\sigma_{\\bar \\theta^{B}} = \\sqrt {\\frac {1}{M-1} \\sum \\limits_{i=1}^M \\left( \\bar \\theta_{i}^{B} - \\bar \\theta^{B} \\right)^2}$\n",
    "\n",
    "\n",
    "- ¿Tiene esto que ver con la aplicación del Bootstrap que explicó Pablo Ruiz en las transparencias 8 y 9 del capítulo (Chapter 8) de introducción a las técnicas de Bootstrap?\n",
    "  - Aplicación 1: Aproximación del error standard de un estadístico (transparencia 8)\n",
    "  - Aplicación 2: Aproximación del sesgo de un estadístico (transparencia 9)\n",
    "\n",
    "- ¿Aquí se puede considerar los estadísticos *media muestral* y *desviación estándar muestral* de la temperatura del agua del embalse que hemos calculado en el apartado anterior como los *estimadores* sobre los que queremos calcular las aproximación (en concreto la *Applicación 1*) con el algoritmo Bootstrap?\n",
    "\n",
    "**::GMG::** En el caso de que sea la *aplicación 1*, entonces lo que se pide con la fórmula del enunciado es calcular la aproximación del error estándar de *los estadísticos como estimadores* que hemos calculado en el primer apartado para los *parámetros* media y desviación típica de la variable aleatoria continua temperatura del embalse sin hacer ninguna asunción sobre cómo se distribuye esa variable. "
   ]
  },
  {
   "cell_type": "markdown",
   "metadata": {},
   "source": [
    "**::GMG::** La explicación de Pablo en clase de la *aplicación 1* de Bootstrap partía de la existencia de un parámetro $\\Theta$ sobre el que hemos obtenido un estimador $\\bar \\Theta$. Queremos conocer la *desviación estándar* de ese estimador, es decir, su *error estándar* (*standard error*). Para eso tendríamos que hacer M experimentos y usar la siguiente fórmula para *estimarlo* (de forma insesgada):\n",
    "\n",
    "$SD_{\\bar \\Theta} = \\sqrt {\\frac {1}{M-1} \\sum \\limits_{i=1}^M \\left( \\bar \\Theta_{i} - \\Theta \\right)^2}$\n",
    "\n",
    "Pero en lugar de eso (hacer experimentos es muy caro o son *irrepetibles*) lo que se hace es un *resampling* de la muestra original obteniendo M muestras resampleadas siguiendo el algoritmo de *Bootstrap*, aplicando la misma fórmula anterior con $\\bar \\Theta_{i} → \\bar \\Theta_{i}^B$. Ahora según un famoso paper:\n",
    "\n",
    "- Efron, B. (1979). \"Bootstrap methods: Another look at the jackknife\". The Annals of Statistics. 7 (1): 1–26. doi:10.1214/aos/1176344552.\n",
    "\n",
    "la variable aleatoria de Bootstrap $\\bar \\Theta^B$ se distribuye de modo que:\n",
    "\n",
    "$\\bar \\Theta^B - \\bar \\Theta \\approx \\bar \\Theta - \\Theta$\n",
    "\n",
    "**::nota::** donde $\\bar \\Theta^B$ (la media de las medias) es lo que yo he puesto en la fórmula (1) \n",
    "\n",
    "y se obtiene sustituyendo la fórmula del enunciado (versión insesgada que viene en los apuntes de Pablo Ruiz):\n",
    "\n",
    "$SD_{\\bar \\Theta} = \\sqrt {\\frac {1}{M-1} \\sum \\limits_{i=1}^M \\left( \\bar \\Theta_{i}^B - \\bar \\Theta \\right)^2}$"
   ]
  },
  {
   "cell_type": "code",
   "execution_count": 15,
   "metadata": {},
   "outputs": [
    {
     "data": {
      "text/html": [
       "'Resultado media Bootstrap (1): 18.0662'"
      ],
      "text/latex": [
       "'Resultado media Bootstrap (1): 18.0662'"
      ],
      "text/markdown": [
       "'Resultado media Bootstrap (1): 18.0662'"
      ],
      "text/plain": [
       "[1] \"Resultado media Bootstrap (1): 18.0662\""
      ]
     },
     "metadata": {},
     "output_type": "display_data"
    },
    {
     "data": {
      "text/html": [
       "'Resultado anterior (media muestral): 18.0659'"
      ],
      "text/latex": [
       "'Resultado anterior (media muestral): 18.0659'"
      ],
      "text/markdown": [
       "'Resultado anterior (media muestral): 18.0659'"
      ],
      "text/plain": [
       "[1] \"Resultado anterior (media muestral): 18.0659\""
      ]
     },
     "metadata": {},
     "output_type": "display_data"
    }
   ],
   "source": [
    "#::GMG::Calculamos (1)\n",
    "#theta.bar.B.i <- apply(X = theta.B.M,MARGIN = 2,FUN = mean)\n",
    "#theta.bar.B <- sum(theta.bar.B.i)/length(theta.bar.B.i)\n",
    "#::nota::lo hago compacto y eficiente con apply()\n",
    "# https://www.rdocumentation.org/packages/base/versions/3.5.2/topics/apply\n",
    "theta.bar.B <- mean(apply(X = theta.B.M, MARGIN = 2, FUN = mean))\n",
    "paste('Resultado media Bootstrap (1):', round(theta.bar.B,4))\n",
    "paste('Resultado anterior (media muestral):',round(media.x.verano,4))"
   ]
  },
  {
   "cell_type": "markdown",
   "metadata": {},
   "source": [
    "**::GMG::** Comentarios\n",
    "\n",
    "El segundo estadístico mostrado (*media muestral*) es un estimador del parámetro media poblacional de la variable aleatoria continua que representa la temperatura del embalse de la que desconocemos distribución y parámetros. Se ha calculado de una sola muestra de tamaño *182*. Es también una variable aleatoria con su distribución y parámetros desconocidos. \n",
    "\n",
    "El primer estadístico es una media de medias de 1000 experimentos (1000 realizaciones de muestras de tamaño 182) obtenidos por resampling usando el algoritmo Bootstrap. También es un estimador del parámetro media poblacional de la variable aleatoria continua que representa la temperatura del embalse. Y es también una variable aleatoria con su distribución y parámetros desconocidos. "
   ]
  },
  {
   "cell_type": "code",
   "execution_count": 16,
   "metadata": {},
   "outputs": [
    {
     "data": {
      "text/html": [
       "'Resultado sd error media: 0.14021'"
      ],
      "text/latex": [
       "'Resultado sd error media: 0.14021'"
      ],
      "text/markdown": [
       "'Resultado sd error media: 0.14021'"
      ],
      "text/plain": [
       "[1] \"Resultado sd error media: 0.14021\""
      ]
     },
     "metadata": {},
     "output_type": "display_data"
    }
   ],
   "source": [
    "#::GMG::Estimación del error estándar del estimador de la media\n",
    "#::nota::el vector de las 1000 medias (de cada muestra) de bootstrap\n",
    "theta.bar.B.i <- apply(X = theta.B.M,MARGIN = 2,FUN = mean)\n",
    "#::nota::implementación de la fórmula (2) con sum() y length()\n",
    "sd.err.mean <- sqrt(\n",
    "    sum((theta.bar.B.i - media.x.verano)^2)/length(theta.bar.B.i)\n",
    ")\n",
    "paste('Resultado sd error media:',round(sd.err.mean,5))"
   ]
  },
  {
   "cell_type": "code",
   "execution_count": 17,
   "metadata": {},
   "outputs": [
    {
     "data": {
      "text/html": [
       "'Resultado sd error desv. estand.: 0.14562'"
      ],
      "text/latex": [
       "'Resultado sd error desv. estand.: 0.14562'"
      ],
      "text/markdown": [
       "'Resultado sd error desv. estand.: 0.14562'"
      ],
      "text/plain": [
       "[1] \"Resultado sd error desv. estand.: 0.14562\""
      ]
     },
     "metadata": {},
     "output_type": "display_data"
    }
   ],
   "source": [
    "#::GMG::Estimación del error estándar del estimador de la desviación estándar\n",
    "theta.bar.B.i <- apply(X = theta.B.M,MARGIN = 2,FUN = sd)\n",
    "sd.err.desv <- sqrt(\n",
    "    sum((theta.bar.B.i - sd.x.verano)^2)/length(theta.bar.B.i)\n",
    ")\n",
    "paste('Resultado sd error desv. estand.:',round(sd.err.desv,5))"
   ]
  },
  {
   "cell_type": "markdown",
   "metadata": {},
   "source": [
    "**::DUDA::** ¿Cómo se interpreta ésto?"
   ]
  },
  {
   "cell_type": "markdown",
   "metadata": {},
   "source": [
    "### D. Jackknife"
   ]
  },
  {
   "cell_type": "markdown",
   "metadata": {},
   "source": [
    "#### Algoritmo"
   ]
  },
  {
   "cell_type": "code",
   "execution_count": 18,
   "metadata": {},
   "outputs": [],
   "source": [
    "#::GMG::Implemento mi función que genera jackknife \"N-1\"\n",
    "#::nota::Misma implementación que el Ejercicio 8 de clase\n",
    "genera.jackknife <- function(v) {\n",
    "    M <- matrix(nrow = length(v)-1, ncol = length(v))\n",
    "    for (i in 1:length(v)) {\n",
    "        M[,i] <- v[-i]\n",
    "    }\n",
    "    return(M)\n",
    "}"
   ]
  },
  {
   "cell_type": "code",
   "execution_count": 19,
   "metadata": {},
   "outputs": [
    {
     "data": {
      "text/html": [
       "<ol class=list-inline>\n",
       "\t<li>5</li>\n",
       "\t<li>6</li>\n",
       "</ol>\n"
      ],
      "text/latex": [
       "\\begin{enumerate*}\n",
       "\\item 5\n",
       "\\item 6\n",
       "\\end{enumerate*}\n"
      ],
      "text/markdown": [
       "1. 5\n",
       "2. 6\n",
       "\n",
       "\n"
      ],
      "text/plain": [
       "[1] 5 6"
      ]
     },
     "metadata": {},
     "output_type": "display_data"
    },
    {
     "name": "stdout",
     "output_type": "stream",
     "text": [
      "     [,1] [,2] [,3] [,4] [,5] [,6]\n",
      "[1,]    3    5    5    5    5    5\n",
      "[2,]    1    1    3    3    3    3\n",
      "[3,]    7    7    7    1    1    1\n",
      "[4,]    9    9    9    9    7    7\n",
      "[5,]    2    2    2    2    2    9\n"
     ]
    }
   ],
   "source": [
    "#::GMG::Ejemplo\n",
    "matriz.jackknife <-genera.jackknife(x)\n",
    "dim(matriz.jackknife)\n",
    "print(matriz.jackknife)"
   ]
  },
  {
   "cell_type": "markdown",
   "metadata": {},
   "source": [
    "#### Aplicación a la media de temperaturas"
   ]
  },
  {
   "cell_type": "code",
   "execution_count": 20,
   "metadata": {},
   "outputs": [
    {
     "name": "stdout",
     "output_type": "stream",
     "text": [
      " num [1:181, 1:182] 14.7 14.8 15.1 15.2 15.2 ...\n",
      " num [1:182] 18.1 18.1 18.1 18.1 18.1 ...\n"
     ]
    }
   ],
   "source": [
    "#::GMG::repito el proceso con Jackknife\n",
    "matriz.replicas.jk <- genera.jackknife(v = x.verano)\n",
    "medias.jk <- apply(X = matriz.replicas.jk,MARGIN = 2,FUN = mean)\n",
    "str(matriz.replicas.jk)\n",
    "str(medias.jk)"
   ]
  },
  {
   "cell_type": "code",
   "execution_count": 23,
   "metadata": {},
   "outputs": [
    {
     "data": {
      "text/html": [
       "'Estimación de la media jackknife: 18.06591'"
      ],
      "text/latex": [
       "'Estimación de la media jackknife: 18.06591'"
      ],
      "text/markdown": [
       "'Estimación de la media jackknife: 18.06591'"
      ],
      "text/plain": [
       "[1] \"Estimación de la media jackknife: 18.06591\""
      ]
     },
     "metadata": {},
     "output_type": "display_data"
    },
    {
     "data": {
      "text/html": [
       "'Resultado anterior (media muestral): 18.0659'"
      ],
      "text/latex": [
       "'Resultado anterior (media muestral): 18.0659'"
      ],
      "text/markdown": [
       "'Resultado anterior (media muestral): 18.0659'"
      ],
      "text/plain": [
       "[1] \"Resultado anterior (media muestral): 18.0659\""
      ]
     },
     "metadata": {},
     "output_type": "display_data"
    }
   ],
   "source": [
    "\n",
    "media.jk <- mean(medias.jk)\n",
    "paste('Estimación de la media jackknife:', round(media.jk,5))\n",
    "paste('Resultado anterior (media muestral):',round(media.x.verano,4))"
   ]
  },
  {
   "cell_type": "code",
   "execution_count": 24,
   "metadata": {},
   "outputs": [
    {
     "data": {
      "text/html": [
       "'Estimación de error estándar estimador media por jackknife 0.14609'"
      ],
      "text/latex": [
       "'Estimación de error estándar estimador media por jackknife 0.14609'"
      ],
      "text/markdown": [
       "'Estimación de error estándar estimador media por jackknife 0.14609'"
      ],
      "text/plain": [
       "[1] \"Estimación de error estándar estimador media por jackknife 0.14609\""
      ]
     },
     "metadata": {},
     "output_type": "display_data"
    }
   ],
   "source": [
    "#::GMG::En el cálculo de la sd del jackknife hay que hacer una \"corrección\"\n",
    "# https://en.wikipedia.org/wiki/Jackknife_resampling#Estimation\n",
    "sigma.jk <- sqrt((length(medias.jk) - 1)*mean((medias.jk - media.jk)^2))\n",
    "paste('Estimación de error estándar estimador media por jackknife',round(sigma.jk,5))"
   ]
  }
 ],
 "metadata": {
  "kernelspec": {
   "display_name": "R",
   "language": "R",
   "name": "ir"
  },
  "language_info": {
   "codemirror_mode": "r",
   "file_extension": ".r",
   "mimetype": "text/x-r-source",
   "name": "R",
   "pygments_lexer": "r",
   "version": "3.4.4"
  }
 },
 "nbformat": 4,
 "nbformat_minor": 2
}
