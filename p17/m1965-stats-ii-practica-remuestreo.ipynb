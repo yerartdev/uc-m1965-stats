{
 "cells": [
  {
   "cell_type": "markdown",
   "metadata": {},
   "source": [
    "# Alumno: Gerardo de Miguel González"
   ]
  },
  {
   "cell_type": "markdown",
   "metadata": {},
   "source": [
    "##  Práctica Remuestreo"
   ]
  },
  {
   "cell_type": "markdown",
   "metadata": {},
   "source": [
    "### Carga y limpieza de los datos"
   ]
  },
  {
   "cell_type": "code",
   "execution_count": 1,
   "metadata": {},
   "outputs": [],
   "source": [
    "#::GMG::Cargamos los datos\n",
    "data <- read.csv(file = 'm1965-stats-ii-datos-practica-remuestreo.csv',header = TRUE,sep = ',')"
   ]
  },
  {
   "cell_type": "code",
   "execution_count": 2,
   "metadata": {},
   "outputs": [],
   "source": [
    "#::GMG::La columna de de fechas (date) está en un formato no compatible con el tipo de fecha\n",
    "#       DD/MM/YYYY adecuado para una indexación posterior que vamos a necesitar para la selección\n",
    "#       de los parámetros AVG.Cond. (Conductividad) y AVG.Salinity. (Salinidad) de 2014 ...\n",
    "#       Ajustamos las fechas\n",
    "data$date <- as.Date(x = data$date, format='%d/%m/%Y %H:%M')"
   ]
  },
  {
   "cell_type": "code",
   "execution_count": 3,
   "metadata": {},
   "outputs": [
    {
     "data": {
      "text/html": [
       "<table>\n",
       "<thead><tr><th scope=col>date</th><th scope=col>AVG.Temp.</th></tr></thead>\n",
       "<tbody>\n",
       "\t<tr><td>2014-01-01</td><td>3.997746  </td></tr>\n",
       "\t<tr><td>2014-01-02</td><td>4.057667  </td></tr>\n",
       "\t<tr><td>2014-01-03</td><td>4.133612  </td></tr>\n",
       "\t<tr><td>2014-01-04</td><td>4.188685  </td></tr>\n",
       "\t<tr><td>2014-01-05</td><td>4.346172  </td></tr>\n",
       "\t<tr><td>2014-01-06</td><td>4.392661  </td></tr>\n",
       "</tbody>\n",
       "</table>\n"
      ],
      "text/latex": [
       "\\begin{tabular}{r|ll}\n",
       " date & AVG.Temp.\\\\\n",
       "\\hline\n",
       "\t 2014-01-01 & 3.997746  \\\\\n",
       "\t 2014-01-02 & 4.057667  \\\\\n",
       "\t 2014-01-03 & 4.133612  \\\\\n",
       "\t 2014-01-04 & 4.188685  \\\\\n",
       "\t 2014-01-05 & 4.346172  \\\\\n",
       "\t 2014-01-06 & 4.392661  \\\\\n",
       "\\end{tabular}\n"
      ],
      "text/markdown": [
       "\n",
       "date | AVG.Temp. | \n",
       "|---|---|---|---|---|---|\n",
       "| 2014-01-01 | 3.997746   | \n",
       "| 2014-01-02 | 4.057667   | \n",
       "| 2014-01-03 | 4.133612   | \n",
       "| 2014-01-04 | 4.188685   | \n",
       "| 2014-01-05 | 4.346172   | \n",
       "| 2014-01-06 | 4.392661   | \n",
       "\n",
       "\n"
      ],
      "text/plain": [
       "  date       AVG.Temp.\n",
       "1 2014-01-01 3.997746 \n",
       "2 2014-01-02 4.057667 \n",
       "3 2014-01-03 4.133612 \n",
       "4 2014-01-04 4.188685 \n",
       "5 2014-01-05 4.346172 \n",
       "6 2014-01-06 4.392661 "
      ]
     },
     "metadata": {},
     "output_type": "display_data"
    }
   ],
   "source": [
    "#::GMG::Vamos a extraer los datos que necesitamos para el remuestreo\n",
    "myvars <- names(data) %in% c(\"date\", \"AVG.Temp.\")\n",
    "data.processed <- data[myvars]\n",
    "head(data.processed)"
   ]
  },
  {
   "cell_type": "code",
   "execution_count": 4,
   "metadata": {},
   "outputs": [
    {
     "data": {
      "text/html": [
       "<table>\n",
       "<thead><tr><th></th><th scope=col>date</th><th scope=col>AVG.Temp.</th></tr></thead>\n",
       "<tbody>\n",
       "\t<tr><th scope=row>182</th><td>2014-07-01</td><td>15.41396  </td></tr>\n",
       "\t<tr><th scope=row>183</th><td>2014-07-02</td><td>14.70326  </td></tr>\n",
       "\t<tr><th scope=row>184</th><td>2014-07-03</td><td>14.76020  </td></tr>\n",
       "\t<tr><th scope=row>185</th><td>2014-07-04</td><td>15.12685  </td></tr>\n",
       "\t<tr><th scope=row>186</th><td>2014-07-05</td><td>15.19523  </td></tr>\n",
       "\t<tr><th scope=row>187</th><td>2014-07-06</td><td>15.24690  </td></tr>\n",
       "</tbody>\n",
       "</table>\n"
      ],
      "text/latex": [
       "\\begin{tabular}{r|ll}\n",
       "  & date & AVG.Temp.\\\\\n",
       "\\hline\n",
       "\t182 & 2014-07-01 & 15.41396  \\\\\n",
       "\t183 & 2014-07-02 & 14.70326  \\\\\n",
       "\t184 & 2014-07-03 & 14.76020  \\\\\n",
       "\t185 & 2014-07-04 & 15.12685  \\\\\n",
       "\t186 & 2014-07-05 & 15.19523  \\\\\n",
       "\t187 & 2014-07-06 & 15.24690  \\\\\n",
       "\\end{tabular}\n"
      ],
      "text/markdown": [
       "\n",
       "| <!--/--> | date | AVG.Temp. | \n",
       "|---|---|---|---|---|---|\n",
       "| 182 | 2014-07-01 | 15.41396   | \n",
       "| 183 | 2014-07-02 | 14.70326   | \n",
       "| 184 | 2014-07-03 | 14.76020   | \n",
       "| 185 | 2014-07-04 | 15.12685   | \n",
       "| 186 | 2014-07-05 | 15.19523   | \n",
       "| 187 | 2014-07-06 | 15.24690   | \n",
       "\n",
       "\n"
      ],
      "text/plain": [
       "    date       AVG.Temp.\n",
       "182 2014-07-01 15.41396 \n",
       "183 2014-07-02 14.70326 \n",
       "184 2014-07-03 14.76020 \n",
       "185 2014-07-04 15.12685 \n",
       "186 2014-07-05 15.19523 \n",
       "187 2014-07-06 15.24690 "
      ]
     },
     "metadata": {},
     "output_type": "display_data"
    }
   ],
   "source": [
    "#::GMG::Ahora vamos a separar los datos de \"verano\" de 2014 y 2015\n",
    "# https://stackoverflow.com/questions/9407622/subsetting-a-dataframe-for-a-specified-month-and-year\n",
    "data.processed.verano <- subset(\n",
    "           x = data.processed, \n",
    "           #data.processed$date >= as.Date('2014-07-01') & \n",
    "           #data.processed$date <= as.Date('2014-09-31')\n",
    "           format.Date(data.processed$date, '%m') >= '07' &\n",
    "           format.Date(data.processed$date, '%m') <= '09'\n",
    "           )\n",
    "head(data.processed.verano)"
   ]
  },
  {
   "cell_type": "code",
   "execution_count": 5,
   "metadata": {},
   "outputs": [
    {
     "data": {
      "text/html": [
       "182"
      ],
      "text/latex": [
       "182"
      ],
      "text/markdown": [
       "182"
      ],
      "text/plain": [
       "[1] 182"
      ]
     },
     "metadata": {},
     "output_type": "display_data"
    }
   ],
   "source": [
    "#::GMG::Ahora selecciono y limpio el vector de temperatura de 2014 y 2015\n",
    "#       Hay que limpiar los NaNs\n",
    "#\n",
    "x.verano <- na.omit(data.processed.verano$AVG.Temp.)\n",
    "length(x.verano)"
   ]
  },
  {
   "cell_type": "markdown",
   "metadata": {},
   "source": [
    "### Media y desviación muestral"
   ]
  },
  {
   "cell_type": "markdown",
   "metadata": {},
   "source": [
    "**::GMG::** Cálculo de la media y deviación estándar muestral"
   ]
  },
  {
   "cell_type": "code",
   "execution_count": 7,
   "metadata": {},
   "outputs": [
    {
     "data": {
      "text/html": [
       "<span style=white-space:pre-wrap>'Media: 18.066  - Desv. Estándar: 1.971'</span>"
      ],
      "text/latex": [
       "'Media: 18.066  - Desv. Estándar: 1.971'"
      ],
      "text/markdown": [
       "<span style=white-space:pre-wrap>'Media: 18.066  - Desv. Estándar: 1.971'</span>"
      ],
      "text/plain": [
       "[1] \"Media: 18.066  - Desv. Estándar: 1.971\""
      ]
     },
     "metadata": {},
     "output_type": "display_data"
    }
   ],
   "source": [
    "#::GMG::Usamos las funciones que nos proporciona R\n",
    "media.x.verano <- mean(x.verano)\n",
    "sd.x.verano <- sd(x.verano)\n",
    "paste('Media:',round(media.x.verano,3),' - Desv. Estándar:', round(sd.x.verano,3))"
   ]
  },
  {
   "cell_type": "markdown",
   "metadata": {},
   "source": [
    "### Bootstrap"
   ]
  },
  {
   "cell_type": "markdown",
   "metadata": {},
   "source": [
    "Crea una función que reciba un vector de números ‘x’ (la muestra original) y un número\n",
    "natural N, que genere una matriz que tenga N columnas siendo cada una de estas, una de las\n",
    "muestras de bootstrap."
   ]
  },
  {
   "cell_type": "code",
   "execution_count": 20,
   "metadata": {},
   "outputs": [],
   "source": [
    "b.mean <- function(x, N) {\n",
    "    resamples <- lapply(1:N, function(i) sample(x, replace=T))\n",
    "    #r.mean <- sapply(resamples, mean)\n",
    "    #std.err <- sqrt(var(r.mean))\n",
    "    #list(std.err=std.err, resamples=resamples, means=r.mean)\n",
    "    return (as.matrix(resamples))\n",
    "}"
   ]
  },
  {
   "cell_type": "code",
   "execution_count": 21,
   "metadata": {},
   "outputs": [],
   "source": [
    "b <- b.mean(x.verano,10)"
   ]
  },
  {
   "cell_type": "code",
   "execution_count": 22,
   "metadata": {},
   "outputs": [
    {
     "data": {
      "text/html": [
       "<ol class=list-inline>\n",
       "\t<li>10</li>\n",
       "\t<li>1</li>\n",
       "</ol>\n"
      ],
      "text/latex": [
       "\\begin{enumerate*}\n",
       "\\item 10\n",
       "\\item 1\n",
       "\\end{enumerate*}\n"
      ],
      "text/markdown": [
       "1. 10\n",
       "2. 1\n",
       "\n",
       "\n"
      ],
      "text/plain": [
       "[1] 10  1"
      ]
     },
     "metadata": {},
     "output_type": "display_data"
    }
   ],
   "source": [
    "dim(b)"
   ]
  },
  {
   "cell_type": "code",
   "execution_count": null,
   "metadata": {},
   "outputs": [],
   "source": []
  }
 ],
 "metadata": {
  "kernelspec": {
   "display_name": "R",
   "language": "R",
   "name": "ir"
  },
  "language_info": {
   "codemirror_mode": "r",
   "file_extension": ".r",
   "mimetype": "text/x-r-source",
   "name": "R",
   "pygments_lexer": "r",
   "version": "3.4.4"
  }
 },
 "nbformat": 4,
 "nbformat_minor": 2
}
