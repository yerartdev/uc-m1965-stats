{
 "cells": [
  {
   "cell_type": "markdown",
   "metadata": {},
   "source": [
    "# Alumno: Gerardo de Miguel González"
   ]
  },
  {
   "cell_type": "markdown",
   "metadata": {},
   "source": [
    "##  Práctica Regresión Lineal"
   ]
  },
  {
   "cell_type": "markdown",
   "metadata": {},
   "source": [
    "### 1. Regresión Lineal"
   ]
  },
  {
   "cell_type": "markdown",
   "metadata": {},
   "source": [
    "Se parte de los datos físico-químicos del embalse de Cuerda del Pozo (Soria) de los años 2014 y 2015.\n",
    "\n",
    "**Tarea 1** \n",
    "\n",
    "Carga los datos y enfrenta los datos de Conductividad vs Salinidad de 2014."
   ]
  },
  {
   "cell_type": "code",
   "execution_count": 2,
   "metadata": {},
   "outputs": [],
   "source": [
    "#::GMG::Cargamos los datos\n",
    "data <- read.csv(file = 'm1965-stats-ii-datos-practica-regresion.csv',header = TRUE,sep = ',')"
   ]
  },
  {
   "cell_type": "code",
   "execution_count": 3,
   "metadata": {},
   "outputs": [
    {
     "data": {
      "text/html": [
       "<table>\n",
       "<thead><tr><th scope=col>date</th><th scope=col>AVG.Temp.</th><th scope=col>AVG.Press.</th><th scope=col>AVG.Cond.</th><th scope=col>AVG.Salinity.</th><th scope=col>AVG.DO.</th><th scope=col>AVG.rawO2.</th><th scope=col>AVG.OxySat.</th><th scope=col>AVG.pH.</th><th scope=col>AVG.Redox.</th></tr></thead>\n",
       "<tbody>\n",
       "\t<tr><td>01/01/2014 0:03</td><td>3.997746       </td><td>9.621590       </td><td>0.04066501     </td><td>0.03042613     </td><td>13.64697       </td><td>557.8257       </td><td>104.2490       </td><td>8.132615       </td><td>355.7024       </td></tr>\n",
       "\t<tr><td>02/01/2014 0:05</td><td>4.057667       </td><td>3.944666       </td><td>0.03989884     </td><td>0.02982348     </td><td>13.60542       </td><td>557.2651       </td><td>104.0947       </td><td>8.105203       </td><td>358.5334       </td></tr>\n",
       "\t<tr><td>03/01/2014 0:05</td><td>4.133612       </td><td>3.991833       </td><td>0.03766908     </td><td>0.02809732     </td><td>13.58907       </td><td>558.5972       </td><td>104.1756       </td><td>8.045604       </td><td>359.7074       </td></tr>\n",
       "\t<tr><td>04/01/2014 0:14</td><td>4.188685       </td><td>3.945495       </td><td>0.03458220     </td><td>0.02574459     </td><td>13.57724       </td><td>559.5497       </td><td>104.2334       </td><td>7.972540       </td><td>361.7077       </td></tr>\n",
       "\t<tr><td>05/01/2014 0:08</td><td>4.346172       </td><td>9.391423       </td><td>0.03129767     </td><td>0.02324373     </td><td>13.50923       </td><td>561.2890       </td><td>104.1373       </td><td>7.902103       </td><td>357.6429       </td></tr>\n",
       "\t<tr><td>06/01/2014 0:05</td><td>4.392661       </td><td>9.359303       </td><td>0.03112603     </td><td>0.02310512     </td><td>13.42513       </td><td>559.0047       </td><td>103.6140       </td><td>7.892637       </td><td>358.9344       </td></tr>\n",
       "</tbody>\n",
       "</table>\n"
      ],
      "text/latex": [
       "\\begin{tabular}{r|llllllllll}\n",
       " date & AVG.Temp. & AVG.Press. & AVG.Cond. & AVG.Salinity. & AVG.DO. & AVG.rawO2. & AVG.OxySat. & AVG.pH. & AVG.Redox.\\\\\n",
       "\\hline\n",
       "\t 01/01/2014 0:03 & 3.997746        & 9.621590        & 0.04066501      & 0.03042613      & 13.64697        & 557.8257        & 104.2490        & 8.132615        & 355.7024       \\\\\n",
       "\t 02/01/2014 0:05 & 4.057667        & 3.944666        & 0.03989884      & 0.02982348      & 13.60542        & 557.2651        & 104.0947        & 8.105203        & 358.5334       \\\\\n",
       "\t 03/01/2014 0:05 & 4.133612        & 3.991833        & 0.03766908      & 0.02809732      & 13.58907        & 558.5972        & 104.1756        & 8.045604        & 359.7074       \\\\\n",
       "\t 04/01/2014 0:14 & 4.188685        & 3.945495        & 0.03458220      & 0.02574459      & 13.57724        & 559.5497        & 104.2334        & 7.972540        & 361.7077       \\\\\n",
       "\t 05/01/2014 0:08 & 4.346172        & 9.391423        & 0.03129767      & 0.02324373      & 13.50923        & 561.2890        & 104.1373        & 7.902103        & 357.6429       \\\\\n",
       "\t 06/01/2014 0:05 & 4.392661        & 9.359303        & 0.03112603      & 0.02310512      & 13.42513        & 559.0047        & 103.6140        & 7.892637        & 358.9344       \\\\\n",
       "\\end{tabular}\n"
      ],
      "text/markdown": [
       "\n",
       "date | AVG.Temp. | AVG.Press. | AVG.Cond. | AVG.Salinity. | AVG.DO. | AVG.rawO2. | AVG.OxySat. | AVG.pH. | AVG.Redox. | \n",
       "|---|---|---|---|---|---|\n",
       "| 01/01/2014 0:03 | 3.997746        | 9.621590        | 0.04066501      | 0.03042613      | 13.64697        | 557.8257        | 104.2490        | 8.132615        | 355.7024        | \n",
       "| 02/01/2014 0:05 | 4.057667        | 3.944666        | 0.03989884      | 0.02982348      | 13.60542        | 557.2651        | 104.0947        | 8.105203        | 358.5334        | \n",
       "| 03/01/2014 0:05 | 4.133612        | 3.991833        | 0.03766908      | 0.02809732      | 13.58907        | 558.5972        | 104.1756        | 8.045604        | 359.7074        | \n",
       "| 04/01/2014 0:14 | 4.188685        | 3.945495        | 0.03458220      | 0.02574459      | 13.57724        | 559.5497        | 104.2334        | 7.972540        | 361.7077        | \n",
       "| 05/01/2014 0:08 | 4.346172        | 9.391423        | 0.03129767      | 0.02324373      | 13.50923        | 561.2890        | 104.1373        | 7.902103        | 357.6429        | \n",
       "| 06/01/2014 0:05 | 4.392661        | 9.359303        | 0.03112603      | 0.02310512      | 13.42513        | 559.0047        | 103.6140        | 7.892637        | 358.9344        | \n",
       "\n",
       "\n"
      ],
      "text/plain": [
       "  date            AVG.Temp. AVG.Press. AVG.Cond.  AVG.Salinity. AVG.DO. \n",
       "1 01/01/2014 0:03 3.997746  9.621590   0.04066501 0.03042613    13.64697\n",
       "2 02/01/2014 0:05 4.057667  3.944666   0.03989884 0.02982348    13.60542\n",
       "3 03/01/2014 0:05 4.133612  3.991833   0.03766908 0.02809732    13.58907\n",
       "4 04/01/2014 0:14 4.188685  3.945495   0.03458220 0.02574459    13.57724\n",
       "5 05/01/2014 0:08 4.346172  9.391423   0.03129767 0.02324373    13.50923\n",
       "6 06/01/2014 0:05 4.392661  9.359303   0.03112603 0.02310512    13.42513\n",
       "  AVG.rawO2. AVG.OxySat. AVG.pH.  AVG.Redox.\n",
       "1 557.8257   104.2490    8.132615 355.7024  \n",
       "2 557.2651   104.0947    8.105203 358.5334  \n",
       "3 558.5972   104.1756    8.045604 359.7074  \n",
       "4 559.5497   104.2334    7.972540 361.7077  \n",
       "5 561.2890   104.1373    7.902103 357.6429  \n",
       "6 559.0047   103.6140    7.892637 358.9344  "
      ]
     },
     "metadata": {},
     "output_type": "display_data"
    }
   ],
   "source": [
    "#::GMG::Comprobamos que hemos cargado el conjunto de datos\n",
    "head(data)"
   ]
  },
  {
   "cell_type": "code",
   "execution_count": 4,
   "metadata": {},
   "outputs": [],
   "source": [
    "#::GMG::La columna de de fechas (date) está en un formato no compatible con el tipo de fecha\n",
    "#       DD/MM/YYYY adecuado para una indexación posterior que vamos a necesitar para la selección\n",
    "#       de los parámetros AVG.Cond. (Conductividad) y AVG.Salinity. (Salinidad) de 2014 ...\n",
    "#       Ajustamos las fechas\n",
    "data$date <- as.Date(x = data$date, format='%d/%m/%Y %H:%M')"
   ]
  },
  {
   "cell_type": "code",
   "execution_count": 5,
   "metadata": {},
   "outputs": [
    {
     "data": {
      "text/html": [
       "<table>\n",
       "<thead><tr><th scope=col>date</th><th scope=col>AVG.Temp.</th><th scope=col>AVG.Press.</th><th scope=col>AVG.Cond.</th><th scope=col>AVG.Salinity.</th><th scope=col>AVG.DO.</th><th scope=col>AVG.rawO2.</th><th scope=col>AVG.OxySat.</th><th scope=col>AVG.pH.</th><th scope=col>AVG.Redox.</th></tr></thead>\n",
       "<tbody>\n",
       "\t<tr><td>2014-01-01</td><td>3.997746  </td><td>9.621590  </td><td>0.04066501</td><td>0.03042613</td><td>13.64697  </td><td>557.8257  </td><td>104.2490  </td><td>8.132615  </td><td>355.7024  </td></tr>\n",
       "\t<tr><td>2014-01-02</td><td>4.057667  </td><td>3.944666  </td><td>0.03989884</td><td>0.02982348</td><td>13.60542  </td><td>557.2651  </td><td>104.0947  </td><td>8.105203  </td><td>358.5334  </td></tr>\n",
       "\t<tr><td>2014-01-03</td><td>4.133612  </td><td>3.991833  </td><td>0.03766908</td><td>0.02809732</td><td>13.58907  </td><td>558.5972  </td><td>104.1756  </td><td>8.045604  </td><td>359.7074  </td></tr>\n",
       "\t<tr><td>2014-01-04</td><td>4.188685  </td><td>3.945495  </td><td>0.03458220</td><td>0.02574459</td><td>13.57724  </td><td>559.5497  </td><td>104.2334  </td><td>7.972540  </td><td>361.7077  </td></tr>\n",
       "\t<tr><td>2014-01-05</td><td>4.346172  </td><td>9.391423  </td><td>0.03129767</td><td>0.02324373</td><td>13.50923  </td><td>561.2890  </td><td>104.1373  </td><td>7.902103  </td><td>357.6429  </td></tr>\n",
       "\t<tr><td>2014-01-06</td><td>4.392661  </td><td>9.359303  </td><td>0.03112603</td><td>0.02310512</td><td>13.42513  </td><td>559.0047  </td><td>103.6140  </td><td>7.892637  </td><td>358.9344  </td></tr>\n",
       "</tbody>\n",
       "</table>\n"
      ],
      "text/latex": [
       "\\begin{tabular}{r|llllllllll}\n",
       " date & AVG.Temp. & AVG.Press. & AVG.Cond. & AVG.Salinity. & AVG.DO. & AVG.rawO2. & AVG.OxySat. & AVG.pH. & AVG.Redox.\\\\\n",
       "\\hline\n",
       "\t 2014-01-01 & 3.997746   & 9.621590   & 0.04066501 & 0.03042613 & 13.64697   & 557.8257   & 104.2490   & 8.132615   & 355.7024  \\\\\n",
       "\t 2014-01-02 & 4.057667   & 3.944666   & 0.03989884 & 0.02982348 & 13.60542   & 557.2651   & 104.0947   & 8.105203   & 358.5334  \\\\\n",
       "\t 2014-01-03 & 4.133612   & 3.991833   & 0.03766908 & 0.02809732 & 13.58907   & 558.5972   & 104.1756   & 8.045604   & 359.7074  \\\\\n",
       "\t 2014-01-04 & 4.188685   & 3.945495   & 0.03458220 & 0.02574459 & 13.57724   & 559.5497   & 104.2334   & 7.972540   & 361.7077  \\\\\n",
       "\t 2014-01-05 & 4.346172   & 9.391423   & 0.03129767 & 0.02324373 & 13.50923   & 561.2890   & 104.1373   & 7.902103   & 357.6429  \\\\\n",
       "\t 2014-01-06 & 4.392661   & 9.359303   & 0.03112603 & 0.02310512 & 13.42513   & 559.0047   & 103.6140   & 7.892637   & 358.9344  \\\\\n",
       "\\end{tabular}\n"
      ],
      "text/markdown": [
       "\n",
       "date | AVG.Temp. | AVG.Press. | AVG.Cond. | AVG.Salinity. | AVG.DO. | AVG.rawO2. | AVG.OxySat. | AVG.pH. | AVG.Redox. | \n",
       "|---|---|---|---|---|---|\n",
       "| 2014-01-01 | 3.997746   | 9.621590   | 0.04066501 | 0.03042613 | 13.64697   | 557.8257   | 104.2490   | 8.132615   | 355.7024   | \n",
       "| 2014-01-02 | 4.057667   | 3.944666   | 0.03989884 | 0.02982348 | 13.60542   | 557.2651   | 104.0947   | 8.105203   | 358.5334   | \n",
       "| 2014-01-03 | 4.133612   | 3.991833   | 0.03766908 | 0.02809732 | 13.58907   | 558.5972   | 104.1756   | 8.045604   | 359.7074   | \n",
       "| 2014-01-04 | 4.188685   | 3.945495   | 0.03458220 | 0.02574459 | 13.57724   | 559.5497   | 104.2334   | 7.972540   | 361.7077   | \n",
       "| 2014-01-05 | 4.346172   | 9.391423   | 0.03129767 | 0.02324373 | 13.50923   | 561.2890   | 104.1373   | 7.902103   | 357.6429   | \n",
       "| 2014-01-06 | 4.392661   | 9.359303   | 0.03112603 | 0.02310512 | 13.42513   | 559.0047   | 103.6140   | 7.892637   | 358.9344   | \n",
       "\n",
       "\n"
      ],
      "text/plain": [
       "  date       AVG.Temp. AVG.Press. AVG.Cond.  AVG.Salinity. AVG.DO.  AVG.rawO2.\n",
       "1 2014-01-01 3.997746  9.621590   0.04066501 0.03042613    13.64697 557.8257  \n",
       "2 2014-01-02 4.057667  3.944666   0.03989884 0.02982348    13.60542 557.2651  \n",
       "3 2014-01-03 4.133612  3.991833   0.03766908 0.02809732    13.58907 558.5972  \n",
       "4 2014-01-04 4.188685  3.945495   0.03458220 0.02574459    13.57724 559.5497  \n",
       "5 2014-01-05 4.346172  9.391423   0.03129767 0.02324373    13.50923 561.2890  \n",
       "6 2014-01-06 4.392661  9.359303   0.03112603 0.02310512    13.42513 559.0047  \n",
       "  AVG.OxySat. AVG.pH.  AVG.Redox.\n",
       "1 104.2490    8.132615 355.7024  \n",
       "2 104.0947    8.105203 358.5334  \n",
       "3 104.1756    8.045604 359.7074  \n",
       "4 104.2334    7.972540 361.7077  \n",
       "5 104.1373    7.902103 357.6429  \n",
       "6 103.6140    7.892637 358.9344  "
      ]
     },
     "metadata": {},
     "output_type": "display_data"
    }
   ],
   "source": [
    "#::GMG::Comprobamos el resultado\n",
    "head(data)"
   ]
  },
  {
   "cell_type": "code",
   "execution_count": 6,
   "metadata": {},
   "outputs": [
    {
     "data": {
      "text/html": [
       "<table>\n",
       "<thead><tr><th scope=col>date</th><th scope=col>AVG.Cond.</th><th scope=col>AVG.Salinity.</th></tr></thead>\n",
       "<tbody>\n",
       "\t<tr><td>2014-01-01</td><td>0.04066501</td><td>0.03042613</td></tr>\n",
       "\t<tr><td>2014-01-02</td><td>0.03989884</td><td>0.02982348</td></tr>\n",
       "\t<tr><td>2014-01-03</td><td>0.03766908</td><td>0.02809732</td></tr>\n",
       "\t<tr><td>2014-01-04</td><td>0.03458220</td><td>0.02574459</td></tr>\n",
       "\t<tr><td>2014-01-05</td><td>0.03129767</td><td>0.02324373</td></tr>\n",
       "\t<tr><td>2014-01-06</td><td>0.03112603</td><td>0.02310512</td></tr>\n",
       "</tbody>\n",
       "</table>\n"
      ],
      "text/latex": [
       "\\begin{tabular}{r|lll}\n",
       " date & AVG.Cond. & AVG.Salinity.\\\\\n",
       "\\hline\n",
       "\t 2014-01-01 & 0.04066501 & 0.03042613\\\\\n",
       "\t 2014-01-02 & 0.03989884 & 0.02982348\\\\\n",
       "\t 2014-01-03 & 0.03766908 & 0.02809732\\\\\n",
       "\t 2014-01-04 & 0.03458220 & 0.02574459\\\\\n",
       "\t 2014-01-05 & 0.03129767 & 0.02324373\\\\\n",
       "\t 2014-01-06 & 0.03112603 & 0.02310512\\\\\n",
       "\\end{tabular}\n"
      ],
      "text/markdown": [
       "\n",
       "date | AVG.Cond. | AVG.Salinity. | \n",
       "|---|---|---|---|---|---|\n",
       "| 2014-01-01 | 0.04066501 | 0.03042613 | \n",
       "| 2014-01-02 | 0.03989884 | 0.02982348 | \n",
       "| 2014-01-03 | 0.03766908 | 0.02809732 | \n",
       "| 2014-01-04 | 0.03458220 | 0.02574459 | \n",
       "| 2014-01-05 | 0.03129767 | 0.02324373 | \n",
       "| 2014-01-06 | 0.03112603 | 0.02310512 | \n",
       "\n",
       "\n"
      ],
      "text/plain": [
       "  date       AVG.Cond.  AVG.Salinity.\n",
       "1 2014-01-01 0.04066501 0.03042613   \n",
       "2 2014-01-02 0.03989884 0.02982348   \n",
       "3 2014-01-03 0.03766908 0.02809732   \n",
       "4 2014-01-04 0.03458220 0.02574459   \n",
       "5 2014-01-05 0.03129767 0.02324373   \n",
       "6 2014-01-06 0.03112603 0.02310512   "
      ]
     },
     "metadata": {},
     "output_type": "display_data"
    }
   ],
   "source": [
    "#::GMG::Vamos a extraer los datos que necesitamos para la regresión: date, AVG.Cond. y AVG.Salinity.\n",
    "myvars <- names(data) %in% c(\"date\", \"AVG.Cond.\", \"AVG.Salinity.\")\n",
    "data.processed <- data[myvars]\n",
    "head(data.processed)"
   ]
  },
  {
   "cell_type": "code",
   "execution_count": 7,
   "metadata": {},
   "outputs": [
    {
     "data": {
      "text/html": [
       "<table>\n",
       "<thead><tr><th scope=col>date</th><th scope=col>AVG.Cond.</th><th scope=col>AVG.Salinity.</th></tr></thead>\n",
       "<tbody>\n",
       "\t<tr><td>2014-01-01</td><td>0.04066501</td><td>0.03042613</td></tr>\n",
       "\t<tr><td>2014-01-02</td><td>0.03989884</td><td>0.02982348</td></tr>\n",
       "\t<tr><td>2014-01-03</td><td>0.03766908</td><td>0.02809732</td></tr>\n",
       "\t<tr><td>2014-01-04</td><td>0.03458220</td><td>0.02574459</td></tr>\n",
       "\t<tr><td>2014-01-05</td><td>0.03129767</td><td>0.02324373</td></tr>\n",
       "\t<tr><td>2014-01-06</td><td>0.03112603</td><td>0.02310512</td></tr>\n",
       "</tbody>\n",
       "</table>\n"
      ],
      "text/latex": [
       "\\begin{tabular}{r|lll}\n",
       " date & AVG.Cond. & AVG.Salinity.\\\\\n",
       "\\hline\n",
       "\t 2014-01-01 & 0.04066501 & 0.03042613\\\\\n",
       "\t 2014-01-02 & 0.03989884 & 0.02982348\\\\\n",
       "\t 2014-01-03 & 0.03766908 & 0.02809732\\\\\n",
       "\t 2014-01-04 & 0.03458220 & 0.02574459\\\\\n",
       "\t 2014-01-05 & 0.03129767 & 0.02324373\\\\\n",
       "\t 2014-01-06 & 0.03112603 & 0.02310512\\\\\n",
       "\\end{tabular}\n"
      ],
      "text/markdown": [
       "\n",
       "date | AVG.Cond. | AVG.Salinity. | \n",
       "|---|---|---|---|---|---|\n",
       "| 2014-01-01 | 0.04066501 | 0.03042613 | \n",
       "| 2014-01-02 | 0.03989884 | 0.02982348 | \n",
       "| 2014-01-03 | 0.03766908 | 0.02809732 | \n",
       "| 2014-01-04 | 0.03458220 | 0.02574459 | \n",
       "| 2014-01-05 | 0.03129767 | 0.02324373 | \n",
       "| 2014-01-06 | 0.03112603 | 0.02310512 | \n",
       "\n",
       "\n"
      ],
      "text/plain": [
       "  date       AVG.Cond.  AVG.Salinity.\n",
       "1 2014-01-01 0.04066501 0.03042613   \n",
       "2 2014-01-02 0.03989884 0.02982348   \n",
       "3 2014-01-03 0.03766908 0.02809732   \n",
       "4 2014-01-04 0.03458220 0.02574459   \n",
       "5 2014-01-05 0.03129767 0.02324373   \n",
       "6 2014-01-06 0.03112603 0.02310512   "
      ]
     },
     "metadata": {},
     "output_type": "display_data"
    },
    {
     "data": {
      "text/html": [
       "'365 365'"
      ],
      "text/latex": [
       "'365 365'"
      ],
      "text/markdown": [
       "'365 365'"
      ],
      "text/plain": [
       "[1] \"365 365\""
      ]
     },
     "metadata": {},
     "output_type": "display_data"
    }
   ],
   "source": [
    "#::GMG::Ahora vamos a separar los datos del año 2014\n",
    "#       Vamos a usar los datos de 2014 para la regression\n",
    "data.processed.2014 <- subset(\n",
    "           x = data.processed, \n",
    "           data.processed$date >= as.Date('2014-01-01') & \n",
    "           data.processed$date <= as.Date('2014-12-31') \n",
    "           )\n",
    "head(data.processed.2014)\n",
    "paste(length(data.processed.2014$AVG.Cond.),\n",
    "      length(data.processed.2014$AVG.Cond.))\n",
    "\n",
    "#data.processed.2015 <- subset(\n",
    "#           x = data.processed, \n",
    "#           data.processed$date >= as.Date('2015-01-01') & \n",
    "#           data.processed$date <= as.Date('2015-12-31') \n",
    "#           )\n",
    "#tail(data.processed.2015)\n",
    "\n",
    "#length(na.omit(data.processed.2014$AVG.Cond.))\n",
    "#length(na.omit(data.processed.2015$AVG.Cond.))"
   ]
  },
  {
   "cell_type": "code",
   "execution_count": 8,
   "metadata": {},
   "outputs": [
    {
     "data": {
      "image/png": "[encoded data removed]",
      "text/plain": [
       "Plot with title “Scatter plot”"
      ]
     },
     "metadata": {},
     "output_type": "display_data"
    }
   ],
   "source": [
    "#::GMG::Dibujamos la correlación entre salinidad y conductividad (scatter plot),  \n",
    "#       que nos indica que se puede modelar una relación lineal entre ellas\n",
    "plot(data.processed.2014$AVG.Salinity.,\n",
    "     data.processed.2014$AVG.Cond.,\n",
    "     main='Scatter plot',\n",
    "     xlab='Salinidad',\n",
    "     ylab='Conductividad')"
   ]
  },
  {
   "cell_type": "markdown",
   "metadata": {},
   "source": [
    "**Tarea 2**\n",
    "\n",
    "Construye una función que reciba los vectores “x” e “y” y calcule los valores de los\n",
    "coeficientes que minimizan la función de coste."
   ]
  },
  {
   "cell_type": "code",
   "execution_count": 10,
   "metadata": {},
   "outputs": [],
   "source": [
    "#::GMG::Calculamos la función que resulve los alphas\n",
    "alpha <- function(x,y) {\n",
    "    X <- cbind(rep(1,length(x)),x)\n",
    "    Y <- as.matrix(y)\n",
    "    #Y <- matrix(y,nrow = length(y))\n",
    "    return (solve(t(X) %*% X) %*% t(X) %*% Y)\n",
    "}"
   ]
  },
  {
   "cell_type": "code",
   "execution_count": 11,
   "metadata": {},
   "outputs": [
    {
     "data": {
      "text/html": [
       "'339 339'"
      ],
      "text/latex": [
       "'339 339'"
      ],
      "text/markdown": [
       "'339 339'"
      ],
      "text/plain": [
       "[1] \"339 339\""
      ]
     },
     "metadata": {},
     "output_type": "display_data"
    }
   ],
   "source": [
    "#::GMG::Ahora seleccionamos y limpiamos nuestros vectores de salinidad y conductividad.\n",
    "#       Hay que limpiar los NaNs\n",
    "x.2014 <- na.omit(data.processed.2014$AVG.Salinity.)\n",
    "y.2014 <- na.omit(data.processed.2014$AVG.Cond.)\n",
    "\n",
    "#::GMG::Tras la limpieza nos quedan menos de 365 muestras\n",
    "paste(length(x.2014), length(y.2014))\n",
    "\n",
    "#x.2015 <- na.omit(data.processed.2015$AVG.Salinity.)\n",
    "#y.2015 <- na.omit(data.processed.2015$AVG.Cond.)\n",
    "#length(x.2015)"
   ]
  },
  {
   "cell_type": "code",
   "execution_count": 18,
   "metadata": {},
   "outputs": [
    {
     "name": "stdout",
     "output_type": "stream",
     "text": [
      "[1] -0.02392126  2.24129710\n"
     ]
    }
   ],
   "source": [
    "#::GMG::los coeficientes que minimizan la función de coste son (alpha.0, alpha.1)\n",
    "coeff.2014 <- alpha(x.2014,y.2014)\n",
    "#print(coeff.2014)\n",
    "print(as.vector(coeff.2014))"
   ]
  },
  {
   "cell_type": "markdown",
   "metadata": {},
   "source": [
    "**Tarea 3**\n",
    "\n",
    "Calcula los coeficientes de forma analítica y compara el resultado con los valores obtenidos\n",
    "anteriormente."
   ]
  },
  {
   "cell_type": "code",
   "execution_count": 20,
   "metadata": {},
   "outputs": [
    {
     "name": "stdout",
     "output_type": "stream",
     "text": [
      "[1] -0.02392126  2.24129710\n"
     ]
    }
   ],
   "source": [
    "alpha.1 <- sum((x.2014 - mean(x.2014))*(y.2014 - mean(y.2014))) / sum((x.2014 - mean(x.2014))^2)\n",
    "alpha.0 <- mean(y.2014) - alpha.1*mean(x.2014)\n",
    "coeff.2014.analytic <- c(alpha.0, alpha.1)\n",
    "print(as.vector(coeff.2014.analytic))"
   ]
  },
  {
   "cell_type": "markdown",
   "metadata": {},
   "source": [
    "**Tarea 4**\n",
    "\n",
    "Compara ambos resultados con el obtenido mediante la función “lm” implementada en R."
   ]
  },
  {
   "cell_type": "code",
   "execution_count": 28,
   "metadata": {},
   "outputs": [
    {
     "name": "stdout",
     "output_type": "stream",
     "text": [
      "(Intercept)      x.2014 \n",
      "-0.02392126  2.24129710 \n"
     ]
    }
   ],
   "source": [
    "model <- lm(y.2014 ~ x.2014)\n",
    "#model$coefficients\n",
    "print(c(model$coefficients['(Intercept)'],c(model$coefficients['x.2014'])))"
   ]
  },
  {
   "cell_type": "markdown",
   "metadata": {},
   "source": [
    "### 2. Regresión no lineal"
   ]
  }
 ],
 "metadata": {
  "kernelspec": {
   "display_name": "R",
   "language": "R",
   "name": "ir"
  },
  "language_info": {
   "codemirror_mode": "r",
   "file_extension": ".r",
   "mimetype": "text/x-r-source",
   "name": "R",
   "pygments_lexer": "r",
   "version": "3.4.4"
  }
 },
 "nbformat": 4,
 "nbformat_minor": 2
}
