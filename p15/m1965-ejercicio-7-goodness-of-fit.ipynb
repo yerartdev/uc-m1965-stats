{
 "cells": [
  {
   "cell_type": "markdown",
   "metadata": {},
   "source": [
    "# Alumno: Gerardo de Miguel González"
   ]
  },
  {
   "cell_type": "markdown",
   "metadata": {},
   "source": [
    "1.- Escribe una función que tenga como input un vector x con valores distribuidos uniformemente, y unos parámetros a, b, m y n; y que devuelva como output una matriz cuya primera columna sea y = a + b x más un término estocástico sacado de una gaussiana con sigma = m + n*x^2; y la segunda columna el error sigma = m + n*x^2. "
   ]
  },
  {
   "cell_type": "code",
   "execution_count": 40,
   "metadata": {},
   "outputs": [],
   "source": [
    "#::GMG::Creo la función de muestras con ruido gausiano con sigma variable\n",
    "#::nota::La misma que la del ejercicio 6 ;)\n",
    "muestras <- function(x, a, b, m, n) {   \n",
    "    sigma <- m + n * x ** 2\n",
    "    y <- a + b * x + rnorm(x, 0, sigma)\n",
    "    Y <- cbind(y, sigma)\n",
    "    return (Y)\n",
    "}"
   ]
  },
  {
   "cell_type": "markdown",
   "metadata": {},
   "source": [
    "2.- Escribe otra función que haga lo mismo que la anterior pero con un parámetro más “c” de tal forma que haga lo mismo pero con un modelo y = a + b x + c x^2."
   ]
  },
  {
   "cell_type": "code",
   "execution_count": 41,
   "metadata": {},
   "outputs": [],
   "source": [
    "#::GMG::Modificamos la función anterior\n",
    "muestras_2 <- function(x, a, b, c, m, n) {   \n",
    "    sigma <- m + n * x ** 2\n",
    "    y <- a + b * x + c*x^2 + rnorm(x, 0, sigma)\n",
    "    Y <- cbind(y, sigma)\n",
    "    return (Y)\n",
    "}"
   ]
  },
  {
   "cell_type": "markdown",
   "metadata": {},
   "source": [
    "3.- Usando como valores a = 1, b = 2, m = 0.1 y n = 0.04 para el modelo de la primera función: calcula los parámetros para las que el likelihood es máximo asumiendo un modelo con dos parámetros y = a + b x. Calcula el valor del chi2 y calcula el nivel de confianza con el que rechazaríamos este ajuste.  "
   ]
  },
  {
   "cell_type": "code",
   "execution_count": 42,
   "metadata": {},
   "outputs": [],
   "source": [
    "#::GMG:: uso la solución analítica según slide 7 Chapter 6 apuntes pdf en moodle\n",
    "#::nota::la misma que el ejercicio antenrior ;)\n",
    "thetas <- function(x,y, sigma) {\n",
    "    i <- rep(1, length(y))\n",
    "    X <- cbind(i,x)\n",
    "    Cov_y <- sigma^2*diag(x = 1, nrow = length(sigma))\n",
    "    Theta <- solve(t(X) %*% solve(Cov_y) %*% X) %*% (t(X) %*% solve(Cov_y)) %*% y\n",
    "    return(Theta)\n",
    "}"
   ]
  },
  {
   "cell_type": "code",
   "execution_count": 43,
   "metadata": {},
   "outputs": [],
   "source": [
    "#::GMG::Hacemos el experimento reproducible\n",
    "set.seed(1)"
   ]
  },
  {
   "cell_type": "code",
   "execution_count": 44,
   "metadata": {},
   "outputs": [],
   "source": [
    "#::GMG::Calculo un vector aleatorio de 100 elementos de 0 a 10\n",
    "x <- sample(x = seq(from = 0, to = 10, length.out = 100), replace=FALSE)"
   ]
  },
  {
   "cell_type": "code",
   "execution_count": 45,
   "metadata": {},
   "outputs": [],
   "source": [
    "#::GMG::Genero la matriz de muestras Y, Sigma\n",
    "Y <- muestras(x = x, a = 1, b = 2, m = 0.1, n = 0.04)"
   ]
  },
  {
   "cell_type": "code",
   "execution_count": 46,
   "metadata": {},
   "outputs": [],
   "source": [
    "#::GMG::Calculo los thetas MLE de la recta de ajuste\n",
    "T <- thetas(x = x, y = Y[,1], sigma = Y[,2])"
   ]
  },
  {
   "cell_type": "code",
   "execution_count": 47,
   "metadata": {},
   "outputs": [
    {
     "name": "stdout",
     "output_type": "stream",
     "text": [
      "      [,1]\n",
      "i 0.983816\n",
      "x 2.013640\n"
     ]
    }
   ],
   "source": [
    "#::GMG::Los prámetros theta\n",
    "print(T)"
   ]
  },
  {
   "cell_type": "code",
   "execution_count": 48,
   "metadata": {},
   "outputs": [],
   "source": [
    "#::GMG::Calculamos el estadístico distribuido como chi^2\n",
    "#::nota::slide 4 apuntes Chapter 7 Moodle\n",
    "chi_sq <- sum(((Y[,1] - cbind(1,x) %*% T) / Y[,2])**2)"
   ]
  },
  {
   "cell_type": "code",
   "execution_count": 49,
   "metadata": {},
   "outputs": [
    {
     "data": {
      "text/html": [
       "'El estadístico es 87.25'"
      ],
      "text/latex": [
       "'El estadístico es 87.25'"
      ],
      "text/markdown": [
       "'El estadístico es 87.25'"
      ],
      "text/plain": [
       "[1] \"El estadístico es 87.25\""
      ]
     },
     "metadata": {},
     "output_type": "display_data"
    }
   ],
   "source": [
    "paste('El estadístico es', round(chi_sq,2))"
   ]
  },
  {
   "cell_type": "code",
   "execution_count": 51,
   "metadata": {},
   "outputs": [
    {
     "data": {
      "text/html": [
       "'Rechazamos el modelo con una confianza del 77.33 %'"
      ],
      "text/latex": [
       "'Rechazamos el modelo con una confianza del 77.33 \\%'"
      ],
      "text/markdown": [
       "'Rechazamos el modelo con una confianza del 77.33 %'"
      ],
      "text/plain": [
       "[1] \"Rechazamos el modelo con una confianza del 77.33 %\""
      ]
     },
     "metadata": {},
     "output_type": "display_data"
    }
   ],
   "source": [
    "#::GMG::\"Solemos decir que rechazamos el modelo con una confianza del 100 * (1-α)%\"\n",
    "#       \"α es el p-value calculado com pchisq(estasístico calculado de las observaciones, grados de libertad)\"\n",
    "#       \"Grados de libertad es N_obs - N_thetas\"\n",
    "#::nota::slide 8 Chapter 7 Apuntes Moodle\n",
    "# https://stat.ethz.ch/R-manual/R-devel/library/stats/html/Chisquare.html\n",
    "#::DUDA::No entiendo el concepto aquí de p-value de chi^2, alpha, confianza y rechazo del modelo\n",
    "df <- length(x) - length(T)\n",
    "alpha <- pchisq(chi_sq, df)\n",
    "#::nota::esto NO lo entiendo\n",
    "paste('Rechazamos el modelo con una confianza del', \n",
    "      round(100* (1 - alpha),2), '%')"
   ]
  },
  {
   "cell_type": "markdown",
   "metadata": {},
   "source": [
    "4.- Repite el paso anterior con el mismo modelo pero usando la segunda función."
   ]
  },
  {
   "cell_type": "code",
   "execution_count": 52,
   "metadata": {},
   "outputs": [],
   "source": [
    "#::GMG::Hacemos el experimento reproducible\n",
    "set.seed(2)"
   ]
  },
  {
   "cell_type": "code",
   "execution_count": 53,
   "metadata": {},
   "outputs": [],
   "source": [
    "#::GMG::Calculo un vector aleatorio de 100 elementos de 0 a 10\n",
    "x <- sample(x = seq(from = 0, to = 10, length.out = 100), replace=FALSE)"
   ]
  },
  {
   "cell_type": "code",
   "execution_count": 54,
   "metadata": {},
   "outputs": [],
   "source": [
    "#::GMG::Genero la matriz de muestras Y, Sigma, esta vez hay componente cuadrático\n",
    "#::nota::no se especifica el valor de c en el enunciado así que elijo un valor arbitrario\n",
    "Y <- muestras_2(x = x, a = 1, b = 2, c = 0.065, m = 0.1, n = 0.04)"
   ]
  },
  {
   "cell_type": "code",
   "execution_count": 55,
   "metadata": {},
   "outputs": [],
   "source": [
    "#::GMG::Calculo los thetas MLE de la recta de ajuste\n",
    "T <- thetas(x = x, y = Y[,1], sigma = Y[,2])"
   ]
  },
  {
   "cell_type": "code",
   "execution_count": 56,
   "metadata": {},
   "outputs": [
    {
     "name": "stdout",
     "output_type": "stream",
     "text": [
      "       [,1]\n",
      "i 0.8867089\n",
      "x 2.2880840\n"
     ]
    }
   ],
   "source": [
    "#::GMG::Los prámetros theta\n",
    "print(T)"
   ]
  },
  {
   "cell_type": "code",
   "execution_count": 57,
   "metadata": {},
   "outputs": [],
   "source": [
    "#::GMG::Calculamos el estadístico distribuido como chi^2\n",
    "#::nota::slide 4 apuntes Chapter 7 Moodle\n",
    "chi_sq <- sum(((Y[,1] - cbind(1,x) %*% T) / Y[,2])**2)"
   ]
  },
  {
   "cell_type": "code",
   "execution_count": 58,
   "metadata": {},
   "outputs": [
    {
     "data": {
      "text/html": [
       "'El estadístico es 153.56'"
      ],
      "text/latex": [
       "'El estadístico es 153.56'"
      ],
      "text/markdown": [
       "'El estadístico es 153.56'"
      ],
      "text/plain": [
       "[1] \"El estadístico es 153.56\""
      ]
     },
     "metadata": {},
     "output_type": "display_data"
    }
   ],
   "source": [
    "paste('El estadístico es', round(chi_sq,2))"
   ]
  },
  {
   "cell_type": "code",
   "execution_count": 59,
   "metadata": {},
   "outputs": [
    {
     "data": {
      "text/html": [
       "'Rechazamos el modelo con una confianza del 0.03 %'"
      ],
      "text/latex": [
       "'Rechazamos el modelo con una confianza del 0.03 \\%'"
      ],
      "text/markdown": [
       "'Rechazamos el modelo con una confianza del 0.03 %'"
      ],
      "text/plain": [
       "[1] \"Rechazamos el modelo con una confianza del 0.03 %\""
      ]
     },
     "metadata": {},
     "output_type": "display_data"
    }
   ],
   "source": [
    "#::DUDA::No entiendo el concepto aquí de p-value de chi^2, alpha, confianza y rechazo del modelo\n",
    "df <- length(x) - length(T)\n",
    "alpha <- pchisq(chi_sq, df)\n",
    "#::nota::esto NO lo entiendo\n",
    "paste('Rechazamos el modelo con una confianza del', \n",
    "      round(100* (1 - alpha),2), '%')"
   ]
  },
  {
   "cell_type": "markdown",
   "metadata": {},
   "source": [
    "5.- Usando la primera de las funciones anteriores con los valores dados en 3) calcula el valor del likelihood ratio “q” para un modelo con 2 y 3 parámetros. ¿Con qué confidence level podemos aceptar H0? Comenta el resultado: ¿qué modelo es mejor el primero o el segundo?."
   ]
  },
  {
   "cell_type": "code",
   "execution_count": 60,
   "metadata": {},
   "outputs": [],
   "source": [
    "set.seed(3)"
   ]
  },
  {
   "cell_type": "code",
   "execution_count": 61,
   "metadata": {},
   "outputs": [],
   "source": [
    "#::GMG::Calculo un vector aleatorio de 100 elementos de 0 a 10\n",
    "x <- sample(x = seq(from = 0, to = 10, length.out = 100), replace=FALSE)"
   ]
  },
  {
   "cell_type": "code",
   "execution_count": 62,
   "metadata": {},
   "outputs": [],
   "source": [
    "#::GMG::Genero la matriz de muestras Y, Sigma\n",
    "Y <- muestras(x = x, a = 1, b = 2, m = 0.1, n = 0.04)"
   ]
  },
  {
   "cell_type": "code",
   "execution_count": 63,
   "metadata": {},
   "outputs": [],
   "source": [
    "#::GMG::Calculo los thetas MLE de la recta de ajuste (modelo dos parámetros)\n",
    "T_2p <- thetas(x = x, y = Y[,1], sigma = Y[,2])"
   ]
  },
  {
   "cell_type": "code",
   "execution_count": 64,
   "metadata": {},
   "outputs": [
    {
     "name": "stdout",
     "output_type": "stream",
     "text": [
      "      [,1]\n",
      "i 1.028774\n",
      "x 1.994118\n"
     ]
    }
   ],
   "source": [
    "#::GMG::Los prámetros theta\n",
    "print(T_2p)"
   ]
  },
  {
   "cell_type": "code",
   "execution_count": 67,
   "metadata": {},
   "outputs": [],
   "source": [
    "#::GMG::Calculo los thetas MLE con polinomio de ajuste (modelo tres parámetros)\n",
    "T_3p <- thetas(x = cbind(x, x^2), y = Y[,1], sigma = Y[,2])"
   ]
  },
  {
   "cell_type": "code",
   "execution_count": 68,
   "metadata": {},
   "outputs": [
    {
     "name": "stdout",
     "output_type": "stream",
     "text": [
      "        [,1]\n",
      "i  0.9867372\n",
      "x  2.0736007\n",
      "  -0.0171077\n"
     ]
    }
   ],
   "source": [
    "#::GMG::Los prámetros theta\n",
    "print(T_3p)"
   ]
  },
  {
   "cell_type": "code",
   "execution_count": 77,
   "metadata": {},
   "outputs": [
    {
     "data": {
      "text/html": [
       "'80.3991604992706 , 82.9595857319912'"
      ],
      "text/latex": [
       "'80.3991604992706 , 82.9595857319912'"
      ],
      "text/markdown": [
       "'80.3991604992706 , 82.9595857319912'"
      ],
      "text/plain": [
       "[1] \"80.3991604992706 , 82.9595857319912\""
      ]
     },
     "metadata": {},
     "output_type": "display_data"
    }
   ],
   "source": [
    "#::GMG::Estamos en el supuesto de una muestra con relación lineal al que hamos aplicado\n",
    "#       un modelo lineal y un modelo cuadrático que se pueden considerar \"nested\".\n",
    "#       Tenemos que aplicar la regla del 'likelihood ratio' a las thetas MLE de 3p y 2p (Wilks)\n",
    "chi_sq_3p <- sum(((Y[,1] - cbind(1,x, x^2) %*% T_3p) / Y[,2])**2)\n",
    "chi_sq_2p <- sum(((Y[,1] - cbind(1,x) %*% T_2p) / Y[,2])**2)\n",
    "paste(chi_sq_3p,',', chi_sq_2p)"
   ]
  },
  {
   "cell_type": "code",
   "execution_count": 79,
   "metadata": {},
   "outputs": [
    {
     "data": {
      "text/html": [
       "15480.8522196296"
      ],
      "text/latex": [
       "15480.8522196296"
      ],
      "text/markdown": [
       "15480.8522196296"
      ],
      "text/plain": [
       "[1] 15480.85"
      ]
     },
     "metadata": {},
     "output_type": "display_data"
    }
   ],
   "source": [
    "#::GMG::Término constante del Likelihood\n",
    "K <- sum(2*length(x)*log(sqrt(2*pi)*Y[,2]))\n",
    "K"
   ]
  },
  {
   "cell_type": "code",
   "execution_count": 80,
   "metadata": {},
   "outputs": [
    {
     "data": {
      "text/html": [
       "0.999835488550958"
      ],
      "text/latex": [
       "0.999835488550958"
      ],
      "text/markdown": [
       "0.999835488550958"
      ],
      "text/plain": [
       "[1] 0.9998355"
      ]
     },
     "metadata": {},
     "output_type": "display_data"
    }
   ],
   "source": [
    "#::GMG::Calculo el Likelihood ratio de los dos modelos\n",
    "LR <- (chi_sq_3p + K)/(chi_sq_2p + K)\n",
    "LR"
   ]
  },
  {
   "cell_type": "code",
   "execution_count": 82,
   "metadata": {},
   "outputs": [],
   "source": [
    "#::GMG::Calculo el p-value de chi^2 con grado 1\n",
    "p_value <- pchisq(q = LR, df = length(T_3p) - length(T_2p))"
   ]
  },
  {
   "cell_type": "code",
   "execution_count": 83,
   "metadata": {},
   "outputs": [
    {
     "data": {
      "text/html": [
       "'El p-value de Chi^2 con 1 grado de libertad (alpha = 0.05): 0.68264968190795'"
      ],
      "text/latex": [
       "'El p-value de Chi\\textasciicircum{}2 con 1 grado de libertad (alpha = 0.05): 0.68264968190795'"
      ],
      "text/markdown": [
       "'El p-value de Chi^2 con 1 grado de libertad (alpha = 0.05): 0.68264968190795'"
      ],
      "text/plain": [
       "[1] \"El p-value de Chi^2 con 1 grado de libertad (alpha = 0.05): 0.68264968190795\""
      ]
     },
     "metadata": {},
     "output_type": "display_data"
    }
   ],
   "source": [
    "paste('El p-value de Chi^2 con 1 grado de libertad (alpha = 0.05):', p_value)"
   ]
  },
  {
   "cell_type": "markdown",
   "metadata": {},
   "source": [
    "**::GMG::** Creo que puesto que tenemos p-value > 0.05 no rechazamos H_0 (el modelo más simple con 2 parámetros)\n",
    "\n",
    "**::DUDA::** No entiendo muy bien ésta parte"
   ]
  }
 ],
 "metadata": {
  "kernelspec": {
   "display_name": "R",
   "language": "R",
   "name": "ir"
  },
  "language_info": {
   "codemirror_mode": "r",
   "file_extension": ".r",
   "mimetype": "text/x-r-source",
   "name": "R",
   "pygments_lexer": "r",
   "version": "3.4.4"
  }
 },
 "nbformat": 4,
 "nbformat_minor": 2
}
