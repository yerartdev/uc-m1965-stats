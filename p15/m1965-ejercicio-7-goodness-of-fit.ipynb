{
 "cells": [
  {
   "cell_type": "markdown",
   "metadata": {},
   "source": [
    "1.- Escribe una función que tenga como input un vector x con valores distribuidos uniformemente, y unos parámetros a, b, m y n; y que devuelva como output una matriz cuya primera columna sea y = a + b x más un término estocástico sacado de una gaussiana con sigma = c + d*x^2; y la segunda columna el error sigma = m + n*x^2. "
   ]
  },
  {
   "cell_type": "code",
   "execution_count": null,
   "metadata": {},
   "outputs": [],
   "source": []
  },
  {
   "cell_type": "markdown",
   "metadata": {},
   "source": [
    "2.- Escribe otra función que haga lo mismo que la anterior pero con un parámetro más “c” de tal forma que haga lo mismo pero con un modelo y = a + b x + c x^2."
   ]
  },
  {
   "cell_type": "code",
   "execution_count": null,
   "metadata": {},
   "outputs": [],
   "source": []
  },
  {
   "cell_type": "markdown",
   "metadata": {},
   "source": [
    "3.- Usando como valores a = 1, b = 2, m = 0.1 y n = 0.04 para el modelo de la primera función: calcula los parámetros para las que el likelihood es máximo asumiendo un modelo con dos parámetros y = a + b x. Calcula el valor del chi2 y calcula el nivel de confianza con el que rechazaríamos este ajuste.  "
   ]
  },
  {
   "cell_type": "code",
   "execution_count": null,
   "metadata": {},
   "outputs": [],
   "source": []
  },
  {
   "cell_type": "markdown",
   "metadata": {},
   "source": [
    "4.- Repite el paso anterior con el mismo modelo pero usando la segunda función."
   ]
  },
  {
   "cell_type": "code",
   "execution_count": null,
   "metadata": {},
   "outputs": [],
   "source": []
  },
  {
   "cell_type": "markdown",
   "metadata": {},
   "source": [
    "5.- Usando la primera de las funciones anteriores con los valores dados en 3) calcula el valor del likelihood ratio “q” para un modelo con 2 y 3 parámetros. ¿Con qué confidence level podemos aceptar H0? Comenta el resultado: ¿qué modelo es mejor el primero o el segundo?."
   ]
  },
  {
   "cell_type": "code",
   "execution_count": null,
   "metadata": {},
   "outputs": [],
   "source": []
  }
 ],
 "metadata": {
  "kernelspec": {
   "display_name": "R",
   "language": "R",
   "name": "ir"
  },
  "language_info": {
   "codemirror_mode": "r",
   "file_extension": ".r",
   "mimetype": "text/x-r-source",
   "name": "R",
   "pygments_lexer": "r",
   "version": "3.4.4"
  }
 },
 "nbformat": 4,
 "nbformat_minor": 2
}
