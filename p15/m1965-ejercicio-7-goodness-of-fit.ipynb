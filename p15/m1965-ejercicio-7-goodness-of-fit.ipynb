{
 "cells": [
  {
   "cell_type": "markdown",
   "metadata": {},
   "source": [
    "# Alumno: Gerardo de Miguel González"
   ]
  },
  {
   "cell_type": "markdown",
   "metadata": {},
   "source": [
    "1.- Escribe una función que tenga como input un vector x con valores distribuidos uniformemente, y unos parámetros a, b, m y n; y que devuelva como output una matriz cuya primera columna sea y = a + b x más un término estocástico sacado de una gaussiana con sigma = m + n*x^2; y la segunda columna el error sigma = m + n*x^2. "
   ]
  },
  {
   "cell_type": "code",
   "execution_count": 1,
   "metadata": {},
   "outputs": [],
   "source": [
    "#::GMG::Creo la función de muestras con ruido gausiano con sigma variable\n",
    "#::nota::La misma que la del ejercicio 6 ;)\n",
    "muestras <- function(x, a, b, m, n) {   \n",
    "    sigma <- m + n * x ** 2\n",
    "    y <- a + b * x + rnorm(x, 0, sigma)\n",
    "    Y <- cbind(y, sigma)\n",
    "    return (Y)\n",
    "}"
   ]
  },
  {
   "cell_type": "markdown",
   "metadata": {},
   "source": [
    "2.- Escribe otra función que haga lo mismo que la anterior pero con un parámetro más “c” de tal forma que haga lo mismo pero con un modelo y = a + b x + c x^2."
   ]
  },
  {
   "cell_type": "code",
   "execution_count": 2,
   "metadata": {},
   "outputs": [],
   "source": [
    "#::GMG::Modificamos la función anterior\n",
    "muestras_2 <- function(x, a, b, c, m, n) {   \n",
    "    sigma <- m + n * x ** 2\n",
    "    y <- a + b * x + c*x^2 + rnorm(x, 0, sigma)\n",
    "    Y <- cbind(y, sigma)\n",
    "    return (Y)\n",
    "}"
   ]
  },
  {
   "cell_type": "markdown",
   "metadata": {},
   "source": [
    "3.- Usando como valores a = 1, b = 2, m = 0.1 y n = 0.04 para el modelo de la primera función: calcula los parámetros para las que el likelihood es máximo asumiendo un modelo con dos parámetros y = a + b x. Calcula el valor del chi2 y calcula el nivel de confianza con el que rechazaríamos este ajuste.  "
   ]
  },
  {
   "cell_type": "code",
   "execution_count": 3,
   "metadata": {},
   "outputs": [],
   "source": [
    "#::GMG:: uso la solución analítica según slide 7 Chapter 6 apuntes pdf en moodle\n",
    "#::nota::la misma que el ejercicio antenrior ;)\n",
    "thetas <- function(x,y, sigma) {\n",
    "    i <- rep(1, length(y))\n",
    "    X <- cbind(i,x)\n",
    "    Cov_y <- sigma^2*diag(x = 1, nrow = length(sigma))\n",
    "    Theta <- solve(t(X) %*% solve(Cov_y) %*% X) %*% (t(X) %*% solve(Cov_y)) %*% y\n",
    "    return(Theta)\n",
    "}"
   ]
  },
  {
   "cell_type": "code",
   "execution_count": 13,
   "metadata": {},
   "outputs": [],
   "source": [
    "#::GMG::Hacemos el experimento reproducible\n",
    "set.seed(1)"
   ]
  },
  {
   "cell_type": "code",
   "execution_count": 20,
   "metadata": {},
   "outputs": [],
   "source": [
    "#::GMG::Calculo un vector aleatorio de 100 elementos de 0 a 10\n",
    "x <- sample(x = seq(from = 0, to = 10, length.out = 100), replace=FALSE)"
   ]
  },
  {
   "cell_type": "code",
   "execution_count": 21,
   "metadata": {},
   "outputs": [],
   "source": [
    "#::GMG::Genero la matriz de muestras Y, Sigma\n",
    "Y <- muestras(x = x, a = 1, b = 2, m = 0.1, n = 0.04)"
   ]
  },
  {
   "cell_type": "code",
   "execution_count": 22,
   "metadata": {},
   "outputs": [],
   "source": [
    "#::GMG::Calculo los thetas MLE de la recta de ajuste\n",
    "T <- thetas(x = x, y = Y[,1], sigma = Y[,2])"
   ]
  },
  {
   "cell_type": "code",
   "execution_count": 23,
   "metadata": {},
   "outputs": [
    {
     "name": "stdout",
     "output_type": "stream",
     "text": [
      "      [,1]\n",
      "i 1.012818\n",
      "x 2.011461\n"
     ]
    }
   ],
   "source": [
    "#::GMG::Los prámetros theta\n",
    "print(T)"
   ]
  },
  {
   "cell_type": "code",
   "execution_count": 24,
   "metadata": {},
   "outputs": [],
   "source": [
    "#::GMG::Calculamos el estadístico distribuido como chi^2\n",
    "#::nota::slide 4 apuntes Chapter 7 Moodle\n",
    "chi_sq <- sum(((Y[,1] - cbind(1,x) %*% T) / Y[,2])**2)"
   ]
  },
  {
   "cell_type": "code",
   "execution_count": 25,
   "metadata": {},
   "outputs": [
    {
     "data": {
      "text/html": [
       "'El estadístico es 89.8873421358744'"
      ],
      "text/latex": [
       "'El estadístico es 89.8873421358744'"
      ],
      "text/markdown": [
       "'El estadístico es 89.8873421358744'"
      ],
      "text/plain": [
       "[1] \"El estadístico es 89.8873421358744\""
      ]
     },
     "metadata": {},
     "output_type": "display_data"
    }
   ],
   "source": [
    "paste('El estadístico es', chi_sq)"
   ]
  },
  {
   "cell_type": "code",
   "execution_count": 28,
   "metadata": {},
   "outputs": [
    {
     "data": {
      "text/html": [
       "'Rechazamos el modelo con una confianza del 70.8259278888453 %'"
      ],
      "text/latex": [
       "'Rechazamos el modelo con una confianza del 70.8259278888453 \\%'"
      ],
      "text/markdown": [
       "'Rechazamos el modelo con una confianza del 70.8259278888453 %'"
      ],
      "text/plain": [
       "[1] \"Rechazamos el modelo con una confianza del 70.8259278888453 %\""
      ]
     },
     "metadata": {},
     "output_type": "display_data"
    }
   ],
   "source": [
    "#::GMG::\"Solemos decir que rechazamos el modelo con una confianza del 100 * (1-α)%\"\n",
    "#       \"α es el p-value calculado com pchisq(estasístico calculado de las observaciones, grados de libertad)\"\n",
    "#       \"Grados de libertad es N_obs - N_thetas\"\n",
    "#::nota::slide 8 Chapter 7 Apuntes Moodle\n",
    "# https://stat.ethz.ch/R-manual/R-devel/library/stats/html/Chisquare.html\n",
    "df <- length(x) - length(T)\n",
    "confianza <- 100* (1 - pchisq(chi_sq, df))\n",
    "paste('Rechazamos el modelo con una confianza del', confianza, '%')"
   ]
  },
  {
   "cell_type": "markdown",
   "metadata": {},
   "source": [
    "4.- Repite el paso anterior con el mismo modelo pero usando la segunda función."
   ]
  },
  {
   "cell_type": "code",
   "execution_count": null,
   "metadata": {},
   "outputs": [],
   "source": []
  },
  {
   "cell_type": "markdown",
   "metadata": {},
   "source": [
    "5.- Usando la primera de las funciones anteriores con los valores dados en 3) calcula el valor del likelihood ratio “q” para un modelo con 2 y 3 parámetros. ¿Con qué confidence level podemos aceptar H0? Comenta el resultado: ¿qué modelo es mejor el primero o el segundo?."
   ]
  },
  {
   "cell_type": "code",
   "execution_count": null,
   "metadata": {},
   "outputs": [],
   "source": []
  }
 ],
 "metadata": {
  "kernelspec": {
   "display_name": "R",
   "language": "R",
   "name": "ir"
  },
  "language_info": {
   "codemirror_mode": "r",
   "file_extension": ".r",
   "mimetype": "text/x-r-source",
   "name": "R",
   "pygments_lexer": "r",
   "version": "3.4.4"
  }
 },
 "nbformat": 4,
 "nbformat_minor": 2
}
