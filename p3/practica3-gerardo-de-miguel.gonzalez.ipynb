{
 "cells": [
  {
   "cell_type": "markdown",
   "metadata": {
    "collapsed": true
   },
   "source": [
    "# Gerardo de Miguel González\n",
    "\n",
    "## Práctica 3 de Estadística para Data Science"
   ]
  },
  {
   "cell_type": "markdown",
   "metadata": {},
   "source": [
    "### Problema 1 \n",
    "\n",
    "*Estamos esperando un tren que llegará en los próximos 100 minutos pero desconocemos el momento exacto. Definimos la variable aleatoria X = “tiempo de espera en minutos”.*\n",
    "\n",
    "Realiza las siguientes tareas:"
   ]
  },
  {
   "cell_type": "markdown",
   "metadata": {},
   "source": [
    "i) Considera que X es una variable aleatoria uniforme en el intervalo [0, 100]. ¿Cuánto vale\n",
    "E(X) y Var(X)?\n",
    "\n",
    "**::GMG::** Apuntes de estadísica (pdf) *4.2. Distribución Uniforme continua* pp.26-27. Ver también: https://en.wikipedia.org/wiki/Uniform_distribution_(continuous)#Properties\n",
    "\n",
    "$f(x|a,b)=  \\begin{cases} \n",
    "      \\frac{1}{b-a} & a\\leq x\\leq b \\\\\n",
    "      0 & otherwise \\\\\n",
    "   \\end{cases}$\n",
    "\n",
    "$E(X) = \\frac{b+a}{2}$\n",
    "\n",
    "$Var(X) = \\frac{(b-a)^2}{12}$\n",
    "\n",
    "Comandos de R: `dunif` (pdf), `punif` (CDF), `qunif` ($CDF^{-1}$), `runif` (sim)"
   ]
  },
  {
   "cell_type": "code",
   "execution_count": 20,
   "metadata": {},
   "outputs": [
    {
     "data": {
      "image/png": "[encoded data removed]",
      "text/plain": [
       "Plot with title “pdf ~ U(0,100)”"
      ]
     },
     "metadata": {},
     "output_type": "display_data"
    }
   ],
   "source": [
    "#::GMG::La dbujo\n",
    "# http://msenux2.redwoods.edu/MathDept/R/ContinuousDistributions.php\n",
    "a <- 0\n",
    "b <- 100\n",
    "x <- seq(a, b, length = 2*b)\n",
    "y <- dunif(x, min = a,max = b)\n",
    "plot(x, y, type=\"l\", \n",
    "     xlim = c(0,100), ylim = c(0,1.5/b),\n",
    "     lwd = 2,col = 'red', \n",
    "     xlab = 'tiempo (minutos)', ylab = 'probabilidad',\n",
    "     main = 'pdf ~ U(0,100)',\n",
    "     sub = 'El área de la zona sombreada es  1.'\n",
    "    )\n",
    "polygon(c(a,x,b),\n",
    "        c(0,y,0),\n",
    "        col='lightgray', \n",
    "        border=NA\n",
    "       )\n",
    "lines(x, y, type = 'l',\n",
    "      lwd = 2, col = \"red\")"
   ]
  },
  {
   "cell_type": "code",
   "execution_count": 1,
   "metadata": {},
   "outputs": [
    {
     "data": {
      "text/html": [
       "'E(X) = 50 minutos'"
      ],
      "text/latex": [
       "'E(X) = 50 minutos'"
      ],
      "text/markdown": [
       "'E(X) = 50 minutos'"
      ],
      "text/plain": [
       "[1] \"E(X) = 50 minutos\""
      ]
     },
     "metadata": {},
     "output_type": "display_data"
    },
    {
     "data": {
      "text/html": [
       "<span style=white-space:pre-wrap>'Var(X)  = 833.333 minutos^2'</span>"
      ],
      "text/latex": [
       "'Var(X)  = 833.333 minutos\\textasciicircum{}2'"
      ],
      "text/markdown": [
       "<span style=white-space:pre-wrap>'Var(X)  = 833.333 minutos^2'</span>"
      ],
      "text/plain": [
       "[1] \"Var(X)  = 833.333 minutos^2\""
      ]
     },
     "metadata": {},
     "output_type": "display_data"
    }
   ],
   "source": [
    "#::GMG:: El tiempo de espera es una variable aleatoria uniforme continua en el intervalo [0,100]\n",
    "#        X ~ U (a,b)\n",
    "#        La media matemática (el tiempo medio de espera) y la varianza matemática, en minutos \n",
    "#        y minutos al cuadrado son las siguientes ...\n",
    "paste('E(X) =', (b+a)/2, 'minutos')\n",
    "paste('Var(X)  =', round((b-a)^2/12,3), 'minutos^2')"
   ]
  },
  {
   "cell_type": "code",
   "execution_count": 2,
   "metadata": {},
   "outputs": [
    {
     "data": {
      "text/html": [
       "'E(X) = 50 minutos'"
      ],
      "text/latex": [
       "'E(X) = 50 minutos'"
      ],
      "text/markdown": [
       "'E(X) = 50 minutos'"
      ],
      "text/plain": [
       "[1] \"E(X) = 50 minutos\""
      ]
     },
     "metadata": {},
     "output_type": "display_data"
    }
   ],
   "source": [
    "#::GMG::Lo ponedmos calcular según la definición de E(X) en pp. 20-21, apartado 3.10 de los\n",
    "#       aountes\n",
    "f <- function(x) {1/(b-a)}\n",
    "E.x <- integrate(f = function (x) {x*f(x)},\n",
    "                 lower = a, \n",
    "                 upper = b\n",
    "                )\n",
    "paste('E(X) =', E.x$value, 'minutos')"
   ]
  },
  {
   "cell_type": "code",
   "execution_count": 3,
   "metadata": {},
   "outputs": [
    {
     "data": {
      "text/html": [
       "<span style=white-space:pre-wrap>'Var(X)  = 833.333 minutos^2'</span>"
      ],
      "text/latex": [
       "'Var(X)  = 833.333 minutos\\textasciicircum{}2'"
      ],
      "text/markdown": [
       "<span style=white-space:pre-wrap>'Var(X)  = 833.333 minutos^2'</span>"
      ],
      "text/plain": [
       "[1] \"Var(X)  = 833.333 minutos^2\""
      ]
     },
     "metadata": {},
     "output_type": "display_data"
    }
   ],
   "source": [
    "#::GMG::Según la definición de Var(X) = E(X^2) - E(X)^2 en pp. 22-23, apartado 3.13 de los\n",
    "#       apuntes\n",
    "E.x.2 <- integrate(f = function (x) {x^2*f(x)},\n",
    "                   lower = a, \n",
    "                   upper = b\n",
    "                 )\n",
    "Var.x = E.x.2$value - E.x$value^2\n",
    "paste('Var(X)  =', round(Var.x,3), 'minutos^2')"
   ]
  },
  {
   "cell_type": "code",
   "execution_count": 4,
   "metadata": {},
   "outputs": [
    {
     "data": {
      "text/html": [
       "'E(X) = 50 minutos'"
      ],
      "text/latex": [
       "'E(X) = 50 minutos'"
      ],
      "text/markdown": [
       "'E(X) = 50 minutos'"
      ],
      "text/plain": [
       "[1] \"E(X) = 50 minutos\""
      ]
     },
     "metadata": {},
     "output_type": "display_data"
    }
   ],
   "source": [
    "#::GMG:: Usando la función de R para la pdf de X ~ U (a,b), i.e dunif()\n",
    "# https://www.rdocumentation.org/packages/stats/versions/3.5.1/topics/Uniform\n",
    "E.x.alt <- integrate(f = function (x) {x*dunif(x,a,b)},\n",
    "                 lower = a, \n",
    "                 upper = b\n",
    "                )\n",
    "paste('E(X) =', E.x.alt$value, 'minutos')"
   ]
  },
  {
   "cell_type": "code",
   "execution_count": 5,
   "metadata": {},
   "outputs": [
    {
     "data": {
      "text/html": [
       "<span style=white-space:pre-wrap>'Var(X)  = 833.333 minutos^2'</span>"
      ],
      "text/latex": [
       "'Var(X)  = 833.333 minutos\\textasciicircum{}2'"
      ],
      "text/markdown": [
       "<span style=white-space:pre-wrap>'Var(X)  = 833.333 minutos^2'</span>"
      ],
      "text/plain": [
       "[1] \"Var(X)  = 833.333 minutos^2\""
      ]
     },
     "metadata": {},
     "output_type": "display_data"
    }
   ],
   "source": [
    "E.x.2.alt <- integrate(f = function (x) {x^2*dunif(x,a,b)},\n",
    "                   lower = a, \n",
    "                   upper = b\n",
    "                 )\n",
    "Var.x.alt = E.x.2.alt$value - E.x.alt$value^2\n",
    "paste('Var(X)  =', round(Var.x.alt,3), 'minutos^2')"
   ]
  },
  {
   "cell_type": "markdown",
   "metadata": {},
   "source": [
    "ii) Simula los tiempos de espera de una muestra aleatoria de personas con tamaño muestral\n",
    "n = 30 y calcula la media muestral, $\\bar{X}$ y la varianza muestral $S^2$.\n",
    "\n",
    "**::GMG::** Apuntes de estadística Capítulo 5, apartados 5.1 a 5.7, pp. 33-35"
   ]
  },
  {
   "cell_type": "code",
   "execution_count": 6,
   "metadata": {},
   "outputs": [],
   "source": [
    "#::GMG::Para simular los tiempos de espera uso runif directamente ya que tenemos\n",
    "#       todos los datos, una selección aleatoria de 30 individuos de la población y la función\n",
    "#       que genera los valores de la muestra en R que es runif()\n",
    "# ::nota::Fijamos un seed para poder repetir el experimento\n",
    "set.seed(1)\n",
    "X <- runif(n = 30,min = a, max = b)"
   ]
  },
  {
   "cell_type": "code",
   "execution_count": 7,
   "metadata": {},
   "outputs": [
    {
     "data": {
      "text/html": [
       "'Media muestral (n = 30): 50.955 minutos'"
      ],
      "text/latex": [
       "'Media muestral (n = 30): 50.955 minutos'"
      ],
      "text/markdown": [
       "'Media muestral (n = 30): 50.955 minutos'"
      ],
      "text/plain": [
       "[1] \"Media muestral (n = 30): 50.955 minutos\""
      ]
     },
     "metadata": {},
     "output_type": "display_data"
    },
    {
     "data": {
      "text/html": [
       "'Varianza muestral (n = 30): 871.903 minutos^2'"
      ],
      "text/latex": [
       "'Varianza muestral (n = 30): 871.903 minutos\\textasciicircum{}2'"
      ],
      "text/markdown": [
       "'Varianza muestral (n = 30): 871.903 minutos^2'"
      ],
      "text/plain": [
       "[1] \"Varianza muestral (n = 30): 871.903 minutos^2\""
      ]
     },
     "metadata": {},
     "output_type": "display_data"
    }
   ],
   "source": [
    "#::GMG::La media muestral y la varianza muestral se pueden calcular con R mean() y var()\n",
    "#       ambos son estadísticos calculados a partir de los valores (realización de la muestra) \n",
    "#       de la simulación\n",
    "paste('Media muestral (n = 30):', round(mean(X),3), 'minutos')\n",
    "paste('Varianza muestral (n = 30):', round(var(X),3), 'minutos^2')"
   ]
  },
  {
   "cell_type": "markdown",
   "metadata": {},
   "source": [
    "iii) ¿Cuanto valen E($\\bar{X}$) y Var($\\bar{X}$) para n = 30? Y si aumentaramos a n = 100?\n",
    "\n",
    "**::GMG** Apuntes de estadística *5.3. Media muestral* y *5.4 Teorema central del límite* pp. 34"
   ]
  },
  {
   "cell_type": "code",
   "execution_count": 8,
   "metadata": {},
   "outputs": [
    {
     "data": {
      "text/html": [
       "'Esperanza Matemática (n = 30): 50'"
      ],
      "text/latex": [
       "'Esperanza Matemática (n = 30): 50'"
      ],
      "text/markdown": [
       "'Esperanza Matemática (n = 30): 50'"
      ],
      "text/plain": [
       "[1] \"Esperanza Matemática (n = 30): 50\""
      ]
     },
     "metadata": {},
     "output_type": "display_data"
    },
    {
     "data": {
      "text/html": [
       "'Varianza Matemática (n = 30): 27.778'"
      ],
      "text/latex": [
       "'Varianza Matemática (n = 30): 27.778'"
      ],
      "text/markdown": [
       "'Varianza Matemática (n = 30): 27.778'"
      ],
      "text/plain": [
       "[1] \"Varianza Matemática (n = 30): 27.778\""
      ]
     },
     "metadata": {},
     "output_type": "display_data"
    }
   ],
   "source": [
    "#::GMG::EL estadístico media muestral es una variable aleatoria con su E() y Var()\n",
    "#       El segundo valor matemático depende del tamaño de la muestra\n",
    "#       E(mean(X)) = E(X) y Var(mean(X)) = Var(X)/n\n",
    "#       Para el caso de una muestra de tamaño 30\n",
    "paste('Esperanza Matemática (n = 30):', E.x$value)\n",
    "paste('Varianza Matemática (n = 30):',round(Var.x/30,3))"
   ]
  },
  {
   "cell_type": "code",
   "execution_count": 9,
   "metadata": {},
   "outputs": [
    {
     "data": {
      "text/html": [
       "'Media muestral (n = 100): 51.785 minutos'"
      ],
      "text/latex": [
       "'Media muestral (n = 100): 51.785 minutos'"
      ],
      "text/markdown": [
       "'Media muestral (n = 100): 51.785 minutos'"
      ],
      "text/plain": [
       "[1] \"Media muestral (n = 100): 51.785 minutos\""
      ]
     },
     "metadata": {},
     "output_type": "display_data"
    },
    {
     "data": {
      "text/html": [
       "'Varianza muestral (n = 100): 716.016 minutos^2'"
      ],
      "text/latex": [
       "'Varianza muestral (n = 100): 716.016 minutos\\textasciicircum{}2'"
      ],
      "text/markdown": [
       "'Varianza muestral (n = 100): 716.016 minutos^2'"
      ],
      "text/plain": [
       "[1] \"Varianza muestral (n = 100): 716.016 minutos^2\""
      ]
     },
     "metadata": {},
     "output_type": "display_data"
    },
    {
     "data": {
      "text/html": [
       "'Esperanza Matemática (n = 100): 50'"
      ],
      "text/latex": [
       "'Esperanza Matemática (n = 100): 50'"
      ],
      "text/markdown": [
       "'Esperanza Matemática (n = 100): 50'"
      ],
      "text/plain": [
       "[1] \"Esperanza Matemática (n = 100): 50\""
      ]
     },
     "metadata": {},
     "output_type": "display_data"
    },
    {
     "data": {
      "text/html": [
       "'Varianza Matemática (n = 100): 8.333'"
      ],
      "text/latex": [
       "'Varianza Matemática (n = 100): 8.333'"
      ],
      "text/markdown": [
       "'Varianza Matemática (n = 100): 8.333'"
      ],
      "text/plain": [
       "[1] \"Varianza Matemática (n = 100): 8.333\""
      ]
     },
     "metadata": {},
     "output_type": "display_data"
    }
   ],
   "source": [
    "#::GMG::Para el caso de una muestra de tamaño 100 vemos que se reduce proporcionalmente\n",
    "#       la varianza matemática del estadístico\n",
    "set.seed(1)\n",
    "X.100 <- runif(n = 100,min = a, max = b)\n",
    "paste('Media muestral (n = 100):', round(mean(X.100),3), 'minutos')\n",
    "paste('Varianza muestral (n = 100):', round(var(X.100),3), 'minutos^2')\n",
    "paste('Esperanza Matemática (n = 100):', E.x$value)\n",
    "paste('Varianza Matemática (n = 100):',round(Var.x/100,3))"
   ]
  },
  {
   "cell_type": "markdown",
   "metadata": {},
   "source": [
    "iv) Simula 500 muestras aleatorias de tamaño = 30 de la variable X. Recomendación: Introduce las muestras en una matriz de 30 filas y 500 columnas."
   ]
  },
  {
   "cell_type": "code",
   "execution_count": 10,
   "metadata": {},
   "outputs": [
    {
     "data": {
      "text/html": [
       "<ol class=list-inline>\n",
       "\t<li>30</li>\n",
       "\t<li>500</li>\n",
       "</ol>\n"
      ],
      "text/latex": [
       "\\begin{enumerate*}\n",
       "\\item 30\n",
       "\\item 500\n",
       "\\end{enumerate*}\n"
      ],
      "text/markdown": [
       "1. 30\n",
       "2. 500\n",
       "\n",
       "\n"
      ],
      "text/plain": [
       "[1]  30 500"
      ]
     },
     "metadata": {},
     "output_type": "display_data"
    }
   ],
   "source": [
    "#::GMG::Ahora tenemos 500 realizaciones de una muestra aleatoria de tamaño 30\n",
    "set.seed(1)\n",
    "tamaño <- 30\n",
    "muestras <- 500\n",
    "M.x.30 <- matrix(data = runif(n = tamaño*muestras, min = a, max = b), \n",
    "                 nrow = tamaño, ncol = muestras, byrow = TRUE)\n",
    "dim(M.x.30)"
   ]
  },
  {
   "cell_type": "markdown",
   "metadata": {},
   "source": [
    "v) Calcula las 500 medias muestrales, es decir $\\bar{X}_1$, $\\bar{X}_2$, ... $\\bar{X}_{500}$. Recomendación: Utiliza el comando `colMeans`."
   ]
  },
  {
   "cell_type": "code",
   "execution_count": 11,
   "metadata": {},
   "outputs": [
    {
     "name": "stdout",
     "output_type": "stream",
     "text": [
      " num [1:500] 48.4 54.9 48.3 50.3 50.3 ...\n"
     ]
    }
   ],
   "source": [
    "#::GMG::Calculamos el estadístico media muestral de cada una de las realizaciones\n",
    "#       con lo que tendremos 500 valores del estadístico de la media del tiempo de espera\n",
    "media.M.x.30 <- colMeans(M.x.30)\n",
    "str(media.M.x.30)"
   ]
  },
  {
   "cell_type": "code",
   "execution_count": 12,
   "metadata": {},
   "outputs": [
    {
     "name": "stdout",
     "output_type": "stream",
     "text": [
      " num [1:500] 48.4 54.9 48.3 50.3 50.3 ...\n"
     ]
    }
   ],
   "source": [
    "#::GMG::También se puede practicar con apply() y mean() :)\n",
    "media.M.x.30.alt <- apply(X = M.x.30, MARGIN = 2,FUN = mean)\n",
    "str(media.M.x.30.alt)"
   ]
  },
  {
   "cell_type": "markdown",
   "metadata": {},
   "source": [
    "vi) Calcula la media y varianza de las 500 medias muestrales y comparalas con los valores\n",
    "obtenidos en el tercer apartado."
   ]
  },
  {
   "cell_type": "code",
   "execution_count": 23,
   "metadata": {},
   "outputs": [
    {
     "data": {
      "text/html": [
       "<span style=white-space:pre-wrap>'Media  X_bar (500,30): 49.98 minutos'</span>"
      ],
      "text/latex": [
       "'Media  X\\_bar (500,30): 49.98 minutos'"
      ],
      "text/markdown": [
       "<span style=white-space:pre-wrap>'Media  X_bar (500,30): 49.98 minutos'</span>"
      ],
      "text/plain": [
       "[1] \"Media  X_bar (500,30): 49.98 minutos\""
      ]
     },
     "metadata": {},
     "output_type": "display_data"
    },
    {
     "data": {
      "text/html": [
       "<span style=white-space:pre-wrap>'Varianza  X_bar (500,30): 27.789 minutos^2'</span>"
      ],
      "text/latex": [
       "'Varianza  X\\_bar (500,30): 27.789 minutos\\textasciicircum{}2'"
      ],
      "text/markdown": [
       "<span style=white-space:pre-wrap>'Varianza  X_bar (500,30): 27.789 minutos^2'</span>"
      ],
      "text/plain": [
       "[1] \"Varianza  X_bar (500,30): 27.789 minutos^2\""
      ]
     },
     "metadata": {},
     "output_type": "display_data"
    }
   ],
   "source": [
    "#::GMG::Ahora tenemos una muestra de tamaño 500 de una variable aleatoria \"tiempo medio de espera\"\n",
    "#       que es un estadístico de centralidad del tiempo de espera en minutos. \n",
    "#::GMG::Podemos interpretar que tomando ese número elevado de muestras vamos a reducir la varianza\n",
    "#       del estadístico y su valor medio va a converger al valor de E(X)\n",
    "media.30 <- mean(media.M.x.30) \n",
    "varianza.30 <- var(media.M.x.30)\n",
    "paste('Media  X_bar (500,30):', round(media.30,3), 'minutos')\n",
    "paste('Varianza  X_bar (500,30):', round(varianza.30,3), 'minutos^2')"
   ]
  },
  {
   "cell_type": "markdown",
   "metadata": {},
   "source": [
    "vii) Repite los tres pasos anteriores para 500 muestras aleatorias de tamaño n = 100."
   ]
  },
  {
   "cell_type": "code",
   "execution_count": 28,
   "metadata": {},
   "outputs": [
    {
     "data": {
      "text/html": [
       "<ol class=list-inline>\n",
       "\t<li>100</li>\n",
       "\t<li>500</li>\n",
       "</ol>\n"
      ],
      "text/latex": [
       "\\begin{enumerate*}\n",
       "\\item 100\n",
       "\\item 500\n",
       "\\end{enumerate*}\n"
      ],
      "text/markdown": [
       "1. 100\n",
       "2. 500\n",
       "\n",
       "\n"
      ],
      "text/plain": [
       "[1] 100 500"
      ]
     },
     "metadata": {},
     "output_type": "display_data"
    }
   ],
   "source": [
    "set.seed(1)\n",
    "tamaño <- 100\n",
    "M.x.100 <- matrix(data = runif(n = tamaño*muestras, min = a, max = b), \n",
    "                 nrow = tamaño, ncol = muestras, byrow = TRUE)\n",
    "dim(M.x.100)"
   ]
  },
  {
   "cell_type": "code",
   "execution_count": 29,
   "metadata": {},
   "outputs": [
    {
     "name": "stdout",
     "output_type": "stream",
     "text": [
      " num [1:500] 50.4 51 47 52.5 47.1 ...\n"
     ]
    }
   ],
   "source": [
    "media.M.x.100 <- colMeans(M.x.100)\n",
    "str(media.M.x.100)"
   ]
  },
  {
   "cell_type": "code",
   "execution_count": 30,
   "metadata": {},
   "outputs": [
    {
     "data": {
      "text/html": [
       "<span style=white-space:pre-wrap>'Media  X_bar (500,100): 50.028 minutos'</span>"
      ],
      "text/latex": [
       "'Media  X\\_bar (500,100): 50.028 minutos'"
      ],
      "text/markdown": [
       "<span style=white-space:pre-wrap>'Media  X_bar (500,100): 50.028 minutos'</span>"
      ],
      "text/plain": [
       "[1] \"Media  X_bar (500,100): 50.028 minutos\""
      ]
     },
     "metadata": {},
     "output_type": "display_data"
    },
    {
     "data": {
      "text/html": [
       "<span style=white-space:pre-wrap>'Varianza  X_bar (500,100): 8.811 minutos^2'</span>"
      ],
      "text/latex": [
       "'Varianza  X\\_bar (500,100): 8.811 minutos\\textasciicircum{}2'"
      ],
      "text/markdown": [
       "<span style=white-space:pre-wrap>'Varianza  X_bar (500,100): 8.811 minutos^2'</span>"
      ],
      "text/plain": [
       "[1] \"Varianza  X_bar (500,100): 8.811 minutos^2\""
      ]
     },
     "metadata": {},
     "output_type": "display_data"
    }
   ],
   "source": [
    "media.100 <- mean(media.M.x.100) \n",
    "varianza.100 <- var(media.M.x.100)\n",
    "paste('Media  X_bar (500,100):', round(media.100,3), 'minutos')\n",
    "paste('Varianza  X_bar (500,100):', round(varianza.100,3), 'minutos^2')"
   ]
  },
  {
   "cell_type": "markdown",
   "metadata": {},
   "source": [
    "viii) Representa las 500 medias de tamaño n = 30 y las 500 medias de tamaño n = 100 mediante\n",
    "dos histogramas en una gráfica de dos paneles."
   ]
  },
  {
   "cell_type": "code",
   "execution_count": 33,
   "metadata": {},
   "outputs": [
    {
     "data": {
      "image/png": "[encoded data removed]",
      "text/plain": [
       "Plot with title “Muestra Tamaño 100”"
      ]
     },
     "metadata": {},
     "output_type": "display_data"
    }
   ],
   "source": [
    "par(mfrow=c(2,1)) \n",
    "hist(media.M.x.30, freq=FALSE,\n",
    "     xlab='Tiempo medio de espera', ylab = 'frecuencia relativa',\n",
    "     xlim = c(35,65),\n",
    "     col = 'darkblue', breaks='FD',\n",
    "     main = 'Muestra Tamaño 30')\n",
    "hist(media.M.x.100, freq=FALSE,\n",
    "     xlab='Tiempo medio de espera', ylab = 'frecuencia relativa',\n",
    "     xlim = c(35,65),\n",
    "     col = 'darkred', breaks='FD',\n",
    "     main = \"Muestra Tamaño 100\")"
   ]
  },
  {
   "cell_type": "markdown",
   "metadata": {},
   "source": [
    "ix) Superpón a cada histograma la función densidad normal con μ = E(X) y $σ^2$ = Var(X)/n."
   ]
  },
  {
   "cell_type": "code",
   "execution_count": 35,
   "metadata": {},
   "outputs": [
    {
     "data": {
      "text/html": [
       "'0 100 100 500'"
      ],
      "text/latex": [
       "'0 100 100 500'"
      ],
      "text/markdown": [
       "'0 100 100 500'"
      ],
      "text/plain": [
       "[1] \"0 100 100 500\""
      ]
     },
     "metadata": {},
     "output_type": "display_data"
    }
   ],
   "source": [
    "paste(a,b,tamaño, muestras)"
   ]
  },
  {
   "cell_type": "code",
   "execution_count": null,
   "metadata": {},
   "outputs": [],
   "source": [
    "# https://stackoverflow.com/questions/9046664/how-to-use-the-function-curve-in-r-to-graph-a-normal-curve\n",
    "par(mfrow=c(2,1)) \n",
    "tamaño <- 30\n",
    "hist(media.M.x.30, freq=FALSE,\n",
    "     xlab='Tiempo medio de espera', ylab = 'frecuencia relativa',\n",
    "     xlim = c(35,65),\n",
    "     col = 'darkblue', breaks='FD',\n",
    "     main = '500 Muestras Tamaño 30')\n",
    "curve(dnorm(x, (b+a)/2, sqrt((b-a)^2/(tamaño*12))), \n",
    "      col = \"lightblue\", lwd = 2, add = TRUE)\n",
    "\n",
    "tamaño <- 100\n",
    "hist(media.M.x.100, freq=FALSE,\n",
    "     xlab='Tiempo medio de espera', ylab = 'frecuencia relativa',\n",
    "     xlim = c(35,65),\n",
    "     col = 'darkred', breaks='FD',\n",
    "     main = \"500 Muestras Tamaño 100\")\n",
    "curve(dnorm(x, (b+a)/2, sqrt((b-a)^2/(tamaño*12))), \n",
    "      col = \"lightred\", lwd = 2, add = TRUE)"
   ]
  },
  {
   "cell_type": "markdown",
   "metadata": {},
   "source": [
    "x) Comenta el resultado."
   ]
  }
 ],
 "metadata": {
  "kernelspec": {
   "display_name": "R",
   "language": "R",
   "name": "ir"
  },
  "language_info": {
   "codemirror_mode": "r",
   "file_extension": ".r",
   "mimetype": "text/x-r-source",
   "name": "R",
   "pygments_lexer": "r",
   "version": "3.4.4"
  }
 },
 "nbformat": 4,
 "nbformat_minor": 2
}
