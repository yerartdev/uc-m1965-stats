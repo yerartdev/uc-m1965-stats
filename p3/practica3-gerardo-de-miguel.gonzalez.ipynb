{
  "cells": [
    {
      "metadata": {
        "collapsed": true
      },
      "cell_type": "markdown",
      "source": "Práctica 3\n\nGerardo de Miguel González"
    },
    {
      "metadata": {
        "trusted": true
      },
      "cell_type": "code",
      "source": "a <- 0\nb <- 100",
      "execution_count": 2,
      "outputs": []
    },
    {
      "metadata": {},
      "cell_type": "markdown",
      "source": "Ver: https://en.wikipedia.org/wiki/Uniform_distribution_(continuous)#Properties"
    },
    {
      "metadata": {
        "trusted": true
      },
      "cell_type": "code",
      "source": "E_X = (a+b)/2\nV_X = ((b-a)**2)/12\nprint (paste('X -> U(a,b): E(X) = ',E_X))\nprint (paste('X -> U(a,b): V(X) = ',V_X))",
      "execution_count": 3,
      "outputs": [
        {
          "output_type": "stream",
          "text": "[1] \"X -> U(a,b): E(X) =  50\"\n[1] \"X -> U(a,b): V(X) =  833.333333333333\"\n",
          "name": "stdout"
        }
      ]
    },
    {
      "metadata": {
        "trusted": true
      },
      "cell_type": "code",
      "source": "n <- 30\nsim_a <- runif(n,a,b)\nprint(paste('Media muestral de 30: ',mean(sim_a)))\nprint(paste('Varianza muestral de 30: ',var(sim_a)))\nprint(paste('Esperanza Matemática de 30: ', E_X))\nprint(paste('Varianza Matemática de 30: ',V_X/n))",
      "execution_count": 4,
      "outputs": [
        {
          "output_type": "stream",
          "text": "[1] \"Media muestral de 30:  50.5288873620642\"\n[1] \"Varianza muestral de 30:  1147.40275364827\"\n[1] \"Esperanza Matemática de 30:  50\"\n[1] \"Varianza Matemática de 30:  27.7777777777778\"\n",
          "name": "stdout"
        }
      ]
    },
    {
      "metadata": {
        "trusted": true
      },
      "cell_type": "code",
      "source": "n <- 100\nsim_b <- runif(n,a,b)\nprint(paste('Media muestral de 100: ',mean(sim_b)))\nprint(paste('Varianza muestral de 100: ',var(sim_b)))\nprint(paste('Esperaza Matemástica E(X) de 100: ',E_X))\nprint(paste('Varianza Matemática VAR (X) 100: ',V_X/n))",
      "execution_count": 5,
      "outputs": [
        {
          "output_type": "stream",
          "text": "[1] \"Media muestral de 100:  55.7126553987619\"\n[1] \"Varianza muestral de 100:  797.759433562734\"\n[1] \"Esperaza Matemástica E(X) de 100:  50\"\n[1] \"Varianza Matemática VAR (X) 100:  8.33333333333333\"\n",
          "name": "stdout"
        }
      ]
    },
    {
      "metadata": {
        "trusted": true
      },
      "cell_type": "code",
      "source": "n <- 30\nrows <- 500\nsim <- runif(n*rows,a,b)\nm <- matrix(sim,rows)\nmedia_muestral <- rowMeans(m)\n",
      "execution_count": 7,
      "outputs": []
    }
  ],
  "metadata": {
    "kernelspec": {
      "name": "r",
      "display_name": "R",
      "language": "R"
    },
    "language_info": {
      "mimetype": "text/x-r-source",
      "name": "R",
      "pygments_lexer": "r",
      "version": "3.4.1",
      "file_extension": ".r",
      "codemirror_mode": "r"
    }
  },
  "nbformat": 4,
  "nbformat_minor": 2
}