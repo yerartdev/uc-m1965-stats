{
 "cells": [
  {
   "cell_type": "markdown",
   "metadata": {
    "collapsed": true
   },
   "source": [
    "# Gerardo de Miguel González\n",
    "\n",
    "## Práctica 3 de Estadística para Data Science"
   ]
  },
  {
   "cell_type": "markdown",
   "metadata": {},
   "source": [
    "### Problema 1 \n",
    "\n",
    "*Estamos esperando un tren que llegar ́a en los pr ́oximos 100 minutos pero descono-\n",
    "cemos el momento exacto. Definimos la variable aleatoria X = “tiempo de espera en minutos”.*\n",
    "\n",
    "Realiza las siguientes tareas:"
   ]
  },
  {
   "cell_type": "markdown",
   "metadata": {},
   "source": [
    "i) Considera que X es una variable aleatoria uniforme en el intervalo [0, 100]. ¿Cuánto vale\n",
    "E(X) y V ar(X)?"
   ]
  },
  {
   "cell_type": "markdown",
   "metadata": {},
   "source": [
    "ii) Simula los tiempos de espera de una muestra aleatoria de personas con tamaño muestral\n",
    "n = 30 y calcula la media muestral, $\\bar{X}$ y la varianza muestral $S^2$."
   ]
  },
  {
   "cell_type": "markdown",
   "metadata": {},
   "source": [
    "iii) ¿Cuanto valen E($\\bar{X}$) y Var($\\bar{X}$) para n = 30? Y si aumentaramos a n = 100?"
   ]
  },
  {
   "cell_type": "markdown",
   "metadata": {},
   "source": [
    "iv) Simula 500 muestras aleatorias de tamaño = 30 de la variable X. Recomendación: Introduce las muestras en una matriz de 30 filas y 500 columnas."
   ]
  },
  {
   "cell_type": "markdown",
   "metadata": {},
   "source": [
    "v) Calcula las 500 medias muestrales, es decir $\\bar{X}_1$, $\\bar{X}_2$, ... $\\bar{X}_{500}$. Recomendación: Utiliza el comando `colMeans`."
   ]
  },
  {
   "cell_type": "markdown",
   "metadata": {},
   "source": [
    "vi) Calcula la media y varianza de las 500 medias muestrales y comparalas con los valores\n",
    "obtenidos en el tercer apartado."
   ]
  },
  {
   "cell_type": "markdown",
   "metadata": {},
   "source": [
    "vii) Repite los tres pasos anteriores para 500 muestras aleatorias de tamaño n = 100."
   ]
  },
  {
   "cell_type": "markdown",
   "metadata": {},
   "source": [
    "viii) Representa las 500 medias de tamaño n = 30 y las 500 medias de tamaño n = 100 mediante\n",
    "dos histogramas en una gráfica de dos paneles."
   ]
  },
  {
   "cell_type": "markdown",
   "metadata": {},
   "source": [
    "ix) Superpón a cada histograma la función densidad normal con μ = E(X) y $σ^2$ = Var(X)/n."
   ]
  },
  {
   "cell_type": "markdown",
   "metadata": {},
   "source": [
    "x) Comenta el resultado."
   ]
  },
  {
   "cell_type": "code",
   "execution_count": 2,
   "metadata": {},
   "outputs": [],
   "source": [
    "a <- 0\n",
    "b <- 100"
   ]
  },
  {
   "cell_type": "markdown",
   "metadata": {},
   "source": [
    "Ver: https://en.wikipedia.org/wiki/Uniform_distribution_(continuous)#Properties"
   ]
  },
  {
   "cell_type": "code",
   "execution_count": 3,
   "metadata": {},
   "outputs": [
    {
     "name": "stdout",
     "output_type": "stream",
     "text": [
      "[1] \"X -> U(a,b): E(X) =  50\"\n",
      "[1] \"X -> U(a,b): V(X) =  833.333333333333\"\n"
     ]
    }
   ],
   "source": [
    "E_X = (a+b)/2\n",
    "V_X = ((b-a)**2)/12\n",
    "print (paste('X -> U(a,b): E(X) = ',E_X))\n",
    "print (paste('X -> U(a,b): V(X) = ',V_X))"
   ]
  },
  {
   "cell_type": "code",
   "execution_count": 4,
   "metadata": {},
   "outputs": [
    {
     "name": "stdout",
     "output_type": "stream",
     "text": [
      "[1] \"Media muestral de 30:  50.5288873620642\"\n",
      "[1] \"Varianza muestral de 30:  1147.40275364827\"\n",
      "[1] \"Esperanza Matemática de 30:  50\"\n",
      "[1] \"Varianza Matemática de 30:  27.7777777777778\"\n"
     ]
    }
   ],
   "source": [
    "n <- 30\n",
    "sim_a <- runif(n,a,b)\n",
    "print(paste('Media muestral de 30: ',mean(sim_a)))\n",
    "print(paste('Varianza muestral de 30: ',var(sim_a)))\n",
    "print(paste('Esperanza Matemática de 30: ', E_X))\n",
    "print(paste('Varianza Matemática de 30: ',V_X/n))"
   ]
  },
  {
   "cell_type": "code",
   "execution_count": 5,
   "metadata": {},
   "outputs": [
    {
     "name": "stdout",
     "output_type": "stream",
     "text": [
      "[1] \"Media muestral de 100:  55.7126553987619\"\n",
      "[1] \"Varianza muestral de 100:  797.759433562734\"\n",
      "[1] \"Esperaza Matemástica E(X) de 100:  50\"\n",
      "[1] \"Varianza Matemática VAR (X) 100:  8.33333333333333\"\n"
     ]
    }
   ],
   "source": [
    "n <- 100\n",
    "sim_b <- runif(n,a,b)\n",
    "print(paste('Media muestral de 100: ',mean(sim_b)))\n",
    "print(paste('Varianza muestral de 100: ',var(sim_b)))\n",
    "print(paste('Esperaza Matemástica E(X) de 100: ',E_X))\n",
    "print(paste('Varianza Matemática VAR (X) 100: ',V_X/n))"
   ]
  },
  {
   "cell_type": "code",
   "execution_count": 7,
   "metadata": {},
   "outputs": [],
   "source": [
    "n <- 30\n",
    "rows <- 500\n",
    "sim <- runif(n*rows,a,b)\n",
    "m <- matrix(sim,rows)\n",
    "media_muestral <- rowMeans(m)\n"
   ]
  }
 ],
 "metadata": {
  "kernelspec": {
   "display_name": "R",
   "language": "R",
   "name": "ir"
  },
  "language_info": {
   "codemirror_mode": "r",
   "file_extension": ".r",
   "mimetype": "text/x-r-source",
   "name": "R",
   "pygments_lexer": "r",
   "version": "3.4.4"
  }
 },
 "nbformat": 4,
 "nbformat_minor": 2
}
