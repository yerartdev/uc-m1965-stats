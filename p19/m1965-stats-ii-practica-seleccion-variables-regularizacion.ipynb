{
 "cells": [
  {
   "cell_type": "markdown",
   "metadata": {},
   "source": [
    "# Selección de variables y regularización\n",
    "_Santander Meteorology Group (21-01-2019)_\n",
    "\n",
    " * [Introducción](#Introducción)\n",
    " * [Base de datos de ejemplo: Breast cancer](#Base-de-datos:-Breast-cancer)\n",
    " * [Modelo lineal completo](#Modelo-lineal-completo)\n",
    " * [Selección de variables](#Selección-de-variables)\n",
    " * [Regularización](#Regularización)"
   ]
  },
  {
   "cell_type": "markdown",
   "metadata": {},
   "source": [
    "## Introducción\n",
    "El objetivo principal de un modelo entrenado es que tenga la capacidad de generalizar, es decir, la capacidad de predecir bien nuevos datos que no formen parte de la muestra de entrenamiento (por ejemplo, una muestra de datos de _test_). La relación entre el número de observaciones y el número de variables independientes es clave en la capacidad de generalización de los modelos.\n",
    "\n",
    "Para evitar el sobreajuste en situaciones donde el número de observaciones es del orden, o menor, que el de grados de libertad del sistema y/o donde hay colinealidad, se utilizan (entre otras) técnicas como la selección de variables y la regularización. La primera permite seleccionar de forma objetiva un subconjunto de variables predictoras, mientras que la segunda actúa sobre los parámetros del modelo, impidiendo que tomen valores elevados que harían al modelo muy sensible a diferentes muestras de entrenamiento."
   ]
  },
  {
   "cell_type": "markdown",
   "metadata": {},
   "source": [
    "## Base de datos: Breast cancer\n",
    "\n",
    "En este ejemplo trabajaremos con la base de datos [_Breast cancer_ (Diagnostic)](https://www.kaggle.com/uciml/breast-cancer-wisconsin-data), incluida en Kaggle. El objetivo de este conjunto de datos es clasificar a las pacientes en base a si el cáncer de mama que tienen es benigno (`B`) o maligno (`M`). Para ello se utilizan 31 predictores relacionados con las propiedades de las células cancerígenas, que en comparación con el número de observaciones (569) es bajo."
   ]
  },
  {
   "cell_type": "markdown",
   "metadata": {},
   "source": [
    "### ::GMG:: Carga y Limpieza"
   ]
  },
  {
   "cell_type": "markdown",
   "metadata": {},
   "source": [
    "Preparamos la base de datos de la siguiente manera:"
   ]
  },
  {
   "cell_type": "code",
   "execution_count": 1,
   "metadata": {},
   "outputs": [],
   "source": [
    "#::GMG::Cargo los datos en formato csv de un archivo local\n",
    "#::nota::También se puede bajar del repositorio de UCI ... pero requiere pre-proceso\n",
    "# https://archive.ics.uci.edu/ml/datasets/Breast+Cancer+Wisconsin+(Diagnostic)\n",
    "data <- read.csv(\"breastcancer.csv\")"
   ]
  },
  {
   "cell_type": "code",
   "execution_count": 2,
   "metadata": {},
   "outputs": [
    {
     "name": "stdout",
     "output_type": "stream",
     "text": [
      "'data.frame':\t569 obs. of  33 variables:\n",
      " $ id                     : int  842302 842517 84300903 84348301 84358402 843786 844359 84458202 844981 84501001 ...\n",
      " $ diagnosis              : Factor w/ 2 levels \"B\",\"M\": 2 2 2 2 2 2 2 2 2 2 ...\n",
      " $ radius_mean            : num  18 20.6 19.7 11.4 20.3 ...\n",
      " $ texture_mean           : num  10.4 17.8 21.2 20.4 14.3 ...\n",
      " $ perimeter_mean         : num  122.8 132.9 130 77.6 135.1 ...\n",
      " $ area_mean              : num  1001 1326 1203 386 1297 ...\n",
      " $ smoothness_mean        : num  0.1184 0.0847 0.1096 0.1425 0.1003 ...\n",
      " $ compactness_mean       : num  0.2776 0.0786 0.1599 0.2839 0.1328 ...\n",
      " $ concavity_mean         : num  0.3001 0.0869 0.1974 0.2414 0.198 ...\n",
      " $ concave.points_mean    : num  0.1471 0.0702 0.1279 0.1052 0.1043 ...\n",
      " $ symmetry_mean          : num  0.242 0.181 0.207 0.26 0.181 ...\n",
      " $ fractal_dimension_mean : num  0.0787 0.0567 0.06 0.0974 0.0588 ...\n",
      " $ radius_se              : num  1.095 0.543 0.746 0.496 0.757 ...\n",
      " $ texture_se             : num  0.905 0.734 0.787 1.156 0.781 ...\n",
      " $ perimeter_se           : num  8.59 3.4 4.58 3.44 5.44 ...\n",
      " $ area_se                : num  153.4 74.1 94 27.2 94.4 ...\n",
      " $ smoothness_se          : num  0.0064 0.00522 0.00615 0.00911 0.01149 ...\n",
      " $ compactness_se         : num  0.049 0.0131 0.0401 0.0746 0.0246 ...\n",
      " $ concavity_se           : num  0.0537 0.0186 0.0383 0.0566 0.0569 ...\n",
      " $ concave.points_se      : num  0.0159 0.0134 0.0206 0.0187 0.0188 ...\n",
      " $ symmetry_se            : num  0.03 0.0139 0.0225 0.0596 0.0176 ...\n",
      " $ fractal_dimension_se   : num  0.00619 0.00353 0.00457 0.00921 0.00511 ...\n",
      " $ radius_worst           : num  25.4 25 23.6 14.9 22.5 ...\n",
      " $ texture_worst          : num  17.3 23.4 25.5 26.5 16.7 ...\n",
      " $ perimeter_worst        : num  184.6 158.8 152.5 98.9 152.2 ...\n",
      " $ area_worst             : num  2019 1956 1709 568 1575 ...\n",
      " $ smoothness_worst       : num  0.162 0.124 0.144 0.21 0.137 ...\n",
      " $ compactness_worst      : num  0.666 0.187 0.424 0.866 0.205 ...\n",
      " $ concavity_worst        : num  0.712 0.242 0.45 0.687 0.4 ...\n",
      " $ concave.points_worst   : num  0.265 0.186 0.243 0.258 0.163 ...\n",
      " $ symmetry_worst         : num  0.46 0.275 0.361 0.664 0.236 ...\n",
      " $ fractal_dimension_worst: num  0.1189 0.089 0.0876 0.173 0.0768 ...\n",
      " $ X                      : logi  NA NA NA NA NA NA ...\n"
     ]
    }
   ],
   "source": [
    "#::GMG::Echo un vistazo al dataset que he cargado\n",
    "str(data)"
   ]
  },
  {
   "cell_type": "code",
   "execution_count": 3,
   "metadata": {},
   "outputs": [],
   "source": [
    "#::GMG::Elimino variables (id, que no aporta información y X que es NA)\n",
    "#::nota::se crea un nuevo dataframe para almacenar el dataset 2limpio\"\n",
    "df <- data[, -c(1, ncol(data)-1, ncol(data))]"
   ]
  },
  {
   "cell_type": "code",
   "execution_count": 4,
   "metadata": {},
   "outputs": [],
   "source": [
    "#::GMG::se borra el dataset antiguo de la memoria\n",
    "rm(data)"
   ]
  },
  {
   "cell_type": "code",
   "execution_count": 5,
   "metadata": {},
   "outputs": [
    {
     "data": {
      "text/html": [
       "<ol class=list-inline>\n",
       "\t<li>'B'</li>\n",
       "\t<li>'M'</li>\n",
       "</ol>\n"
      ],
      "text/latex": [
       "\\begin{enumerate*}\n",
       "\\item 'B'\n",
       "\\item 'M'\n",
       "\\end{enumerate*}\n"
      ],
      "text/markdown": [
       "1. 'B'\n",
       "2. 'M'\n",
       "\n",
       "\n"
      ],
      "text/plain": [
       "[1] \"B\" \"M\""
      ]
     },
     "metadata": {},
     "output_type": "display_data"
    }
   ],
   "source": [
    "#::GMG::Se convierte el factor diagnosis (B y M) a numeric con valores 0 y 1\n",
    "#::DUDA::¿Por qué?\n",
    "# https://www.rdocumentation.org/packages/base/versions/3.5.2/topics/levels\n",
    "# https://stackoverflow.com/questions/52245719/performing-lasso-regularization-with-factors-and-numeric-predictors\n",
    "levels(df$diagnosis)"
   ]
  },
  {
   "cell_type": "code",
   "execution_count": 6,
   "metadata": {},
   "outputs": [
    {
     "name": "stdout",
     "output_type": "stream",
     "text": [
      " Factor w/ 2 levels \"B\",\"M\": 2 2 2 2 2 2 2 2 2 2 ...\n"
     ]
    }
   ],
   "source": [
    "str(df$diagnosis)"
   ]
  },
  {
   "cell_type": "code",
   "execution_count": 7,
   "metadata": {},
   "outputs": [],
   "source": [
    "#::GMG::Primero se pone a 0s y 1s en vez de 'B' y 'M'\n",
    "levels(df$diagnosis) <- c(0,1) "
   ]
  },
  {
   "cell_type": "code",
   "execution_count": 8,
   "metadata": {},
   "outputs": [
    {
     "name": "stdout",
     "output_type": "stream",
     "text": [
      " Factor w/ 2 levels \"0\",\"1\": 2 2 2 2 2 2 2 2 2 2 ...\n"
     ]
    }
   ],
   "source": [
    "str(df$diagnosis)"
   ]
  },
  {
   "cell_type": "code",
   "execution_count": 9,
   "metadata": {},
   "outputs": [],
   "source": [
    "#::GMG::Se hace  la conversión factor -> numeric\n",
    "# https://stackoverflow.com/questions/3418128/how-to-convert-a-factor-to-integer-numeric-without-loss-of-information\n",
    "#::nota::se recomienda (más eficiente)\n",
    "df$diagnosis <- as.numeric(levels(df$diagnosis))[df$diagnosis]\n",
    "#df$diagnosis <- as.numeric(as.character(df$diagnosis))"
   ]
  },
  {
   "cell_type": "code",
   "execution_count": 10,
   "metadata": {},
   "outputs": [
    {
     "name": "stdout",
     "output_type": "stream",
     "text": [
      " num [1:569] 1 1 1 1 1 1 1 1 1 1 ...\n"
     ]
    }
   ],
   "source": [
    "str(df$diagnosis)"
   ]
  },
  {
   "cell_type": "code",
   "execution_count": 11,
   "metadata": {},
   "outputs": [
    {
     "data": {
      "text/plain": [
       "   diagnosis       radius_mean      texture_mean   perimeter_mean  \n",
       " Min.   :0.0000   Min.   : 6.981   Min.   : 9.71   Min.   : 43.79  \n",
       " 1st Qu.:0.0000   1st Qu.:11.700   1st Qu.:16.17   1st Qu.: 75.17  \n",
       " Median :0.0000   Median :13.370   Median :18.84   Median : 86.24  \n",
       " Mean   :0.3726   Mean   :14.127   Mean   :19.29   Mean   : 91.97  \n",
       " 3rd Qu.:1.0000   3rd Qu.:15.780   3rd Qu.:21.80   3rd Qu.:104.10  \n",
       " Max.   :1.0000   Max.   :28.110   Max.   :39.28   Max.   :188.50  \n",
       "   area_mean      smoothness_mean   compactness_mean  concavity_mean   \n",
       " Min.   : 143.5   Min.   :0.05263   Min.   :0.01938   Min.   :0.00000  \n",
       " 1st Qu.: 420.3   1st Qu.:0.08637   1st Qu.:0.06492   1st Qu.:0.02956  \n",
       " Median : 551.1   Median :0.09587   Median :0.09263   Median :0.06154  \n",
       " Mean   : 654.9   Mean   :0.09636   Mean   :0.10434   Mean   :0.08880  \n",
       " 3rd Qu.: 782.7   3rd Qu.:0.10530   3rd Qu.:0.13040   3rd Qu.:0.13070  \n",
       " Max.   :2501.0   Max.   :0.16340   Max.   :0.34540   Max.   :0.42680  \n",
       " concave.points_mean symmetry_mean    fractal_dimension_mean   radius_se     \n",
       " Min.   :0.00000     Min.   :0.1060   Min.   :0.04996        Min.   :0.1115  \n",
       " 1st Qu.:0.02031     1st Qu.:0.1619   1st Qu.:0.05770        1st Qu.:0.2324  \n",
       " Median :0.03350     Median :0.1792   Median :0.06154        Median :0.3242  \n",
       " Mean   :0.04892     Mean   :0.1812   Mean   :0.06280        Mean   :0.4052  \n",
       " 3rd Qu.:0.07400     3rd Qu.:0.1957   3rd Qu.:0.06612        3rd Qu.:0.4789  \n",
       " Max.   :0.20120     Max.   :0.3040   Max.   :0.09744        Max.   :2.8730  \n",
       "   texture_se      perimeter_se       area_se        smoothness_se     \n",
       " Min.   :0.3602   Min.   : 0.757   Min.   :  6.802   Min.   :0.001713  \n",
       " 1st Qu.:0.8339   1st Qu.: 1.606   1st Qu.: 17.850   1st Qu.:0.005169  \n",
       " Median :1.1080   Median : 2.287   Median : 24.530   Median :0.006380  \n",
       " Mean   :1.2169   Mean   : 2.866   Mean   : 40.337   Mean   :0.007041  \n",
       " 3rd Qu.:1.4740   3rd Qu.: 3.357   3rd Qu.: 45.190   3rd Qu.:0.008146  \n",
       " Max.   :4.8850   Max.   :21.980   Max.   :542.200   Max.   :0.031130  \n",
       " compactness_se      concavity_se     concave.points_se   symmetry_se      \n",
       " Min.   :0.002252   Min.   :0.00000   Min.   :0.000000   Min.   :0.007882  \n",
       " 1st Qu.:0.013080   1st Qu.:0.01509   1st Qu.:0.007638   1st Qu.:0.015160  \n",
       " Median :0.020450   Median :0.02589   Median :0.010930   Median :0.018730  \n",
       " Mean   :0.025478   Mean   :0.03189   Mean   :0.011796   Mean   :0.020542  \n",
       " 3rd Qu.:0.032450   3rd Qu.:0.04205   3rd Qu.:0.014710   3rd Qu.:0.023480  \n",
       " Max.   :0.135400   Max.   :0.39600   Max.   :0.052790   Max.   :0.078950  \n",
       " fractal_dimension_se  radius_worst   texture_worst   perimeter_worst \n",
       " Min.   :0.0008948    Min.   : 7.93   Min.   :12.02   Min.   : 50.41  \n",
       " 1st Qu.:0.0022480    1st Qu.:13.01   1st Qu.:21.08   1st Qu.: 84.11  \n",
       " Median :0.0031870    Median :14.97   Median :25.41   Median : 97.66  \n",
       " Mean   :0.0037949    Mean   :16.27   Mean   :25.68   Mean   :107.26  \n",
       " 3rd Qu.:0.0045580    3rd Qu.:18.79   3rd Qu.:29.72   3rd Qu.:125.40  \n",
       " Max.   :0.0298400    Max.   :36.04   Max.   :49.54   Max.   :251.20  \n",
       "   area_worst     smoothness_worst  compactness_worst concavity_worst \n",
       " Min.   : 185.2   Min.   :0.07117   Min.   :0.02729   Min.   :0.0000  \n",
       " 1st Qu.: 515.3   1st Qu.:0.11660   1st Qu.:0.14720   1st Qu.:0.1145  \n",
       " Median : 686.5   Median :0.13130   Median :0.21190   Median :0.2267  \n",
       " Mean   : 880.6   Mean   :0.13237   Mean   :0.25427   Mean   :0.2722  \n",
       " 3rd Qu.:1084.0   3rd Qu.:0.14600   3rd Qu.:0.33910   3rd Qu.:0.3829  \n",
       " Max.   :4254.0   Max.   :0.22260   Max.   :1.05800   Max.   :1.2520  \n",
       " concave.points_worst symmetry_worst  \n",
       " Min.   :0.00000      Min.   :0.1565  \n",
       " 1st Qu.:0.06493      1st Qu.:0.2504  \n",
       " Median :0.09993      Median :0.2822  \n",
       " Mean   :0.11461      Mean   :0.2901  \n",
       " 3rd Qu.:0.16140      3rd Qu.:0.3179  \n",
       " Max.   :0.29100      Max.   :0.6638  "
      ]
     },
     "metadata": {},
     "output_type": "display_data"
    }
   ],
   "source": [
    "#::GMG::Hecho un vistazo a los estadísticos de las variables numéricas\n",
    "#::nota::tiene que ver con el escalado que viene ...\n",
    "summary(df)"
   ]
  },
  {
   "cell_type": "code",
   "execution_count": 12,
   "metadata": {},
   "outputs": [],
   "source": [
    "#::GMG::Normalizar los datos para evitar problemas de diferente variabilidad\n",
    "#::nota::no se normaliza la viariable binaria numérica diagnosis (!)\n",
    "df[-1] <- apply(df[-1], MARGIN = 2, scale)"
   ]
  },
  {
   "cell_type": "code",
   "execution_count": 13,
   "metadata": {},
   "outputs": [
    {
     "data": {
      "text/plain": [
       "   diagnosis       radius_mean       texture_mean     perimeter_mean   \n",
       " Min.   :0.0000   Min.   :-2.0279   Min.   :-2.2273   Min.   :-1.9828  \n",
       " 1st Qu.:0.0000   1st Qu.:-0.6888   1st Qu.:-0.7253   1st Qu.:-0.6913  \n",
       " Median :0.0000   Median :-0.2149   Median :-0.1045   Median :-0.2358  \n",
       " Mean   :0.3726   Mean   : 0.0000   Mean   : 0.0000   Mean   : 0.0000  \n",
       " 3rd Qu.:1.0000   3rd Qu.: 0.4690   3rd Qu.: 0.5837   3rd Qu.: 0.4992  \n",
       " Max.   :1.0000   Max.   : 3.9678   Max.   : 4.6478   Max.   : 3.9726  \n",
       "   area_mean       smoothness_mean    compactness_mean  concavity_mean   \n",
       " Min.   :-1.4532   Min.   :-3.10935   Min.   :-1.6087   Min.   :-1.1139  \n",
       " 1st Qu.:-0.6666   1st Qu.:-0.71034   1st Qu.:-0.7464   1st Qu.:-0.7431  \n",
       " Median :-0.2949   Median :-0.03486   Median :-0.2217   Median :-0.3419  \n",
       " Mean   : 0.0000   Mean   : 0.00000   Mean   : 0.0000   Mean   : 0.0000  \n",
       " 3rd Qu.: 0.3632   3rd Qu.: 0.63564   3rd Qu.: 0.4934   3rd Qu.: 0.5256  \n",
       " Max.   : 5.2459   Max.   : 4.76672   Max.   : 4.5644   Max.   : 4.2399  \n",
       " concave.points_mean symmetry_mean      fractal_dimension_mean\n",
       " Min.   :-1.2607     Min.   :-2.74171   Min.   :-1.8183       \n",
       " 1st Qu.:-0.7373     1st Qu.:-0.70262   1st Qu.:-0.7220       \n",
       " Median :-0.3974     Median :-0.07156   Median :-0.1781       \n",
       " Mean   : 0.0000     Mean   : 0.00000   Mean   : 0.0000       \n",
       " 3rd Qu.: 0.6464     3rd Qu.: 0.53031   3rd Qu.: 0.4706       \n",
       " Max.   : 3.9245     Max.   : 4.48081   Max.   : 4.9066       \n",
       "   radius_se         texture_se       perimeter_se        area_se       \n",
       " Min.   :-1.0590   Min.   :-1.5529   Min.   :-1.0431   Min.   :-0.7372  \n",
       " 1st Qu.:-0.6230   1st Qu.:-0.6942   1st Qu.:-0.6232   1st Qu.:-0.4943  \n",
       " Median :-0.2920   Median :-0.1973   Median :-0.2864   Median :-0.3475  \n",
       " Mean   : 0.0000   Mean   : 0.0000   Mean   : 0.0000   Mean   : 0.0000  \n",
       " 3rd Qu.: 0.2659   3rd Qu.: 0.4661   3rd Qu.: 0.2428   3rd Qu.: 0.1067  \n",
       " Max.   : 8.8991   Max.   : 6.6494   Max.   : 9.4537   Max.   :11.0321  \n",
       " smoothness_se     compactness_se     concavity_se     concave.points_se\n",
       " Min.   :-1.7745   Min.   :-1.2970   Min.   :-1.0566   Min.   :-1.9118  \n",
       " 1st Qu.:-0.6235   1st Qu.:-0.6923   1st Qu.:-0.5567   1st Qu.:-0.6739  \n",
       " Median :-0.2201   Median :-0.2808   Median :-0.1989   Median :-0.1404  \n",
       " Mean   : 0.0000   Mean   : 0.0000   Mean   : 0.0000   Mean   : 0.0000  \n",
       " 3rd Qu.: 0.3680   3rd Qu.: 0.3893   3rd Qu.: 0.3365   3rd Qu.: 0.4722  \n",
       " Max.   : 8.0229   Max.   : 6.1381   Max.   :12.0621   Max.   : 6.6438  \n",
       "  symmetry_se      fractal_dimension_se  radius_worst     texture_worst     \n",
       " Min.   :-1.5315   Min.   :-1.0960      Min.   :-1.7254   Min.   :-2.22204  \n",
       " 1st Qu.:-0.6511   1st Qu.:-0.5846      1st Qu.:-0.6743   1st Qu.:-0.74797  \n",
       " Median :-0.2192   Median :-0.2297      Median :-0.2688   Median :-0.04348  \n",
       " Mean   : 0.0000   Mean   : 0.0000      Mean   : 0.0000   Mean   : 0.00000  \n",
       " 3rd Qu.: 0.3554   3rd Qu.: 0.2884      3rd Qu.: 0.5216   3rd Qu.: 0.65776  \n",
       " Max.   : 7.0657   Max.   : 9.8429      Max.   : 4.0906   Max.   : 3.88249  \n",
       " perimeter_worst     area_worst      smoothness_worst  compactness_worst\n",
       " Min.   :-1.6919   Min.   :-1.2213   Min.   :-2.6803   Min.   :-1.4426  \n",
       " 1st Qu.:-0.6890   1st Qu.:-0.6416   1st Qu.:-0.6906   1st Qu.:-0.6805  \n",
       " Median :-0.2857   Median :-0.3409   Median :-0.0468   Median :-0.2693  \n",
       " Mean   : 0.0000   Mean   : 0.0000   Mean   : 0.0000   Mean   : 0.0000  \n",
       " 3rd Qu.: 0.5398   3rd Qu.: 0.3573   3rd Qu.: 0.5970   3rd Qu.: 0.5392  \n",
       " Max.   : 4.2836   Max.   : 5.9250   Max.   : 3.9519   Max.   : 5.1084  \n",
       " concavity_worst   concave.points_worst symmetry_worst   \n",
       " Min.   :-1.3047   Min.   :-1.7435      Min.   :-2.1591  \n",
       " 1st Qu.:-0.7558   1st Qu.:-0.7557      1st Qu.:-0.6413  \n",
       " Median :-0.2180   Median :-0.2233      Median :-0.1273  \n",
       " Mean   : 0.0000   Mean   : 0.0000      Mean   : 0.0000  \n",
       " 3rd Qu.: 0.5307   3rd Qu.: 0.7119      3rd Qu.: 0.4497  \n",
       " Max.   : 4.6965   Max.   : 2.6835      Max.   : 6.0407  "
      ]
     },
     "metadata": {},
     "output_type": "display_data"
    }
   ],
   "source": [
    "#::GMG::Se puede ver el 'cambio' (todos tienen  media casi cero y varianza 1)\n",
    "summary(df)"
   ]
  },
  {
   "cell_type": "code",
   "execution_count": 14,
   "metadata": {},
   "outputs": [
    {
     "data": {
      "text/html": [
       "'6.73424836203562e-18 1 1'"
      ],
      "text/latex": [
       "'6.73424836203562e-18 1 1'"
      ],
      "text/markdown": [
       "'6.73424836203562e-18 1 1'"
      ],
      "text/plain": [
       "[1] \"6.73424836203562e-18 1 1\""
      ]
     },
     "metadata": {},
     "output_type": "display_data"
    }
   ],
   "source": [
    "paste (mean(df$area_worst), var(df$area_worst), sd(df$area_worst))"
   ]
  },
  {
   "cell_type": "code",
   "execution_count": 15,
   "metadata": {},
   "outputs": [
    {
     "data": {
      "text/html": [
       "<ol class=list-inline>\n",
       "\t<li>569</li>\n",
       "\t<li>30</li>\n",
       "</ol>\n"
      ],
      "text/latex": [
       "\\begin{enumerate*}\n",
       "\\item 569\n",
       "\\item 30\n",
       "\\end{enumerate*}\n"
      ],
      "text/markdown": [
       "1. 569\n",
       "2. 30\n",
       "\n",
       "\n"
      ],
      "text/plain": [
       "[1] 569  30"
      ]
     },
     "metadata": {},
     "output_type": "display_data"
    }
   ],
   "source": [
    "#::GMG::Tamaño del dataset\n",
    "dim(df)"
   ]
  },
  {
   "cell_type": "code",
   "execution_count": 16,
   "metadata": {},
   "outputs": [
    {
     "data": {
      "text/html": [
       "<ol class=list-inline>\n",
       "\t<li>'diagnosis'</li>\n",
       "\t<li>'radius_mean'</li>\n",
       "\t<li>'texture_mean'</li>\n",
       "\t<li>'perimeter_mean'</li>\n",
       "\t<li>'area_mean'</li>\n",
       "\t<li>'smoothness_mean'</li>\n",
       "\t<li>'compactness_mean'</li>\n",
       "\t<li>'concavity_mean'</li>\n",
       "\t<li>'concave.points_mean'</li>\n",
       "\t<li>'symmetry_mean'</li>\n",
       "\t<li>'fractal_dimension_mean'</li>\n",
       "\t<li>'radius_se'</li>\n",
       "\t<li>'texture_se'</li>\n",
       "\t<li>'perimeter_se'</li>\n",
       "\t<li>'area_se'</li>\n",
       "\t<li>'smoothness_se'</li>\n",
       "\t<li>'compactness_se'</li>\n",
       "\t<li>'concavity_se'</li>\n",
       "\t<li>'concave.points_se'</li>\n",
       "\t<li>'symmetry_se'</li>\n",
       "\t<li>'fractal_dimension_se'</li>\n",
       "\t<li>'radius_worst'</li>\n",
       "\t<li>'texture_worst'</li>\n",
       "\t<li>'perimeter_worst'</li>\n",
       "\t<li>'area_worst'</li>\n",
       "\t<li>'smoothness_worst'</li>\n",
       "\t<li>'compactness_worst'</li>\n",
       "\t<li>'concavity_worst'</li>\n",
       "\t<li>'concave.points_worst'</li>\n",
       "\t<li>'symmetry_worst'</li>\n",
       "</ol>\n"
      ],
      "text/latex": [
       "\\begin{enumerate*}\n",
       "\\item 'diagnosis'\n",
       "\\item 'radius\\_mean'\n",
       "\\item 'texture\\_mean'\n",
       "\\item 'perimeter\\_mean'\n",
       "\\item 'area\\_mean'\n",
       "\\item 'smoothness\\_mean'\n",
       "\\item 'compactness\\_mean'\n",
       "\\item 'concavity\\_mean'\n",
       "\\item 'concave.points\\_mean'\n",
       "\\item 'symmetry\\_mean'\n",
       "\\item 'fractal\\_dimension\\_mean'\n",
       "\\item 'radius\\_se'\n",
       "\\item 'texture\\_se'\n",
       "\\item 'perimeter\\_se'\n",
       "\\item 'area\\_se'\n",
       "\\item 'smoothness\\_se'\n",
       "\\item 'compactness\\_se'\n",
       "\\item 'concavity\\_se'\n",
       "\\item 'concave.points\\_se'\n",
       "\\item 'symmetry\\_se'\n",
       "\\item 'fractal\\_dimension\\_se'\n",
       "\\item 'radius\\_worst'\n",
       "\\item 'texture\\_worst'\n",
       "\\item 'perimeter\\_worst'\n",
       "\\item 'area\\_worst'\n",
       "\\item 'smoothness\\_worst'\n",
       "\\item 'compactness\\_worst'\n",
       "\\item 'concavity\\_worst'\n",
       "\\item 'concave.points\\_worst'\n",
       "\\item 'symmetry\\_worst'\n",
       "\\end{enumerate*}\n"
      ],
      "text/markdown": [
       "1. 'diagnosis'\n",
       "2. 'radius_mean'\n",
       "3. 'texture_mean'\n",
       "4. 'perimeter_mean'\n",
       "5. 'area_mean'\n",
       "6. 'smoothness_mean'\n",
       "7. 'compactness_mean'\n",
       "8. 'concavity_mean'\n",
       "9. 'concave.points_mean'\n",
       "10. 'symmetry_mean'\n",
       "11. 'fractal_dimension_mean'\n",
       "12. 'radius_se'\n",
       "13. 'texture_se'\n",
       "14. 'perimeter_se'\n",
       "15. 'area_se'\n",
       "16. 'smoothness_se'\n",
       "17. 'compactness_se'\n",
       "18. 'concavity_se'\n",
       "19. 'concave.points_se'\n",
       "20. 'symmetry_se'\n",
       "21. 'fractal_dimension_se'\n",
       "22. 'radius_worst'\n",
       "23. 'texture_worst'\n",
       "24. 'perimeter_worst'\n",
       "25. 'area_worst'\n",
       "26. 'smoothness_worst'\n",
       "27. 'compactness_worst'\n",
       "28. 'concavity_worst'\n",
       "29. 'concave.points_worst'\n",
       "30. 'symmetry_worst'\n",
       "\n",
       "\n"
      ],
      "text/plain": [
       " [1] \"diagnosis\"              \"radius_mean\"            \"texture_mean\"          \n",
       " [4] \"perimeter_mean\"         \"area_mean\"              \"smoothness_mean\"       \n",
       " [7] \"compactness_mean\"       \"concavity_mean\"         \"concave.points_mean\"   \n",
       "[10] \"symmetry_mean\"          \"fractal_dimension_mean\" \"radius_se\"             \n",
       "[13] \"texture_se\"             \"perimeter_se\"           \"area_se\"               \n",
       "[16] \"smoothness_se\"          \"compactness_se\"         \"concavity_se\"          \n",
       "[19] \"concave.points_se\"      \"symmetry_se\"            \"fractal_dimension_se\"  \n",
       "[22] \"radius_worst\"           \"texture_worst\"          \"perimeter_worst\"       \n",
       "[25] \"area_worst\"             \"smoothness_worst\"       \"compactness_worst\"     \n",
       "[28] \"concavity_worst\"        \"concave.points_worst\"   \"symmetry_worst\"        "
      ]
     },
     "metadata": {},
     "output_type": "display_data"
    }
   ],
   "source": [
    "#::GMG::Nombres de las columnas (features y clase 'diagnosis')\n",
    "names(df)"
   ]
  },
  {
   "cell_type": "markdown",
   "metadata": {},
   "source": [
    "### ::GMG:: Exploración"
   ]
  },
  {
   "cell_type": "code",
   "execution_count": 17,
   "metadata": {},
   "outputs": [],
   "source": [
    "#::GMG::levelplot() included :)\n",
    "# https://cran.r-project.org/web/packages/lattice/index.html\n",
    "library(lattice) "
   ]
  },
  {
   "cell_type": "code",
   "execution_count": 18,
   "metadata": {},
   "outputs": [
    {
     "data": {
      "text/html": [
       "<table>\n",
       "<thead><tr><th></th><th scope=col>diagnosis</th><th scope=col>radius_mean</th><th scope=col>texture_mean</th><th scope=col>perimeter_mean</th><th scope=col>area_mean</th><th scope=col>smoothness_mean</th><th scope=col>compactness_mean</th><th scope=col>concavity_mean</th><th scope=col>concave.points_mean</th><th scope=col>symmetry_mean</th><th scope=col>⋯</th><th scope=col>fractal_dimension_se</th><th scope=col>radius_worst</th><th scope=col>texture_worst</th><th scope=col>perimeter_worst</th><th scope=col>area_worst</th><th scope=col>smoothness_worst</th><th scope=col>compactness_worst</th><th scope=col>concavity_worst</th><th scope=col>concave.points_worst</th><th scope=col>symmetry_worst</th></tr></thead>\n",
       "<tbody>\n",
       "\t<tr><th scope=row>diagnosis</th><td> 1.000000000</td><td> 0.73002851 </td><td> 0.415185300</td><td> 0.742635530</td><td> 0.70898384 </td><td> 0.35855997 </td><td>0.59653368  </td><td>0.69635971  </td><td>0.77661384  </td><td>0.33049855  </td><td>⋯           </td><td> 0.077972417</td><td> 0.77645378 </td><td> 0.456902821</td><td> 0.782914137</td><td> 0.73382503 </td><td> 0.42146486 </td><td> 0.59099824 </td><td> 0.65961021 </td><td> 0.7935660  </td><td> 0.41629431 </td></tr>\n",
       "\t<tr><th scope=row>radius_mean</th><td> 0.730028511</td><td> 1.00000000 </td><td> 0.323781891</td><td> 0.997855281</td><td> 0.98735717 </td><td> 0.17058119 </td><td>0.50612358  </td><td>0.67676355  </td><td>0.82252852  </td><td>0.14774124  </td><td>⋯           </td><td>-0.042641269</td><td> 0.96953897 </td><td> 0.297007644</td><td> 0.965136514</td><td> 0.94108246 </td><td> 0.11961614 </td><td> 0.41346282 </td><td> 0.52691146 </td><td> 0.7442142  </td><td> 0.16395333 </td></tr>\n",
       "\t<tr><th scope=row>texture_mean</th><td> 0.415185300</td><td> 0.32378189 </td><td> 1.000000000</td><td> 0.329533059</td><td> 0.32108570 </td><td>-0.02338852 </td><td>0.23670222  </td><td>0.30241783  </td><td>0.29346405  </td><td>0.07140098  </td><td>⋯           </td><td> 0.054457520</td><td> 0.35257295 </td><td> 0.912044589</td><td> 0.358039575</td><td> 0.34354595 </td><td> 0.07750336 </td><td> 0.27782959 </td><td> 0.30102522 </td><td> 0.2953158  </td><td> 0.10500791 </td></tr>\n",
       "\t<tr><th scope=row>perimeter_mean</th><td> 0.742635530</td><td> 0.99785528 </td><td> 0.329533059</td><td> 1.000000000</td><td> 0.98650680 </td><td> 0.20727816 </td><td>0.55693621  </td><td>0.71613565  </td><td>0.85097704  </td><td>0.18302721  </td><td>⋯           </td><td>-0.005523391</td><td> 0.96947636 </td><td> 0.303038372</td><td> 0.970386887</td><td> 0.94154981 </td><td> 0.15054940 </td><td> 0.45577423 </td><td> 0.56387926 </td><td> 0.7712408  </td><td> 0.18911504 </td></tr>\n",
       "\t<tr><th scope=row>area_mean</th><td> 0.708983837</td><td> 0.98735717 </td><td> 0.321085696</td><td> 0.986506804</td><td> 1.00000000 </td><td> 0.17702838 </td><td>0.49850168  </td><td>0.68598283  </td><td>0.82326887  </td><td>0.15129308  </td><td>⋯           </td><td>-0.019886963</td><td> 0.96274609 </td><td> 0.287488627</td><td> 0.959119574</td><td> 0.95921333 </td><td> 0.12352294 </td><td> 0.39041031 </td><td> 0.51260592 </td><td> 0.7220166  </td><td> 0.14356991 </td></tr>\n",
       "\t<tr><th scope=row>smoothness_mean</th><td> 0.358559965</td><td> 0.17058119 </td><td>-0.023388516</td><td> 0.207278164</td><td> 0.17702838 </td><td> 1.00000000 </td><td>0.65912322  </td><td>0.52198377  </td><td>0.55369517  </td><td>0.55777479  </td><td>⋯           </td><td> 0.283606699</td><td> 0.21312014 </td><td> 0.036071799</td><td> 0.238852626</td><td> 0.20671836 </td><td> 0.80532420 </td><td> 0.47246844 </td><td> 0.43492571 </td><td> 0.5030534  </td><td> 0.39430948 </td></tr>\n",
       "\t<tr><th scope=row>compactness_mean</th><td> 0.596533678</td><td> 0.50612358 </td><td> 0.236702222</td><td> 0.556936211</td><td> 0.49850168 </td><td> 0.65912322 </td><td>1.00000000  </td><td>0.88312067  </td><td>0.83113504  </td><td>0.60264105  </td><td>⋯           </td><td> 0.507318127</td><td> 0.53531540 </td><td> 0.248132833</td><td> 0.590210428</td><td> 0.50960381 </td><td> 0.56554117 </td><td> 0.86580904 </td><td> 0.81627525 </td><td> 0.8155732  </td><td> 0.51022343 </td></tr>\n",
       "\t<tr><th scope=row>concavity_mean</th><td> 0.696359707</td><td> 0.67676355 </td><td> 0.302417828</td><td> 0.716135650</td><td> 0.68598283 </td><td> 0.52198377 </td><td>0.88312067  </td><td>1.00000000  </td><td>0.92139103  </td><td>0.50066662  </td><td>⋯           </td><td> 0.449300749</td><td> 0.68823641 </td><td> 0.299878889</td><td> 0.729564917</td><td> 0.67598723 </td><td> 0.44882204 </td><td> 0.75496802 </td><td> 0.88410264 </td><td> 0.8613230  </td><td> 0.40946413 </td></tr>\n",
       "\t<tr><th scope=row>concave.points_mean</th><td> 0.776613840</td><td> 0.82252852 </td><td> 0.293464051</td><td> 0.850977041</td><td> 0.82326887 </td><td> 0.55369517 </td><td>0.83113504  </td><td>0.92139103  </td><td>1.00000000  </td><td>0.46249739  </td><td>⋯           </td><td> 0.257583746</td><td> 0.83031763 </td><td> 0.292751713</td><td> 0.855923128</td><td> 0.80962962 </td><td> 0.45275305 </td><td> 0.66745368 </td><td> 0.75239950 </td><td> 0.9101553  </td><td> 0.37574415 </td></tr>\n",
       "\t<tr><th scope=row>symmetry_mean</th><td> 0.330498554</td><td> 0.14774124 </td><td> 0.071400980</td><td> 0.183027212</td><td> 0.15129308 </td><td> 0.55777479 </td><td>0.60264105  </td><td>0.50066662  </td><td>0.46249739  </td><td>1.00000000  </td><td>⋯           </td><td> 0.331786146</td><td> 0.18572775 </td><td> 0.090650688</td><td> 0.219168559</td><td> 0.17719338 </td><td> 0.42667503 </td><td> 0.47320001 </td><td> 0.43372101 </td><td> 0.4302966  </td><td> 0.69982580 </td></tr>\n",
       "\t<tr><th scope=row>fractal_dimension_mean</th><td>-0.012837603</td><td>-0.31163083 </td><td>-0.076437183</td><td>-0.261476908</td><td>-0.28310981 </td><td> 0.58479200 </td><td>0.56536866  </td><td>0.33678336  </td><td>0.16691738  </td><td>0.47992133  </td><td>⋯           </td><td> 0.688131577</td><td>-0.25369149 </td><td>-0.051269202</td><td>-0.205151211</td><td>-0.23185445 </td><td> 0.50494208 </td><td> 0.45879816 </td><td> 0.34623388 </td><td> 0.1753254  </td><td> 0.33401868 </td></tr>\n",
       "\t<tr><th scope=row>radius_se</th><td> 0.567133821</td><td> 0.67909039 </td><td> 0.275868676</td><td> 0.691765014</td><td> 0.73256223 </td><td> 0.30146710 </td><td>0.49747345  </td><td>0.63192482  </td><td>0.69804983  </td><td>0.30337926  </td><td>⋯           </td><td> 0.227753533</td><td> 0.71506520 </td><td> 0.194798557</td><td> 0.719683804</td><td> 0.75154848 </td><td> 0.14191855 </td><td> 0.28710317 </td><td> 0.38058463 </td><td> 0.5310623  </td><td> 0.09454283 </td></tr>\n",
       "\t<tr><th scope=row>texture_se</th><td>-0.008303333</td><td>-0.09731744 </td><td> 0.386357623</td><td>-0.086761078</td><td>-0.06628021 </td><td> 0.06840645 </td><td>0.04620483  </td><td>0.07621835  </td><td>0.02147958  </td><td>0.12805293  </td><td>⋯           </td><td> 0.279722748</td><td>-0.11169031 </td><td> 0.409002766</td><td>-0.102241922</td><td>-0.08319499 </td><td>-0.07365766 </td><td>-0.09243935 </td><td>-0.06895622 </td><td>-0.1196375  </td><td>-0.12821476 </td></tr>\n",
       "\t<tr><th scope=row>perimeter_se</th><td> 0.556140703</td><td> 0.67417162 </td><td> 0.281673115</td><td> 0.693134890</td><td> 0.72662833 </td><td> 0.29609193 </td><td>0.54890526  </td><td>0.66039079  </td><td>0.71064987  </td><td>0.31389276  </td><td>⋯           </td><td> 0.244142773</td><td> 0.69720059 </td><td> 0.200370854</td><td> 0.721031310</td><td> 0.73071297 </td><td> 0.13005439 </td><td> 0.34191945 </td><td> 0.41889882 </td><td> 0.5548972  </td><td> 0.10993043 </td></tr>\n",
       "\t<tr><th scope=row>area_se</th><td> 0.548235940</td><td> 0.73586366 </td><td> 0.259844987</td><td> 0.744982694</td><td> 0.80008592 </td><td> 0.24655243 </td><td>0.45565285  </td><td>0.61742681  </td><td>0.69029854  </td><td>0.22397022  </td><td>⋯           </td><td> 0.127070903</td><td> 0.75737319 </td><td> 0.196496649</td><td> 0.761212636</td><td> 0.81140796 </td><td> 0.12538943 </td><td> 0.28325654 </td><td> 0.38510014 </td><td> 0.5381663  </td><td> 0.07412629 </td></tr>\n",
       "\t<tr><th scope=row>smoothness_se</th><td>-0.067016011</td><td>-0.22260012 </td><td> 0.006613777</td><td>-0.202694026</td><td>-0.16677667 </td><td> 0.33237544 </td><td>0.13529927  </td><td>0.09856375  </td><td>0.02765331  </td><td>0.18732117  </td><td>⋯           </td><td> 0.427374207</td><td>-0.23069071 </td><td>-0.074742965</td><td>-0.217303755</td><td>-0.18219548 </td><td> 0.31445746 </td><td>-0.05555814 </td><td>-0.05829839 </td><td>-0.1020068  </td><td>-0.10734210 </td></tr>\n",
       "\t<tr><th scope=row>compactness_se</th><td> 0.292999244</td><td> 0.20599998 </td><td> 0.191974611</td><td> 0.250743681</td><td> 0.21258255 </td><td> 0.31894330 </td><td>0.73872179  </td><td>0.67027882  </td><td>0.49042425  </td><td>0.42165915  </td><td>⋯           </td><td> 0.803268818</td><td> 0.20460717 </td><td> 0.143002583</td><td> 0.260515840</td><td> 0.19937133 </td><td> 0.22739423 </td><td> 0.67878035 </td><td> 0.63914670 </td><td> 0.4832083  </td><td> 0.27787843 </td></tr>\n",
       "\t<tr><th scope=row>concavity_se</th><td> 0.253729766</td><td> 0.19420362 </td><td> 0.143293077</td><td> 0.228082345</td><td> 0.20766006 </td><td> 0.24839568 </td><td>0.57051687  </td><td>0.69127021  </td><td>0.43916707  </td><td>0.34262702  </td><td>⋯           </td><td> 0.727372184</td><td> 0.18690352 </td><td> 0.100240984</td><td> 0.226680426</td><td> 0.18835265 </td><td> 0.16848132 </td><td> 0.48485780 </td><td> 0.66256413 </td><td> 0.4404723  </td><td> 0.19778782 </td></tr>\n",
       "\t<tr><th scope=row>concave.points_se</th><td> 0.408042333</td><td> 0.37616896 </td><td> 0.163851025</td><td> 0.407216916</td><td> 0.37232028 </td><td> 0.38067569 </td><td>0.64226185  </td><td>0.68325992  </td><td>0.61563413  </td><td>0.39329787  </td><td>⋯           </td><td> 0.611044139</td><td> 0.35812667 </td><td> 0.086741210</td><td> 0.394999252</td><td> 0.34227116 </td><td> 0.21535060 </td><td> 0.45288838 </td><td> 0.54959238 </td><td> 0.6024496  </td><td> 0.14311567 </td></tr>\n",
       "\t<tr><th scope=row>symmetry_se</th><td>-0.006521756</td><td>-0.10432088 </td><td> 0.009127168</td><td>-0.081629327</td><td>-0.07249659 </td><td> 0.20077438 </td><td>0.22997659  </td><td>0.17800921  </td><td>0.09535079  </td><td>0.44913654  </td><td>⋯           </td><td> 0.369078083</td><td>-0.12812077 </td><td>-0.077473420</td><td>-0.103753044</td><td>-0.11034274 </td><td>-0.01266180 </td><td> 0.06025488 </td><td> 0.03711905 </td><td>-0.0304134  </td><td> 0.38940248 </td></tr>\n",
       "\t<tr><th scope=row>fractal_dimension_se</th><td> 0.077972417</td><td>-0.04264127 </td><td> 0.054457520</td><td>-0.005523391</td><td>-0.01988696 </td><td> 0.28360670 </td><td>0.50731813  </td><td>0.44930075  </td><td>0.25758375  </td><td>0.33178615  </td><td>⋯           </td><td> 1.000000000</td><td>-0.03748762 </td><td>-0.003195029</td><td>-0.001000398</td><td>-0.02273615 </td><td> 0.17056832 </td><td> 0.39015884 </td><td> 0.37997466 </td><td> 0.2152040  </td><td> 0.11109396 </td></tr>\n",
       "\t<tr><th scope=row>radius_worst</th><td> 0.776453779</td><td> 0.96953897 </td><td> 0.352572947</td><td> 0.969476363</td><td> 0.96274609 </td><td> 0.21312014 </td><td>0.53531540  </td><td>0.68823641  </td><td>0.83031763  </td><td>0.18572775  </td><td>⋯           </td><td>-0.037487618</td><td> 1.00000000 </td><td> 0.359920754</td><td> 0.993707916</td><td> 0.98401456 </td><td> 0.21657443 </td><td> 0.47582004 </td><td> 0.57397471 </td><td> 0.7874239  </td><td> 0.24352920 </td></tr>\n",
       "\t<tr><th scope=row>texture_worst</th><td> 0.456902821</td><td> 0.29700764 </td><td> 0.912044589</td><td> 0.303038372</td><td> 0.28748863 </td><td> 0.03607180 </td><td>0.24813283  </td><td>0.29987889  </td><td>0.29275171  </td><td>0.09065069  </td><td>⋯           </td><td>-0.003195029</td><td> 0.35992075 </td><td> 1.000000000</td><td> 0.365098245</td><td> 0.34584228 </td><td> 0.22542941 </td><td> 0.36083234 </td><td> 0.36836561 </td><td> 0.3597546  </td><td> 0.23302746 </td></tr>\n",
       "\t<tr><th scope=row>perimeter_worst</th><td> 0.782914137</td><td> 0.96513651 </td><td> 0.358039575</td><td> 0.970386887</td><td> 0.95911957 </td><td> 0.23885263 </td><td>0.59021043  </td><td>0.72956492  </td><td>0.85592313  </td><td>0.21916856  </td><td>⋯           </td><td>-0.001000398</td><td> 0.99370792 </td><td> 0.365098245</td><td> 1.000000000</td><td> 0.97757809 </td><td> 0.23677460 </td><td> 0.52940769 </td><td> 0.61834408 </td><td> 0.8163221  </td><td> 0.26949277 </td></tr>\n",
       "\t<tr><th scope=row>area_worst</th><td> 0.733825035</td><td> 0.94108246 </td><td> 0.343545947</td><td> 0.941549808</td><td> 0.95921333 </td><td> 0.20671836 </td><td>0.50960381  </td><td>0.67598723  </td><td>0.80962962  </td><td>0.17719338  </td><td>⋯           </td><td>-0.022736147</td><td> 0.98401456 </td><td> 0.345842283</td><td> 0.977578091</td><td> 1.00000000 </td><td> 0.20914533 </td><td> 0.43829628 </td><td> 0.54333053 </td><td> 0.7474188  </td><td> 0.20914551 </td></tr>\n",
       "\t<tr><th scope=row>smoothness_worst</th><td> 0.421464861</td><td> 0.11961614 </td><td> 0.077503359</td><td> 0.150549404</td><td> 0.12352294 </td><td> 0.80532420 </td><td>0.56554117  </td><td>0.44882204  </td><td>0.45275305  </td><td>0.42667503  </td><td>⋯           </td><td> 0.170568316</td><td> 0.21657443 </td><td> 0.225429415</td><td> 0.236774604</td><td> 0.20914533 </td><td> 1.00000000 </td><td> 0.56818652 </td><td> 0.51852329 </td><td> 0.5476909  </td><td> 0.49383833 </td></tr>\n",
       "\t<tr><th scope=row>compactness_worst</th><td> 0.590998238</td><td> 0.41346282 </td><td> 0.277829592</td><td> 0.455774228</td><td> 0.39041031 </td><td> 0.47246844 </td><td>0.86580904  </td><td>0.75496802  </td><td>0.66745368  </td><td>0.47320001  </td><td>⋯           </td><td> 0.390158842</td><td> 0.47582004 </td><td> 0.360832339</td><td> 0.529407690</td><td> 0.43829628 </td><td> 0.56818652 </td><td> 1.00000000 </td><td> 0.89226090 </td><td> 0.8010804  </td><td> 0.61444050 </td></tr>\n",
       "\t<tr><th scope=row>concavity_worst</th><td> 0.659610210</td><td> 0.52691146 </td><td> 0.301025224</td><td> 0.563879263</td><td> 0.51260592 </td><td> 0.43492571 </td><td>0.81627525  </td><td>0.88410264  </td><td>0.75239950  </td><td>0.43372101  </td><td>⋯           </td><td> 0.379974661</td><td> 0.57397471 </td><td> 0.368365607</td><td> 0.618344080</td><td> 0.54333053 </td><td> 0.51852329 </td><td> 0.89226090 </td><td> 1.00000000 </td><td> 0.8554339  </td><td> 0.53251973 </td></tr>\n",
       "\t<tr><th scope=row>concave.points_worst</th><td> 0.793566017</td><td> 0.74421420 </td><td> 0.295315843</td><td> 0.771240789</td><td> 0.72201663 </td><td> 0.50305335 </td><td>0.81557322  </td><td>0.86132303  </td><td>0.91015531  </td><td>0.43029661  </td><td>⋯           </td><td> 0.215204013</td><td> 0.78742385 </td><td> 0.359754610</td><td> 0.816322102</td><td> 0.74741880 </td><td> 0.54769090 </td><td> 0.80108036 </td><td> 0.85543386 </td><td> 1.0000000  </td><td> 0.50252849 </td></tr>\n",
       "\t<tr><th scope=row>symmetry_worst</th><td> 0.416294311</td><td> 0.16395333 </td><td> 0.105007910</td><td> 0.189115040</td><td> 0.14356991 </td><td> 0.39430948 </td><td>0.51022343  </td><td>0.40946413  </td><td>0.37574415  </td><td>0.69982580  </td><td>⋯           </td><td> 0.111093956</td><td> 0.24352920 </td><td> 0.233027461</td><td> 0.269492769</td><td> 0.20914551 </td><td> 0.49383833 </td><td> 0.61444050 </td><td> 0.53251973 </td><td> 0.5025285  </td><td> 1.00000000 </td></tr>\n",
       "</tbody>\n",
       "</table>\n"
      ],
      "text/latex": [
       "\\begin{tabular}{r|llllllllllllllllllllllllllllll}\n",
       "  & diagnosis & radius\\_mean & texture\\_mean & perimeter\\_mean & area\\_mean & smoothness\\_mean & compactness\\_mean & concavity\\_mean & concave.points\\_mean & symmetry\\_mean & ⋯ & fractal\\_dimension\\_se & radius\\_worst & texture\\_worst & perimeter\\_worst & area\\_worst & smoothness\\_worst & compactness\\_worst & concavity\\_worst & concave.points\\_worst & symmetry\\_worst\\\\\n",
       "\\hline\n",
       "\tdiagnosis &  1.000000000 &  0.73002851  &  0.415185300 &  0.742635530 &  0.70898384  &  0.35855997  & 0.59653368   & 0.69635971   & 0.77661384   & 0.33049855   & ⋯            &  0.077972417 &  0.77645378  &  0.456902821 &  0.782914137 &  0.73382503  &  0.42146486  &  0.59099824  &  0.65961021  &  0.7935660   &  0.41629431 \\\\\n",
       "\tradius\\_mean &  0.730028511 &  1.00000000  &  0.323781891 &  0.997855281 &  0.98735717  &  0.17058119  & 0.50612358   & 0.67676355   & 0.82252852   & 0.14774124   & ⋯            & -0.042641269 &  0.96953897  &  0.297007644 &  0.965136514 &  0.94108246  &  0.11961614  &  0.41346282  &  0.52691146  &  0.7442142   &  0.16395333 \\\\\n",
       "\ttexture\\_mean &  0.415185300 &  0.32378189  &  1.000000000 &  0.329533059 &  0.32108570  & -0.02338852  & 0.23670222   & 0.30241783   & 0.29346405   & 0.07140098   & ⋯            &  0.054457520 &  0.35257295  &  0.912044589 &  0.358039575 &  0.34354595  &  0.07750336  &  0.27782959  &  0.30102522  &  0.2953158   &  0.10500791 \\\\\n",
       "\tperimeter\\_mean &  0.742635530 &  0.99785528  &  0.329533059 &  1.000000000 &  0.98650680  &  0.20727816  & 0.55693621   & 0.71613565   & 0.85097704   & 0.18302721   & ⋯            & -0.005523391 &  0.96947636  &  0.303038372 &  0.970386887 &  0.94154981  &  0.15054940  &  0.45577423  &  0.56387926  &  0.7712408   &  0.18911504 \\\\\n",
       "\tarea\\_mean &  0.708983837 &  0.98735717  &  0.321085696 &  0.986506804 &  1.00000000  &  0.17702838  & 0.49850168   & 0.68598283   & 0.82326887   & 0.15129308   & ⋯            & -0.019886963 &  0.96274609  &  0.287488627 &  0.959119574 &  0.95921333  &  0.12352294  &  0.39041031  &  0.51260592  &  0.7220166   &  0.14356991 \\\\\n",
       "\tsmoothness\\_mean &  0.358559965 &  0.17058119  & -0.023388516 &  0.207278164 &  0.17702838  &  1.00000000  & 0.65912322   & 0.52198377   & 0.55369517   & 0.55777479   & ⋯            &  0.283606699 &  0.21312014  &  0.036071799 &  0.238852626 &  0.20671836  &  0.80532420  &  0.47246844  &  0.43492571  &  0.5030534   &  0.39430948 \\\\\n",
       "\tcompactness\\_mean &  0.596533678 &  0.50612358  &  0.236702222 &  0.556936211 &  0.49850168  &  0.65912322  & 1.00000000   & 0.88312067   & 0.83113504   & 0.60264105   & ⋯            &  0.507318127 &  0.53531540  &  0.248132833 &  0.590210428 &  0.50960381  &  0.56554117  &  0.86580904  &  0.81627525  &  0.8155732   &  0.51022343 \\\\\n",
       "\tconcavity\\_mean &  0.696359707 &  0.67676355  &  0.302417828 &  0.716135650 &  0.68598283  &  0.52198377  & 0.88312067   & 1.00000000   & 0.92139103   & 0.50066662   & ⋯            &  0.449300749 &  0.68823641  &  0.299878889 &  0.729564917 &  0.67598723  &  0.44882204  &  0.75496802  &  0.88410264  &  0.8613230   &  0.40946413 \\\\\n",
       "\tconcave.points\\_mean &  0.776613840 &  0.82252852  &  0.293464051 &  0.850977041 &  0.82326887  &  0.55369517  & 0.83113504   & 0.92139103   & 1.00000000   & 0.46249739   & ⋯            &  0.257583746 &  0.83031763  &  0.292751713 &  0.855923128 &  0.80962962  &  0.45275305  &  0.66745368  &  0.75239950  &  0.9101553   &  0.37574415 \\\\\n",
       "\tsymmetry\\_mean &  0.330498554 &  0.14774124  &  0.071400980 &  0.183027212 &  0.15129308  &  0.55777479  & 0.60264105   & 0.50066662   & 0.46249739   & 1.00000000   & ⋯            &  0.331786146 &  0.18572775  &  0.090650688 &  0.219168559 &  0.17719338  &  0.42667503  &  0.47320001  &  0.43372101  &  0.4302966   &  0.69982580 \\\\\n",
       "\tfractal\\_dimension\\_mean & -0.012837603 & -0.31163083  & -0.076437183 & -0.261476908 & -0.28310981  &  0.58479200  & 0.56536866   & 0.33678336   & 0.16691738   & 0.47992133   & ⋯            &  0.688131577 & -0.25369149  & -0.051269202 & -0.205151211 & -0.23185445  &  0.50494208  &  0.45879816  &  0.34623388  &  0.1753254   &  0.33401868 \\\\\n",
       "\tradius\\_se &  0.567133821 &  0.67909039  &  0.275868676 &  0.691765014 &  0.73256223  &  0.30146710  & 0.49747345   & 0.63192482   & 0.69804983   & 0.30337926   & ⋯            &  0.227753533 &  0.71506520  &  0.194798557 &  0.719683804 &  0.75154848  &  0.14191855  &  0.28710317  &  0.38058463  &  0.5310623   &  0.09454283 \\\\\n",
       "\ttexture\\_se & -0.008303333 & -0.09731744  &  0.386357623 & -0.086761078 & -0.06628021  &  0.06840645  & 0.04620483   & 0.07621835   & 0.02147958   & 0.12805293   & ⋯            &  0.279722748 & -0.11169031  &  0.409002766 & -0.102241922 & -0.08319499  & -0.07365766  & -0.09243935  & -0.06895622  & -0.1196375   & -0.12821476 \\\\\n",
       "\tperimeter\\_se &  0.556140703 &  0.67417162  &  0.281673115 &  0.693134890 &  0.72662833  &  0.29609193  & 0.54890526   & 0.66039079   & 0.71064987   & 0.31389276   & ⋯            &  0.244142773 &  0.69720059  &  0.200370854 &  0.721031310 &  0.73071297  &  0.13005439  &  0.34191945  &  0.41889882  &  0.5548972   &  0.10993043 \\\\\n",
       "\tarea\\_se &  0.548235940 &  0.73586366  &  0.259844987 &  0.744982694 &  0.80008592  &  0.24655243  & 0.45565285   & 0.61742681   & 0.69029854   & 0.22397022   & ⋯            &  0.127070903 &  0.75737319  &  0.196496649 &  0.761212636 &  0.81140796  &  0.12538943  &  0.28325654  &  0.38510014  &  0.5381663   &  0.07412629 \\\\\n",
       "\tsmoothness\\_se & -0.067016011 & -0.22260012  &  0.006613777 & -0.202694026 & -0.16677667  &  0.33237544  & 0.13529927   & 0.09856375   & 0.02765331   & 0.18732117   & ⋯            &  0.427374207 & -0.23069071  & -0.074742965 & -0.217303755 & -0.18219548  &  0.31445746  & -0.05555814  & -0.05829839  & -0.1020068   & -0.10734210 \\\\\n",
       "\tcompactness\\_se &  0.292999244 &  0.20599998  &  0.191974611 &  0.250743681 &  0.21258255  &  0.31894330  & 0.73872179   & 0.67027882   & 0.49042425   & 0.42165915   & ⋯            &  0.803268818 &  0.20460717  &  0.143002583 &  0.260515840 &  0.19937133  &  0.22739423  &  0.67878035  &  0.63914670  &  0.4832083   &  0.27787843 \\\\\n",
       "\tconcavity\\_se &  0.253729766 &  0.19420362  &  0.143293077 &  0.228082345 &  0.20766006  &  0.24839568  & 0.57051687   & 0.69127021   & 0.43916707   & 0.34262702   & ⋯            &  0.727372184 &  0.18690352  &  0.100240984 &  0.226680426 &  0.18835265  &  0.16848132  &  0.48485780  &  0.66256413  &  0.4404723   &  0.19778782 \\\\\n",
       "\tconcave.points\\_se &  0.408042333 &  0.37616896  &  0.163851025 &  0.407216916 &  0.37232028  &  0.38067569  & 0.64226185   & 0.68325992   & 0.61563413   & 0.39329787   & ⋯            &  0.611044139 &  0.35812667  &  0.086741210 &  0.394999252 &  0.34227116  &  0.21535060  &  0.45288838  &  0.54959238  &  0.6024496   &  0.14311567 \\\\\n",
       "\tsymmetry\\_se & -0.006521756 & -0.10432088  &  0.009127168 & -0.081629327 & -0.07249659  &  0.20077438  & 0.22997659   & 0.17800921   & 0.09535079   & 0.44913654   & ⋯            &  0.369078083 & -0.12812077  & -0.077473420 & -0.103753044 & -0.11034274  & -0.01266180  &  0.06025488  &  0.03711905  & -0.0304134   &  0.38940248 \\\\\n",
       "\tfractal\\_dimension\\_se &  0.077972417 & -0.04264127  &  0.054457520 & -0.005523391 & -0.01988696  &  0.28360670  & 0.50731813   & 0.44930075   & 0.25758375   & 0.33178615   & ⋯            &  1.000000000 & -0.03748762  & -0.003195029 & -0.001000398 & -0.02273615  &  0.17056832  &  0.39015884  &  0.37997466  &  0.2152040   &  0.11109396 \\\\\n",
       "\tradius\\_worst &  0.776453779 &  0.96953897  &  0.352572947 &  0.969476363 &  0.96274609  &  0.21312014  & 0.53531540   & 0.68823641   & 0.83031763   & 0.18572775   & ⋯            & -0.037487618 &  1.00000000  &  0.359920754 &  0.993707916 &  0.98401456  &  0.21657443  &  0.47582004  &  0.57397471  &  0.7874239   &  0.24352920 \\\\\n",
       "\ttexture\\_worst &  0.456902821 &  0.29700764  &  0.912044589 &  0.303038372 &  0.28748863  &  0.03607180  & 0.24813283   & 0.29987889   & 0.29275171   & 0.09065069   & ⋯            & -0.003195029 &  0.35992075  &  1.000000000 &  0.365098245 &  0.34584228  &  0.22542941  &  0.36083234  &  0.36836561  &  0.3597546   &  0.23302746 \\\\\n",
       "\tperimeter\\_worst &  0.782914137 &  0.96513651  &  0.358039575 &  0.970386887 &  0.95911957  &  0.23885263  & 0.59021043   & 0.72956492   & 0.85592313   & 0.21916856   & ⋯            & -0.001000398 &  0.99370792  &  0.365098245 &  1.000000000 &  0.97757809  &  0.23677460  &  0.52940769  &  0.61834408  &  0.8163221   &  0.26949277 \\\\\n",
       "\tarea\\_worst &  0.733825035 &  0.94108246  &  0.343545947 &  0.941549808 &  0.95921333  &  0.20671836  & 0.50960381   & 0.67598723   & 0.80962962   & 0.17719338   & ⋯            & -0.022736147 &  0.98401456  &  0.345842283 &  0.977578091 &  1.00000000  &  0.20914533  &  0.43829628  &  0.54333053  &  0.7474188   &  0.20914551 \\\\\n",
       "\tsmoothness\\_worst &  0.421464861 &  0.11961614  &  0.077503359 &  0.150549404 &  0.12352294  &  0.80532420  & 0.56554117   & 0.44882204   & 0.45275305   & 0.42667503   & ⋯            &  0.170568316 &  0.21657443  &  0.225429415 &  0.236774604 &  0.20914533  &  1.00000000  &  0.56818652  &  0.51852329  &  0.5476909   &  0.49383833 \\\\\n",
       "\tcompactness\\_worst &  0.590998238 &  0.41346282  &  0.277829592 &  0.455774228 &  0.39041031  &  0.47246844  & 0.86580904   & 0.75496802   & 0.66745368   & 0.47320001   & ⋯            &  0.390158842 &  0.47582004  &  0.360832339 &  0.529407690 &  0.43829628  &  0.56818652  &  1.00000000  &  0.89226090  &  0.8010804   &  0.61444050 \\\\\n",
       "\tconcavity\\_worst &  0.659610210 &  0.52691146  &  0.301025224 &  0.563879263 &  0.51260592  &  0.43492571  & 0.81627525   & 0.88410264   & 0.75239950   & 0.43372101   & ⋯            &  0.379974661 &  0.57397471  &  0.368365607 &  0.618344080 &  0.54333053  &  0.51852329  &  0.89226090  &  1.00000000  &  0.8554339   &  0.53251973 \\\\\n",
       "\tconcave.points\\_worst &  0.793566017 &  0.74421420  &  0.295315843 &  0.771240789 &  0.72201663  &  0.50305335  & 0.81557322   & 0.86132303   & 0.91015531   & 0.43029661   & ⋯            &  0.215204013 &  0.78742385  &  0.359754610 &  0.816322102 &  0.74741880  &  0.54769090  &  0.80108036  &  0.85543386  &  1.0000000   &  0.50252849 \\\\\n",
       "\tsymmetry\\_worst &  0.416294311 &  0.16395333  &  0.105007910 &  0.189115040 &  0.14356991  &  0.39430948  & 0.51022343   & 0.40946413   & 0.37574415   & 0.69982580   & ⋯            &  0.111093956 &  0.24352920  &  0.233027461 &  0.269492769 &  0.20914551  &  0.49383833  &  0.61444050  &  0.53251973  &  0.5025285   &  1.00000000 \\\\\n",
       "\\end{tabular}\n"
      ],
      "text/markdown": [
       "\n",
       "| <!--/--> | diagnosis | radius_mean | texture_mean | perimeter_mean | area_mean | smoothness_mean | compactness_mean | concavity_mean | concave.points_mean | symmetry_mean | ⋯ | fractal_dimension_se | radius_worst | texture_worst | perimeter_worst | area_worst | smoothness_worst | compactness_worst | concavity_worst | concave.points_worst | symmetry_worst | \n",
       "|---|---|---|---|---|---|---|---|---|---|---|---|---|---|---|---|---|---|---|---|---|---|---|---|---|---|---|---|---|---|\n",
       "| diagnosis |  1.000000000 |  0.73002851  |  0.415185300 |  0.742635530 |  0.70898384  |  0.35855997  | 0.59653368   | 0.69635971   | 0.77661384   | 0.33049855   | ⋯            |  0.077972417 |  0.77645378  |  0.456902821 |  0.782914137 |  0.73382503  |  0.42146486  |  0.59099824  |  0.65961021  |  0.7935660   |  0.41629431  | \n",
       "| radius_mean |  0.730028511 |  1.00000000  |  0.323781891 |  0.997855281 |  0.98735717  |  0.17058119  | 0.50612358   | 0.67676355   | 0.82252852   | 0.14774124   | ⋯            | -0.042641269 |  0.96953897  |  0.297007644 |  0.965136514 |  0.94108246  |  0.11961614  |  0.41346282  |  0.52691146  |  0.7442142   |  0.16395333  | \n",
       "| texture_mean |  0.415185300 |  0.32378189  |  1.000000000 |  0.329533059 |  0.32108570  | -0.02338852  | 0.23670222   | 0.30241783   | 0.29346405   | 0.07140098   | ⋯            |  0.054457520 |  0.35257295  |  0.912044589 |  0.358039575 |  0.34354595  |  0.07750336  |  0.27782959  |  0.30102522  |  0.2953158   |  0.10500791  | \n",
       "| perimeter_mean |  0.742635530 |  0.99785528  |  0.329533059 |  1.000000000 |  0.98650680  |  0.20727816  | 0.55693621   | 0.71613565   | 0.85097704   | 0.18302721   | ⋯            | -0.005523391 |  0.96947636  |  0.303038372 |  0.970386887 |  0.94154981  |  0.15054940  |  0.45577423  |  0.56387926  |  0.7712408   |  0.18911504  | \n",
       "| area_mean |  0.708983837 |  0.98735717  |  0.321085696 |  0.986506804 |  1.00000000  |  0.17702838  | 0.49850168   | 0.68598283   | 0.82326887   | 0.15129308   | ⋯            | -0.019886963 |  0.96274609  |  0.287488627 |  0.959119574 |  0.95921333  |  0.12352294  |  0.39041031  |  0.51260592  |  0.7220166   |  0.14356991  | \n",
       "| smoothness_mean |  0.358559965 |  0.17058119  | -0.023388516 |  0.207278164 |  0.17702838  |  1.00000000  | 0.65912322   | 0.52198377   | 0.55369517   | 0.55777479   | ⋯            |  0.283606699 |  0.21312014  |  0.036071799 |  0.238852626 |  0.20671836  |  0.80532420  |  0.47246844  |  0.43492571  |  0.5030534   |  0.39430948  | \n",
       "| compactness_mean |  0.596533678 |  0.50612358  |  0.236702222 |  0.556936211 |  0.49850168  |  0.65912322  | 1.00000000   | 0.88312067   | 0.83113504   | 0.60264105   | ⋯            |  0.507318127 |  0.53531540  |  0.248132833 |  0.590210428 |  0.50960381  |  0.56554117  |  0.86580904  |  0.81627525  |  0.8155732   |  0.51022343  | \n",
       "| concavity_mean |  0.696359707 |  0.67676355  |  0.302417828 |  0.716135650 |  0.68598283  |  0.52198377  | 0.88312067   | 1.00000000   | 0.92139103   | 0.50066662   | ⋯            |  0.449300749 |  0.68823641  |  0.299878889 |  0.729564917 |  0.67598723  |  0.44882204  |  0.75496802  |  0.88410264  |  0.8613230   |  0.40946413  | \n",
       "| concave.points_mean |  0.776613840 |  0.82252852  |  0.293464051 |  0.850977041 |  0.82326887  |  0.55369517  | 0.83113504   | 0.92139103   | 1.00000000   | 0.46249739   | ⋯            |  0.257583746 |  0.83031763  |  0.292751713 |  0.855923128 |  0.80962962  |  0.45275305  |  0.66745368  |  0.75239950  |  0.9101553   |  0.37574415  | \n",
       "| symmetry_mean |  0.330498554 |  0.14774124  |  0.071400980 |  0.183027212 |  0.15129308  |  0.55777479  | 0.60264105   | 0.50066662   | 0.46249739   | 1.00000000   | ⋯            |  0.331786146 |  0.18572775  |  0.090650688 |  0.219168559 |  0.17719338  |  0.42667503  |  0.47320001  |  0.43372101  |  0.4302966   |  0.69982580  | \n",
       "| fractal_dimension_mean | -0.012837603 | -0.31163083  | -0.076437183 | -0.261476908 | -0.28310981  |  0.58479200  | 0.56536866   | 0.33678336   | 0.16691738   | 0.47992133   | ⋯            |  0.688131577 | -0.25369149  | -0.051269202 | -0.205151211 | -0.23185445  |  0.50494208  |  0.45879816  |  0.34623388  |  0.1753254   |  0.33401868  | \n",
       "| radius_se |  0.567133821 |  0.67909039  |  0.275868676 |  0.691765014 |  0.73256223  |  0.30146710  | 0.49747345   | 0.63192482   | 0.69804983   | 0.30337926   | ⋯            |  0.227753533 |  0.71506520  |  0.194798557 |  0.719683804 |  0.75154848  |  0.14191855  |  0.28710317  |  0.38058463  |  0.5310623   |  0.09454283  | \n",
       "| texture_se | -0.008303333 | -0.09731744  |  0.386357623 | -0.086761078 | -0.06628021  |  0.06840645  | 0.04620483   | 0.07621835   | 0.02147958   | 0.12805293   | ⋯            |  0.279722748 | -0.11169031  |  0.409002766 | -0.102241922 | -0.08319499  | -0.07365766  | -0.09243935  | -0.06895622  | -0.1196375   | -0.12821476  | \n",
       "| perimeter_se |  0.556140703 |  0.67417162  |  0.281673115 |  0.693134890 |  0.72662833  |  0.29609193  | 0.54890526   | 0.66039079   | 0.71064987   | 0.31389276   | ⋯            |  0.244142773 |  0.69720059  |  0.200370854 |  0.721031310 |  0.73071297  |  0.13005439  |  0.34191945  |  0.41889882  |  0.5548972   |  0.10993043  | \n",
       "| area_se |  0.548235940 |  0.73586366  |  0.259844987 |  0.744982694 |  0.80008592  |  0.24655243  | 0.45565285   | 0.61742681   | 0.69029854   | 0.22397022   | ⋯            |  0.127070903 |  0.75737319  |  0.196496649 |  0.761212636 |  0.81140796  |  0.12538943  |  0.28325654  |  0.38510014  |  0.5381663   |  0.07412629  | \n",
       "| smoothness_se | -0.067016011 | -0.22260012  |  0.006613777 | -0.202694026 | -0.16677667  |  0.33237544  | 0.13529927   | 0.09856375   | 0.02765331   | 0.18732117   | ⋯            |  0.427374207 | -0.23069071  | -0.074742965 | -0.217303755 | -0.18219548  |  0.31445746  | -0.05555814  | -0.05829839  | -0.1020068   | -0.10734210  | \n",
       "| compactness_se |  0.292999244 |  0.20599998  |  0.191974611 |  0.250743681 |  0.21258255  |  0.31894330  | 0.73872179   | 0.67027882   | 0.49042425   | 0.42165915   | ⋯            |  0.803268818 |  0.20460717  |  0.143002583 |  0.260515840 |  0.19937133  |  0.22739423  |  0.67878035  |  0.63914670  |  0.4832083   |  0.27787843  | \n",
       "| concavity_se |  0.253729766 |  0.19420362  |  0.143293077 |  0.228082345 |  0.20766006  |  0.24839568  | 0.57051687   | 0.69127021   | 0.43916707   | 0.34262702   | ⋯            |  0.727372184 |  0.18690352  |  0.100240984 |  0.226680426 |  0.18835265  |  0.16848132  |  0.48485780  |  0.66256413  |  0.4404723   |  0.19778782  | \n",
       "| concave.points_se |  0.408042333 |  0.37616896  |  0.163851025 |  0.407216916 |  0.37232028  |  0.38067569  | 0.64226185   | 0.68325992   | 0.61563413   | 0.39329787   | ⋯            |  0.611044139 |  0.35812667  |  0.086741210 |  0.394999252 |  0.34227116  |  0.21535060  |  0.45288838  |  0.54959238  |  0.6024496   |  0.14311567  | \n",
       "| symmetry_se | -0.006521756 | -0.10432088  |  0.009127168 | -0.081629327 | -0.07249659  |  0.20077438  | 0.22997659   | 0.17800921   | 0.09535079   | 0.44913654   | ⋯            |  0.369078083 | -0.12812077  | -0.077473420 | -0.103753044 | -0.11034274  | -0.01266180  |  0.06025488  |  0.03711905  | -0.0304134   |  0.38940248  | \n",
       "| fractal_dimension_se |  0.077972417 | -0.04264127  |  0.054457520 | -0.005523391 | -0.01988696  |  0.28360670  | 0.50731813   | 0.44930075   | 0.25758375   | 0.33178615   | ⋯            |  1.000000000 | -0.03748762  | -0.003195029 | -0.001000398 | -0.02273615  |  0.17056832  |  0.39015884  |  0.37997466  |  0.2152040   |  0.11109396  | \n",
       "| radius_worst |  0.776453779 |  0.96953897  |  0.352572947 |  0.969476363 |  0.96274609  |  0.21312014  | 0.53531540   | 0.68823641   | 0.83031763   | 0.18572775   | ⋯            | -0.037487618 |  1.00000000  |  0.359920754 |  0.993707916 |  0.98401456  |  0.21657443  |  0.47582004  |  0.57397471  |  0.7874239   |  0.24352920  | \n",
       "| texture_worst |  0.456902821 |  0.29700764  |  0.912044589 |  0.303038372 |  0.28748863  |  0.03607180  | 0.24813283   | 0.29987889   | 0.29275171   | 0.09065069   | ⋯            | -0.003195029 |  0.35992075  |  1.000000000 |  0.365098245 |  0.34584228  |  0.22542941  |  0.36083234  |  0.36836561  |  0.3597546   |  0.23302746  | \n",
       "| perimeter_worst |  0.782914137 |  0.96513651  |  0.358039575 |  0.970386887 |  0.95911957  |  0.23885263  | 0.59021043   | 0.72956492   | 0.85592313   | 0.21916856   | ⋯            | -0.001000398 |  0.99370792  |  0.365098245 |  1.000000000 |  0.97757809  |  0.23677460  |  0.52940769  |  0.61834408  |  0.8163221   |  0.26949277  | \n",
       "| area_worst |  0.733825035 |  0.94108246  |  0.343545947 |  0.941549808 |  0.95921333  |  0.20671836  | 0.50960381   | 0.67598723   | 0.80962962   | 0.17719338   | ⋯            | -0.022736147 |  0.98401456  |  0.345842283 |  0.977578091 |  1.00000000  |  0.20914533  |  0.43829628  |  0.54333053  |  0.7474188   |  0.20914551  | \n",
       "| smoothness_worst |  0.421464861 |  0.11961614  |  0.077503359 |  0.150549404 |  0.12352294  |  0.80532420  | 0.56554117   | 0.44882204   | 0.45275305   | 0.42667503   | ⋯            |  0.170568316 |  0.21657443  |  0.225429415 |  0.236774604 |  0.20914533  |  1.00000000  |  0.56818652  |  0.51852329  |  0.5476909   |  0.49383833  | \n",
       "| compactness_worst |  0.590998238 |  0.41346282  |  0.277829592 |  0.455774228 |  0.39041031  |  0.47246844  | 0.86580904   | 0.75496802   | 0.66745368   | 0.47320001   | ⋯            |  0.390158842 |  0.47582004  |  0.360832339 |  0.529407690 |  0.43829628  |  0.56818652  |  1.00000000  |  0.89226090  |  0.8010804   |  0.61444050  | \n",
       "| concavity_worst |  0.659610210 |  0.52691146  |  0.301025224 |  0.563879263 |  0.51260592  |  0.43492571  | 0.81627525   | 0.88410264   | 0.75239950   | 0.43372101   | ⋯            |  0.379974661 |  0.57397471  |  0.368365607 |  0.618344080 |  0.54333053  |  0.51852329  |  0.89226090  |  1.00000000  |  0.8554339   |  0.53251973  | \n",
       "| concave.points_worst |  0.793566017 |  0.74421420  |  0.295315843 |  0.771240789 |  0.72201663  |  0.50305335  | 0.81557322   | 0.86132303   | 0.91015531   | 0.43029661   | ⋯            |  0.215204013 |  0.78742385  |  0.359754610 |  0.816322102 |  0.74741880  |  0.54769090  |  0.80108036  |  0.85543386  |  1.0000000   |  0.50252849  | \n",
       "| symmetry_worst |  0.416294311 |  0.16395333  |  0.105007910 |  0.189115040 |  0.14356991  |  0.39430948  | 0.51022343   | 0.40946413   | 0.37574415   | 0.69982580   | ⋯            |  0.111093956 |  0.24352920  |  0.233027461 |  0.269492769 |  0.20914551  |  0.49383833  |  0.61444050  |  0.53251973  |  0.5025285   |  1.00000000  | \n",
       "\n",
       "\n"
      ],
      "text/plain": [
       "                       diagnosis    radius_mean texture_mean perimeter_mean\n",
       "diagnosis               1.000000000  0.73002851  0.415185300  0.742635530  \n",
       "radius_mean             0.730028511  1.00000000  0.323781891  0.997855281  \n",
       "texture_mean            0.415185300  0.32378189  1.000000000  0.329533059  \n",
       "perimeter_mean          0.742635530  0.99785528  0.329533059  1.000000000  \n",
       "area_mean               0.708983837  0.98735717  0.321085696  0.986506804  \n",
       "smoothness_mean         0.358559965  0.17058119 -0.023388516  0.207278164  \n",
       "compactness_mean        0.596533678  0.50612358  0.236702222  0.556936211  \n",
       "concavity_mean          0.696359707  0.67676355  0.302417828  0.716135650  \n",
       "concave.points_mean     0.776613840  0.82252852  0.293464051  0.850977041  \n",
       "symmetry_mean           0.330498554  0.14774124  0.071400980  0.183027212  \n",
       "fractal_dimension_mean -0.012837603 -0.31163083 -0.076437183 -0.261476908  \n",
       "radius_se               0.567133821  0.67909039  0.275868676  0.691765014  \n",
       "texture_se             -0.008303333 -0.09731744  0.386357623 -0.086761078  \n",
       "perimeter_se            0.556140703  0.67417162  0.281673115  0.693134890  \n",
       "area_se                 0.548235940  0.73586366  0.259844987  0.744982694  \n",
       "smoothness_se          -0.067016011 -0.22260012  0.006613777 -0.202694026  \n",
       "compactness_se          0.292999244  0.20599998  0.191974611  0.250743681  \n",
       "concavity_se            0.253729766  0.19420362  0.143293077  0.228082345  \n",
       "concave.points_se       0.408042333  0.37616896  0.163851025  0.407216916  \n",
       "symmetry_se            -0.006521756 -0.10432088  0.009127168 -0.081629327  \n",
       "fractal_dimension_se    0.077972417 -0.04264127  0.054457520 -0.005523391  \n",
       "radius_worst            0.776453779  0.96953897  0.352572947  0.969476363  \n",
       "texture_worst           0.456902821  0.29700764  0.912044589  0.303038372  \n",
       "perimeter_worst         0.782914137  0.96513651  0.358039575  0.970386887  \n",
       "area_worst              0.733825035  0.94108246  0.343545947  0.941549808  \n",
       "smoothness_worst        0.421464861  0.11961614  0.077503359  0.150549404  \n",
       "compactness_worst       0.590998238  0.41346282  0.277829592  0.455774228  \n",
       "concavity_worst         0.659610210  0.52691146  0.301025224  0.563879263  \n",
       "concave.points_worst    0.793566017  0.74421420  0.295315843  0.771240789  \n",
       "symmetry_worst          0.416294311  0.16395333  0.105007910  0.189115040  \n",
       "                       area_mean   smoothness_mean compactness_mean\n",
       "diagnosis               0.70898384  0.35855997     0.59653368      \n",
       "radius_mean             0.98735717  0.17058119     0.50612358      \n",
       "texture_mean            0.32108570 -0.02338852     0.23670222      \n",
       "perimeter_mean          0.98650680  0.20727816     0.55693621      \n",
       "area_mean               1.00000000  0.17702838     0.49850168      \n",
       "smoothness_mean         0.17702838  1.00000000     0.65912322      \n",
       "compactness_mean        0.49850168  0.65912322     1.00000000      \n",
       "concavity_mean          0.68598283  0.52198377     0.88312067      \n",
       "concave.points_mean     0.82326887  0.55369517     0.83113504      \n",
       "symmetry_mean           0.15129308  0.55777479     0.60264105      \n",
       "fractal_dimension_mean -0.28310981  0.58479200     0.56536866      \n",
       "radius_se               0.73256223  0.30146710     0.49747345      \n",
       "texture_se             -0.06628021  0.06840645     0.04620483      \n",
       "perimeter_se            0.72662833  0.29609193     0.54890526      \n",
       "area_se                 0.80008592  0.24655243     0.45565285      \n",
       "smoothness_se          -0.16677667  0.33237544     0.13529927      \n",
       "compactness_se          0.21258255  0.31894330     0.73872179      \n",
       "concavity_se            0.20766006  0.24839568     0.57051687      \n",
       "concave.points_se       0.37232028  0.38067569     0.64226185      \n",
       "symmetry_se            -0.07249659  0.20077438     0.22997659      \n",
       "fractal_dimension_se   -0.01988696  0.28360670     0.50731813      \n",
       "radius_worst            0.96274609  0.21312014     0.53531540      \n",
       "texture_worst           0.28748863  0.03607180     0.24813283      \n",
       "perimeter_worst         0.95911957  0.23885263     0.59021043      \n",
       "area_worst              0.95921333  0.20671836     0.50960381      \n",
       "smoothness_worst        0.12352294  0.80532420     0.56554117      \n",
       "compactness_worst       0.39041031  0.47246844     0.86580904      \n",
       "concavity_worst         0.51260592  0.43492571     0.81627525      \n",
       "concave.points_worst    0.72201663  0.50305335     0.81557322      \n",
       "symmetry_worst          0.14356991  0.39430948     0.51022343      \n",
       "                       concavity_mean concave.points_mean symmetry_mean ⋯\n",
       "diagnosis              0.69635971     0.77661384          0.33049855    ⋯\n",
       "radius_mean            0.67676355     0.82252852          0.14774124    ⋯\n",
       "texture_mean           0.30241783     0.29346405          0.07140098    ⋯\n",
       "perimeter_mean         0.71613565     0.85097704          0.18302721    ⋯\n",
       "area_mean              0.68598283     0.82326887          0.15129308    ⋯\n",
       "smoothness_mean        0.52198377     0.55369517          0.55777479    ⋯\n",
       "compactness_mean       0.88312067     0.83113504          0.60264105    ⋯\n",
       "concavity_mean         1.00000000     0.92139103          0.50066662    ⋯\n",
       "concave.points_mean    0.92139103     1.00000000          0.46249739    ⋯\n",
       "symmetry_mean          0.50066662     0.46249739          1.00000000    ⋯\n",
       "fractal_dimension_mean 0.33678336     0.16691738          0.47992133    ⋯\n",
       "radius_se              0.63192482     0.69804983          0.30337926    ⋯\n",
       "texture_se             0.07621835     0.02147958          0.12805293    ⋯\n",
       "perimeter_se           0.66039079     0.71064987          0.31389276    ⋯\n",
       "area_se                0.61742681     0.69029854          0.22397022    ⋯\n",
       "smoothness_se          0.09856375     0.02765331          0.18732117    ⋯\n",
       "compactness_se         0.67027882     0.49042425          0.42165915    ⋯\n",
       "concavity_se           0.69127021     0.43916707          0.34262702    ⋯\n",
       "concave.points_se      0.68325992     0.61563413          0.39329787    ⋯\n",
       "symmetry_se            0.17800921     0.09535079          0.44913654    ⋯\n",
       "fractal_dimension_se   0.44930075     0.25758375          0.33178615    ⋯\n",
       "radius_worst           0.68823641     0.83031763          0.18572775    ⋯\n",
       "texture_worst          0.29987889     0.29275171          0.09065069    ⋯\n",
       "perimeter_worst        0.72956492     0.85592313          0.21916856    ⋯\n",
       "area_worst             0.67598723     0.80962962          0.17719338    ⋯\n",
       "smoothness_worst       0.44882204     0.45275305          0.42667503    ⋯\n",
       "compactness_worst      0.75496802     0.66745368          0.47320001    ⋯\n",
       "concavity_worst        0.88410264     0.75239950          0.43372101    ⋯\n",
       "concave.points_worst   0.86132303     0.91015531          0.43029661    ⋯\n",
       "symmetry_worst         0.40946413     0.37574415          0.69982580    ⋯\n",
       "                       fractal_dimension_se radius_worst texture_worst\n",
       "diagnosis               0.077972417          0.77645378   0.456902821 \n",
       "radius_mean            -0.042641269          0.96953897   0.297007644 \n",
       "texture_mean            0.054457520          0.35257295   0.912044589 \n",
       "perimeter_mean         -0.005523391          0.96947636   0.303038372 \n",
       "area_mean              -0.019886963          0.96274609   0.287488627 \n",
       "smoothness_mean         0.283606699          0.21312014   0.036071799 \n",
       "compactness_mean        0.507318127          0.53531540   0.248132833 \n",
       "concavity_mean          0.449300749          0.68823641   0.299878889 \n",
       "concave.points_mean     0.257583746          0.83031763   0.292751713 \n",
       "symmetry_mean           0.331786146          0.18572775   0.090650688 \n",
       "fractal_dimension_mean  0.688131577         -0.25369149  -0.051269202 \n",
       "radius_se               0.227753533          0.71506520   0.194798557 \n",
       "texture_se              0.279722748         -0.11169031   0.409002766 \n",
       "perimeter_se            0.244142773          0.69720059   0.200370854 \n",
       "area_se                 0.127070903          0.75737319   0.196496649 \n",
       "smoothness_se           0.427374207         -0.23069071  -0.074742965 \n",
       "compactness_se          0.803268818          0.20460717   0.143002583 \n",
       "concavity_se            0.727372184          0.18690352   0.100240984 \n",
       "concave.points_se       0.611044139          0.35812667   0.086741210 \n",
       "symmetry_se             0.369078083         -0.12812077  -0.077473420 \n",
       "fractal_dimension_se    1.000000000         -0.03748762  -0.003195029 \n",
       "radius_worst           -0.037487618          1.00000000   0.359920754 \n",
       "texture_worst          -0.003195029          0.35992075   1.000000000 \n",
       "perimeter_worst        -0.001000398          0.99370792   0.365098245 \n",
       "area_worst             -0.022736147          0.98401456   0.345842283 \n",
       "smoothness_worst        0.170568316          0.21657443   0.225429415 \n",
       "compactness_worst       0.390158842          0.47582004   0.360832339 \n",
       "concavity_worst         0.379974661          0.57397471   0.368365607 \n",
       "concave.points_worst    0.215204013          0.78742385   0.359754610 \n",
       "symmetry_worst          0.111093956          0.24352920   0.233027461 \n",
       "                       perimeter_worst area_worst  smoothness_worst\n",
       "diagnosis               0.782914137     0.73382503  0.42146486     \n",
       "radius_mean             0.965136514     0.94108246  0.11961614     \n",
       "texture_mean            0.358039575     0.34354595  0.07750336     \n",
       "perimeter_mean          0.970386887     0.94154981  0.15054940     \n",
       "area_mean               0.959119574     0.95921333  0.12352294     \n",
       "smoothness_mean         0.238852626     0.20671836  0.80532420     \n",
       "compactness_mean        0.590210428     0.50960381  0.56554117     \n",
       "concavity_mean          0.729564917     0.67598723  0.44882204     \n",
       "concave.points_mean     0.855923128     0.80962962  0.45275305     \n",
       "symmetry_mean           0.219168559     0.17719338  0.42667503     \n",
       "fractal_dimension_mean -0.205151211    -0.23185445  0.50494208     \n",
       "radius_se               0.719683804     0.75154848  0.14191855     \n",
       "texture_se             -0.102241922    -0.08319499 -0.07365766     \n",
       "perimeter_se            0.721031310     0.73071297  0.13005439     \n",
       "area_se                 0.761212636     0.81140796  0.12538943     \n",
       "smoothness_se          -0.217303755    -0.18219548  0.31445746     \n",
       "compactness_se          0.260515840     0.19937133  0.22739423     \n",
       "concavity_se            0.226680426     0.18835265  0.16848132     \n",
       "concave.points_se       0.394999252     0.34227116  0.21535060     \n",
       "symmetry_se            -0.103753044    -0.11034274 -0.01266180     \n",
       "fractal_dimension_se   -0.001000398    -0.02273615  0.17056832     \n",
       "radius_worst            0.993707916     0.98401456  0.21657443     \n",
       "texture_worst           0.365098245     0.34584228  0.22542941     \n",
       "perimeter_worst         1.000000000     0.97757809  0.23677460     \n",
       "area_worst              0.977578091     1.00000000  0.20914533     \n",
       "smoothness_worst        0.236774604     0.20914533  1.00000000     \n",
       "compactness_worst       0.529407690     0.43829628  0.56818652     \n",
       "concavity_worst         0.618344080     0.54333053  0.51852329     \n",
       "concave.points_worst    0.816322102     0.74741880  0.54769090     \n",
       "symmetry_worst          0.269492769     0.20914551  0.49383833     \n",
       "                       compactness_worst concavity_worst concave.points_worst\n",
       "diagnosis               0.59099824        0.65961021      0.7935660          \n",
       "radius_mean             0.41346282        0.52691146      0.7442142          \n",
       "texture_mean            0.27782959        0.30102522      0.2953158          \n",
       "perimeter_mean          0.45577423        0.56387926      0.7712408          \n",
       "area_mean               0.39041031        0.51260592      0.7220166          \n",
       "smoothness_mean         0.47246844        0.43492571      0.5030534          \n",
       "compactness_mean        0.86580904        0.81627525      0.8155732          \n",
       "concavity_mean          0.75496802        0.88410264      0.8613230          \n",
       "concave.points_mean     0.66745368        0.75239950      0.9101553          \n",
       "symmetry_mean           0.47320001        0.43372101      0.4302966          \n",
       "fractal_dimension_mean  0.45879816        0.34623388      0.1753254          \n",
       "radius_se               0.28710317        0.38058463      0.5310623          \n",
       "texture_se             -0.09243935       -0.06895622     -0.1196375          \n",
       "perimeter_se            0.34191945        0.41889882      0.5548972          \n",
       "area_se                 0.28325654        0.38510014      0.5381663          \n",
       "smoothness_se          -0.05555814       -0.05829839     -0.1020068          \n",
       "compactness_se          0.67878035        0.63914670      0.4832083          \n",
       "concavity_se            0.48485780        0.66256413      0.4404723          \n",
       "concave.points_se       0.45288838        0.54959238      0.6024496          \n",
       "symmetry_se             0.06025488        0.03711905     -0.0304134          \n",
       "fractal_dimension_se    0.39015884        0.37997466      0.2152040          \n",
       "radius_worst            0.47582004        0.57397471      0.7874239          \n",
       "texture_worst           0.36083234        0.36836561      0.3597546          \n",
       "perimeter_worst         0.52940769        0.61834408      0.8163221          \n",
       "area_worst              0.43829628        0.54333053      0.7474188          \n",
       "smoothness_worst        0.56818652        0.51852329      0.5476909          \n",
       "compactness_worst       1.00000000        0.89226090      0.8010804          \n",
       "concavity_worst         0.89226090        1.00000000      0.8554339          \n",
       "concave.points_worst    0.80108036        0.85543386      1.0000000          \n",
       "symmetry_worst          0.61444050        0.53251973      0.5025285          \n",
       "                       symmetry_worst\n",
       "diagnosis               0.41629431   \n",
       "radius_mean             0.16395333   \n",
       "texture_mean            0.10500791   \n",
       "perimeter_mean          0.18911504   \n",
       "area_mean               0.14356991   \n",
       "smoothness_mean         0.39430948   \n",
       "compactness_mean        0.51022343   \n",
       "concavity_mean          0.40946413   \n",
       "concave.points_mean     0.37574415   \n",
       "symmetry_mean           0.69982580   \n",
       "fractal_dimension_mean  0.33401868   \n",
       "radius_se               0.09454283   \n",
       "texture_se             -0.12821476   \n",
       "perimeter_se            0.10993043   \n",
       "area_se                 0.07412629   \n",
       "smoothness_se          -0.10734210   \n",
       "compactness_se          0.27787843   \n",
       "concavity_se            0.19778782   \n",
       "concave.points_se       0.14311567   \n",
       "symmetry_se             0.38940248   \n",
       "fractal_dimension_se    0.11109396   \n",
       "radius_worst            0.24352920   \n",
       "texture_worst           0.23302746   \n",
       "perimeter_worst         0.26949277   \n",
       "area_worst              0.20914551   \n",
       "smoothness_worst        0.49383833   \n",
       "compactness_worst       0.61444050   \n",
       "concavity_worst         0.53251973   \n",
       "concave.points_worst    0.50252849   \n",
       "symmetry_worst          1.00000000   "
      ]
     },
     "metadata": {},
     "output_type": "display_data"
    }
   ],
   "source": [
    "#::GMG::Visualización de la correlación entre las diferentes variables del dataset\n",
    "# https://www.rdocumentation.org/packages/stats/versions/3.5.2/topics/cor\n",
    "# http://www.sthda.com/english/wiki/correlation-matrix-a-quick-start-guide-to-analyze-format-and-visualize-a-correlation-matrix-using-r-software\n",
    "cor(df)"
   ]
  },
  {
   "cell_type": "code",
   "execution_count": 19,
   "metadata": {},
   "outputs": [
    {
     "data": {},
     "metadata": {},
     "output_type": "display_data"
    },
    {
     "data": {
      "image/png": "[encoded data removed]",
      "text/plain": [
       "plot without title"
      ]
     },
     "metadata": {},
     "output_type": "display_data"
    }
   ],
   "source": [
    "# https://www.rdocumentation.org/packages/lattice/versions/0.10-10/topics/levelplot\n",
    "# https://www.rdocumentation.org/packages/lattice/versions/0.10-10/topics/xyplot\n",
    "#::nota::para ver los niveles en color solamente interesa el valor absoluto\n",
    "#::nota::supongo que se podría poner un código de colores para ver diferencuas + o -\n",
    "cor.matrix <- abs(cor(df))\n",
    "levelplot(cor.matrix, at = seq(0, 1, 0.1), col.regions = rev(grey.colors(10)),\n",
    "          scale = list(x = list(rot = 90)))"
   ]
  },
  {
   "cell_type": "markdown",
   "metadata": {},
   "source": [
    "**::GMG::** Se puede ver claramente la correlación entre features relacionados con la *topología* del posible tumor (perimeter, area, radius, ... concavity and concave_points ...)"
   ]
  },
  {
   "cell_type": "code",
   "execution_count": 20,
   "metadata": {},
   "outputs": [
    {
     "data": {
      "text/plain": [
       "\n",
       "  0   1 \n",
       "357 212 "
      ]
     },
     "metadata": {},
     "output_type": "display_data"
    },
    {
     "data": {
      "image/png": "[encoded data removed]",
      "text/plain": [
       "plot without title"
      ]
     },
     "metadata": {},
     "output_type": "display_data"
    }
   ],
   "source": [
    "#::GMG::Se me ha ocurrido que puede ser interesante ver la proporción de clases en el dataset\n",
    "table(df$diagnosis)\n",
    "barplot(height = table(df$diagnosis),\n",
    "        col = c('darkgreen','darkred'),\n",
    "        names.arg = c('B','M'))"
   ]
  },
  {
   "cell_type": "markdown",
   "metadata": {},
   "source": [
    "**::GMG::** Vemos que no hay balance entre clases. Esto puede dar problemas al aplicar algoritmos de clasificación. Aunque en el caso específico de una regresión logística los efectos son limitados y podrían solucionarse:\n",
    "\n",
    "- StackExchange Cross Validated [Does an unbalanced sample matter when doing logistic regression?](https://stats.stackexchange.com/questions/6067/does-an-unbalanced-sample-matter-when-doing-logistic-regression)\n",
    "\n",
    "> For logistic regression models unbalanced training data affects only the estimate of the model intercept (although this of course skews all the predicted probabilities, which in turn compromises your predictions). Fortunately the intercept correction is straightforward: Provided you know, or can guess, the true proportion of 0s and 1s and know the proportions in the training set you can apply a rare events correction to the intercept. Details are in [King and Zeng (2001)](https://gking.harvard.edu/files/abs/0s-abs.shtml)"
   ]
  },
  {
   "cell_type": "markdown",
   "metadata": {},
   "source": [
    "## Modelo lineal completo"
   ]
  },
  {
   "cell_type": "markdown",
   "metadata": {},
   "source": [
    "### ::GMG:: Bibliotecas"
   ]
  },
  {
   "cell_type": "code",
   "execution_count": 12,
   "metadata": {},
   "outputs": [
    {
     "name": "stderr",
     "output_type": "stream",
     "text": [
      "Installing package into ‘/home/jovyan/R/x86_64-pc-linux-gnu-library/3.4’\n",
      "(as ‘lib’ is unspecified)\n",
      "also installing the dependencies ‘dotCall64’, ‘spam’, ‘maps’, ‘proxy’, ‘fields’, ‘boot’, ‘CircStats’, ‘dtw’\n",
      "\n"
     ]
    }
   ],
   "source": [
    "#install.packages(\"verification\")\n",
    "#install.packages(\"caret\")\n",
    "#install.packages(\"e1071\")"
   ]
  },
  {
   "cell_type": "code",
   "execution_count": 21,
   "metadata": {},
   "outputs": [
    {
     "name": "stderr",
     "output_type": "stream",
     "text": [
      "Spam version 2.2-1 (2018-12-20) is loaded.\n",
      "Type 'help( Spam)' or 'demo( spam)' for a short introduction \n",
      "and overview of this package.\n",
      "Help for individual functions is also obtained by adding the\n",
      "suffix '.spam' to the function name, e.g. 'help( chol.spam)'.\n",
      "\n",
      "Attaching package: ‘spam’\n",
      "\n",
      "The following objects are masked from ‘package:base’:\n",
      "\n",
      "    backsolve, forwardsolve\n",
      "\n",
      "See www.image.ucar.edu/~nychka/Fields for\n",
      " a vignette and other supplements. \n",
      "\n",
      "Attaching package: ‘boot’\n",
      "\n",
      "The following object is masked from ‘package:lattice’:\n",
      "\n",
      "    melanoma\n",
      "\n",
      "\n",
      "Attaching package: ‘proxy’\n",
      "\n",
      "The following object is masked from ‘package:spam’:\n",
      "\n",
      "    as.matrix\n",
      "\n",
      "The following objects are masked from ‘package:stats’:\n",
      "\n",
      "    as.dist, dist\n",
      "\n",
      "The following object is masked from ‘package:base’:\n",
      "\n",
      "    as.matrix\n",
      "\n",
      "Loaded dtw v1.20-1. See ?dtw for help, citation(\"dtw\") for use in publication.\n",
      "\n"
     ]
    }
   ],
   "source": [
    "library(verification, quietly = TRUE) # roc.area\n",
    "library(caret, quietly = TRUE) # confusionMatrix"
   ]
  },
  {
   "cell_type": "markdown",
   "metadata": {},
   "source": [
    "### ::GMG:: Full Model"
   ]
  },
  {
   "cell_type": "markdown",
   "metadata": {},
   "source": [
    "Ahora construimos el modelo lineal mediante la función glm. Como la variable respuesta sigue una distribución de Bernouilli lo más apropiado es realizar una regresión logística."
   ]
  },
  {
   "cell_type": "code",
   "execution_count": 22,
   "metadata": {},
   "outputs": [
    {
     "name": "stderr",
     "output_type": "stream",
     "text": [
      "Warning message:\n",
      "“glm.fit: fitted probabilities numerically 0 or 1 occurred”"
     ]
    }
   ],
   "source": [
    "#::GMG::Modelo con glm() con binomial y supongo que link 'logit'\n",
    "#       osea, una sigmoid\n",
    "#\n",
    "# https://en.wikipedia.org/wiki/Logit\n",
    "# https://stat.ethz.ch/R-manual/R-devel/library/stats/html/glm.html\n",
    "# https://www.rdocumentation.org/packages/stats/versions/3.5.2/topics/glm\n",
    "# https://www.statmethods.net/advstats/glm.html\n",
    "# \n",
    "#::nota::aparece un mensaje de warning ...\n",
    "# “glm.fit: fitted probabilities numerically 0 or 1 occurred”\n",
    "#::DUDA:: uhm, ese warning .... me concierne :?\n",
    "#::DUDA:: ¿Porqué no se ha hecho de entrada un train/test con CV en train?\n",
    "model <- glm(diagnosis ~ ., data = df, family = \"binomial\")"
   ]
  },
  {
   "cell_type": "markdown",
   "metadata": {},
   "source": [
    "### ::GMG:: Diagnóstico"
   ]
  },
  {
   "cell_type": "code",
   "execution_count": 24,
   "metadata": {},
   "outputs": [
    {
     "data": {
      "text/html": [
       "<dl class=dl-horizontal>\n",
       "\t<dt>(Intercept)</dt>\n",
       "\t\t<dd>99.2047143705629</dd>\n",
       "\t<dt>radius_mean</dt>\n",
       "\t\t<dd>-832.265700525082</dd>\n",
       "\t<dt>texture_mean</dt>\n",
       "\t\t<dd>40.7901417696821</dd>\n",
       "\t<dt>perimeter_mean</dt>\n",
       "\t\t<dd>56.6518062257862</dd>\n",
       "\t<dt>area_mean</dt>\n",
       "\t\t<dd>646.527540099475</dd>\n",
       "\t<dt>smoothness_mean</dt>\n",
       "\t\t<dd>1.06302048756104</dd>\n",
       "\t<dt>compactness_mean</dt>\n",
       "\t\t<dd>-160.975401905519</dd>\n",
       "\t<dt>concavity_mean</dt>\n",
       "\t\t<dd>95.3637128493468</dd>\n",
       "\t<dt>concave.points_mean</dt>\n",
       "\t\t<dd>84.8575767040497</dd>\n",
       "\t<dt>symmetry_mean</dt>\n",
       "\t\t<dd>-18.8315598934056</dd>\n",
       "\t<dt>fractal_dimension_mean</dt>\n",
       "\t\t<dd>44.5188209809897</dd>\n",
       "\t<dt>radius_se</dt>\n",
       "\t\t<dd>140.704483857491</dd>\n",
       "\t<dt>texture_se</dt>\n",
       "\t\t<dd>9.52003059956738</dd>\n",
       "\t<dt>perimeter_se</dt>\n",
       "\t\t<dd>-155.475724980988</dd>\n",
       "\t<dt>area_se</dt>\n",
       "\t\t<dd>93.6199339199129</dd>\n",
       "\t<dt>smoothness_se</dt>\n",
       "\t\t<dd>-14.3732383539978</dd>\n",
       "\t<dt>compactness_se</dt>\n",
       "\t\t<dd>39.4002508853441</dd>\n",
       "\t<dt>concavity_se</dt>\n",
       "\t\t<dd>-80.3902025545191</dd>\n",
       "\t<dt>concave.points_se</dt>\n",
       "\t\t<dd>87.7634857103732</dd>\n",
       "\t<dt>symmetry_se</dt>\n",
       "\t\t<dd>-30.6788831906792</dd>\n",
       "\t<dt>fractal_dimension_se</dt>\n",
       "\t\t<dd>-67.6583578427919</dd>\n",
       "\t<dt>radius_worst</dt>\n",
       "\t\t<dd>81.1773874569093</dd>\n",
       "\t<dt>texture_worst</dt>\n",
       "\t\t<dd>5.96834025769046</dd>\n",
       "\t<dt>perimeter_worst</dt>\n",
       "\t\t<dd>211.434319462584</dd>\n",
       "\t<dt>area_worst</dt>\n",
       "\t\t<dd>74.3718757484423</dd>\n",
       "\t<dt>smoothness_worst</dt>\n",
       "\t\t<dd>28.7569644773135</dd>\n",
       "\t<dt>compactness_worst</dt>\n",
       "\t\t<dd>33.9125766772531</dd>\n",
       "\t<dt>concavity_worst</dt>\n",
       "\t\t<dd>15.3250383031943</dd>\n",
       "\t<dt>concave.points_worst</dt>\n",
       "\t\t<dd>36.1856758468583</dd>\n",
       "\t<dt>symmetry_worst</dt>\n",
       "\t\t<dd>49.737757971707</dd>\n",
       "</dl>\n"
      ],
      "text/latex": [
       "\\begin{description*}\n",
       "\\item[(Intercept)] 99.2047143705629\n",
       "\\item[radius\\textbackslash{}\\_mean] -832.265700525082\n",
       "\\item[texture\\textbackslash{}\\_mean] 40.7901417696821\n",
       "\\item[perimeter\\textbackslash{}\\_mean] 56.6518062257862\n",
       "\\item[area\\textbackslash{}\\_mean] 646.527540099475\n",
       "\\item[smoothness\\textbackslash{}\\_mean] 1.06302048756104\n",
       "\\item[compactness\\textbackslash{}\\_mean] -160.975401905519\n",
       "\\item[concavity\\textbackslash{}\\_mean] 95.3637128493468\n",
       "\\item[concave.points\\textbackslash{}\\_mean] 84.8575767040497\n",
       "\\item[symmetry\\textbackslash{}\\_mean] -18.8315598934056\n",
       "\\item[fractal\\textbackslash{}\\_dimension\\textbackslash{}\\_mean] 44.5188209809897\n",
       "\\item[radius\\textbackslash{}\\_se] 140.704483857491\n",
       "\\item[texture\\textbackslash{}\\_se] 9.52003059956738\n",
       "\\item[perimeter\\textbackslash{}\\_se] -155.475724980988\n",
       "\\item[area\\textbackslash{}\\_se] 93.6199339199129\n",
       "\\item[smoothness\\textbackslash{}\\_se] -14.3732383539978\n",
       "\\item[compactness\\textbackslash{}\\_se] 39.4002508853441\n",
       "\\item[concavity\\textbackslash{}\\_se] -80.3902025545191\n",
       "\\item[concave.points\\textbackslash{}\\_se] 87.7634857103732\n",
       "\\item[symmetry\\textbackslash{}\\_se] -30.6788831906792\n",
       "\\item[fractal\\textbackslash{}\\_dimension\\textbackslash{}\\_se] -67.6583578427919\n",
       "\\item[radius\\textbackslash{}\\_worst] 81.1773874569093\n",
       "\\item[texture\\textbackslash{}\\_worst] 5.96834025769046\n",
       "\\item[perimeter\\textbackslash{}\\_worst] 211.434319462584\n",
       "\\item[area\\textbackslash{}\\_worst] 74.3718757484423\n",
       "\\item[smoothness\\textbackslash{}\\_worst] 28.7569644773135\n",
       "\\item[compactness\\textbackslash{}\\_worst] 33.9125766772531\n",
       "\\item[concavity\\textbackslash{}\\_worst] 15.3250383031943\n",
       "\\item[concave.points\\textbackslash{}\\_worst] 36.1856758468583\n",
       "\\item[symmetry\\textbackslash{}\\_worst] 49.737757971707\n",
       "\\end{description*}\n"
      ],
      "text/markdown": [
       "(Intercept)\n",
       ":   99.2047143705629radius_mean\n",
       ":   -832.265700525082texture_mean\n",
       ":   40.7901417696821perimeter_mean\n",
       ":   56.6518062257862area_mean\n",
       ":   646.527540099475smoothness_mean\n",
       ":   1.06302048756104compactness_mean\n",
       ":   -160.975401905519concavity_mean\n",
       ":   95.3637128493468concave.points_mean\n",
       ":   84.8575767040497symmetry_mean\n",
       ":   -18.8315598934056fractal_dimension_mean\n",
       ":   44.5188209809897radius_se\n",
       ":   140.704483857491texture_se\n",
       ":   9.52003059956738perimeter_se\n",
       ":   -155.475724980988area_se\n",
       ":   93.6199339199129smoothness_se\n",
       ":   -14.3732383539978compactness_se\n",
       ":   39.4002508853441concavity_se\n",
       ":   -80.3902025545191concave.points_se\n",
       ":   87.7634857103732symmetry_se\n",
       ":   -30.6788831906792fractal_dimension_se\n",
       ":   -67.6583578427919radius_worst\n",
       ":   81.1773874569093texture_worst\n",
       ":   5.96834025769046perimeter_worst\n",
       ":   211.434319462584area_worst\n",
       ":   74.3718757484423smoothness_worst\n",
       ":   28.7569644773135compactness_worst\n",
       ":   33.9125766772531concavity_worst\n",
       ":   15.3250383031943concave.points_worst\n",
       ":   36.1856758468583symmetry_worst\n",
       ":   49.737757971707\n",
       "\n"
      ],
      "text/plain": [
       "           (Intercept)            radius_mean           texture_mean \n",
       "             99.204714            -832.265701              40.790142 \n",
       "        perimeter_mean              area_mean        smoothness_mean \n",
       "             56.651806             646.527540               1.063020 \n",
       "      compactness_mean         concavity_mean    concave.points_mean \n",
       "           -160.975402              95.363713              84.857577 \n",
       "         symmetry_mean fractal_dimension_mean              radius_se \n",
       "            -18.831560              44.518821             140.704484 \n",
       "            texture_se           perimeter_se                area_se \n",
       "              9.520031            -155.475725              93.619934 \n",
       "         smoothness_se         compactness_se           concavity_se \n",
       "            -14.373238              39.400251             -80.390203 \n",
       "     concave.points_se            symmetry_se   fractal_dimension_se \n",
       "             87.763486             -30.678883             -67.658358 \n",
       "          radius_worst          texture_worst        perimeter_worst \n",
       "             81.177387               5.968340             211.434319 \n",
       "            area_worst       smoothness_worst      compactness_worst \n",
       "             74.371876              28.756964              33.912577 \n",
       "       concavity_worst   concave.points_worst         symmetry_worst \n",
       "             15.325038              36.185676              49.737758 "
      ]
     },
     "metadata": {},
     "output_type": "display_data"
    }
   ],
   "source": [
    "#::GMG::Echo un vistazo a los coeficientes\n",
    "#::nota::son grandes, eso no es muy buena señal ...\n",
    "#::nota::están en unidades 'logits', por cierto\n",
    "coefficients(model)"
   ]
  },
  {
   "cell_type": "code",
   "execution_count": 25,
   "metadata": {},
   "outputs": [
    {
     "data": {
      "text/plain": [
       "\n",
       "Call:\n",
       "glm(formula = diagnosis ~ ., family = \"binomial\", data = df)\n",
       "\n",
       "Deviance Residuals: \n",
       "   Min      1Q  Median      3Q     Max  \n",
       "-1.656   0.000   0.000   0.000   2.089  \n",
       "\n",
       "Coefficients:\n",
       "                       Estimate Std. Error z value Pr(>|z|)\n",
       "(Intercept)              99.205    121.387   0.817    0.414\n",
       "radius_mean            -832.266   1029.825  -0.808    0.419\n",
       "texture_mean             40.790     53.931   0.756    0.449\n",
       "perimeter_mean           56.652    197.530   0.287    0.774\n",
       "area_mean               646.528    793.721   0.815    0.415\n",
       "smoothness_mean           1.063      3.879   0.274    0.784\n",
       "compactness_mean       -160.975    210.095  -0.766    0.444\n",
       "concavity_mean           95.364    122.894   0.776    0.438\n",
       "concave.points_mean      84.858    107.422   0.790    0.430\n",
       "symmetry_mean           -18.832     23.043  -0.817    0.414\n",
       "fractal_dimension_mean   44.519     59.785   0.745    0.456\n",
       "radius_se               140.704    185.470   0.759    0.448\n",
       "texture_se                9.520     15.249   0.624    0.532\n",
       "perimeter_se           -155.476    198.354  -0.784    0.433\n",
       "area_se                  93.620    116.645   0.803    0.422\n",
       "smoothness_se           -14.373     17.152  -0.838    0.402\n",
       "compactness_se           39.400     51.187   0.770    0.441\n",
       "concavity_se            -80.390     97.289  -0.826    0.409\n",
       "concave.points_se        87.763    105.294   0.834    0.405\n",
       "symmetry_se             -30.679     37.872  -0.810    0.418\n",
       "fractal_dimension_se    -67.658     88.096  -0.768    0.442\n",
       "radius_worst             81.177    120.615   0.673    0.501\n",
       "texture_worst             5.968      8.103   0.737    0.461\n",
       "perimeter_worst         211.434    292.005   0.724    0.469\n",
       "area_worst               74.372    103.957   0.715    0.474\n",
       "smoothness_worst         28.757     36.709   0.783    0.433\n",
       "compactness_worst        33.913     48.755   0.696    0.487\n",
       "concavity_worst          15.325     16.843   0.910    0.363\n",
       "concave.points_worst     36.186     52.223   0.693    0.488\n",
       "symmetry_worst           49.738     61.027   0.815    0.415\n",
       "\n",
       "(Dispersion parameter for binomial family taken to be 1)\n",
       "\n",
       "    Null deviance: 751.44  on 568  degrees of freedom\n",
       "Residual deviance:  26.94  on 539  degrees of freedom\n",
       "AIC: 86.94\n",
       "\n",
       "Number of Fisher Scoring iterations: 20\n"
      ]
     },
     "metadata": {},
     "output_type": "display_data"
    }
   ],
   "source": [
    "#::GMG::Veo el sumario y me fijo en el std error y p-value  de los coeficientes ... \n",
    "#       uy, mal! :) TODOS son non-significant (p > 0.05) y los erroes son GRANDES\n",
    "#::nota::la métrica 'deviance' que mide el 'badness of fit' tiene un valor alto\n",
    "#        en el caso de usar solo el intercept (null deviance) y se reduce \n",
    "#        de manera importante al incluir todos los features (residual deviance) ...\n",
    "#::DUDA::¿y eso que significa respecto al 'badness' de nuestro modelo?\n",
    "#::DUDA::¿cómo se interpreta el Deviance residuals Min, 1Q, Median, 3Q, Max?\n",
    "#::nota::se ve también que el modelo ha 'convergido' en 20 iteraciones del algoritmo\n",
    "#::nota::El AIC no nos sirve de gran cosa porque no tenemos otros modelos con los\n",
    "#        que comparar\n",
    "summary(model)"
   ]
  },
  {
   "cell_type": "code",
   "execution_count": 27,
   "metadata": {},
   "outputs": [],
   "source": [
    "#::GMG::Hago la predicción\n",
    "pred  <- predict(model,df[-1], type = \"response\")"
   ]
  },
  {
   "cell_type": "code",
   "execution_count": 33,
   "metadata": {},
   "outputs": [
    {
     "name": "stdout",
     "output_type": "stream",
     "text": [
      "   \n",
      "    FALSE TRUE\n",
      "  0   355    2\n",
      "  1     4  208\n"
     ]
    }
   ],
   "source": [
    "#::GMG::Muestro la 'tabla de contingencia'\n",
    "#::PTE::¿Conclusiones de ésto junto con lo anterior?\n",
    "#       ¿evidencias de sobreajuste?\n",
    "t <- table(df$diagnosis,pred >= 0.5)\n",
    "print (t)"
   ]
  },
  {
   "cell_type": "code",
   "execution_count": 34,
   "metadata": {},
   "outputs": [
    {
     "data": {
      "text/html": [
       "0.989455184534271"
      ],
      "text/latex": [
       "0.989455184534271"
      ],
      "text/markdown": [
       "0.989455184534271"
      ],
      "text/plain": [
       "[1] 0.9894552"
      ]
     },
     "metadata": {},
     "output_type": "display_data"
    }
   ],
   "source": [
    "#::GMG::Calculo accuracy\n",
    "sum(diag(t)) / sum(t)"
   ]
  },
  {
   "cell_type": "code",
   "execution_count": 36,
   "metadata": {},
   "outputs": [
    {
     "name": "stdout",
     "output_type": "stream",
     "text": [
      "[1] 0 1\n"
     ]
    }
   ],
   "source": [
    "#::GMG::Rango de predicciones\n",
    "print(round(range(pred),2))"
   ]
  },
  {
   "cell_type": "code",
   "execution_count": 39,
   "metadata": {},
   "outputs": [
    {
     "data": {
      "image/png": "[encoded data removed]",
      "text/plain": [
       "Plot with title “Histogram of pred”"
      ]
     },
     "metadata": {},
     "output_type": "display_data"
    }
   ],
   "source": [
    "#::GMG::Histograma de predicciones\n",
    "#::DUDA::¿Interpretación?\n",
    "hist(x = pred, breaks = 'Sturges')"
   ]
  },
  {
   "cell_type": "code",
   "execution_count": 32,
   "metadata": {},
   "outputs": [
    {
     "data": {},
     "metadata": {},
     "output_type": "display_data"
    },
    {
     "data": {
      "image/png": "[encoded data removed]",
      "text/plain": [
       "plot without title"
      ]
     },
     "metadata": {},
     "output_type": "display_data"
    }
   ],
   "source": [
    "#::GMG::Puesto que tengo lattice puedo ver también el densityplot\n",
    "#::PTE::Interpretación (?)\n",
    "#       Cada caso que fue definido como 'B' (0, FALSE) añade un punto azul \n",
    "#       y cada caso definido como 'M' (1, True) añade un punto magenta\n",
    "#       la posición de izda a derecha es el 'link score' asignado ...\n",
    "densityplot(predict(model,type='link'),\n",
    "            groups=df$diagnosis != 0, auto.key=T)"
   ]
  },
  {
   "cell_type": "markdown",
   "metadata": {},
   "source": [
    "Para comprobar la validez de nuestro modelo en la clasificación del cáncer de mama, utilizaremos el índice Área bajo la curva ROC (AUC, por sus siglas en inglés) disponible en la librería `verification` (cargada previamente)."
   ]
  },
  {
   "cell_type": "code",
   "execution_count": 35,
   "metadata": {},
   "outputs": [
    {
     "data": {
      "image/png": "[encoded data removed]",
      "text/plain": [
       "Plot with title “Curva ROC (AUC=0.999511)”"
      ]
     },
     "metadata": {},
     "output_type": "display_data"
    }
   ],
   "source": [
    "#::GMG:pinto la curca ROC y aparece un clasificador perfecto ...\n",
    "#      really? :)\n",
    "#::PTE::Interpretación\n",
    "roc.plot(df$diagnosis,pred,\n",
    "  main=sprintf(\"Curva ROC (AUC=%g)\", roc.area(obs = df$diagnosis,pred)$A)\n",
    ")"
   ]
  },
  {
   "cell_type": "markdown",
   "metadata": {},
   "source": [
    "### ::GMG:: Generalización"
   ]
  },
  {
   "cell_type": "markdown",
   "metadata": {},
   "source": [
    "**TAREA 1:** Estudiar la capacidad de generalización del modelo completo mediante una validacion cruzada de tipo _hold out_, es decir, utilizando una parte de los datos para entrenar el modelo y reservando otra para probarlo."
   ]
  },
  {
   "cell_type": "code",
   "execution_count": 22,
   "metadata": {},
   "outputs": [],
   "source": [
    "#::GMG::Dividimos los datos en dos mitades de forma aleatoria (hold-out simple)\n",
    "ind_train <- sample(x = 1:nrow(df), size = round(nrow(df)*0.5), replace = FALSE)\n",
    "ind_test <- setdiff(1:nrow(df),ind_train)\n",
    "df_test <- df[ind_test,]\n",
    "df_train <- df[ind_train,]"
   ]
  },
  {
   "cell_type": "code",
   "execution_count": 24,
   "metadata": {},
   "outputs": [
    {
     "name": "stderr",
     "output_type": "stream",
     "text": [
      "Warning message:\n",
      "“glm.fit: algorithm did not converge”Warning message:\n",
      "“glm.fit: fitted probabilities numerically 0 or 1 occurred”"
     ]
    }
   ],
   "source": [
    "#::GMG::Entrenamos con train\n",
    "model_train <- glm(diagnosis ~ ., df_train, family = \"binomial\")"
   ]
  },
  {
   "cell_type": "code",
   "execution_count": 28,
   "metadata": {},
   "outputs": [
    {
     "data": {
      "text/plain": [
       "\n",
       "Call:\n",
       "glm(formula = diagnosis ~ ., family = \"binomial\", data = df_train)\n",
       "\n",
       "Deviance Residuals: \n",
       "       Min          1Q      Median          3Q         Max  \n",
       "-6.143e-05  -2.100e-08  -2.100e-08   2.100e-08   4.988e-05  \n",
       "\n",
       "Coefficients:\n",
       "                         Estimate Std. Error z value Pr(>|z|)\n",
       "(Intercept)            -3.094e+01  5.138e+04  -0.001    1.000\n",
       "radius_mean            -1.902e+02  1.235e+06   0.000    1.000\n",
       "texture_mean           -2.279e+01  4.538e+04  -0.001    1.000\n",
       "perimeter_mean         -1.187e+02  1.497e+06   0.000    1.000\n",
       "area_mean               1.601e+02  7.724e+05   0.000    1.000\n",
       "smoothness_mean         5.084e+01  8.252e+04   0.001    1.000\n",
       "compactness_mean       -4.051e+01  1.604e+05   0.000    1.000\n",
       "concavity_mean          8.314e+01  1.684e+05   0.000    1.000\n",
       "concave.points_mean    -4.476e+01  1.925e+05   0.000    1.000\n",
       "symmetry_mean           1.249e+01  6.698e+04   0.000    1.000\n",
       "fractal_dimension_mean -2.274e+01  9.078e+04   0.000    1.000\n",
       "radius_se              -2.028e+02  2.132e+05  -0.001    0.999\n",
       "texture_se             -2.801e+01  5.091e+04  -0.001    1.000\n",
       "perimeter_se            2.017e+01  2.293e+05   0.000    1.000\n",
       "area_se                 2.080e+02  4.859e+05   0.000    1.000\n",
       "smoothness_se           3.737e+01  6.564e+04   0.001    1.000\n",
       "compactness_se          1.246e+01  1.113e+05   0.000    1.000\n",
       "concavity_se           -1.242e+01  1.546e+05   0.000    1.000\n",
       "concave.points_se      -1.382e+01  1.156e+05   0.000    1.000\n",
       "symmetry_se             3.835e+01  6.128e+04   0.001    1.000\n",
       "fractal_dimension_se    4.283e+00  7.307e+04   0.000    1.000\n",
       "radius_worst            8.465e+02  9.652e+05   0.001    0.999\n",
       "texture_worst           6.579e+01  8.576e+04   0.001    0.999\n",
       "perimeter_worst        -9.061e+01  5.205e+05   0.000    1.000\n",
       "area_worst             -5.640e+02  1.283e+06   0.000    1.000\n",
       "smoothness_worst       -1.566e+01  5.995e+04   0.000    1.000\n",
       "compactness_worst       4.336e+01  9.796e+04   0.000    1.000\n",
       "concavity_worst        -2.772e+01  9.809e+04   0.000    1.000\n",
       "concave.points_worst    2.092e+01  1.341e+05   0.000    1.000\n",
       "symmetry_worst         -1.462e+01  7.859e+04   0.000    1.000\n",
       "\n",
       "(Dispersion parameter for binomial family taken to be 1)\n",
       "\n",
       "    Null deviance: 3.7086e+02  on 283  degrees of freedom\n",
       "Residual deviance: 2.9591e-08  on 254  degrees of freedom\n",
       "AIC: 60\n",
       "\n",
       "Number of Fisher Scoring iterations: 25\n"
      ]
     },
     "metadata": {},
     "output_type": "display_data"
    }
   ],
   "source": [
    "summary(model_train)"
   ]
  },
  {
   "cell_type": "code",
   "execution_count": 25,
   "metadata": {},
   "outputs": [],
   "source": [
    "pred_train <- predict(model_train, df_train[-1], type = 'response')"
   ]
  },
  {
   "cell_type": "code",
   "execution_count": 46,
   "metadata": {},
   "outputs": [
    {
     "name": "stderr",
     "output_type": "stream",
     "text": [
      "Warning message in is.finite(x) & apply(pred, 1, f):\n",
      "“longer object length is not a multiple of shorter object length”"
     ]
    },
    {
     "ename": "ERROR",
     "evalue": "Error in pred[id, ]: (subscript) logical subscript too long\n",
     "output_type": "error",
     "traceback": [
      "Error in pred[id, ]: (subscript) logical subscript too long\nTraceback:\n",
      "1. roc.plot(df_test$diagnosis, pred_train, main = sprintf(\"Curva ROC (AUC=%g)\", \n .     roc.area(obs = df_train$diagnosis, pred_train)$A))",
      "2. roc.plot.default(df_test$diagnosis, pred_train, main = sprintf(\"Curva ROC (AUC=%g)\", \n .     roc.area(obs = df_train$diagnosis, pred_train)$A))"
     ]
    }
   ],
   "source": [
    "roc.plot(df_test$diagnosis,pred_train,main=sprintf(\"Curva ROC (AUC=%g)\", \n",
    "         roc.area(obs = df_train$diagnosis,pred_train)$A))"
   ]
  },
  {
   "cell_type": "code",
   "execution_count": 29,
   "metadata": {},
   "outputs": [],
   "source": [
    "pred_test <- predict(model_train, df_test[-1], type = 'response')"
   ]
  },
  {
   "cell_type": "code",
   "execution_count": null,
   "metadata": {},
   "outputs": [],
   "source": []
  },
  {
   "cell_type": "markdown",
   "metadata": {},
   "source": []
  },
  {
   "cell_type": "markdown",
   "metadata": {},
   "source": [
    "## Selección de variables\n",
    "\n"
   ]
  },
  {
   "cell_type": "markdown",
   "metadata": {},
   "source": [
    "### Selección del mejor subconjunto"
   ]
  },
  {
   "cell_type": "markdown",
   "metadata": {},
   "source": [
    "La función `regsubsets` (`?regsubsets`) de la librería `leaps` nos permite realizar la selección del mejor subconjunto con un número dado de predictores. La sintaxis es similar a la usada para el modelo lineal (`lm`) y, del mismo modo, el comando `summary` nos permite explorar los resultados. Utilizamos el argumento `nvmax` para forzar la utilización de todas las variables (30), ya que por defecto la función regsubsets solo utiliza las 8 primeras."
   ]
  },
  {
   "cell_type": "code",
   "execution_count": 32,
   "metadata": {},
   "outputs": [
    {
     "data": {
      "text/html": [
       "<ol class=list-inline>\n",
       "\t<li>'which'</li>\n",
       "\t<li>'rsq'</li>\n",
       "\t<li>'rss'</li>\n",
       "\t<li>'adjr2'</li>\n",
       "\t<li>'cp'</li>\n",
       "\t<li>'bic'</li>\n",
       "\t<li>'outmat'</li>\n",
       "\t<li>'obj'</li>\n",
       "</ol>\n"
      ],
      "text/latex": [
       "\\begin{enumerate*}\n",
       "\\item 'which'\n",
       "\\item 'rsq'\n",
       "\\item 'rss'\n",
       "\\item 'adjr2'\n",
       "\\item 'cp'\n",
       "\\item 'bic'\n",
       "\\item 'outmat'\n",
       "\\item 'obj'\n",
       "\\end{enumerate*}\n"
      ],
      "text/markdown": [
       "1. 'which'\n",
       "2. 'rsq'\n",
       "3. 'rss'\n",
       "4. 'adjr2'\n",
       "5. 'cp'\n",
       "6. 'bic'\n",
       "7. 'outmat'\n",
       "8. 'obj'\n",
       "\n",
       "\n"
      ],
      "text/plain": [
       "[1] \"which\"  \"rsq\"    \"rss\"    \"adjr2\"  \"cp\"     \"bic\"    \"outmat\" \"obj\"   "
      ]
     },
     "metadata": {},
     "output_type": "display_data"
    }
   ],
   "source": [
    "#install.packages('leaps')\n",
    "library(leaps)\n",
    "regfit.full <- regsubsets(diagnosis ~., df, nvmax = 30)\n",
    "full.summary <- summary(regfit.full)\n",
    "names(full.summary)"
   ]
  },
  {
   "cell_type": "markdown",
   "metadata": {},
   "source": [
    "La función summary devuelve medidas del ajuste que se pueden usar para seleccionar el mejor modelo. En particular, si revisamos los valores del ajuste, en este caso rsq, se observa que el estadístico va mejorando a medida que aumentamos el número de variables en el modelo. Sin embargo, si nos fijamos en el estadístico BIC (_Bayesian information criterion_), que penaliza la complejidad del modelo, se observa que los valores óptimos se encuentran considerando 11 variables."
   ]
  },
  {
   "cell_type": "code",
   "execution_count": 33,
   "metadata": {},
   "outputs": [
    {
     "data": {
      "image/png": "[encoded data removed]",
      "text/plain": [
       "plot without title"
      ]
     },
     "metadata": {},
     "output_type": "display_data"
    }
   ],
   "source": [
    "par(mfrow=c(2,1), mar=c(4,4,1,1))\n",
    "plot(full.summary$rsq,xlab=\"Number of Variables\",ylab=\"RSq\", type=\"l\")\n",
    "plot(full.summary$bic,xlab=\"Number of Variables\",ylab=\"BIC\", type=\"l\")"
   ]
  },
  {
   "cell_type": "code",
   "execution_count": 44,
   "metadata": {},
   "outputs": [
    {
     "data": {
      "text/html": [
       "13"
      ],
      "text/latex": [
       "13"
      ],
      "text/markdown": [
       "13"
      ],
      "text/plain": [
       "[1] 13"
      ]
     },
     "metadata": {},
     "output_type": "display_data"
    }
   ],
   "source": [
    "max(which(full.summary$rsq <0.77))"
   ]
  },
  {
   "cell_type": "code",
   "execution_count": 8,
   "metadata": {},
   "outputs": [
    {
     "data": {
      "text/html": [
       "11"
      ],
      "text/latex": [
       "11"
      ],
      "text/markdown": [
       "11"
      ],
      "text/plain": [
       "[1] 11"
      ]
     },
     "metadata": {},
     "output_type": "display_data"
    }
   ],
   "source": [
    "which.min(full.summary$bic)"
   ]
  },
  {
   "cell_type": "markdown",
   "metadata": {},
   "source": [
    "La propia función `regsubsets` incorpora un método para dibujar los resultados clasificados según los diferentes estadísticos (`? plot.regsubsets`)"
   ]
  },
  {
   "cell_type": "code",
   "execution_count": 9,
   "metadata": {},
   "outputs": [
    {
     "data": {
      "image/png": "[encoded data removed]",
      "text/plain": [
       "plot without title"
      ]
     },
     "metadata": {},
     "output_type": "display_data"
    },
    {
     "data": {
      "image/png": "[encoded data removed]",
      "text/plain": [
       "plot without title"
      ]
     },
     "metadata": {},
     "output_type": "display_data"
    }
   ],
   "source": [
    "plot(regfit.full, scale =\"r2\")\n",
    "plot(regfit.full, scale =\"bic\")"
   ]
  },
  {
   "cell_type": "markdown",
   "metadata": {},
   "source": [
    "Cada fila de este gráfico representa el mejor modelo ajustado para un número dado de variables. Cada cuadrado de color representa que la variable entra en ese modelo, mientras que la intensidad del color se asocia con la escala del eje Y. Si, una vez localizado el modelo óptimo (en nuestro caso, el de 11 variables), queremos conocer los coeficientes del modelo, podemos usar la función `coef` con un segundo argumento:"
   ]
  },
  {
   "cell_type": "code",
   "execution_count": 10,
   "metadata": {},
   "outputs": [
    {
     "data": {
      "text/html": [
       "<dl class=dl-horizontal>\n",
       "\t<dt>(Intercept)</dt>\n",
       "\t\t<dd>0.372583479789104</dd>\n",
       "\t<dt>radius_mean</dt>\n",
       "\t\t<dd>-0.17840168622488</dd>\n",
       "\t<dt>compactness_mean</dt>\n",
       "\t\t<dd>-0.129332282502137</dd>\n",
       "\t<dt>concave.points_mean</dt>\n",
       "\t\t<dd>0.196644687579789</dd>\n",
       "\t<dt>radius_se</dt>\n",
       "\t\t<dd>0.0580387760431747</dd>\n",
       "\t<dt>smoothness_se</dt>\n",
       "\t\t<dd>0.0656697156808529</dd>\n",
       "\t<dt>concavity_se</dt>\n",
       "\t\t<dd>-0.0667961085058052</dd>\n",
       "\t<dt>radius_worst</dt>\n",
       "\t\t<dd>0.873519264685047</dd>\n",
       "\t<dt>texture_worst</dt>\n",
       "\t\t<dd>0.0618908682342928</dd>\n",
       "\t<dt>area_worst</dt>\n",
       "\t\t<dd>-0.563902190729326</dd>\n",
       "\t<dt>concavity_worst</dt>\n",
       "\t\t<dd>0.154467115714464</dd>\n",
       "\t<dt>symmetry_worst</dt>\n",
       "\t\t<dd>0.0461066464355399</dd>\n",
       "</dl>\n"
      ],
      "text/latex": [
       "\\begin{description*}\n",
       "\\item[(Intercept)] 0.372583479789104\n",
       "\\item[radius\\textbackslash{}\\_mean] -0.17840168622488\n",
       "\\item[compactness\\textbackslash{}\\_mean] -0.129332282502137\n",
       "\\item[concave.points\\textbackslash{}\\_mean] 0.196644687579789\n",
       "\\item[radius\\textbackslash{}\\_se] 0.0580387760431747\n",
       "\\item[smoothness\\textbackslash{}\\_se] 0.0656697156808529\n",
       "\\item[concavity\\textbackslash{}\\_se] -0.0667961085058052\n",
       "\\item[radius\\textbackslash{}\\_worst] 0.873519264685047\n",
       "\\item[texture\\textbackslash{}\\_worst] 0.0618908682342928\n",
       "\\item[area\\textbackslash{}\\_worst] -0.563902190729326\n",
       "\\item[concavity\\textbackslash{}\\_worst] 0.154467115714464\n",
       "\\item[symmetry\\textbackslash{}\\_worst] 0.0461066464355399\n",
       "\\end{description*}\n"
      ],
      "text/markdown": [
       "(Intercept)\n",
       ":   0.372583479789104radius_mean\n",
       ":   -0.17840168622488compactness_mean\n",
       ":   -0.129332282502137concave.points_mean\n",
       ":   0.196644687579789radius_se\n",
       ":   0.0580387760431747smoothness_se\n",
       ":   0.0656697156808529concavity_se\n",
       ":   -0.0667961085058052radius_worst\n",
       ":   0.873519264685047texture_worst\n",
       ":   0.0618908682342928area_worst\n",
       ":   -0.563902190729326concavity_worst\n",
       ":   0.154467115714464symmetry_worst\n",
       ":   0.0461066464355399\n",
       "\n"
      ],
      "text/plain": [
       "        (Intercept)         radius_mean    compactness_mean concave.points_mean \n",
       "         0.37258348         -0.17840169         -0.12933228          0.19664469 \n",
       "          radius_se       smoothness_se        concavity_se        radius_worst \n",
       "         0.05803878          0.06566972         -0.06679611          0.87351926 \n",
       "      texture_worst          area_worst     concavity_worst      symmetry_worst \n",
       "         0.06189087         -0.56390219          0.15446712          0.04610665 "
      ]
     },
     "metadata": {},
     "output_type": "display_data"
    }
   ],
   "source": [
    "coef(regfit.full, 11)"
   ]
  },
  {
   "cell_type": "markdown",
   "metadata": {},
   "source": [
    "### Selección stepwise\n",
    "Con un leve cambio en los argumentos de la función podemos realizar la selección stepwise, ya sea “forward” o “backward”:"
   ]
  },
  {
   "cell_type": "code",
   "execution_count": 11,
   "metadata": {},
   "outputs": [],
   "source": [
    "regfit.fwd <- regsubsets(diagnosis~., data = df, nvmax = 30 , method =\"forward\")\n",
    "fwd.summary <- summary(regfit.fwd)"
   ]
  },
  {
   "cell_type": "markdown",
   "metadata": {},
   "source": [
    "**TAREA 2:** Estudiar los predictores seleccionados en este caso. ¿cuál es su múmero óptimo? ¿coinciden con los anteriores?"
   ]
  },
  {
   "cell_type": "code",
   "execution_count": null,
   "metadata": {},
   "outputs": [],
   "source": []
  },
  {
   "cell_type": "markdown",
   "metadata": {},
   "source": []
  },
  {
   "cell_type": "markdown",
   "metadata": {},
   "source": [
    "**TAREA 3:** Comparar la selección realizada por el método backward con los métodos exhaustivo y _forward stepwise_."
   ]
  },
  {
   "cell_type": "code",
   "execution_count": null,
   "metadata": {},
   "outputs": [],
   "source": []
  },
  {
   "cell_type": "markdown",
   "metadata": {},
   "source": []
  },
  {
   "cell_type": "markdown",
   "metadata": {},
   "source": [
    "Otra opción para realizar la selección _stepwise_ es usar la función `step`, que forma parte del paquete básico `stats` de R:"
   ]
  },
  {
   "cell_type": "code",
   "execution_count": 12,
   "metadata": {},
   "outputs": [
    {
     "name": "stderr",
     "output_type": "stream",
     "text": [
      "Warning message:\n",
      "“glm.fit: fitted probabilities numerically 0 or 1 occurred”"
     ]
    },
    {
     "name": "stdout",
     "output_type": "stream",
     "text": [
      "Start:  AIC=753.44\n",
      "diagnosis ~ 1\n",
      "\n"
     ]
    },
    {
     "name": "stderr",
     "output_type": "stream",
     "text": [
      "Warning message:\n",
      "“glm.fit: fitted probabilities numerically 0 or 1 occurred”Warning message:\n",
      "“glm.fit: fitted probabilities numerically 0 or 1 occurred”"
     ]
    },
    {
     "name": "stdout",
     "output_type": "stream",
     "text": [
      "                         Df Deviance    AIC\n",
      "+ perimeter_worst         1   209.48 213.48\n",
      "+ radius_worst            1   229.11 233.11\n",
      "+ area_worst              1   230.64 234.64\n",
      "+ concave.points_worst    1   250.45 254.45\n",
      "+ concave.points_mean     1   258.92 262.92\n",
      "+ perimeter_mean          1   304.48 308.48\n",
      "+ area_mean               1   325.66 329.66\n",
      "+ radius_mean             1   330.01 334.01\n",
      "+ area_se                 1   359.50 363.50\n",
      "+ concavity_mean          1   383.23 387.23\n",
      "+ concavity_worst         1   437.70 441.70\n",
      "+ perimeter_se            1   472.83 476.83\n",
      "+ radius_se               1   480.65 484.65\n",
      "+ compactness_worst       1   505.55 509.55\n",
      "+ compactness_mean        1   508.79 512.79\n",
      "+ texture_worst           1   622.07 626.07\n",
      "+ symmetry_worst          1   641.42 645.42\n",
      "+ smoothness_worst        1   641.42 645.42\n",
      "+ concave.points_se       1   646.01 650.01\n",
      "+ texture_mean            1   646.52 650.52\n",
      "+ smoothness_mean         1   673.95 677.95\n",
      "+ symmetry_mean           1   686.80 690.80\n",
      "+ compactness_se          1   701.77 705.77\n",
      "+ concavity_se            1   707.09 711.09\n",
      "+ fractal_dimension_se    1   748.06 752.06\n",
      "+ smoothness_se           1   748.79 752.79\n",
      "<none>                        751.44 753.44\n",
      "+ fractal_dimension_mean  1   751.35 755.35\n",
      "+ texture_se              1   751.40 755.40\n",
      "+ symmetry_se             1   751.42 755.42\n",
      "\n",
      "Step:  AIC=213.48\n",
      "diagnosis ~ perimeter_worst\n",
      "\n"
     ]
    },
    {
     "name": "stderr",
     "output_type": "stream",
     "text": [
      "Warning message:\n",
      "“glm.fit: fitted probabilities numerically 0 or 1 occurred”Warning message:\n",
      "“glm.fit: fitted probabilities numerically 0 or 1 occurred”Warning message:\n",
      "“glm.fit: fitted probabilities numerically 0 or 1 occurred”"
     ]
    },
    {
     "name": "stdout",
     "output_type": "stream",
     "text": [
      "                         Df Deviance    AIC\n",
      "+ smoothness_worst        1   139.18 145.18\n",
      "+ concave.points_worst    1   149.59 155.59\n",
      "+ texture_worst           1   159.68 165.68\n",
      "+ concave.points_mean     1   162.47 168.47\n",
      "+ smoothness_mean         1   165.18 171.18\n",
      "+ symmetry_worst          1   167.85 173.85\n",
      "+ concavity_worst         1   168.55 174.55\n",
      "+ concavity_mean          1   169.78 175.78\n",
      "+ radius_mean             1   173.15 179.15\n",
      "+ compactness_worst       1   175.42 181.42\n",
      "+ symmetry_mean           1   177.18 183.18\n",
      "+ fractal_dimension_mean  1   177.62 183.62\n",
      "+ texture_mean            1   178.63 184.63\n",
      "+ area_mean               1   180.70 186.70\n",
      "+ compactness_mean        1   181.84 187.84\n",
      "+ perimeter_mean          1   183.59 189.59\n",
      "+ smoothness_se           1   191.06 197.06\n",
      "+ texture_se              1   195.30 201.30\n",
      "+ concave.points_se       1   198.67 204.67\n",
      "+ radius_se               1   199.25 205.25\n",
      "+ area_se                 1   201.45 207.45\n",
      "+ symmetry_se             1   201.51 207.51\n",
      "+ perimeter_se            1   202.50 208.50\n",
      "+ compactness_se          1   203.30 209.30\n",
      "+ concavity_se            1   203.93 209.93\n",
      "+ fractal_dimension_se    1   205.07 211.07\n",
      "<none>                        209.48 213.48\n",
      "+ radius_worst            1   208.72 214.72\n",
      "+ area_worst              1   209.14 215.14\n",
      "\n",
      "Step:  AIC=145.18\n",
      "diagnosis ~ perimeter_worst + smoothness_worst\n",
      "\n"
     ]
    },
    {
     "name": "stderr",
     "output_type": "stream",
     "text": [
      "Warning message:\n",
      "“glm.fit: fitted probabilities numerically 0 or 1 occurred”Warning message:\n",
      "“glm.fit: fitted probabilities numerically 0 or 1 occurred”Warning message:\n",
      "“glm.fit: fitted probabilities numerically 0 or 1 occurred”Warning message:\n",
      "“glm.fit: fitted probabilities numerically 0 or 1 occurred”Warning message:\n",
      "“glm.fit: fitted probabilities numerically 0 or 1 occurred”Warning message:\n",
      "“glm.fit: fitted probabilities numerically 0 or 1 occurred”Warning message:\n",
      "“glm.fit: fitted probabilities numerically 0 or 1 occurred”Warning message:\n",
      "“glm.fit: fitted probabilities numerically 0 or 1 occurred”"
     ]
    },
    {
     "name": "stdout",
     "output_type": "stream",
     "text": [
      "                         Df Deviance    AIC\n",
      "+ texture_worst           1   103.61 111.61\n",
      "+ texture_mean            1   106.84 114.84\n",
      "+ texture_se              1   122.51 130.51\n",
      "+ area_se                 1   123.42 131.42\n",
      "+ radius_se               1   124.89 132.90\n",
      "+ perimeter_se            1   130.42 138.42\n",
      "+ concavity_mean          1   133.31 141.31\n",
      "+ symmetry_worst          1   134.45 142.45\n",
      "+ area_worst              1   134.65 142.65\n",
      "+ symmetry_se             1   135.31 143.31\n",
      "+ concave.points_mean     1   135.35 143.35\n",
      "+ concave.points_worst    1   135.57 143.57\n",
      "+ concavity_worst         1   135.97 143.97\n",
      "+ symmetry_mean           1   136.21 144.21\n",
      "+ concave.points_se       1   136.32 144.32\n",
      "<none>                        139.18 145.18\n",
      "+ concavity_se            1   137.42 145.42\n",
      "+ radius_worst            1   137.53 145.53\n",
      "+ radius_mean             1   137.66 145.66\n",
      "+ perimeter_mean          1   137.81 145.81\n",
      "+ smoothness_se           1   138.54 146.54\n",
      "+ area_mean               1   138.78 146.78\n",
      "+ fractal_dimension_mean  1   138.97 146.97\n",
      "+ smoothness_mean         1   138.98 146.98\n",
      "+ compactness_mean        1   139.06 147.06\n",
      "+ compactness_worst       1   139.06 147.06\n",
      "+ compactness_se          1   139.11 147.11\n",
      "+ fractal_dimension_se    1   139.18 147.18\n"
     ]
    },
    {
     "name": "stderr",
     "output_type": "stream",
     "text": [
      "Warning message:\n",
      "“glm.fit: fitted probabilities numerically 0 or 1 occurred”"
     ]
    },
    {
     "name": "stdout",
     "output_type": "stream",
     "text": [
      "\n",
      "Step:  AIC=111.61\n",
      "diagnosis ~ perimeter_worst + smoothness_worst + texture_worst\n",
      "\n"
     ]
    },
    {
     "name": "stderr",
     "output_type": "stream",
     "text": [
      "Warning message:\n",
      "“glm.fit: fitted probabilities numerically 0 or 1 occurred”Warning message:\n",
      "“glm.fit: fitted probabilities numerically 0 or 1 occurred”Warning message:\n",
      "“glm.fit: fitted probabilities numerically 0 or 1 occurred”Warning message:\n",
      "“glm.fit: fitted probabilities numerically 0 or 1 occurred”Warning message:\n",
      "“glm.fit: fitted probabilities numerically 0 or 1 occurred”Warning message:\n",
      "“glm.fit: fitted probabilities numerically 0 or 1 occurred”Warning message:\n",
      "“glm.fit: fitted probabilities numerically 0 or 1 occurred”Warning message:\n",
      "“glm.fit: fitted probabilities numerically 0 or 1 occurred”Warning message:\n",
      "“glm.fit: fitted probabilities numerically 0 or 1 occurred”Warning message:\n",
      "“glm.fit: fitted probabilities numerically 0 or 1 occurred”Warning message:\n",
      "“glm.fit: fitted probabilities numerically 0 or 1 occurred”Warning message:\n",
      "“glm.fit: fitted probabilities numerically 0 or 1 occurred”Warning message:\n",
      "“glm.fit: fitted probabilities numerically 0 or 1 occurred”Warning message:\n",
      "“glm.fit: fitted probabilities numerically 0 or 1 occurred”Warning message:\n",
      "“glm.fit: fitted probabilities numerically 0 or 1 occurred”Warning message:\n",
      "“glm.fit: fitted probabilities numerically 0 or 1 occurred”Warning message:\n",
      "“glm.fit: fitted probabilities numerically 0 or 1 occurred”Warning message:\n",
      "“glm.fit: fitted probabilities numerically 0 or 1 occurred”Warning message:\n",
      "“glm.fit: fitted probabilities numerically 0 or 1 occurred”Warning message:\n",
      "“glm.fit: fitted probabilities numerically 0 or 1 occurred”Warning message:\n",
      "“glm.fit: fitted probabilities numerically 0 or 1 occurred”Warning message:\n",
      "“glm.fit: fitted probabilities numerically 0 or 1 occurred”Warning message:\n",
      "“glm.fit: fitted probabilities numerically 0 or 1 occurred”Warning message:\n",
      "“glm.fit: fitted probabilities numerically 0 or 1 occurred”Warning message:\n",
      "“glm.fit: fitted probabilities numerically 0 or 1 occurred”Warning message:\n",
      "“glm.fit: fitted probabilities numerically 0 or 1 occurred”Warning message:\n",
      "“glm.fit: fitted probabilities numerically 0 or 1 occurred”"
     ]
    },
    {
     "name": "stdout",
     "output_type": "stream",
     "text": [
      "                         Df Deviance     AIC\n",
      "+ radius_se               1   87.205  97.205\n",
      "+ area_se                 1   87.437  97.437\n",
      "+ perimeter_se            1   94.237 104.237\n",
      "+ concave.points_mean     1   94.884 104.884\n",
      "+ concave.points_se       1   98.633 108.633\n",
      "+ symmetry_mean           1   98.669 108.669\n",
      "+ concavity_mean          1   98.727 108.727\n",
      "+ symmetry_se             1   98.826 108.826\n",
      "+ concave.points_worst    1   99.349 109.349\n",
      "+ symmetry_worst          1  100.170 110.170\n",
      "+ area_worst              1  100.526 110.526\n",
      "+ radius_worst            1  101.505 111.505\n",
      "<none>                       103.612 111.612\n",
      "+ smoothness_mean         1  101.830 111.830\n",
      "+ concavity_worst         1  102.514 112.514\n",
      "+ concavity_se            1  102.560 112.560\n",
      "+ texture_mean            1  103.218 113.218\n",
      "+ fractal_dimension_se    1  103.224 113.224\n",
      "+ texture_se              1  103.237 113.237\n",
      "+ smoothness_se           1  103.285 113.285\n",
      "+ compactness_worst       1  103.360 113.360\n",
      "+ compactness_se          1  103.369 113.369\n",
      "+ radius_mean             1  103.583 113.583\n",
      "+ area_mean               1  103.589 113.589\n",
      "+ perimeter_mean          1  103.604 113.604\n",
      "+ fractal_dimension_mean  1  103.605 113.605\n",
      "+ compactness_mean        1  103.610 113.610\n"
     ]
    },
    {
     "name": "stderr",
     "output_type": "stream",
     "text": [
      "Warning message:\n",
      "“glm.fit: fitted probabilities numerically 0 or 1 occurred”"
     ]
    },
    {
     "name": "stdout",
     "output_type": "stream",
     "text": [
      "\n",
      "Step:  AIC=97.2\n",
      "diagnosis ~ perimeter_worst + smoothness_worst + texture_worst + \n",
      "    radius_se\n",
      "\n"
     ]
    },
    {
     "name": "stderr",
     "output_type": "stream",
     "text": [
      "Warning message:\n",
      "“glm.fit: fitted probabilities numerically 0 or 1 occurred”Warning message:\n",
      "“glm.fit: fitted probabilities numerically 0 or 1 occurred”Warning message:\n",
      "“glm.fit: fitted probabilities numerically 0 or 1 occurred”Warning message:\n",
      "“glm.fit: fitted probabilities numerically 0 or 1 occurred”Warning message:\n",
      "“glm.fit: fitted probabilities numerically 0 or 1 occurred”Warning message:\n",
      "“glm.fit: fitted probabilities numerically 0 or 1 occurred”Warning message:\n",
      "“glm.fit: fitted probabilities numerically 0 or 1 occurred”Warning message:\n",
      "“glm.fit: fitted probabilities numerically 0 or 1 occurred”Warning message:\n",
      "“glm.fit: fitted probabilities numerically 0 or 1 occurred”Warning message:\n",
      "“glm.fit: fitted probabilities numerically 0 or 1 occurred”Warning message:\n",
      "“glm.fit: fitted probabilities numerically 0 or 1 occurred”Warning message:\n",
      "“glm.fit: fitted probabilities numerically 0 or 1 occurred”Warning message:\n",
      "“glm.fit: fitted probabilities numerically 0 or 1 occurred”Warning message:\n",
      "“glm.fit: fitted probabilities numerically 0 or 1 occurred”Warning message:\n",
      "“glm.fit: fitted probabilities numerically 0 or 1 occurred”Warning message:\n",
      "“glm.fit: fitted probabilities numerically 0 or 1 occurred”Warning message:\n",
      "“glm.fit: fitted probabilities numerically 0 or 1 occurred”Warning message:\n",
      "“glm.fit: fitted probabilities numerically 0 or 1 occurred”Warning message:\n",
      "“glm.fit: fitted probabilities numerically 0 or 1 occurred”Warning message:\n",
      "“glm.fit: fitted probabilities numerically 0 or 1 occurred”Warning message:\n",
      "“glm.fit: fitted probabilities numerically 0 or 1 occurred”Warning message:\n",
      "“glm.fit: fitted probabilities numerically 0 or 1 occurred”Warning message:\n",
      "“glm.fit: fitted probabilities numerically 0 or 1 occurred”Warning message:\n",
      "“glm.fit: fitted probabilities numerically 0 or 1 occurred”Warning message:\n",
      "“glm.fit: fitted probabilities numerically 0 or 1 occurred”Warning message:\n",
      "“glm.fit: fitted probabilities numerically 0 or 1 occurred”"
     ]
    },
    {
     "name": "stdout",
     "output_type": "stream",
     "text": [
      "                         Df Deviance    AIC\n",
      "+ symmetry_worst          1   79.073 91.073\n",
      "+ concave.points_worst    1   79.196 91.196\n",
      "+ texture_se              1   82.558 94.558\n",
      "+ concave.points_mean     1   84.004 96.004\n",
      "+ concavity_worst         1   84.146 96.146\n",
      "+ fractal_dimension_se    1   84.287 96.287\n",
      "+ symmetry_mean           1   84.542 96.542\n",
      "+ compactness_se          1   84.888 96.888\n",
      "+ perimeter_se            1   85.151 97.151\n",
      "+ concavity_mean          1   85.159 97.159\n",
      "<none>                        87.205 97.205\n",
      "+ area_worst              1   85.805 97.805\n",
      "+ smoothness_se           1   85.810 97.810\n",
      "+ symmetry_se             1   86.025 98.025\n",
      "+ radius_worst            1   86.030 98.030\n",
      "+ compactness_mean        1   86.597 98.597\n",
      "+ fractal_dimension_mean  1   86.729 98.729\n",
      "+ perimeter_mean          1   86.780 98.780\n",
      "+ radius_mean             1   86.873 98.873\n",
      "+ area_mean               1   87.043 99.043\n",
      "+ texture_mean            1   87.050 99.050\n",
      "+ smoothness_mean         1   87.075 99.075\n",
      "+ concave.points_se       1   87.081 99.081\n",
      "+ area_se                 1   87.170 99.170\n",
      "+ compactness_worst       1   87.194 99.194\n",
      "+ concavity_se            1   87.205 99.205\n"
     ]
    },
    {
     "name": "stderr",
     "output_type": "stream",
     "text": [
      "Warning message:\n",
      "“glm.fit: fitted probabilities numerically 0 or 1 occurred”"
     ]
    },
    {
     "name": "stdout",
     "output_type": "stream",
     "text": [
      "\n",
      "Step:  AIC=91.07\n",
      "diagnosis ~ perimeter_worst + smoothness_worst + texture_worst + \n",
      "    radius_se + symmetry_worst\n",
      "\n"
     ]
    },
    {
     "name": "stderr",
     "output_type": "stream",
     "text": [
      "Warning message:\n",
      "“glm.fit: fitted probabilities numerically 0 or 1 occurred”Warning message:\n",
      "“glm.fit: fitted probabilities numerically 0 or 1 occurred”Warning message:\n",
      "“glm.fit: fitted probabilities numerically 0 or 1 occurred”Warning message:\n",
      "“glm.fit: fitted probabilities numerically 0 or 1 occurred”Warning message:\n",
      "“glm.fit: fitted probabilities numerically 0 or 1 occurred”Warning message:\n",
      "“glm.fit: fitted probabilities numerically 0 or 1 occurred”Warning message:\n",
      "“glm.fit: fitted probabilities numerically 0 or 1 occurred”Warning message:\n",
      "“glm.fit: fitted probabilities numerically 0 or 1 occurred”Warning message:\n",
      "“glm.fit: fitted probabilities numerically 0 or 1 occurred”Warning message:\n",
      "“glm.fit: fitted probabilities numerically 0 or 1 occurred”Warning message:\n",
      "“glm.fit: fitted probabilities numerically 0 or 1 occurred”Warning message:\n",
      "“glm.fit: fitted probabilities numerically 0 or 1 occurred”Warning message:\n",
      "“glm.fit: fitted probabilities numerically 0 or 1 occurred”Warning message:\n",
      "“glm.fit: fitted probabilities numerically 0 or 1 occurred”Warning message:\n",
      "“glm.fit: fitted probabilities numerically 0 or 1 occurred”Warning message:\n",
      "“glm.fit: fitted probabilities numerically 0 or 1 occurred”Warning message:\n",
      "“glm.fit: fitted probabilities numerically 0 or 1 occurred”Warning message:\n",
      "“glm.fit: fitted probabilities numerically 0 or 1 occurred”Warning message:\n",
      "“glm.fit: fitted probabilities numerically 0 or 1 occurred”Warning message:\n",
      "“glm.fit: fitted probabilities numerically 0 or 1 occurred”Warning message:\n",
      "“glm.fit: fitted probabilities numerically 0 or 1 occurred”Warning message:\n",
      "“glm.fit: fitted probabilities numerically 0 or 1 occurred”Warning message:\n",
      "“glm.fit: fitted probabilities numerically 0 or 1 occurred”Warning message:\n",
      "“glm.fit: fitted probabilities numerically 0 or 1 occurred”Warning message:\n",
      "“glm.fit: fitted probabilities numerically 0 or 1 occurred”"
     ]
    },
    {
     "name": "stdout",
     "output_type": "stream",
     "text": [
      "                         Df Deviance    AIC\n",
      "+ compactness_se          1   74.511 88.511\n",
      "+ concave.points_worst    1   74.850 88.850\n",
      "+ fractal_dimension_se    1   75.551 89.551\n",
      "+ texture_se              1   75.869 89.869\n",
      "+ area_worst              1   76.196 90.196\n",
      "+ compactness_mean        1   76.436 90.436\n",
      "+ perimeter_se            1   76.737 90.737\n",
      "+ radius_worst            1   76.821 90.821\n",
      "+ fractal_dimension_mean  1   76.900 90.900\n",
      "+ concave.points_mean     1   76.974 90.974\n",
      "<none>                        79.073 91.073\n",
      "+ compactness_worst       1   77.638 91.638\n",
      "+ concavity_worst         1   78.142 92.142\n",
      "+ symmetry_se             1   78.211 92.211\n",
      "+ concavity_mean          1   78.438 92.438\n",
      "+ area_se                 1   78.494 92.494\n",
      "+ smoothness_mean         1   78.730 92.730\n",
      "+ smoothness_se           1   78.772 92.772\n",
      "+ symmetry_mean           1   78.803 92.803\n",
      "+ area_mean               1   78.899 92.899\n",
      "+ concavity_se            1   78.973 92.973\n",
      "+ radius_mean             1   78.999 92.999\n",
      "+ concave.points_se       1   79.005 93.005\n",
      "+ texture_mean            1   79.034 93.034\n",
      "+ perimeter_mean          1   79.072 93.072\n"
     ]
    },
    {
     "name": "stderr",
     "output_type": "stream",
     "text": [
      "Warning message:\n",
      "“glm.fit: fitted probabilities numerically 0 or 1 occurred”"
     ]
    },
    {
     "name": "stdout",
     "output_type": "stream",
     "text": [
      "\n",
      "Step:  AIC=88.51\n",
      "diagnosis ~ perimeter_worst + smoothness_worst + texture_worst + \n",
      "    radius_se + symmetry_worst + compactness_se\n",
      "\n"
     ]
    },
    {
     "name": "stderr",
     "output_type": "stream",
     "text": [
      "Warning message:\n",
      "“glm.fit: fitted probabilities numerically 0 or 1 occurred”Warning message:\n",
      "“glm.fit: fitted probabilities numerically 0 or 1 occurred”Warning message:\n",
      "“glm.fit: fitted probabilities numerically 0 or 1 occurred”Warning message:\n",
      "“glm.fit: fitted probabilities numerically 0 or 1 occurred”Warning message:\n",
      "“glm.fit: fitted probabilities numerically 0 or 1 occurred”Warning message:\n",
      "“glm.fit: fitted probabilities numerically 0 or 1 occurred”Warning message:\n",
      "“glm.fit: fitted probabilities numerically 0 or 1 occurred”Warning message:\n",
      "“glm.fit: fitted probabilities numerically 0 or 1 occurred”Warning message:\n",
      "“glm.fit: fitted probabilities numerically 0 or 1 occurred”Warning message:\n",
      "“glm.fit: fitted probabilities numerically 0 or 1 occurred”Warning message:\n",
      "“glm.fit: fitted probabilities numerically 0 or 1 occurred”Warning message:\n",
      "“glm.fit: fitted probabilities numerically 0 or 1 occurred”Warning message:\n",
      "“glm.fit: fitted probabilities numerically 0 or 1 occurred”Warning message:\n",
      "“glm.fit: fitted probabilities numerically 0 or 1 occurred”Warning message:\n",
      "“glm.fit: fitted probabilities numerically 0 or 1 occurred”Warning message:\n",
      "“glm.fit: fitted probabilities numerically 0 or 1 occurred”Warning message:\n",
      "“glm.fit: fitted probabilities numerically 0 or 1 occurred”Warning message:\n",
      "“glm.fit: fitted probabilities numerically 0 or 1 occurred”Warning message:\n",
      "“glm.fit: fitted probabilities numerically 0 or 1 occurred”Warning message:\n",
      "“glm.fit: fitted probabilities numerically 0 or 1 occurred”Warning message:\n",
      "“glm.fit: fitted probabilities numerically 0 or 1 occurred”Warning message:\n",
      "“glm.fit: fitted probabilities numerically 0 or 1 occurred”Warning message:\n",
      "“glm.fit: fitted probabilities numerically 0 or 1 occurred”Warning message:\n",
      "“glm.fit: fitted probabilities numerically 0 or 1 occurred”"
     ]
    },
    {
     "name": "stdout",
     "output_type": "stream",
     "text": [
      "                         Df Deviance    AIC\n",
      "+ concavity_mean          1   65.529 81.529\n",
      "+ concave.points_worst    1   65.593 81.593\n",
      "+ concave.points_mean     1   67.066 83.066\n",
      "+ concavity_worst         1   67.234 83.234\n",
      "+ concave.points_se       1   68.551 84.551\n",
      "+ concavity_se            1   69.777 85.777\n",
      "<none>                        74.511 88.511\n",
      "+ texture_se              1   72.725 88.725\n",
      "+ perimeter_se            1   73.232 89.232\n",
      "+ smoothness_se           1   73.614 89.614\n",
      "+ area_se                 1   73.733 89.733\n",
      "+ area_worst              1   74.085 90.085\n",
      "+ radius_worst            1   74.330 90.330\n",
      "+ symmetry_se             1   74.406 90.406\n",
      "+ fractal_dimension_mean  1   74.408 90.408\n",
      "+ texture_mean            1   74.443 90.443\n",
      "+ compactness_mean        1   74.471 90.471\n",
      "+ smoothness_mean         1   74.491 90.491\n",
      "+ perimeter_mean          1   74.498 90.498\n",
      "+ compactness_worst       1   74.501 90.501\n",
      "+ fractal_dimension_se    1   74.502 90.502\n",
      "+ radius_mean             1   74.505 90.505\n",
      "+ area_mean               1   74.505 90.505\n",
      "+ symmetry_mean           1   74.508 90.508\n"
     ]
    },
    {
     "name": "stderr",
     "output_type": "stream",
     "text": [
      "Warning message:\n",
      "“glm.fit: fitted probabilities numerically 0 or 1 occurred”"
     ]
    },
    {
     "name": "stdout",
     "output_type": "stream",
     "text": [
      "\n",
      "Step:  AIC=81.53\n",
      "diagnosis ~ perimeter_worst + smoothness_worst + texture_worst + \n",
      "    radius_se + symmetry_worst + compactness_se + concavity_mean\n",
      "\n"
     ]
    },
    {
     "name": "stderr",
     "output_type": "stream",
     "text": [
      "Warning message:\n",
      "“glm.fit: fitted probabilities numerically 0 or 1 occurred”Warning message:\n",
      "“glm.fit: fitted probabilities numerically 0 or 1 occurred”Warning message:\n",
      "“glm.fit: fitted probabilities numerically 0 or 1 occurred”Warning message:\n",
      "“glm.fit: fitted probabilities numerically 0 or 1 occurred”Warning message:\n",
      "“glm.fit: fitted probabilities numerically 0 or 1 occurred”Warning message:\n",
      "“glm.fit: fitted probabilities numerically 0 or 1 occurred”Warning message:\n",
      "“glm.fit: fitted probabilities numerically 0 or 1 occurred”Warning message:\n",
      "“glm.fit: fitted probabilities numerically 0 or 1 occurred”Warning message:\n",
      "“glm.fit: fitted probabilities numerically 0 or 1 occurred”Warning message:\n",
      "“glm.fit: fitted probabilities numerically 0 or 1 occurred”Warning message:\n",
      "“glm.fit: fitted probabilities numerically 0 or 1 occurred”Warning message:\n",
      "“glm.fit: fitted probabilities numerically 0 or 1 occurred”Warning message:\n",
      "“glm.fit: fitted probabilities numerically 0 or 1 occurred”Warning message:\n",
      "“glm.fit: fitted probabilities numerically 0 or 1 occurred”Warning message:\n",
      "“glm.fit: fitted probabilities numerically 0 or 1 occurred”Warning message:\n",
      "“glm.fit: fitted probabilities numerically 0 or 1 occurred”Warning message:\n",
      "“glm.fit: fitted probabilities numerically 0 or 1 occurred”Warning message:\n",
      "“glm.fit: fitted probabilities numerically 0 or 1 occurred”Warning message:\n",
      "“glm.fit: fitted probabilities numerically 0 or 1 occurred”Warning message:\n",
      "“glm.fit: fitted probabilities numerically 0 or 1 occurred”Warning message:\n",
      "“glm.fit: fitted probabilities numerically 0 or 1 occurred”Warning message:\n",
      "“glm.fit: fitted probabilities numerically 0 or 1 occurred”Warning message:\n",
      "“glm.fit: fitted probabilities numerically 0 or 1 occurred”"
     ]
    },
    {
     "name": "stdout",
     "output_type": "stream",
     "text": [
      "                         Df Deviance    AIC\n",
      "+ texture_se              1   61.258 79.258\n",
      "+ concave.points_worst    1   61.850 79.850\n",
      "+ area_se                 1   63.217 81.217\n",
      "<none>                        65.529 81.529\n",
      "+ perimeter_se            1   63.661 81.661\n",
      "+ area_worst              1   63.951 81.951\n",
      "+ concave.points_se       1   63.965 81.965\n",
      "+ radius_worst            1   64.003 82.003\n",
      "+ compactness_mean        1   64.078 82.078\n",
      "+ concavity_worst         1   64.328 82.328\n",
      "+ concave.points_mean     1   64.438 82.438\n",
      "+ fractal_dimension_mean  1   64.621 82.621\n",
      "+ smoothness_se           1   64.905 82.905\n",
      "+ symmetry_mean           1   64.943 82.943\n",
      "+ fractal_dimension_se    1   65.196 83.196\n",
      "+ texture_mean            1   65.351 83.351\n",
      "+ smoothness_mean         1   65.353 83.353\n",
      "+ symmetry_se             1   65.399 83.399\n",
      "+ area_mean               1   65.487 83.487\n",
      "+ concavity_se            1   65.506 83.506\n",
      "+ radius_mean             1   65.513 83.513\n",
      "+ perimeter_mean          1   65.523 83.523\n",
      "+ compactness_worst       1   65.527 83.527\n"
     ]
    },
    {
     "name": "stderr",
     "output_type": "stream",
     "text": [
      "Warning message:\n",
      "“glm.fit: fitted probabilities numerically 0 or 1 occurred”"
     ]
    },
    {
     "name": "stdout",
     "output_type": "stream",
     "text": [
      "\n",
      "Step:  AIC=79.26\n",
      "diagnosis ~ perimeter_worst + smoothness_worst + texture_worst + \n",
      "    radius_se + symmetry_worst + compactness_se + concavity_mean + \n",
      "    texture_se\n",
      "\n"
     ]
    },
    {
     "name": "stderr",
     "output_type": "stream",
     "text": [
      "Warning message:\n",
      "“glm.fit: fitted probabilities numerically 0 or 1 occurred”Warning message:\n",
      "“glm.fit: fitted probabilities numerically 0 or 1 occurred”Warning message:\n",
      "“glm.fit: fitted probabilities numerically 0 or 1 occurred”Warning message:\n",
      "“glm.fit: fitted probabilities numerically 0 or 1 occurred”Warning message:\n",
      "“glm.fit: fitted probabilities numerically 0 or 1 occurred”Warning message:\n",
      "“glm.fit: fitted probabilities numerically 0 or 1 occurred”Warning message:\n",
      "“glm.fit: fitted probabilities numerically 0 or 1 occurred”Warning message:\n",
      "“glm.fit: fitted probabilities numerically 0 or 1 occurred”Warning message:\n",
      "“glm.fit: fitted probabilities numerically 0 or 1 occurred”Warning message:\n",
      "“glm.fit: fitted probabilities numerically 0 or 1 occurred”Warning message:\n",
      "“glm.fit: fitted probabilities numerically 0 or 1 occurred”Warning message:\n",
      "“glm.fit: fitted probabilities numerically 0 or 1 occurred”Warning message:\n",
      "“glm.fit: fitted probabilities numerically 0 or 1 occurred”Warning message:\n",
      "“glm.fit: fitted probabilities numerically 0 or 1 occurred”Warning message:\n",
      "“glm.fit: fitted probabilities numerically 0 or 1 occurred”Warning message:\n",
      "“glm.fit: fitted probabilities numerically 0 or 1 occurred”Warning message:\n",
      "“glm.fit: fitted probabilities numerically 0 or 1 occurred”Warning message:\n",
      "“glm.fit: fitted probabilities numerically 0 or 1 occurred”Warning message:\n",
      "“glm.fit: fitted probabilities numerically 0 or 1 occurred”Warning message:\n",
      "“glm.fit: fitted probabilities numerically 0 or 1 occurred”Warning message:\n",
      "“glm.fit: fitted probabilities numerically 0 or 1 occurred”Warning message:\n",
      "“glm.fit: fitted probabilities numerically 0 or 1 occurred”"
     ]
    },
    {
     "name": "stdout",
     "output_type": "stream",
     "text": [
      "                         Df Deviance    AIC\n",
      "+ area_se                 1   58.643 78.643\n",
      "+ concave.points_worst    1   58.739 78.739\n",
      "+ area_worst              1   59.167 79.167\n",
      "<none>                        61.258 79.258\n",
      "+ radius_worst            1   59.387 79.387\n",
      "+ perimeter_se            1   59.954 79.954\n",
      "+ compactness_mean        1   60.049 80.049\n",
      "+ concave.points_se       1   60.277 80.277\n",
      "+ concave.points_mean     1   60.323 80.323\n",
      "+ texture_mean            1   60.489 80.489\n",
      "+ fractal_dimension_mean  1   60.498 80.498\n",
      "+ fractal_dimension_se    1   60.500 80.500\n",
      "+ concavity_worst         1   60.579 80.579\n",
      "+ smoothness_se           1   60.674 80.674\n",
      "+ area_mean               1   61.103 81.103\n",
      "+ radius_mean             1   61.162 81.162\n",
      "+ compactness_worst       1   61.166 81.166\n",
      "+ smoothness_mean         1   61.214 81.214\n",
      "+ symmetry_mean           1   61.254 81.254\n",
      "+ perimeter_mean          1   61.254 81.254\n",
      "+ concavity_se            1   61.255 81.255\n",
      "+ symmetry_se             1   61.257 81.257\n"
     ]
    },
    {
     "name": "stderr",
     "output_type": "stream",
     "text": [
      "Warning message:\n",
      "“glm.fit: fitted probabilities numerically 0 or 1 occurred”"
     ]
    },
    {
     "name": "stdout",
     "output_type": "stream",
     "text": [
      "\n",
      "Step:  AIC=78.64\n",
      "diagnosis ~ perimeter_worst + smoothness_worst + texture_worst + \n",
      "    radius_se + symmetry_worst + compactness_se + concavity_mean + \n",
      "    texture_se + area_se\n",
      "\n"
     ]
    },
    {
     "name": "stderr",
     "output_type": "stream",
     "text": [
      "Warning message:\n",
      "“glm.fit: fitted probabilities numerically 0 or 1 occurred”Warning message:\n",
      "“glm.fit: fitted probabilities numerically 0 or 1 occurred”Warning message:\n",
      "“glm.fit: fitted probabilities numerically 0 or 1 occurred”Warning message:\n",
      "“glm.fit: fitted probabilities numerically 0 or 1 occurred”Warning message:\n",
      "“glm.fit: fitted probabilities numerically 0 or 1 occurred”Warning message:\n",
      "“glm.fit: fitted probabilities numerically 0 or 1 occurred”Warning message:\n",
      "“glm.fit: fitted probabilities numerically 0 or 1 occurred”Warning message:\n",
      "“glm.fit: fitted probabilities numerically 0 or 1 occurred”Warning message:\n",
      "“glm.fit: fitted probabilities numerically 0 or 1 occurred”Warning message:\n",
      "“glm.fit: fitted probabilities numerically 0 or 1 occurred”Warning message:\n",
      "“glm.fit: fitted probabilities numerically 0 or 1 occurred”Warning message:\n",
      "“glm.fit: fitted probabilities numerically 0 or 1 occurred”Warning message:\n",
      "“glm.fit: fitted probabilities numerically 0 or 1 occurred”Warning message:\n",
      "“glm.fit: fitted probabilities numerically 0 or 1 occurred”Warning message:\n",
      "“glm.fit: fitted probabilities numerically 0 or 1 occurred”Warning message:\n",
      "“glm.fit: fitted probabilities numerically 0 or 1 occurred”Warning message:\n",
      "“glm.fit: fitted probabilities numerically 0 or 1 occurred”Warning message:\n",
      "“glm.fit: fitted probabilities numerically 0 or 1 occurred”Warning message:\n",
      "“glm.fit: fitted probabilities numerically 0 or 1 occurred”Warning message:\n",
      "“glm.fit: fitted probabilities numerically 0 or 1 occurred”Warning message:\n",
      "“glm.fit: fitted probabilities numerically 0 or 1 occurred”"
     ]
    },
    {
     "name": "stdout",
     "output_type": "stream",
     "text": [
      "                         Df Deviance    AIC\n",
      "+ concave.points_worst    1   54.713 76.713\n",
      "<none>                        58.643 78.643\n",
      "+ radius_worst            1   57.113 79.113\n",
      "+ concave.points_se       1   57.485 79.485\n",
      "+ concavity_worst         1   57.520 79.520\n",
      "+ perimeter_se            1   57.525 79.525\n",
      "+ texture_mean            1   57.593 79.593\n",
      "+ concave.points_mean     1   57.669 79.669\n",
      "+ area_worst              1   57.684 79.684\n",
      "+ compactness_mean        1   58.146 80.146\n",
      "+ symmetry_se             1   58.236 80.236\n",
      "+ perimeter_mean          1   58.374 80.374\n",
      "+ fractal_dimension_se    1   58.503 80.503\n",
      "+ compactness_worst       1   58.538 80.538\n",
      "+ fractal_dimension_mean  1   58.549 80.549\n",
      "+ radius_mean             1   58.590 80.590\n",
      "+ area_mean               1   58.590 80.590\n",
      "+ smoothness_se           1   58.599 80.599\n",
      "+ symmetry_mean           1   58.609 80.609\n",
      "+ concavity_se            1   58.616 80.616\n",
      "+ smoothness_mean         1   58.640 80.640\n"
     ]
    },
    {
     "name": "stderr",
     "output_type": "stream",
     "text": [
      "Warning message:\n",
      "“glm.fit: fitted probabilities numerically 0 or 1 occurred”"
     ]
    },
    {
     "name": "stdout",
     "output_type": "stream",
     "text": [
      "\n",
      "Step:  AIC=76.71\n",
      "diagnosis ~ perimeter_worst + smoothness_worst + texture_worst + \n",
      "    radius_se + symmetry_worst + compactness_se + concavity_mean + \n",
      "    texture_se + area_se + concave.points_worst\n",
      "\n"
     ]
    },
    {
     "name": "stderr",
     "output_type": "stream",
     "text": [
      "Warning message:\n",
      "“glm.fit: fitted probabilities numerically 0 or 1 occurred”Warning message:\n",
      "“glm.fit: fitted probabilities numerically 0 or 1 occurred”Warning message:\n",
      "“glm.fit: fitted probabilities numerically 0 or 1 occurred”Warning message:\n",
      "“glm.fit: fitted probabilities numerically 0 or 1 occurred”Warning message:\n",
      "“glm.fit: fitted probabilities numerically 0 or 1 occurred”Warning message:\n",
      "“glm.fit: fitted probabilities numerically 0 or 1 occurred”Warning message:\n",
      "“glm.fit: fitted probabilities numerically 0 or 1 occurred”Warning message:\n",
      "“glm.fit: fitted probabilities numerically 0 or 1 occurred”Warning message:\n",
      "“glm.fit: fitted probabilities numerically 0 or 1 occurred”Warning message:\n",
      "“glm.fit: fitted probabilities numerically 0 or 1 occurred”Warning message:\n",
      "“glm.fit: fitted probabilities numerically 0 or 1 occurred”Warning message:\n",
      "“glm.fit: fitted probabilities numerically 0 or 1 occurred”Warning message:\n",
      "“glm.fit: fitted probabilities numerically 0 or 1 occurred”Warning message:\n",
      "“glm.fit: fitted probabilities numerically 0 or 1 occurred”Warning message:\n",
      "“glm.fit: fitted probabilities numerically 0 or 1 occurred”Warning message:\n",
      "“glm.fit: fitted probabilities numerically 0 or 1 occurred”Warning message:\n",
      "“glm.fit: fitted probabilities numerically 0 or 1 occurred”Warning message:\n",
      "“glm.fit: fitted probabilities numerically 0 or 1 occurred”Warning message:\n",
      "“glm.fit: fitted probabilities numerically 0 or 1 occurred”Warning message:\n",
      "“glm.fit: fitted probabilities numerically 0 or 1 occurred”"
     ]
    },
    {
     "name": "stdout",
     "output_type": "stream",
     "text": [
      "                         Df Deviance    AIC\n",
      "<none>                        54.713 76.713\n",
      "+ radius_worst            1   52.749 76.749\n",
      "+ area_worst              1   52.828 76.828\n",
      "+ compactness_mean        1   52.833 76.833\n",
      "+ perimeter_se            1   53.106 77.106\n",
      "+ symmetry_mean           1   53.896 77.896\n",
      "+ texture_mean            1   53.934 77.934\n",
      "+ symmetry_se             1   54.209 78.209\n",
      "+ concavity_worst         1   54.216 78.216\n",
      "+ smoothness_se           1   54.233 78.233\n",
      "+ perimeter_mean          1   54.240 78.240\n",
      "+ smoothness_mean         1   54.399 78.399\n",
      "+ concavity_se            1   54.555 78.555\n",
      "+ concave.points_se       1   54.569 78.569\n",
      "+ radius_mean             1   54.594 78.594\n",
      "+ compactness_worst       1   54.605 78.605\n",
      "+ fractal_dimension_mean  1   54.611 78.611\n",
      "+ fractal_dimension_se    1   54.705 78.705\n",
      "+ concave.points_mean     1   54.709 78.709\n",
      "+ area_mean               1   54.710 78.710\n"
     ]
    },
    {
     "data": {
      "text/plain": [
       "\n",
       "Call:\n",
       "glm(formula = diagnosis ~ perimeter_worst + smoothness_worst + \n",
       "    texture_worst + radius_se + symmetry_worst + compactness_se + \n",
       "    concavity_mean + texture_se + area_se + concave.points_worst, \n",
       "    family = binomial(link = \"logit\"), data = df)\n",
       "\n",
       "Deviance Residuals: \n",
       "    Min       1Q   Median       3Q      Max  \n",
       "-1.3573  -0.0201  -0.0013   0.0000   3.8553  \n",
       "\n",
       "Coefficients:\n",
       "                     Estimate Std. Error z value Pr(>|z|)    \n",
       "(Intercept)            1.9809     1.1241   1.762 0.078040 .  \n",
       "perimeter_worst        2.8181     2.4980   1.128 0.259268    \n",
       "smoothness_worst       1.2907     0.6868   1.879 0.060215 .  \n",
       "texture_worst          3.2584     0.8392   3.883 0.000103 ***\n",
       "radius_se             -2.7572     4.6621  -0.591 0.554248    \n",
       "symmetry_worst         1.0500     0.4957   2.118 0.034164 *  \n",
       "compactness_se        -2.3356     0.7304  -3.198 0.001384 ** \n",
       "concavity_mean         3.1787     1.2999   2.445 0.014472 *  \n",
       "texture_se            -1.4802     0.8361  -1.770 0.076657 .  \n",
       "area_se               15.9526     9.1089   1.751 0.079892 .  \n",
       "concave.points_worst   2.4000     1.2766   1.880 0.060117 .  \n",
       "---\n",
       "Signif. codes:  0 ‘***’ 0.001 ‘**’ 0.01 ‘*’ 0.05 ‘.’ 0.1 ‘ ’ 1\n",
       "\n",
       "(Dispersion parameter for binomial family taken to be 1)\n",
       "\n",
       "    Null deviance: 751.440  on 568  degrees of freedom\n",
       "Residual deviance:  54.713  on 558  degrees of freedom\n",
       "AIC: 76.713\n",
       "\n",
       "Number of Fisher Scoring iterations: 11\n"
      ]
     },
     "metadata": {},
     "output_type": "display_data"
    }
   ],
   "source": [
    "initialModel_0 <- glm(diagnosis ~ 1, data = df, family=binomial(link=\"logit\"))\n",
    "initialModel_p <- glm(diagnosis ~ ., data = df, family=binomial(link=\"logit\"))\n",
    "\n",
    "fw <- step(initialModel_0,\n",
    "  scope = list(lower = formula(initialModel_0), upper = formula(initialModel_p)),\n",
    "  direction = \"forward\"\n",
    ")\n",
    "summary(fw)"
   ]
  },
  {
   "cell_type": "markdown",
   "metadata": {},
   "source": [
    "El objeto de salida es una lista que contiene múltiples elementos. Entre ellos ilustramos el resutado anova que mustra las variables seleccionadas (11 en este caso) en orden adición y el AIC correspondiente (similar al estadístico BIC) ."
   ]
  },
  {
   "cell_type": "code",
   "execution_count": 13,
   "metadata": {},
   "outputs": [
    {
     "data": {
      "text/html": [
       "<table>\n",
       "<thead><tr><th scope=col>Step</th><th scope=col>Df</th><th scope=col>Deviance</th><th scope=col>Resid. Df</th><th scope=col>Resid. Dev</th><th scope=col>AIC</th></tr></thead>\n",
       "<tbody>\n",
       "\t<tr><td>                      </td><td>NA                    </td><td>        NA            </td><td>568                   </td><td>751.44001             </td><td>753.44001             </td></tr>\n",
       "\t<tr><td>+ perimeter_worst     </td><td>-1                    </td><td>541.960065            </td><td>567                   </td><td>209.47994             </td><td>213.47994             </td></tr>\n",
       "\t<tr><td>+ smoothness_worst    </td><td>-1                    </td><td> 70.299730            </td><td>566                   </td><td>139.18021             </td><td>145.18021             </td></tr>\n",
       "\t<tr><td>+ texture_worst       </td><td>-1                    </td><td> 35.568566            </td><td>565                   </td><td>103.61164             </td><td>111.61164             </td></tr>\n",
       "\t<tr><td>+ radius_se           </td><td>-1                    </td><td> 16.406692            </td><td>564                   </td><td> 87.20495             </td><td> 97.20495             </td></tr>\n",
       "\t<tr><td>+ symmetry_worst      </td><td>-1                    </td><td>  8.132333            </td><td>563                   </td><td> 79.07262             </td><td> 91.07262             </td></tr>\n",
       "\t<tr><td>+ compactness_se      </td><td>-1                    </td><td>  4.561664            </td><td>562                   </td><td> 74.51095             </td><td> 88.51095             </td></tr>\n",
       "\t<tr><td>+ concavity_mean      </td><td>-1                    </td><td>  8.982248            </td><td>561                   </td><td> 65.52871             </td><td> 81.52871             </td></tr>\n",
       "\t<tr><td>+ texture_se          </td><td>-1                    </td><td>  4.270508            </td><td>560                   </td><td> 61.25820             </td><td> 79.25820             </td></tr>\n",
       "\t<tr><td>+ area_se             </td><td>-1                    </td><td>  2.614785            </td><td>559                   </td><td> 58.64341             </td><td> 78.64341             </td></tr>\n",
       "\t<tr><td>+ concave.points_worst</td><td>-1                    </td><td>  3.930719            </td><td>558                   </td><td> 54.71269             </td><td> 76.71269             </td></tr>\n",
       "</tbody>\n",
       "</table>\n"
      ],
      "text/latex": [
       "\\begin{tabular}{r|llllll}\n",
       " Step & Df & Deviance & Resid. Df & Resid. Dev & AIC\\\\\n",
       "\\hline\n",
       "\t                        & NA                     &         NA             & 568                    & 751.44001              & 753.44001             \\\\\n",
       "\t + perimeter\\_worst      & -1                       & 541.960065               & 567                      & 209.47994                & 213.47994               \\\\\n",
       "\t + smoothness\\_worst     & -1                       &  70.299730               & 566                      & 139.18021                & 145.18021               \\\\\n",
       "\t + texture\\_worst        & -1                       &  35.568566               & 565                      & 103.61164                & 111.61164               \\\\\n",
       "\t + radius\\_se            & -1                       &  16.406692               & 564                      &  87.20495                &  97.20495               \\\\\n",
       "\t + symmetry\\_worst       & -1                       &   8.132333               & 563                      &  79.07262                &  91.07262               \\\\\n",
       "\t + compactness\\_se       & -1                       &   4.561664               & 562                      &  74.51095                &  88.51095               \\\\\n",
       "\t + concavity\\_mean       & -1                       &   8.982248               & 561                      &  65.52871                &  81.52871               \\\\\n",
       "\t + texture\\_se           & -1                       &   4.270508               & 560                      &  61.25820                &  79.25820               \\\\\n",
       "\t + area\\_se              & -1                       &   2.614785               & 559                      &  58.64341                &  78.64341               \\\\\n",
       "\t + concave.points\\_worst & -1                       &   3.930719               & 558                      &  54.71269                &  76.71269               \\\\\n",
       "\\end{tabular}\n"
      ],
      "text/markdown": [
       "\n",
       "Step | Df | Deviance | Resid. Df | Resid. Dev | AIC | \n",
       "|---|---|---|---|---|---|---|---|---|---|---|\n",
       "|                        | NA                     |         NA             | 568                    | 751.44001              | 753.44001              | \n",
       "| + perimeter_worst      | -1                     | 541.960065             | 567                    | 209.47994              | 213.47994              | \n",
       "| + smoothness_worst     | -1                     |  70.299730             | 566                    | 139.18021              | 145.18021              | \n",
       "| + texture_worst        | -1                     |  35.568566             | 565                    | 103.61164              | 111.61164              | \n",
       "| + radius_se            | -1                     |  16.406692             | 564                    |  87.20495              |  97.20495              | \n",
       "| + symmetry_worst       | -1                     |   8.132333             | 563                    |  79.07262              |  91.07262              | \n",
       "| + compactness_se       | -1                     |   4.561664             | 562                    |  74.51095              |  88.51095              | \n",
       "| + concavity_mean       | -1                     |   8.982248             | 561                    |  65.52871              |  81.52871              | \n",
       "| + texture_se           | -1                     |   4.270508             | 560                    |  61.25820              |  79.25820              | \n",
       "| + area_se              | -1                     |   2.614785             | 559                    |  58.64341              |  78.64341              | \n",
       "| + concave.points_worst | -1                     |   3.930719             | 558                    |  54.71269              |  76.71269              | \n",
       "\n",
       "\n"
      ],
      "text/plain": [
       "   Step                   Df Deviance   Resid. Df Resid. Dev AIC      \n",
       "1                         NA         NA 568       751.44001  753.44001\n",
       "2  + perimeter_worst      -1 541.960065 567       209.47994  213.47994\n",
       "3  + smoothness_worst     -1  70.299730 566       139.18021  145.18021\n",
       "4  + texture_worst        -1  35.568566 565       103.61164  111.61164\n",
       "5  + radius_se            -1  16.406692 564        87.20495   97.20495\n",
       "6  + symmetry_worst       -1   8.132333 563        79.07262   91.07262\n",
       "7  + compactness_se       -1   4.561664 562        74.51095   88.51095\n",
       "8  + concavity_mean       -1   8.982248 561        65.52871   81.52871\n",
       "9  + texture_se           -1   4.270508 560        61.25820   79.25820\n",
       "10 + area_se              -1   2.614785 559        58.64341   78.64341\n",
       "11 + concave.points_worst -1   3.930719 558        54.71269   76.71269"
      ]
     },
     "metadata": {},
     "output_type": "display_data"
    }
   ],
   "source": [
    "fw$anova\n",
    "?step"
   ]
  },
  {
   "cell_type": "markdown",
   "metadata": {},
   "source": [
    "## Regularización\n",
    "La regularización consiste en añadir un término a la función objetivo que elimine predictores (regularización L1) o disminuya notablemente su influencia (regularización L2) de tal manera que su capacidad de generalización mejore. El coeficiente estimado estará sesgado, ya que se ha añadido un término a la función objetivo, sin embargo su varianza puede disminuir. Este equilibrio entre el sesgo y la varianza es lo que se conoce como _bias-variance tradeoff_. Si el modelo está demasiado sesgado entonces no se capturarán correctamente las relaciones entre predictando y predictor, sin embargo si está muy poco sesgado, la varianza del coeficiente estimado puede ser alta y no generalizar bien.\n",
    "\n",
    "En R, para regularizar modelos lineales generalizados se utiliza el paquete `glmnet`. El tipo de regularización viene dado por el valor del parámetro `alpha`: para una regularización L1, `alpha = 1`, para una regularización L2, `alpha = 0`. Ambos tipos de regularización penalizan la norma (1 ó 2, en función de si la regularización es L1 o L2) de los coeficientes estimados. Una consecuencia de la regularización L1 es que indirectamente selecciona variables al hacer estrictamente 0 algunos coeficientes. El número de coeficientes que se hacen 0 viene determinado por el valor de `lambda`. El valor de lambda óptimo se obtiene mediante validación cruzada a través de la función `cv.glmnet`.\n",
    "\n",
    "En primer lugar, debemos instalar y cargar las librerías que utilizaremos en los ejemplos:"
   ]
  },
  {
   "cell_type": "code",
   "execution_count": 14,
   "metadata": {},
   "outputs": [
    {
     "name": "stderr",
     "output_type": "stream",
     "text": [
      "Loading required package: Matrix\n",
      "\n",
      "Attaching package: ‘Matrix’\n",
      "\n",
      "The following object is masked from ‘package:spam’:\n",
      "\n",
      "    det\n",
      "\n",
      "Loading required package: foreach\n",
      "Loaded glmnet 2.0-16\n",
      "\n"
     ]
    }
   ],
   "source": [
    "#install.packages(\"glmnet\")\n",
    "library(glmnet, verbose = FALSE)"
   ]
  },
  {
   "cell_type": "markdown",
   "metadata": {},
   "source": [
    "Ahora veamos qué nos puede aportar una regularización L1 en este caso. Para ello, primero estimamos el valor óptimo de `lambda` mediante la función `cv.glmnet`:"
   ]
  },
  {
   "cell_type": "code",
   "execution_count": 15,
   "metadata": {},
   "outputs": [
    {
     "data": {
      "text/html": [
       "0.00640022228667804"
      ],
      "text/latex": [
       "0.00640022228667804"
      ],
      "text/markdown": [
       "0.00640022228667804"
      ],
      "text/plain": [
       "[1] 0.006400222"
      ]
     },
     "metadata": {},
     "output_type": "display_data"
    }
   ],
   "source": [
    "cv <- cv.glmnet(as.matrix(df[-1]),df$diagnosis,family = \"binomial\",alpha = 1)\n",
    "cv$lambda.1se"
   ]
  },
  {
   "cell_type": "markdown",
   "metadata": {},
   "source": [
    "Una vez estimado el valor de lambda, se entrena el modelo regularizado mediante la función `glmnet`."
   ]
  },
  {
   "cell_type": "code",
   "execution_count": 16,
   "metadata": {},
   "outputs": [
    {
     "data": {
      "text/html": [
       "<ol class=list-inline>\n",
       "\t<li>'diagnosis'</li>\n",
       "\t<li>'texture_mean'</li>\n",
       "\t<li>'concave.points_mean'</li>\n",
       "\t<li>'radius_se'</li>\n",
       "\t<li>'fractal_dimension_se'</li>\n",
       "\t<li>'radius_worst'</li>\n",
       "\t<li>'texture_worst'</li>\n",
       "\t<li>'smoothness_worst'</li>\n",
       "\t<li>'concavity_worst'</li>\n",
       "\t<li>'concave.points_worst'</li>\n",
       "\t<li>'symmetry_worst'</li>\n",
       "</ol>\n"
      ],
      "text/latex": [
       "\\begin{enumerate*}\n",
       "\\item 'diagnosis'\n",
       "\\item 'texture\\_mean'\n",
       "\\item 'concave.points\\_mean'\n",
       "\\item 'radius\\_se'\n",
       "\\item 'fractal\\_dimension\\_se'\n",
       "\\item 'radius\\_worst'\n",
       "\\item 'texture\\_worst'\n",
       "\\item 'smoothness\\_worst'\n",
       "\\item 'concavity\\_worst'\n",
       "\\item 'concave.points\\_worst'\n",
       "\\item 'symmetry\\_worst'\n",
       "\\end{enumerate*}\n"
      ],
      "text/markdown": [
       "1. 'diagnosis'\n",
       "2. 'texture_mean'\n",
       "3. 'concave.points_mean'\n",
       "4. 'radius_se'\n",
       "5. 'fractal_dimension_se'\n",
       "6. 'radius_worst'\n",
       "7. 'texture_worst'\n",
       "8. 'smoothness_worst'\n",
       "9. 'concavity_worst'\n",
       "10. 'concave.points_worst'\n",
       "11. 'symmetry_worst'\n",
       "\n",
       "\n"
      ],
      "text/plain": [
       " [1] \"diagnosis\"            \"texture_mean\"         \"concave.points_mean\" \n",
       " [4] \"radius_se\"            \"fractal_dimension_se\" \"radius_worst\"        \n",
       " [7] \"texture_worst\"        \"smoothness_worst\"     \"concavity_worst\"     \n",
       "[10] \"concave.points_worst\" \"symmetry_worst\"      "
      ]
     },
     "metadata": {},
     "output_type": "display_data"
    },
    {
     "name": "stdout",
     "output_type": "stream",
     "text": [
      "Number of variables selected: 11"
     ]
    }
   ],
   "source": [
    "model.l1 <- glmnet(as.matrix(df[-1]), df$diagnosis, family = \"binomial\", alpha = 1, lambda = cv$lambda.1se)\n",
    "ind.coef.no.nulos <- which(as.numeric(coef(model.l1)) != 0)\n",
    "names(df)[ind.coef.no.nulos]\n",
    "cat(paste(\"Number of variables selected:\", length(ind.coef.no.nulos)))"
   ]
  },
  {
   "cell_type": "markdown",
   "metadata": {},
   "source": [
    "Vemos que efectivamente la regularización L1 ha hecho 0 muchos coeficientes eliminando grados de libertad del sistema, salvo las características que se observan en la salida anterior. Podemos ver el sobreajuste de forma cualitativa con la curva ROC:"
   ]
  },
  {
   "cell_type": "code",
   "execution_count": 17,
   "metadata": {},
   "outputs": [
    {
     "data": {
      "image/png": "[encoded data removed]",
      "text/plain": [
       "Plot with title “Curva ROC Regularización L1 (AUC = 0.996869)”"
      ]
     },
     "metadata": {},
     "output_type": "display_data"
    }
   ],
   "source": [
    "pred.l1 <- predict(model.l1,as.matrix(df[-1]),type = \"response\")\n",
    "auc.l1 <- roc.area(df$diagnosis,pred.l1)$A\n",
    "roc.plot(df$diagnosis,pred.l1, main=sprintf(\"Curva ROC Regularización L1 (AUC = %g)\", auc.l1))"
   ]
  },
  {
   "cell_type": "markdown",
   "metadata": {},
   "source": [
    "Observamos como, aún con solo 10 variables, el AUC es todavía bastante alto. Por ello se propone la siguiente tarea."
   ]
  },
  {
   "cell_type": "markdown",
   "metadata": {},
   "source": [
    "**TAREA 4:** Utilizar una validación cruzada tipo _hold out_ para comprobar si la capacidad de generalización del modelo ha mejorado con la regularización L1."
   ]
  },
  {
   "cell_type": "code",
   "execution_count": null,
   "metadata": {},
   "outputs": [],
   "source": []
  },
  {
   "cell_type": "markdown",
   "metadata": {},
   "source": []
  },
  {
   "cell_type": "markdown",
   "metadata": {},
   "source": [
    "Si probásemos con la regularización L2 (parámetro alpha = 0), la norma de los módulos se limita pero en este caso ningún coeficiente es 0."
   ]
  },
  {
   "cell_type": "code",
   "execution_count": 18,
   "metadata": {},
   "outputs": [
    {
     "data": {
      "text/html": [
       "0.050720667307082"
      ],
      "text/latex": [
       "0.050720667307082"
      ],
      "text/markdown": [
       "0.050720667307082"
      ],
      "text/plain": [
       "[1] 0.05072067"
      ]
     },
     "metadata": {},
     "output_type": "display_data"
    },
    {
     "name": "stdout",
     "output_type": "stream",
     "text": [
      "Number of variables selected: 30"
     ]
    }
   ],
   "source": [
    "cv2 <- cv.glmnet(as.matrix(df[-1]),df$diagnosis,family = \"binomial\",alpha = 0)\n",
    "cv2$lambda.1se\n",
    "model.l2 <- glmnet(as.matrix(df[-1]), df$diagnosis, family = \"binomial\", alpha = 0, lambda = cv2$lambda.1se)\n",
    "ind.coef.no.nulos.l2 <- which(as.numeric(coef(model.l2)) != 0)\n",
    "cat(paste(\"Number of variables selected:\", length(ind.coef.no.nulos.l2)))"
   ]
  },
  {
   "cell_type": "markdown",
   "metadata": {},
   "source": [
    "Calculamos el AUC para el modelo regularizado con el penalty L2."
   ]
  },
  {
   "cell_type": "code",
   "execution_count": 19,
   "metadata": {
    "scrolled": false
   },
   "outputs": [
    {
     "data": {
      "image/png": "[encoded data removed]",
      "text/plain": [
       "Plot with title “Curva ROC Regularización L2 (AUC = 0.995613)”"
      ]
     },
     "metadata": {},
     "output_type": "display_data"
    }
   ],
   "source": [
    "pred.l2 <- predict(model.l2,as.matrix(df[-1]),type = \"response\")\n",
    "auc.l2 <- roc.area(df$diagnosis,pred.l2)$A\n",
    "roc.plot(df$diagnosis,pred.l2, main=sprintf(\"Curva ROC Regularización L2 (AUC = %g)\", auc.l2))"
   ]
  },
  {
   "cell_type": "markdown",
   "metadata": {},
   "source": [
    "**TAREA 5:** Comprobar la capacidad de generalización del modelo regularizado mediante _ridge regression_ y estudiar la evolución de los valores de los coeficientes en función del valor de `lambda`\n",
    "\n",
    "**::GMG::** Se puede hacer con S20 pero seguro que hay maneras más eficientes y con un rango de valores espaciado logarítmicamente"
   ]
  },
  {
   "cell_type": "code",
   "execution_count": null,
   "metadata": {},
   "outputs": [],
   "source": []
  },
  {
   "cell_type": "markdown",
   "metadata": {},
   "source": []
  },
  {
   "cell_type": "markdown",
   "metadata": {},
   "source": [
    "**TAREA 6:** Aplicar lo aprendido en esta práctica a otra de las bases de datos de ejemplo.\n",
    "\n",
    "**::GMG::** Por ejemplo MNIST"
   ]
  },
  {
   "cell_type": "code",
   "execution_count": null,
   "metadata": {},
   "outputs": [],
   "source": []
  }
 ],
 "metadata": {
  "kernelspec": {
   "display_name": "R",
   "language": "R",
   "name": "ir"
  },
  "language_info": {
   "codemirror_mode": "r",
   "file_extension": ".r",
   "mimetype": "text/x-r-source",
   "name": "R",
   "pygments_lexer": "r",
   "version": "3.4.4"
  }
 },
 "nbformat": 4,
 "nbformat_minor": 2
}
