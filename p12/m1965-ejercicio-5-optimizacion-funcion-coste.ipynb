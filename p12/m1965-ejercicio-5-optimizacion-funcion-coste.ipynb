{
 "cells": [
  {
   "cell_type": "markdown",
   "metadata": {},
   "source": [
    "# Alumno: Gerardo de Miguel González"
   ]
  },
  {
   "cell_type": "markdown",
   "metadata": {},
   "source": [
    "1.- Crea una función a la que se le pase como input: la media en el eje x, la media en el eje y, la varianza en el eje x, la varianza en el eje y y la covarianza de x e y, junto con un número de puntos N, y devuelva una matriz con N filas y 2 columnas con los números que salen de la distribución gaussiana de dos dimensiones definidas por los valores de input (usar la función MASS::mvrnorm)"
   ]
  },
  {
   "cell_type": "code",
   "execution_count": 1,
   "metadata": {},
   "outputs": [],
   "source": [
    "library('MASS')"
   ]
  },
  {
   "cell_type": "code",
   "execution_count": 2,
   "metadata": {},
   "outputs": [],
   "source": [
    "#::GMG::Defino la función con las medias separadas pero las varianzas\n",
    "#       agrupadas en la matriz de covarianzas en la que las varianzas\n",
    "#       de X e Y están en la diagonal y las covarianzas en la diagonal\n",
    "#       inversa de la matriz 2x2 cov_xy\n",
    "gauss_2d <- function (mu_x, mu_y, cov_xy, n) {\n",
    "    mu_2d <- c(mu_x, mu_y)\n",
    "    return(mvrnorm(n = n, mu = mu_2d, Sigma = cov_xy))\n",
    "}"
   ]
  },
  {
   "cell_type": "markdown",
   "metadata": {},
   "source": [
    "2.- Genera una matrix x1 usando la función anterior y tomando: N = 1000, mu_x = 2, mu_y = 4, var_x = var_y = 1, y Cov(x,y) = 0.3. Crea una matriz “y1” con tantas filas como la matriz x y asígnale el valor 0. "
   ]
  },
  {
   "cell_type": "code",
   "execution_count": 3,
   "metadata": {},
   "outputs": [
    {
     "name": "stdout",
     "output_type": "stream",
     "text": [
      " num [1:1000, 1:2] 3.02 2.11 4.61 2.57 2.76 ...\n",
      " - attr(*, \"dimnames\")=List of 2\n",
      "  ..$ : NULL\n",
      "  ..$ : NULL\n"
     ]
    },
    {
     "data": {
      "text/html": [
       "<table>\n",
       "<tbody>\n",
       "\t<tr><td>3.017236</td><td>4.346613</td></tr>\n",
       "\t<tr><td>2.110941</td><td>3.427505</td></tr>\n",
       "\t<tr><td>4.610817</td><td>4.473513</td></tr>\n",
       "\t<tr><td>2.567596</td><td>4.142401</td></tr>\n",
       "\t<tr><td>2.756902</td><td>3.403686</td></tr>\n",
       "\t<tr><td>2.326005</td><td>5.751162</td></tr>\n",
       "</tbody>\n",
       "</table>\n"
      ],
      "text/latex": [
       "\\begin{tabular}{ll}\n",
       "\t 3.017236 & 4.346613\\\\\n",
       "\t 2.110941 & 3.427505\\\\\n",
       "\t 4.610817 & 4.473513\\\\\n",
       "\t 2.567596 & 4.142401\\\\\n",
       "\t 2.756902 & 3.403686\\\\\n",
       "\t 2.326005 & 5.751162\\\\\n",
       "\\end{tabular}\n"
      ],
      "text/markdown": [
       "\n",
       "| 3.017236 | 4.346613 | \n",
       "| 2.110941 | 3.427505 | \n",
       "| 4.610817 | 4.473513 | \n",
       "| 2.567596 | 4.142401 | \n",
       "| 2.756902 | 3.403686 | \n",
       "| 2.326005 | 5.751162 | \n",
       "\n",
       "\n"
      ],
      "text/plain": [
       "     [,1]     [,2]    \n",
       "[1,] 3.017236 4.346613\n",
       "[2,] 2.110941 3.427505\n",
       "[3,] 4.610817 4.473513\n",
       "[4,] 2.567596 4.142401\n",
       "[5,] 2.756902 3.403686\n",
       "[6,] 2.326005 5.751162"
      ]
     },
     "metadata": {},
     "output_type": "display_data"
    }
   ],
   "source": [
    "#::GMG::Usamos la función anterior\n",
    "set.seed(1)\n",
    "X_1 <- gauss_2d(mu_x = 2, \n",
    "                mu_y = 4, \n",
    "                cov_xy = matrix(data = c(1,0.3,0.3,1), ncol = 2),\n",
    "                n = 1000)\n",
    "str(X_1)\n",
    "head(X_1)"
   ]
  },
  {
   "cell_type": "code",
   "execution_count": 4,
   "metadata": {},
   "outputs": [
    {
     "name": "stdout",
     "output_type": "stream",
     "text": [
      " num [1:1000, 1] 0 0 0 0 0 0 0 0 0 0 ...\n"
     ]
    },
    {
     "data": {
      "text/html": [
       "<table>\n",
       "<tbody>\n",
       "\t<tr><td>0</td></tr>\n",
       "\t<tr><td>0</td></tr>\n",
       "\t<tr><td>0</td></tr>\n",
       "\t<tr><td>0</td></tr>\n",
       "\t<tr><td>0</td></tr>\n",
       "\t<tr><td>0</td></tr>\n",
       "</tbody>\n",
       "</table>\n"
      ],
      "text/latex": [
       "\\begin{tabular}{l}\n",
       "\t 0\\\\\n",
       "\t 0\\\\\n",
       "\t 0\\\\\n",
       "\t 0\\\\\n",
       "\t 0\\\\\n",
       "\t 0\\\\\n",
       "\\end{tabular}\n"
      ],
      "text/markdown": [
       "\n",
       "| 0 | \n",
       "| 0 | \n",
       "| 0 | \n",
       "| 0 | \n",
       "| 0 | \n",
       "| 0 | \n",
       "\n",
       "\n"
      ],
      "text/plain": [
       "     [,1]\n",
       "[1,] 0   \n",
       "[2,] 0   \n",
       "[3,] 0   \n",
       "[4,] 0   \n",
       "[5,] 0   \n",
       "[6,] 0   "
      ]
     },
     "metadata": {},
     "output_type": "display_data"
    }
   ],
   "source": [
    "Y_1 <- matrix(data = c(rep(0, nrow(X_1))))\n",
    "str(Y_1)\n",
    "head(Y_1)"
   ]
  },
  {
   "cell_type": "markdown",
   "metadata": {},
   "source": [
    "3.- Repite 2) para otra muestra con N = 1000, mu_x = 6, mu_y = 3, var_x = var_y = 1, y Cov(x,y) = 0.3. Crea una matriz “y2” con tantas filas como la matriz x2 y asígnale el valor 1."
   ]
  },
  {
   "cell_type": "code",
   "execution_count": 5,
   "metadata": {},
   "outputs": [
    {
     "name": "stdout",
     "output_type": "stream",
     "text": [
      " num [1:1000, 1:2] 5.62 4.65 4.62 4.81 6.37 ...\n",
      " - attr(*, \"dimnames\")=List of 2\n",
      "  ..$ : NULL\n",
      "  ..$ : NULL\n"
     ]
    },
    {
     "data": {
      "text/html": [
       "<table>\n",
       "<tbody>\n",
       "\t<tr><td>5.622682</td><td>1.984234</td></tr>\n",
       "\t<tr><td>4.654617</td><td>2.598757</td></tr>\n",
       "\t<tr><td>4.618011</td><td>3.168478</td></tr>\n",
       "\t<tr><td>4.812524</td><td>4.736733</td></tr>\n",
       "\t<tr><td>6.374375</td><td>2.114127</td></tr>\n",
       "\t<tr><td>6.045110</td><td>2.912772</td></tr>\n",
       "</tbody>\n",
       "</table>\n"
      ],
      "text/latex": [
       "\\begin{tabular}{ll}\n",
       "\t 5.622682 & 1.984234\\\\\n",
       "\t 4.654617 & 2.598757\\\\\n",
       "\t 4.618011 & 3.168478\\\\\n",
       "\t 4.812524 & 4.736733\\\\\n",
       "\t 6.374375 & 2.114127\\\\\n",
       "\t 6.045110 & 2.912772\\\\\n",
       "\\end{tabular}\n"
      ],
      "text/markdown": [
       "\n",
       "| 5.622682 | 1.984234 | \n",
       "| 4.654617 | 2.598757 | \n",
       "| 4.618011 | 3.168478 | \n",
       "| 4.812524 | 4.736733 | \n",
       "| 6.374375 | 2.114127 | \n",
       "| 6.045110 | 2.912772 | \n",
       "\n",
       "\n"
      ],
      "text/plain": [
       "     [,1]     [,2]    \n",
       "[1,] 5.622682 1.984234\n",
       "[2,] 4.654617 2.598757\n",
       "[3,] 4.618011 3.168478\n",
       "[4,] 4.812524 4.736733\n",
       "[5,] 6.374375 2.114127\n",
       "[6,] 6.045110 2.912772"
      ]
     },
     "metadata": {},
     "output_type": "display_data"
    }
   ],
   "source": [
    "#::GMG::De nuevo usamos la función del primer punto\n",
    "set.seed(1)\n",
    "X_2 <- gauss_2d(mu_x = 6, \n",
    "                mu_y = 3, \n",
    "                cov_xy = matrix(data = c(1,0.3,0.3,1), ncol = 2),\n",
    "                n = 1000)\n",
    "str(X_2)\n",
    "head(X_2)"
   ]
  },
  {
   "cell_type": "code",
   "execution_count": 6,
   "metadata": {},
   "outputs": [
    {
     "name": "stdout",
     "output_type": "stream",
     "text": [
      " num [1:1000, 1] 1 1 1 1 1 1 1 1 1 1 ...\n"
     ]
    },
    {
     "data": {
      "text/html": [
       "<table>\n",
       "<tbody>\n",
       "\t<tr><td>1</td></tr>\n",
       "\t<tr><td>1</td></tr>\n",
       "\t<tr><td>1</td></tr>\n",
       "\t<tr><td>1</td></tr>\n",
       "\t<tr><td>1</td></tr>\n",
       "\t<tr><td>1</td></tr>\n",
       "</tbody>\n",
       "</table>\n"
      ],
      "text/latex": [
       "\\begin{tabular}{l}\n",
       "\t 1\\\\\n",
       "\t 1\\\\\n",
       "\t 1\\\\\n",
       "\t 1\\\\\n",
       "\t 1\\\\\n",
       "\t 1\\\\\n",
       "\\end{tabular}\n"
      ],
      "text/markdown": [
       "\n",
       "| 1 | \n",
       "| 1 | \n",
       "| 1 | \n",
       "| 1 | \n",
       "| 1 | \n",
       "| 1 | \n",
       "\n",
       "\n"
      ],
      "text/plain": [
       "     [,1]\n",
       "[1,] 1   \n",
       "[2,] 1   \n",
       "[3,] 1   \n",
       "[4,] 1   \n",
       "[5,] 1   \n",
       "[6,] 1   "
      ]
     },
     "metadata": {},
     "output_type": "display_data"
    }
   ],
   "source": [
    "Y_2 <- matrix(data = c(rep(1, nrow(X_2))))\n",
    "str(Y_2)\n",
    "head(Y_2)"
   ]
  },
  {
   "cell_type": "markdown",
   "metadata": {},
   "source": [
    "4.-Junta las matrices x1, x2, y y1, y2 en una sola matriz x y una sola matriz y."
   ]
  },
  {
   "cell_type": "code",
   "execution_count": 7,
   "metadata": {},
   "outputs": [
    {
     "name": "stdout",
     "output_type": "stream",
     "text": [
      " num [1:1000, 1:3] 3.02 2.11 4.61 2.57 2.76 ...\n"
     ]
    },
    {
     "data": {
      "text/html": [
       "<table>\n",
       "<tbody>\n",
       "\t<tr><td>3.017236</td><td>4.346613</td><td>0       </td></tr>\n",
       "\t<tr><td>2.110941</td><td>3.427505</td><td>0       </td></tr>\n",
       "\t<tr><td>4.610817</td><td>4.473513</td><td>0       </td></tr>\n",
       "\t<tr><td>2.567596</td><td>4.142401</td><td>0       </td></tr>\n",
       "\t<tr><td>2.756902</td><td>3.403686</td><td>0       </td></tr>\n",
       "\t<tr><td>2.326005</td><td>5.751162</td><td>0       </td></tr>\n",
       "</tbody>\n",
       "</table>\n"
      ],
      "text/latex": [
       "\\begin{tabular}{lll}\n",
       "\t 3.017236 & 4.346613 & 0       \\\\\n",
       "\t 2.110941 & 3.427505 & 0       \\\\\n",
       "\t 4.610817 & 4.473513 & 0       \\\\\n",
       "\t 2.567596 & 4.142401 & 0       \\\\\n",
       "\t 2.756902 & 3.403686 & 0       \\\\\n",
       "\t 2.326005 & 5.751162 & 0       \\\\\n",
       "\\end{tabular}\n"
      ],
      "text/markdown": [
       "\n",
       "| 3.017236 | 4.346613 | 0        | \n",
       "| 2.110941 | 3.427505 | 0        | \n",
       "| 4.610817 | 4.473513 | 0        | \n",
       "| 2.567596 | 4.142401 | 0        | \n",
       "| 2.756902 | 3.403686 | 0        | \n",
       "| 2.326005 | 5.751162 | 0        | \n",
       "\n",
       "\n"
      ],
      "text/plain": [
       "     [,1]     [,2]     [,3]\n",
       "[1,] 3.017236 4.346613 0   \n",
       "[2,] 2.110941 3.427505 0   \n",
       "[3,] 4.610817 4.473513 0   \n",
       "[4,] 2.567596 4.142401 0   \n",
       "[5,] 2.756902 3.403686 0   \n",
       "[6,] 2.326005 5.751162 0   "
      ]
     },
     "metadata": {},
     "output_type": "display_data"
    }
   ],
   "source": [
    "X <- cbind(X_1, Y_1)\n",
    "str(X)\n",
    "head(X)"
   ]
  },
  {
   "cell_type": "code",
   "execution_count": 8,
   "metadata": {},
   "outputs": [
    {
     "name": "stdout",
     "output_type": "stream",
     "text": [
      " num [1:1000, 1:3] 5.62 4.65 4.62 4.81 6.37 ...\n"
     ]
    },
    {
     "data": {
      "text/html": [
       "<table>\n",
       "<tbody>\n",
       "\t<tr><td>5.622682</td><td>1.984234</td><td>1       </td></tr>\n",
       "\t<tr><td>4.654617</td><td>2.598757</td><td>1       </td></tr>\n",
       "\t<tr><td>4.618011</td><td>3.168478</td><td>1       </td></tr>\n",
       "\t<tr><td>4.812524</td><td>4.736733</td><td>1       </td></tr>\n",
       "\t<tr><td>6.374375</td><td>2.114127</td><td>1       </td></tr>\n",
       "\t<tr><td>6.045110</td><td>2.912772</td><td>1       </td></tr>\n",
       "</tbody>\n",
       "</table>\n"
      ],
      "text/latex": [
       "\\begin{tabular}{lll}\n",
       "\t 5.622682 & 1.984234 & 1       \\\\\n",
       "\t 4.654617 & 2.598757 & 1       \\\\\n",
       "\t 4.618011 & 3.168478 & 1       \\\\\n",
       "\t 4.812524 & 4.736733 & 1       \\\\\n",
       "\t 6.374375 & 2.114127 & 1       \\\\\n",
       "\t 6.045110 & 2.912772 & 1       \\\\\n",
       "\\end{tabular}\n"
      ],
      "text/markdown": [
       "\n",
       "| 5.622682 | 1.984234 | 1        | \n",
       "| 4.654617 | 2.598757 | 1        | \n",
       "| 4.618011 | 3.168478 | 1        | \n",
       "| 4.812524 | 4.736733 | 1        | \n",
       "| 6.374375 | 2.114127 | 1        | \n",
       "| 6.045110 | 2.912772 | 1        | \n",
       "\n",
       "\n"
      ],
      "text/plain": [
       "     [,1]     [,2]     [,3]\n",
       "[1,] 5.622682 1.984234 1   \n",
       "[2,] 4.654617 2.598757 1   \n",
       "[3,] 4.618011 3.168478 1   \n",
       "[4,] 4.812524 4.736733 1   \n",
       "[5,] 6.374375 2.114127 1   \n",
       "[6,] 6.045110 2.912772 1   "
      ]
     },
     "metadata": {},
     "output_type": "display_data"
    }
   ],
   "source": [
    "Y <- cbind(X_2, Y_2)\n",
    "str(Y)\n",
    "head(Y)"
   ]
  },
  {
   "cell_type": "markdown",
   "metadata": {},
   "source": [
    "5.- Usando las funciones de coste y gradiente del ejercicio 4, utiliza optim para un modelo en el que z = alpha_0 + alpha_1 x1 + alpha_2 x2, tomando como vector de parámetros inicial el (0, 0, 0). Calcula y pinta la frontera entre ambas distribuciones. "
   ]
  },
  {
   "cell_type": "code",
   "execution_count": null,
   "metadata": {},
   "outputs": [],
   "source": []
  },
  {
   "cell_type": "markdown",
   "metadata": {},
   "source": [
    "6.- Repite otra vez 1, 2, 3 y 4 para obtener otras matrices x e y independientes. Utilizando la “sigma” calculada anteriormente calcula el TPR, TNR, FPR y FNR para valores del threshold = 0.3, 0.5, 0.7.  "
   ]
  },
  {
   "cell_type": "code",
   "execution_count": null,
   "metadata": {},
   "outputs": [],
   "source": []
  }
 ],
 "metadata": {
  "kernelspec": {
   "display_name": "R",
   "language": "R",
   "name": "ir"
  },
  "language_info": {
   "codemirror_mode": "r",
   "file_extension": ".r",
   "mimetype": "text/x-r-source",
   "name": "R",
   "pygments_lexer": "r",
   "version": "3.4.4"
  }
 },
 "nbformat": 4,
 "nbformat_minor": 2
}
